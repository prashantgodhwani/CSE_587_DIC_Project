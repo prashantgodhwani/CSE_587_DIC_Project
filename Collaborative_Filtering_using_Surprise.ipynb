{
  "cells": [
    {
      "cell_type": "markdown",
      "metadata": {
        "id": "view-in-github",
        "colab_type": "text"
      },
      "source": [
        "<a href=\"https://colab.research.google.com/github/prashantgodhwani/CSE_587_DIC_Project/blob/master/Collaborative_Filtering_using_Surprise.ipynb\" target=\"_parent\"><img src=\"https://colab.research.google.com/assets/colab-badge.svg\" alt=\"Open In Colab\"/></a>"
      ]
    },
    {
      "cell_type": "markdown",
      "metadata": {
        "id": "cyTZ1AS4izYi"
      },
      "source": [
        "#**Collaborative Filtering using Surprise**"
      ],
      "id": "cyTZ1AS4izYi"
    },
    {
      "cell_type": "code",
      "execution_count": null,
      "metadata": {
        "colab": {
          "base_uri": "https://localhost:8080/"
        },
        "id": "3DpUdn1rg4b_",
        "outputId": "c92735ac-2886-4a27-871a-3109f04ff2bd"
      },
      "outputs": [
        {
          "name": "stdout",
          "output_type": "stream",
          "text": [
            "Looking in indexes: https://pypi.org/simple, https://us-python.pkg.dev/colab-wheels/public/simple/\n",
            "Collecting surprise\n",
            "  Downloading surprise-0.1-py2.py3-none-any.whl (1.8 kB)\n",
            "Collecting scikit-surprise\n",
            "  Downloading scikit-surprise-1.1.3.tar.gz (771 kB)\n",
            "\u001b[2K     \u001b[90m━━━━━━━━━━━━━━━━━━━━━━━━━━━━━━━━━━━━━━\u001b[0m \u001b[32m772.0/772.0 KB\u001b[0m \u001b[31m13.4 MB/s\u001b[0m eta \u001b[36m0:00:00\u001b[0m\n",
            "\u001b[?25h  Preparing metadata (setup.py) ... \u001b[?25l\u001b[?25hdone\n",
            "Requirement already satisfied: joblib>=1.0.0 in /usr/local/lib/python3.9/dist-packages (from scikit-surprise->surprise) (1.1.1)\n",
            "Requirement already satisfied: numpy>=1.17.3 in /usr/local/lib/python3.9/dist-packages (from scikit-surprise->surprise) (1.22.4)\n",
            "Requirement already satisfied: scipy>=1.3.2 in /usr/local/lib/python3.9/dist-packages (from scikit-surprise->surprise) (1.10.1)\n",
            "Building wheels for collected packages: scikit-surprise\n",
            "  Building wheel for scikit-surprise (setup.py) ... \u001b[?25l\u001b[?25hdone\n",
            "  Created wheel for scikit-surprise: filename=scikit_surprise-1.1.3-cp39-cp39-linux_x86_64.whl size=3195807 sha256=259577454a0dd70e434ebb55cb1d61997f03647a27e6a60cd465f99ee8c53e10\n",
            "  Stored in directory: /root/.cache/pip/wheels/c6/3a/46/9b17b3512bdf283c6cb84f59929cdd5199d4e754d596d22784\n",
            "Successfully built scikit-surprise\n",
            "Installing collected packages: scikit-surprise, surprise\n",
            "Successfully installed scikit-surprise-1.1.3 surprise-0.1\n"
          ]
        }
      ],
      "source": [
        "!pip install surprise "
      ],
      "id": "3DpUdn1rg4b_"
    },
    {
      "cell_type": "code",
      "execution_count": null,
      "metadata": {
        "colab": {
          "base_uri": "https://localhost:8080/"
        },
        "id": "fbUjy_gJhOtX",
        "outputId": "499ae4f9-f1b0-4abf-8a87-5f8bed5dbab6"
      },
      "outputs": [
        {
          "name": "stdout",
          "output_type": "stream",
          "text": [
            "Mounted at /content/drive\n"
          ]
        }
      ],
      "source": [
        "from google.colab import drive\n",
        "drive.mount('/content/drive')"
      ],
      "id": "fbUjy_gJhOtX"
    },
    {
      "cell_type": "markdown",
      "metadata": {
        "id": "3f2a6e12"
      },
      "source": [
        "## Import Libraries"
      ],
      "id": "3f2a6e12"
    },
    {
      "cell_type": "code",
      "execution_count": null,
      "metadata": {
        "id": "36237b0e"
      },
      "outputs": [],
      "source": [
        "import pandas as pd\n",
        "from surprise import *\n",
        "from surprise.accuracy import rmse\n",
        "from surprise import accuracy\n",
        "from surprise.model_selection import cross_validate\n",
        "from surprise.model_selection import train_test_split\n",
        "from surprise.model_selection import GridSearchCV\n",
        "from surprise import dataset"
      ],
      "id": "36237b0e"
    },
    {
      "cell_type": "markdown",
      "metadata": {
        "id": "cfce09f3"
      },
      "source": [
        "## Read Review and Business Dataset"
      ],
      "id": "cfce09f3"
    },
    {
      "cell_type": "code",
      "execution_count": null,
      "metadata": {
        "colab": {
          "base_uri": "https://localhost:8080/",
          "height": 659
        },
        "id": "fbb1221f",
        "outputId": "3d83c5b0-34f7-4184-fc76-5714c6a94717"
      },
      "outputs": [
        {
          "data": {
            "text/html": [
              "\n",
              "  <div id=\"df-84041efe-e33f-48ba-9cb5-7c9ab3227fd7\">\n",
              "    <div class=\"colab-df-container\">\n",
              "      <div>\n",
              "<style scoped>\n",
              "    .dataframe tbody tr th:only-of-type {\n",
              "        vertical-align: middle;\n",
              "    }\n",
              "\n",
              "    .dataframe tbody tr th {\n",
              "        vertical-align: top;\n",
              "    }\n",
              "\n",
              "    .dataframe thead th {\n",
              "        text-align: right;\n",
              "    }\n",
              "</style>\n",
              "<table border=\"1\" class=\"dataframe\">\n",
              "  <thead>\n",
              "    <tr style=\"text-align: right;\">\n",
              "      <th></th>\n",
              "      <th>Unnamed: 0</th>\n",
              "      <th>review_id</th>\n",
              "      <th>user_id</th>\n",
              "      <th>business_id</th>\n",
              "      <th>stars</th>\n",
              "      <th>date</th>\n",
              "      <th>text</th>\n",
              "      <th>useful</th>\n",
              "      <th>funny</th>\n",
              "      <th>cool</th>\n",
              "      <th>sentiment_score</th>\n",
              "      <th>sentiment</th>\n",
              "      <th>super_score</th>\n",
              "      <th>name</th>\n",
              "    </tr>\n",
              "  </thead>\n",
              "  <tbody>\n",
              "    <tr>\n",
              "      <th>0</th>\n",
              "      <td>91</td>\n",
              "      <td>bifEpGC-8TE19JPZwn-Rpw</td>\n",
              "      <td>_L2SZSwf7A6YSrIHy_q4cw</td>\n",
              "      <td>TIf6ZByLdAXratne18kjoA</td>\n",
              "      <td>5</td>\n",
              "      <td>2009-09-01</td>\n",
              "      <td>guys cater wedding ended different flavors cak...</td>\n",
              "      <td>2</td>\n",
              "      <td>0</td>\n",
              "      <td>0</td>\n",
              "      <td>0.9211</td>\n",
              "      <td>positive</td>\n",
              "      <td>0.98422</td>\n",
              "      <td>\"Craig's Cake Shop\"</td>\n",
              "    </tr>\n",
              "    <tr>\n",
              "      <th>1</th>\n",
              "      <td>93</td>\n",
              "      <td>BF0ANB54sc_f-3_howQBCg</td>\n",
              "      <td>ssuXFjkH4neiBgwv-oN4IA</td>\n",
              "      <td>JlNeaOymdVbE6_bubqjohg</td>\n",
              "      <td>1</td>\n",
              "      <td>2014-08-09</td>\n",
              "      <td>always go chevo chandler delicious one ahwatuk...</td>\n",
              "      <td>3</td>\n",
              "      <td>0</td>\n",
              "      <td>0</td>\n",
              "      <td>0.7964</td>\n",
              "      <td>positive</td>\n",
              "      <td>0.95928</td>\n",
              "      <td>\"Papa Chevo's Taco Shop\"</td>\n",
              "    </tr>\n",
              "    <tr>\n",
              "      <th>2</th>\n",
              "      <td>15312</td>\n",
              "      <td>-QgtOpsFzLHd58-Y1Ao2tA</td>\n",
              "      <td>BPKpLbR9NuWFAR9SUWpZOw</td>\n",
              "      <td>JlNeaOymdVbE6_bubqjohg</td>\n",
              "      <td>5</td>\n",
              "      <td>2014-06-29</td>\n",
              "      <td>great grilled chicken burrito believe coming c...</td>\n",
              "      <td>0</td>\n",
              "      <td>0</td>\n",
              "      <td>0</td>\n",
              "      <td>0.8481</td>\n",
              "      <td>positive</td>\n",
              "      <td>0.96962</td>\n",
              "      <td>\"Papa Chevo's Taco Shop\"</td>\n",
              "    </tr>\n",
              "    <tr>\n",
              "      <th>3</th>\n",
              "      <td>49074</td>\n",
              "      <td>zdhN3MBABBKi-9QHAh-G1A</td>\n",
              "      <td>sg5q7rz2_7PfaN-6JnLb5g</td>\n",
              "      <td>JlNeaOymdVbE6_bubqjohg</td>\n",
              "      <td>5</td>\n",
              "      <td>2014-05-01</td>\n",
              "      <td>everything far great sure reviews pleased food...</td>\n",
              "      <td>1</td>\n",
              "      <td>0</td>\n",
              "      <td>1</td>\n",
              "      <td>0.9463</td>\n",
              "      <td>positive</td>\n",
              "      <td>0.98926</td>\n",
              "      <td>\"Papa Chevo's Taco Shop\"</td>\n",
              "    </tr>\n",
              "    <tr>\n",
              "      <th>4</th>\n",
              "      <td>94</td>\n",
              "      <td>DbLUpPT61ykLTakknCF9CQ</td>\n",
              "      <td>ssuXFjkH4neiBgwv-oN4IA</td>\n",
              "      <td>0Rni7ocMC_Lg2UH0lDeKMQ</td>\n",
              "      <td>1</td>\n",
              "      <td>2014-08-09</td>\n",
              "      <td>place always dirty grimy twice back customer s...</td>\n",
              "      <td>6</td>\n",
              "      <td>0</td>\n",
              "      <td>0</td>\n",
              "      <td>-0.8481</td>\n",
              "      <td>negative</td>\n",
              "      <td>0.63038</td>\n",
              "      <td>\"Barro's Pizza\"</td>\n",
              "    </tr>\n",
              "    <tr>\n",
              "      <th>...</th>\n",
              "      <td>...</td>\n",
              "      <td>...</td>\n",
              "      <td>...</td>\n",
              "      <td>...</td>\n",
              "      <td>...</td>\n",
              "      <td>...</td>\n",
              "      <td>...</td>\n",
              "      <td>...</td>\n",
              "      <td>...</td>\n",
              "      <td>...</td>\n",
              "      <td>...</td>\n",
              "      <td>...</td>\n",
              "      <td>...</td>\n",
              "      <td>...</td>\n",
              "    </tr>\n",
              "    <tr>\n",
              "      <th>47273</th>\n",
              "      <td>99942</td>\n",
              "      <td>bH0lMpJQFjEPaD3ZkOK97w</td>\n",
              "      <td>mUbIcYFzkkvLXP0yV4RpqQ</td>\n",
              "      <td>_iUlt5rm-15QoLw0MEEg5A</td>\n",
              "      <td>5</td>\n",
              "      <td>2015-12-03</td>\n",
              "      <td>joe absolutely amazing love coming hard day wo...</td>\n",
              "      <td>0</td>\n",
              "      <td>0</td>\n",
              "      <td>0</td>\n",
              "      <td>0.8927</td>\n",
              "      <td>positive</td>\n",
              "      <td>0.97854</td>\n",
              "      <td>\"Mitchell's Restaurant Bar &amp; Banquet Center\"</td>\n",
              "    </tr>\n",
              "    <tr>\n",
              "      <th>47274</th>\n",
              "      <td>99943</td>\n",
              "      <td>r1S9zlVzM5EyLOdRQIVA4Q</td>\n",
              "      <td>mUbIcYFzkkvLXP0yV4RpqQ</td>\n",
              "      <td>Fa2gj48WwaEPuKW_Lj9MwQ</td>\n",
              "      <td>1</td>\n",
              "      <td>2016-06-06</td>\n",
              "      <td>boyfriend always loved hooks recently ordering...</td>\n",
              "      <td>0</td>\n",
              "      <td>0</td>\n",
              "      <td>0</td>\n",
              "      <td>0.9694</td>\n",
              "      <td>positive</td>\n",
              "      <td>0.99388</td>\n",
              "      <td>\"Hook Fish &amp; Chicken\"</td>\n",
              "    </tr>\n",
              "    <tr>\n",
              "      <th>47275</th>\n",
              "      <td>99952</td>\n",
              "      <td>icKT88mre2LCsR9jtjhDLw</td>\n",
              "      <td>CKRfBUqQGaVCYTKN5kDrzw</td>\n",
              "      <td>7V6udFB44qe3lg_a8jdVyg</td>\n",
              "      <td>4</td>\n",
              "      <td>2017-08-12</td>\n",
              "      <td>sugary treats cookie dough decadence simple ye...</td>\n",
              "      <td>1</td>\n",
              "      <td>0</td>\n",
              "      <td>1</td>\n",
              "      <td>0.9911</td>\n",
              "      <td>positive</td>\n",
              "      <td>0.99822</td>\n",
              "      <td>\"Doughlicious Yummy's\"</td>\n",
              "    </tr>\n",
              "    <tr>\n",
              "      <th>47276</th>\n",
              "      <td>99965</td>\n",
              "      <td>o882zQGOakne88rFRRyKWQ</td>\n",
              "      <td>CKRfBUqQGaVCYTKN5kDrzw</td>\n",
              "      <td>fhx1yUZlC1QwovIjdYeGiw</td>\n",
              "      <td>4</td>\n",
              "      <td>2017-04-24</td>\n",
              "      <td>friendly yummy affordable italian food tried b...</td>\n",
              "      <td>1</td>\n",
              "      <td>0</td>\n",
              "      <td>1</td>\n",
              "      <td>0.9738</td>\n",
              "      <td>positive</td>\n",
              "      <td>0.99476</td>\n",
              "      <td>\"Tavolo\"</td>\n",
              "    </tr>\n",
              "    <tr>\n",
              "      <th>47277</th>\n",
              "      <td>99992</td>\n",
              "      <td>BBT_z_Gwg_wMPDXdWIaqOg</td>\n",
              "      <td>CKRfBUqQGaVCYTKN5kDrzw</td>\n",
              "      <td>zW2SAaWtoDNM_JTkIW8Jtg</td>\n",
              "      <td>5</td>\n",
              "      <td>2017-08-18</td>\n",
              "      <td>excellent starbucks fancy decorations blast vi...</td>\n",
              "      <td>0</td>\n",
              "      <td>0</td>\n",
              "      <td>0</td>\n",
              "      <td>0.9638</td>\n",
              "      <td>positive</td>\n",
              "      <td>0.99276</td>\n",
              "      <td>\"Starbucks\"</td>\n",
              "    </tr>\n",
              "  </tbody>\n",
              "</table>\n",
              "<p>47278 rows × 14 columns</p>\n",
              "</div>\n",
              "      <button class=\"colab-df-convert\" onclick=\"convertToInteractive('df-84041efe-e33f-48ba-9cb5-7c9ab3227fd7')\"\n",
              "              title=\"Convert this dataframe to an interactive table.\"\n",
              "              style=\"display:none;\">\n",
              "        \n",
              "  <svg xmlns=\"http://www.w3.org/2000/svg\" height=\"24px\"viewBox=\"0 0 24 24\"\n",
              "       width=\"24px\">\n",
              "    <path d=\"M0 0h24v24H0V0z\" fill=\"none\"/>\n",
              "    <path d=\"M18.56 5.44l.94 2.06.94-2.06 2.06-.94-2.06-.94-.94-2.06-.94 2.06-2.06.94zm-11 1L8.5 8.5l.94-2.06 2.06-.94-2.06-.94L8.5 2.5l-.94 2.06-2.06.94zm10 10l.94 2.06.94-2.06 2.06-.94-2.06-.94-.94-2.06-.94 2.06-2.06.94z\"/><path d=\"M17.41 7.96l-1.37-1.37c-.4-.4-.92-.59-1.43-.59-.52 0-1.04.2-1.43.59L10.3 9.45l-7.72 7.72c-.78.78-.78 2.05 0 2.83L4 21.41c.39.39.9.59 1.41.59.51 0 1.02-.2 1.41-.59l7.78-7.78 2.81-2.81c.8-.78.8-2.07 0-2.86zM5.41 20L4 18.59l7.72-7.72 1.47 1.35L5.41 20z\"/>\n",
              "  </svg>\n",
              "      </button>\n",
              "      \n",
              "  <style>\n",
              "    .colab-df-container {\n",
              "      display:flex;\n",
              "      flex-wrap:wrap;\n",
              "      gap: 12px;\n",
              "    }\n",
              "\n",
              "    .colab-df-convert {\n",
              "      background-color: #E8F0FE;\n",
              "      border: none;\n",
              "      border-radius: 50%;\n",
              "      cursor: pointer;\n",
              "      display: none;\n",
              "      fill: #1967D2;\n",
              "      height: 32px;\n",
              "      padding: 0 0 0 0;\n",
              "      width: 32px;\n",
              "    }\n",
              "\n",
              "    .colab-df-convert:hover {\n",
              "      background-color: #E2EBFA;\n",
              "      box-shadow: 0px 1px 2px rgba(60, 64, 67, 0.3), 0px 1px 3px 1px rgba(60, 64, 67, 0.15);\n",
              "      fill: #174EA6;\n",
              "    }\n",
              "\n",
              "    [theme=dark] .colab-df-convert {\n",
              "      background-color: #3B4455;\n",
              "      fill: #D2E3FC;\n",
              "    }\n",
              "\n",
              "    [theme=dark] .colab-df-convert:hover {\n",
              "      background-color: #434B5C;\n",
              "      box-shadow: 0px 1px 3px 1px rgba(0, 0, 0, 0.15);\n",
              "      filter: drop-shadow(0px 1px 2px rgba(0, 0, 0, 0.3));\n",
              "      fill: #FFFFFF;\n",
              "    }\n",
              "  </style>\n",
              "\n",
              "      <script>\n",
              "        const buttonEl =\n",
              "          document.querySelector('#df-84041efe-e33f-48ba-9cb5-7c9ab3227fd7 button.colab-df-convert');\n",
              "        buttonEl.style.display =\n",
              "          google.colab.kernel.accessAllowed ? 'block' : 'none';\n",
              "\n",
              "        async function convertToInteractive(key) {\n",
              "          const element = document.querySelector('#df-84041efe-e33f-48ba-9cb5-7c9ab3227fd7');\n",
              "          const dataTable =\n",
              "            await google.colab.kernel.invokeFunction('convertToInteractive',\n",
              "                                                     [key], {});\n",
              "          if (!dataTable) return;\n",
              "\n",
              "          const docLinkHtml = 'Like what you see? Visit the ' +\n",
              "            '<a target=\"_blank\" href=https://colab.research.google.com/notebooks/data_table.ipynb>data table notebook</a>'\n",
              "            + ' to learn more about interactive tables.';\n",
              "          element.innerHTML = '';\n",
              "          dataTable['output_type'] = 'display_data';\n",
              "          await google.colab.output.renderOutput(dataTable, element);\n",
              "          const docLink = document.createElement('div');\n",
              "          docLink.innerHTML = docLinkHtml;\n",
              "          element.appendChild(docLink);\n",
              "        }\n",
              "      </script>\n",
              "    </div>\n",
              "  </div>\n",
              "  "
            ],
            "text/plain": [
              "       Unnamed: 0               review_id                 user_id  \\\n",
              "0              91  bifEpGC-8TE19JPZwn-Rpw  _L2SZSwf7A6YSrIHy_q4cw   \n",
              "1              93  BF0ANB54sc_f-3_howQBCg  ssuXFjkH4neiBgwv-oN4IA   \n",
              "2           15312  -QgtOpsFzLHd58-Y1Ao2tA  BPKpLbR9NuWFAR9SUWpZOw   \n",
              "3           49074  zdhN3MBABBKi-9QHAh-G1A  sg5q7rz2_7PfaN-6JnLb5g   \n",
              "4              94  DbLUpPT61ykLTakknCF9CQ  ssuXFjkH4neiBgwv-oN4IA   \n",
              "...           ...                     ...                     ...   \n",
              "47273       99942  bH0lMpJQFjEPaD3ZkOK97w  mUbIcYFzkkvLXP0yV4RpqQ   \n",
              "47274       99943  r1S9zlVzM5EyLOdRQIVA4Q  mUbIcYFzkkvLXP0yV4RpqQ   \n",
              "47275       99952  icKT88mre2LCsR9jtjhDLw  CKRfBUqQGaVCYTKN5kDrzw   \n",
              "47276       99965  o882zQGOakne88rFRRyKWQ  CKRfBUqQGaVCYTKN5kDrzw   \n",
              "47277       99992  BBT_z_Gwg_wMPDXdWIaqOg  CKRfBUqQGaVCYTKN5kDrzw   \n",
              "\n",
              "                  business_id  stars        date  \\\n",
              "0      TIf6ZByLdAXratne18kjoA      5  2009-09-01   \n",
              "1      JlNeaOymdVbE6_bubqjohg      1  2014-08-09   \n",
              "2      JlNeaOymdVbE6_bubqjohg      5  2014-06-29   \n",
              "3      JlNeaOymdVbE6_bubqjohg      5  2014-05-01   \n",
              "4      0Rni7ocMC_Lg2UH0lDeKMQ      1  2014-08-09   \n",
              "...                       ...    ...         ...   \n",
              "47273  _iUlt5rm-15QoLw0MEEg5A      5  2015-12-03   \n",
              "47274  Fa2gj48WwaEPuKW_Lj9MwQ      1  2016-06-06   \n",
              "47275  7V6udFB44qe3lg_a8jdVyg      4  2017-08-12   \n",
              "47276  fhx1yUZlC1QwovIjdYeGiw      4  2017-04-24   \n",
              "47277  zW2SAaWtoDNM_JTkIW8Jtg      5  2017-08-18   \n",
              "\n",
              "                                                    text  useful  funny  cool  \\\n",
              "0      guys cater wedding ended different flavors cak...       2      0     0   \n",
              "1      always go chevo chandler delicious one ahwatuk...       3      0     0   \n",
              "2      great grilled chicken burrito believe coming c...       0      0     0   \n",
              "3      everything far great sure reviews pleased food...       1      0     1   \n",
              "4      place always dirty grimy twice back customer s...       6      0     0   \n",
              "...                                                  ...     ...    ...   ...   \n",
              "47273  joe absolutely amazing love coming hard day wo...       0      0     0   \n",
              "47274  boyfriend always loved hooks recently ordering...       0      0     0   \n",
              "47275  sugary treats cookie dough decadence simple ye...       1      0     1   \n",
              "47276  friendly yummy affordable italian food tried b...       1      0     1   \n",
              "47277  excellent starbucks fancy decorations blast vi...       0      0     0   \n",
              "\n",
              "       sentiment_score sentiment  super_score  \\\n",
              "0               0.9211  positive      0.98422   \n",
              "1               0.7964  positive      0.95928   \n",
              "2               0.8481  positive      0.96962   \n",
              "3               0.9463  positive      0.98926   \n",
              "4              -0.8481  negative      0.63038   \n",
              "...                ...       ...          ...   \n",
              "47273           0.8927  positive      0.97854   \n",
              "47274           0.9694  positive      0.99388   \n",
              "47275           0.9911  positive      0.99822   \n",
              "47276           0.9738  positive      0.99476   \n",
              "47277           0.9638  positive      0.99276   \n",
              "\n",
              "                                               name  \n",
              "0                               \"Craig's Cake Shop\"  \n",
              "1                          \"Papa Chevo's Taco Shop\"  \n",
              "2                          \"Papa Chevo's Taco Shop\"  \n",
              "3                          \"Papa Chevo's Taco Shop\"  \n",
              "4                                   \"Barro's Pizza\"  \n",
              "...                                             ...  \n",
              "47273  \"Mitchell's Restaurant Bar & Banquet Center\"  \n",
              "47274                         \"Hook Fish & Chicken\"  \n",
              "47275                        \"Doughlicious Yummy's\"  \n",
              "47276                                      \"Tavolo\"  \n",
              "47277                                   \"Starbucks\"  \n",
              "\n",
              "[47278 rows x 14 columns]"
            ]
          },
          "execution_count": 12,
          "metadata": {},
          "output_type": "execute_result"
        }
      ],
      "source": [
        "review=pd.read_csv('drive/MyDrive/DIC/review.csv')\n",
        "business_final=pd.read_csv('drive/MyDrive/DIC/business_final.csv')\n",
        "review = review.merge(business_final[['name','business_id']], how='inner')\n",
        "review"
      ],
      "id": "fbb1221f"
    },
    {
      "cell_type": "markdown",
      "metadata": {
        "id": "374ce021"
      },
      "source": [
        "## Define Scale"
      ],
      "id": "374ce021"
    },
    {
      "cell_type": "code",
      "execution_count": null,
      "metadata": {
        "id": "093b37d3"
      },
      "outputs": [],
      "source": [
        "reader = Reader(rating_scale=(0,1))"
      ],
      "id": "093b37d3"
    },
    {
      "cell_type": "markdown",
      "metadata": {
        "id": "ef36d6c8"
      },
      "source": [
        "## Get the relevant Data"
      ],
      "id": "ef36d6c8"
    },
    {
      "cell_type": "code",
      "execution_count": null,
      "metadata": {
        "id": "c425fc56"
      },
      "outputs": [],
      "source": [
        "data = Dataset.load_from_df(review[['user_id', 'business_id', 'super_score']], reader)"
      ],
      "id": "c425fc56"
    },
    {
      "cell_type": "markdown",
      "metadata": {
        "id": "a7aa1461"
      },
      "source": [
        "## Train, Test split"
      ],
      "id": "a7aa1461"
    },
    {
      "cell_type": "code",
      "execution_count": null,
      "metadata": {
        "id": "6cc88141"
      },
      "outputs": [],
      "source": [
        "trainset, testset = train_test_split(data, test_size=0.2, random_state=42)\n",
        "trainset = data.build_full_trainset()"
      ],
      "id": "6cc88141"
    },
    {
      "cell_type": "markdown",
      "metadata": {
        "id": "8moJqtJ5HmKn"
      },
      "source": [
        "## 1. KNN"
      ],
      "id": "8moJqtJ5HmKn"
    },
    {
      "cell_type": "markdown",
      "metadata": {
        "id": "BRdC5LDUFbth"
      },
      "source": [
        "### 1. KNNBaseline"
      ],
      "id": "BRdC5LDUFbth"
    },
    {
      "cell_type": "code",
      "execution_count": null,
      "metadata": {
        "id": "EwS1uYSsFbti"
      },
      "outputs": [],
      "source": [
        "parameters={\n",
        "    'name':['cosine','pearson'],\n",
        "    'min_k': [3, 6, 9],\n",
        "    'min_support': [True, False],\n",
        "    'user_based':[True, False]\n",
        "}"
      ],
      "id": "EwS1uYSsFbti"
    },
    {
      "cell_type": "code",
      "execution_count": null,
      "metadata": {
        "colab": {
          "base_uri": "https://localhost:8080/",
          "height": 183
        },
        "id": "VoluE4VRFbti",
        "outputId": "e50dcb32-ec75-4712-8f83-9c888f0b0c78"
      },
      "outputs": [
        {
          "ename": "TypeError",
          "evalue": "ignored",
          "output_type": "error",
          "traceback": [
            "\u001b[0;31m---------------------------------------------------------------------------\u001b[0m",
            "\u001b[0;31mTypeError\u001b[0m                                 Traceback (most recent call last)",
            "\u001b[0;32m<ipython-input-42-72eef31da9ea>\u001b[0m in \u001b[0;36m<cell line: 1>\u001b[0;34m()\u001b[0m\n\u001b[0;32m----> 1\u001b[0;31m \u001b[0mgrid\u001b[0m\u001b[0;34m=\u001b[0m\u001b[0mGridSearchCV\u001b[0m\u001b[0;34m(\u001b[0m\u001b[0mKNNBaseline\u001b[0m\u001b[0;34m,\u001b[0m \u001b[0mn_jobs\u001b[0m\u001b[0;34m=\u001b[0m\u001b[0;34m-\u001b[0m\u001b[0;36m1\u001b[0m\u001b[0;34m)\u001b[0m\u001b[0;34m\u001b[0m\u001b[0;34m\u001b[0m\u001b[0m\n\u001b[0m\u001b[1;32m      2\u001b[0m \u001b[0mgrid\u001b[0m\u001b[0;34m.\u001b[0m\u001b[0mfit\u001b[0m\u001b[0;34m(\u001b[0m\u001b[0mdata\u001b[0m\u001b[0;34m)\u001b[0m\u001b[0;34m\u001b[0m\u001b[0;34m\u001b[0m\u001b[0m\n",
            "\u001b[0;31mTypeError\u001b[0m: __init__() missing 1 required positional argument: 'param_grid'"
          ]
        }
      ],
      "source": [
        "grid=GridSearchCV(KNNBaseline, param_grid=parameters,n_jobs=-1)\n",
        "grid.fit(data)"
      ],
      "id": "VoluE4VRFbti"
    },
    {
      "cell_type": "code",
      "execution_count": null,
      "metadata": {
        "colab": {
          "base_uri": "https://localhost:8080/"
        },
        "id": "n_MvoYDoFbti",
        "outputId": "d83e2961-f9e4-4eb0-c95a-4fd0b6882482"
      },
      "outputs": [
        {
          "name": "stdout",
          "output_type": "stream",
          "text": [
            "{'rmse': 0.0858236961945287, 'mae': 0.0542203818637799}\n",
            "{'rmse': {'name': 'cosine', 'min_k': 9, 'min_support': True, 'user_based': True}, 'mae': {'name': 'cosine', 'min_k': 6, 'min_support': True, 'user_based': True}}\n"
          ]
        }
      ],
      "source": [
        "print(grid.best_score)\n",
        "print(grid.best_params)"
      ],
      "id": "n_MvoYDoFbti"
    },
    {
      "cell_type": "code",
      "execution_count": null,
      "metadata": {
        "colab": {
          "base_uri": "https://localhost:8080/"
        },
        "id": "l7QVU3cfigGP",
        "outputId": "60263919-c005-4dad-a87d-07ef98462029"
      },
      "outputs": [
        {
          "name": "stdout",
          "output_type": "stream",
          "text": [
            "Estimating biases using als...\n",
            "Computing the msd similarity matrix...\n",
            "Done computing similarity matrix.\n"
          ]
        },
        {
          "data": {
            "text/plain": [
              "<surprise.prediction_algorithms.knns.KNNBaseline at 0x7fa9b43f5d90>"
            ]
          },
          "execution_count": 14,
          "metadata": {},
          "output_type": "execute_result"
        }
      ],
      "source": [
        "algo = grid.best_estimator[\"rmse\"]\n",
        "algo.fit(data.build_full_trainset())"
      ],
      "id": "l7QVU3cfigGP"
    },
    {
      "cell_type": "markdown",
      "metadata": {
        "id": "3K8zK1JYFbtj"
      },
      "source": [
        "#### Make recommendations"
      ],
      "id": "3K8zK1JYFbtj"
    },
    {
      "cell_type": "code",
      "execution_count": null,
      "metadata": {
        "id": "LL2aYLQlFbtj"
      },
      "outputs": [],
      "source": [
        "predictions = algo.test(testset)"
      ],
      "id": "LL2aYLQlFbtj"
    },
    {
      "cell_type": "markdown",
      "metadata": {
        "id": "b5-PSoXxFbtj"
      },
      "source": [
        "#### Recommend 5 Restaurants to users"
      ],
      "id": "b5-PSoXxFbtj"
    },
    {
      "cell_type": "code",
      "execution_count": null,
      "metadata": {
        "colab": {
          "base_uri": "https://localhost:8080/"
        },
        "id": "4YcUW3tVFbtj",
        "outputId": "3de087a9-0b8c-47e2-c716-5faff291f376"
      },
      "outputs": [
        {
          "name": "stdout",
          "output_type": "stream",
          "text": [
            "1. \"Yao Fine Chinese Cuisine\"\n",
            "2. \"CUT by Wolfgang Puck\"\n",
            "3. \"Scarpetta\"\n",
            "4. \"Firefly\"\n",
            "5. \"Oyster Bar\"\n"
          ]
        }
      ],
      "source": [
        "user_1 = 'BPKpLbR9NuWFAR9SUWpZOw'\n",
        "restaurants = review['business_id'].unique()\n",
        "user_1_ratings = []\n",
        "for restaurant in restaurants:\n",
        "    user_1_ratings.append((restaurant, algo.predict(user_1, restaurant).est))\n",
        "\n",
        "# sort the recommended restaurants by predicted rating\n",
        "sorted_ratings = sorted(user_1_ratings, key=lambda x: x[1], reverse=True)\n",
        "\n",
        "# print the top 5 recommended restaurants\n",
        "for i in range(5):\n",
        "    business_id = sorted_ratings[i][0]\n",
        "    name = review.loc[review['business_id'] == business_id, 'name'].iloc[0]\n",
        "    print(f'{i+1}. {name}')"
      ],
      "id": "4YcUW3tVFbtj"
    },
    {
      "cell_type": "code",
      "execution_count": null,
      "metadata": {
        "colab": {
          "base_uri": "https://localhost:8080/"
        },
        "id": "5US6EVAzFbtj",
        "outputId": "3de7bc45-ce00-4fe7-e13f-b645817db039"
      },
      "outputs": [
        {
          "name": "stdout",
          "output_type": "stream",
          "text": [
            "MAE:  0.0069\n",
            "MSE: 0.0006\n",
            "RMSE: 0.0240\n",
            "FCP:  0.5600\n"
          ]
        },
        {
          "data": {
            "text/plain": [
              "0.5600329794908792"
            ]
          },
          "execution_count": 46,
          "metadata": {},
          "output_type": "execute_result"
        }
      ],
      "source": [
        "accuracy.mae(predictions)\n",
        "accuracy.mse(predictions)\n",
        "accuracy.rmse(predictions)\n",
        "accuracy.fcp(predictions)"
      ],
      "id": "5US6EVAzFbtj"
    },
    {
      "cell_type": "markdown",
      "metadata": {
        "id": "WPMoix1LFbtj"
      },
      "source": [
        "### 2. KNNWithMeans"
      ],
      "id": "WPMoix1LFbtj"
    },
    {
      "cell_type": "code",
      "execution_count": null,
      "metadata": {
        "id": "fJXKhnAro80C"
      },
      "outputs": [],
      "source": [
        "parameters={\n",
        "    'name':['cosine','pearson'],\n",
        "    'min_k': [3, 6, 9],\n",
        "    'min_support': [True, False],\n",
        "    'user_based':[True, False]\n",
        "}"
      ],
      "id": "fJXKhnAro80C"
    },
    {
      "cell_type": "code",
      "execution_count": null,
      "metadata": {
        "id": "UU1XoYOVpB7D"
      },
      "outputs": [],
      "source": [
        "grid=GridSearchCV(KNNWithMeans, param_grid=parameters,n_jobs=-1)\n",
        "grid.fit(data)"
      ],
      "id": "UU1XoYOVpB7D"
    },
    {
      "cell_type": "code",
      "execution_count": null,
      "metadata": {
        "colab": {
          "base_uri": "https://localhost:8080/"
        },
        "id": "2s08xWb0pUfv",
        "outputId": "041b4bc5-fe03-4119-856d-337af33c306d"
      },
      "outputs": [
        {
          "name": "stdout",
          "output_type": "stream",
          "text": [
            "{'rmse': 0.0915131161471882, 'mae': 0.05605022367509525}\n",
            "{'rmse': {'name': 'cosine', 'min_k': 9, 'min_support': True, 'user_based': True}, 'mae': {'name': 'cosine', 'min_k': 9, 'min_support': True, 'user_based': True}}\n"
          ]
        }
      ],
      "source": [
        "print(grid.best_score)\n",
        "print(grid.best_params)"
      ],
      "id": "2s08xWb0pUfv"
    },
    {
      "cell_type": "code",
      "execution_count": null,
      "metadata": {
        "colab": {
          "base_uri": "https://localhost:8080/"
        },
        "id": "BmelfEbUpUfv",
        "outputId": "1c69596d-6e6a-4b52-f4e4-9961e317fb04"
      },
      "outputs": [
        {
          "name": "stdout",
          "output_type": "stream",
          "text": [
            "Computing the msd similarity matrix...\n",
            "Done computing similarity matrix.\n"
          ]
        },
        {
          "data": {
            "text/plain": [
              "<surprise.prediction_algorithms.knns.KNNWithMeans at 0x7f955609b730>"
            ]
          },
          "execution_count": 18,
          "metadata": {},
          "output_type": "execute_result"
        }
      ],
      "source": [
        "algo = grid.best_estimator[\"rmse\"]\n",
        "algo.fit(data.build_full_trainset())"
      ],
      "id": "BmelfEbUpUfv"
    },
    {
      "cell_type": "markdown",
      "metadata": {
        "id": "JjwzhAQPFbtk"
      },
      "source": [
        "#### Make recommendations"
      ],
      "id": "JjwzhAQPFbtk"
    },
    {
      "cell_type": "code",
      "execution_count": null,
      "metadata": {
        "id": "KbnGW-71Fbtk"
      },
      "outputs": [],
      "source": [
        "predictions = algo.test(testset)"
      ],
      "id": "KbnGW-71Fbtk"
    },
    {
      "cell_type": "markdown",
      "metadata": {
        "id": "RGXliLr_Fbtk"
      },
      "source": [
        "#### Recommend 5 Restaurants to users"
      ],
      "id": "RGXliLr_Fbtk"
    },
    {
      "cell_type": "code",
      "execution_count": null,
      "metadata": {
        "colab": {
          "base_uri": "https://localhost:8080/"
        },
        "id": "EjE-W74GFbtk",
        "outputId": "fb21ee20-1e19-4921-b2d4-7d196406a63c"
      },
      "outputs": [
        {
          "name": "stdout",
          "output_type": "stream",
          "text": [
            "1. \"Papa Chevo's Taco Shop\"\n",
            "2. \"Macayo's Mexican Table\"\n",
            "3. \"Kona Grill\"\n",
            "4. \"Joyride Taco House\"\n",
            "5. \"Original Breakfast House\"\n"
          ]
        }
      ],
      "source": [
        "user_1 = 'BPKpLbR9NuWFAR9SUWpZOw'\n",
        "restaurants = review['business_id'].unique()\n",
        "user_1_ratings = []\n",
        "for restaurant in restaurants:\n",
        "    user_1_ratings.append((restaurant, algo.predict(user_1, restaurant).est))\n",
        "\n",
        "# sort the recommended restaurants by predicted rating\n",
        "sorted_ratings = sorted(user_1_ratings, key=lambda x: x[1], reverse=True)\n",
        "\n",
        "# print the top 5 recommended restaurants\n",
        "for i in range(5):\n",
        "    business_id = sorted_ratings[i][0]\n",
        "    name = review.loc[review['business_id'] == business_id, 'name'].iloc[0]\n",
        "    print(f'{i+1}. {name}')"
      ],
      "id": "EjE-W74GFbtk"
    },
    {
      "cell_type": "code",
      "execution_count": null,
      "metadata": {
        "colab": {
          "base_uri": "https://localhost:8080/"
        },
        "id": "bak-r9BBFbtk",
        "outputId": "1736fb5b-5a6b-418c-c790-cc36feae78b7"
      },
      "outputs": [
        {
          "name": "stdout",
          "output_type": "stream",
          "text": [
            "MAE:  0.0278\n",
            "MSE: 0.0024\n",
            "RMSE: 0.0492\n",
            "FCP:  0.5522\n"
          ]
        },
        {
          "data": {
            "text/plain": [
              "0.55224913659326"
            ]
          },
          "execution_count": 22,
          "metadata": {},
          "output_type": "execute_result"
        }
      ],
      "source": [
        "accuracy.mae(predictions)\n",
        "accuracy.mse(predictions)\n",
        "accuracy.rmse(predictions)\n",
        "accuracy.fcp(predictions)"
      ],
      "id": "bak-r9BBFbtk"
    },
    {
      "cell_type": "markdown",
      "metadata": {
        "id": "0dc9ab62"
      },
      "source": [
        "### 3. KNN With ZScore"
      ],
      "id": "0dc9ab62"
    },
    {
      "cell_type": "code",
      "execution_count": null,
      "metadata": {
        "id": "iz1pMvHzfTyx"
      },
      "outputs": [],
      "source": [
        "parameters={\n",
        "    'name':['cosine','pearson'],\n",
        "    'min_k': [3, 6, 9],\n",
        "    'min_support': [True, False],\n",
        "    'user_based':[True, False]\n",
        "}"
      ],
      "id": "iz1pMvHzfTyx"
    },
    {
      "cell_type": "code",
      "execution_count": null,
      "metadata": {
        "id": "8s7sCdb-fhoK"
      },
      "outputs": [],
      "source": [
        "grid=GridSearchCV(KNNWithZScore, param_grid=parameters,n_jobs=-1)\n",
        "grid.fit(data)"
      ],
      "id": "8s7sCdb-fhoK"
    },
    {
      "cell_type": "code",
      "execution_count": null,
      "metadata": {
        "colab": {
          "base_uri": "https://localhost:8080/"
        },
        "id": "9hEWARl1fn-h",
        "outputId": "84c32214-c743-42ce-df38-3a1b58e2c7ca"
      },
      "outputs": [
        {
          "name": "stdout",
          "output_type": "stream",
          "text": [
            "{'rmse': 0.0919170838625821, 'mae': 0.05622203400847727}\n",
            "{'rmse': {'name': 'cosine', 'min_k': 9, 'min_support': True, 'user_based': True}, 'mae': {'name': 'cosine', 'min_k': 6, 'min_support': True, 'user_based': True}}\n"
          ]
        }
      ],
      "source": [
        "print(grid.best_score)\n",
        "print(grid.best_params)"
      ],
      "id": "9hEWARl1fn-h"
    },
    {
      "cell_type": "code",
      "execution_count": null,
      "metadata": {
        "colab": {
          "base_uri": "https://localhost:8080/"
        },
        "id": "ccf4ee09",
        "outputId": "b007e262-2bdb-4b53-ac11-80ba51c81480"
      },
      "outputs": [
        {
          "name": "stdout",
          "output_type": "stream",
          "text": [
            "Estimating biases using als...\n",
            "Computing the cosine similarity matrix...\n",
            "Done computing similarity matrix.\n"
          ]
        },
        {
          "data": {
            "text/plain": [
              "<surprise.prediction_algorithms.knns.KNNBaseline at 0x7fbdfc2fe100>"
            ]
          },
          "execution_count": 217,
          "metadata": {},
          "output_type": "execute_result"
        }
      ],
      "source": [
        "algo = grid.best_estimator[\"rmse\"]\n",
        "algo.fit(data.build_full_trainset())"
      ],
      "id": "ccf4ee09"
    },
    {
      "cell_type": "markdown",
      "metadata": {
        "id": "6bc24c09"
      },
      "source": [
        "#### Make recommendations"
      ],
      "id": "6bc24c09"
    },
    {
      "cell_type": "code",
      "execution_count": null,
      "metadata": {
        "id": "8d86394d"
      },
      "outputs": [],
      "source": [
        "predictions = algo.test(testset)"
      ],
      "id": "8d86394d"
    },
    {
      "cell_type": "markdown",
      "metadata": {
        "id": "e492784c"
      },
      "source": [
        "#### Recommend 5 Restaurants to users"
      ],
      "id": "e492784c"
    },
    {
      "cell_type": "code",
      "execution_count": null,
      "metadata": {
        "colab": {
          "base_uri": "https://localhost:8080/"
        },
        "id": "2f673c2d",
        "outputId": "5c2e6c75-fe06-4029-d643-4af3de0f5c9a"
      },
      "outputs": [
        {
          "name": "stdout",
          "output_type": "stream",
          "text": [
            "1. \"Culinary Dropout\"\n",
            "2. \"Rancho de Tia Rosa\"\n",
            "3. \"Oscar's Steakhouse\"\n",
            "4. \"Cantina Laredo\"\n",
            "5. \"Pita Jungle\"\n"
          ]
        }
      ],
      "source": [
        "user_1 = 'BPKpLbR9NuWFAR9SUWpZOw'\n",
        "restaurants = review['business_id'].unique()\n",
        "user_1_ratings = []\n",
        "for restaurant in restaurants:\n",
        "    user_1_ratings.append((restaurant, algo.predict(user_1, restaurant).est))\n",
        "\n",
        "# sort the recommended restaurants by predicted rating\n",
        "sorted_ratings = sorted(user_1_ratings, key=lambda x: x[1], reverse=True)\n",
        "\n",
        "# print the top 5 recommended restaurants\n",
        "for i in range(5):\n",
        "    business_id = sorted_ratings[i][0]\n",
        "    name = review.loc[review['business_id'] == business_id, 'name'].iloc[0]\n",
        "    print(f'{i+1}. {name}')"
      ],
      "id": "2f673c2d"
    },
    {
      "cell_type": "code",
      "execution_count": null,
      "metadata": {
        "colab": {
          "base_uri": "https://localhost:8080/"
        },
        "id": "2bc76ec3",
        "outputId": "898cf0bc-1137-4961-c71b-da81b008f5c7"
      },
      "outputs": [
        {
          "name": "stdout",
          "output_type": "stream",
          "text": [
            "MAE:  0.0357\n",
            "MSE: 0.0038\n",
            "RMSE: 0.0615\n",
            "FCP:  0.5415\n"
          ]
        },
        {
          "data": {
            "text/plain": [
              "0.5414867298796749"
            ]
          },
          "execution_count": 220,
          "metadata": {},
          "output_type": "execute_result"
        }
      ],
      "source": [
        "accuracy.mae(predictions)\n",
        "accuracy.mse(predictions)\n",
        "accuracy.rmse(predictions)\n",
        "accuracy.fcp(predictions)"
      ],
      "id": "2bc76ec3"
    },
    {
      "cell_type": "markdown",
      "metadata": {
        "id": "dS0mykCFfb7p"
      },
      "source": [
        "### 5. KNN Basic"
      ],
      "id": "dS0mykCFfb7p"
    },
    {
      "cell_type": "code",
      "execution_count": null,
      "metadata": {
        "id": "7V-W98L-E60v"
      },
      "outputs": [],
      "source": [
        "parameters={\n",
        "    'name':['cosine','pearson'],\n",
        "    'min_k': [3, 6, 9],\n",
        "    'min_support': [True, False],\n",
        "    'user_based':[True, False]\n",
        "}"
      ],
      "id": "7V-W98L-E60v"
    },
    {
      "cell_type": "code",
      "execution_count": null,
      "metadata": {
        "id": "TAoedIKxfb7q"
      },
      "outputs": [],
      "source": [
        "grid=GridSearchCV(KNNBasic, param_grid=parameters,n_jobs=-1)\n",
        "grid.fit(data)"
      ],
      "id": "TAoedIKxfb7q"
    },
    {
      "cell_type": "code",
      "execution_count": null,
      "metadata": {
        "colab": {
          "background_save": true
        },
        "id": "FWWqc38jsQsz",
        "outputId": "a1268adc-6580-4692-8471-48bdbaf86fc3"
      },
      "outputs": [
        {
          "name": "stdout",
          "output_type": "stream",
          "text": [
            "Computing the msd similarity matrix...\n",
            "Done computing similarity matrix.\n",
            "MAE:  0.0362\n",
            "MSE: 0.0040\n",
            "RMSE: 0.0636\n",
            "FCP:  0.5582\n"
          ]
        },
        {
          "data": {
            "text/plain": [
              "0.5581521594684385"
            ]
          },
          "execution_count": 80,
          "metadata": {},
          "output_type": "execute_result"
        }
      ],
      "source": [
        "algo = BaselineOnly(bsl_options=bsl_options)\n",
        "\n",
        "predictions = algo.fit(trainset).test(testset)\n",
        "accuracy.mae(predictions)\n",
        "accuracy.mse(predictions)\n",
        "accuracy.rmse(predictions)\n",
        "accuracy.fcp(predictions)"
      ],
      "id": "FWWqc38jsQsz"
    },
    {
      "cell_type": "code",
      "execution_count": null,
      "metadata": {
        "colab": {
          "base_uri": "https://localhost:8080/"
        },
        "id": "1Bp_dzquM4yS",
        "outputId": "be5d0a6a-8d6d-4e00-a931-d62eb0486c2b"
      },
      "outputs": [
        {
          "name": "stdout",
          "output_type": "stream",
          "text": [
            "{'rmse': 0.08790605647149062, 'mae': 0.05774443005380259}\n",
            "{'rmse': {'name': 'cosine', 'min_k': 6, 'min_support': True, 'user_based': True}, 'mae': {'name': 'cosine', 'min_k': 3, 'min_support': True, 'user_based': True}}\n"
          ]
        }
      ],
      "source": [
        "print(grid.best_score)\n",
        "print(grid.best_params)"
      ],
      "id": "1Bp_dzquM4yS"
    },
    {
      "cell_type": "code",
      "execution_count": null,
      "metadata": {
        "colab": {
          "base_uri": "https://localhost:8080/"
        },
        "id": "_4_tdlFuH7ww",
        "outputId": "626d1778-7c7d-4f55-bce5-9dc03ee392b0"
      },
      "outputs": [
        {
          "name": "stdout",
          "output_type": "stream",
          "text": [
            "Computing the msd similarity matrix...\n",
            "Done computing similarity matrix.\n"
          ]
        },
        {
          "data": {
            "text/plain": [
              "<surprise.prediction_algorithms.knns.KNNBasic at 0x7f95805d30a0>"
            ]
          },
          "execution_count": 32,
          "metadata": {},
          "output_type": "execute_result"
        }
      ],
      "source": [
        "algo = grid.best_estimator[\"mae\"]\n",
        "algo.fit(data.build_full_trainset())"
      ],
      "id": "_4_tdlFuH7ww"
    },
    {
      "cell_type": "markdown",
      "metadata": {
        "id": "pDCOP3y8fb7q"
      },
      "source": [
        "#### Make recommendations"
      ],
      "id": "pDCOP3y8fb7q"
    },
    {
      "cell_type": "code",
      "execution_count": null,
      "metadata": {
        "id": "_ZOZmqaTfb7q"
      },
      "outputs": [],
      "source": [
        "predictions = algo.test(testset)"
      ],
      "id": "_ZOZmqaTfb7q"
    },
    {
      "cell_type": "markdown",
      "metadata": {
        "id": "secopy7jfb7q"
      },
      "source": [
        "#### Recommend 5 Restaurants to users"
      ],
      "id": "secopy7jfb7q"
    },
    {
      "cell_type": "code",
      "execution_count": null,
      "metadata": {
        "colab": {
          "base_uri": "https://localhost:8080/"
        },
        "id": "HTO5D0pGfb7q",
        "outputId": "7e263a8e-bfc0-44c3-e3bb-ee190e617dfb"
      },
      "outputs": [
        {
          "name": "stdout",
          "output_type": "stream",
          "text": [
            "1. \"Craig's Cake Shop\"\n",
            "2. \"Papa Chevo's Taco Shop\"\n",
            "3. \"Barro's Pizza\"\n",
            "4. \"Eiffel Tower\"\n",
            "5. \"Nottingham Inn Kitchen & Creamery\"\n"
          ]
        }
      ],
      "source": [
        "user_1 = 'BPKpLbR9NuWFAR9SUWpZOw'\n",
        "restaurants = review['business_id'].unique()\n",
        "user_1_ratings = []\n",
        "for restaurant in restaurants:\n",
        "    user_1_ratings.append((restaurant, algo.predict(user_1, restaurant).est))\n",
        "\n",
        "# sort the recommended restaurants by predicted rating\n",
        "sorted_ratings = sorted(user_1_ratings, key=lambda x: x[1], reverse=True)\n",
        "\n",
        "# print the top 5 recommended restaurants\n",
        "for i in range(5):\n",
        "    business_id = sorted_ratings[i][0]\n",
        "    name = review.loc[review['business_id'] == business_id, 'name'].iloc[0]\n",
        "    print(f'{i+1}. {name}')"
      ],
      "id": "HTO5D0pGfb7q"
    },
    {
      "cell_type": "code",
      "execution_count": null,
      "metadata": {
        "colab": {
          "base_uri": "https://localhost:8080/"
        },
        "id": "B3igmFeRfb7q",
        "outputId": "92fb5c9c-81b5-401a-8b99-808592da8ee0"
      },
      "outputs": [
        {
          "name": "stdout",
          "output_type": "stream",
          "text": [
            "MAE:  0.0484\n",
            "MSE: 0.0062\n",
            "RMSE: 0.0790\n",
            "FCP:  0.5175\n"
          ]
        },
        {
          "data": {
            "text/plain": [
              "0.5175494334256191"
            ]
          },
          "execution_count": 34,
          "metadata": {},
          "output_type": "execute_result"
        }
      ],
      "source": [
        "accuracy.mae(predictions)\n",
        "accuracy.mse(predictions)\n",
        "accuracy.rmse(predictions)\n",
        "accuracy.fcp(predictions)"
      ],
      "id": "B3igmFeRfb7q"
    },
    {
      "cell_type": "markdown",
      "metadata": {
        "id": "7ArBardTNuPp"
      },
      "source": [
        "### Comparision of KNN Algorithms"
      ],
      "id": "7ArBardTNuPp"
    },
    {
      "cell_type": "code",
      "execution_count": null,
      "metadata": {
        "colab": {
          "base_uri": "https://localhost:8080/",
          "height": 542
        },
        "id": "_iB7LfeCNy0S",
        "outputId": "f2cc63ec-7420-4bb8-f1cf-58249c422d5e"
      },
      "outputs": [
        {
          "data": {
            "text/html": [
              "<html>\n",
              "<head><meta charset=\"utf-8\" /></head>\n",
              "<body>\n",
              "    <div>            <script src=\"https://cdnjs.cloudflare.com/ajax/libs/mathjax/2.7.5/MathJax.js?config=TeX-AMS-MML_SVG\"></script><script type=\"text/javascript\">if (window.MathJax && window.MathJax.Hub && window.MathJax.Hub.Config) {window.MathJax.Hub.Config({SVG: {font: \"STIX-Web\"}});}</script>                <script type=\"text/javascript\">window.PlotlyConfig = {MathJaxConfig: 'local'};</script>\n",
              "        <script src=\"https://cdn.plot.ly/plotly-2.18.2.min.js\"></script>                <div id=\"855e3557-32b5-43e1-b5d4-42933ea3ca9f\" class=\"plotly-graph-div\" style=\"height:525px; width:100%;\"></div>            <script type=\"text/javascript\">                                    window.PLOTLYENV=window.PLOTLYENV || {};                                    if (document.getElementById(\"855e3557-32b5-43e1-b5d4-42933ea3ca9f\")) {                    Plotly.newPlot(                        \"855e3557-32b5-43e1-b5d4-42933ea3ca9f\",                        [{\"colorscale\":[[0.0,\"#440154\"],[0.1111111111111111,\"#482878\"],[0.2222222222222222,\"#3e4989\"],[0.3333333333333333,\"#31688e\"],[0.4444444444444444,\"#26828e\"],[0.5555555555555556,\"#1f9e89\"],[0.6666666666666666,\"#35b779\"],[0.7777777777777778,\"#6ece58\"],[0.8888888888888888,\"#b5de2b\"],[1.0,\"#fde725\"]],\"x\":[\"MAE\",\"MSE\",\"RMSE\",\"FCP\"],\"y\":[\"KNN Basic\",\"KNN Baseline\",\"KNN with Z-Score\",\"KNN with Means\"],\"z\":[[0.0484,0.0062,0.079,0.5175],[0.0464,0.0055,0.0745,0.552],[0.0357,0.0038,0.5415,0.5415],[0.0278,0.0024,0.0492,0.5522]],\"type\":\"heatmap\"}],                        {\"title\":{\"text\":\"Performance Comparison of KNN Algorithms\"},\"xaxis\":{\"title\":{\"text\":\"Evaluation Metric\"}},\"yaxis\":{\"title\":{\"text\":\"KNN Algorithm\"}},\"template\":{\"data\":{\"histogram2dcontour\":[{\"type\":\"histogram2dcontour\",\"colorbar\":{\"outlinewidth\":0,\"ticks\":\"\"},\"colorscale\":[[0.0,\"#0d0887\"],[0.1111111111111111,\"#46039f\"],[0.2222222222222222,\"#7201a8\"],[0.3333333333333333,\"#9c179e\"],[0.4444444444444444,\"#bd3786\"],[0.5555555555555556,\"#d8576b\"],[0.6666666666666666,\"#ed7953\"],[0.7777777777777778,\"#fb9f3a\"],[0.8888888888888888,\"#fdca26\"],[1.0,\"#f0f921\"]]}],\"choropleth\":[{\"type\":\"choropleth\",\"colorbar\":{\"outlinewidth\":0,\"ticks\":\"\"}}],\"histogram2d\":[{\"type\":\"histogram2d\",\"colorbar\":{\"outlinewidth\":0,\"ticks\":\"\"},\"colorscale\":[[0.0,\"#0d0887\"],[0.1111111111111111,\"#46039f\"],[0.2222222222222222,\"#7201a8\"],[0.3333333333333333,\"#9c179e\"],[0.4444444444444444,\"#bd3786\"],[0.5555555555555556,\"#d8576b\"],[0.6666666666666666,\"#ed7953\"],[0.7777777777777778,\"#fb9f3a\"],[0.8888888888888888,\"#fdca26\"],[1.0,\"#f0f921\"]]}],\"heatmap\":[{\"type\":\"heatmap\",\"colorbar\":{\"outlinewidth\":0,\"ticks\":\"\"},\"colorscale\":[[0.0,\"#0d0887\"],[0.1111111111111111,\"#46039f\"],[0.2222222222222222,\"#7201a8\"],[0.3333333333333333,\"#9c179e\"],[0.4444444444444444,\"#bd3786\"],[0.5555555555555556,\"#d8576b\"],[0.6666666666666666,\"#ed7953\"],[0.7777777777777778,\"#fb9f3a\"],[0.8888888888888888,\"#fdca26\"],[1.0,\"#f0f921\"]]}],\"heatmapgl\":[{\"type\":\"heatmapgl\",\"colorbar\":{\"outlinewidth\":0,\"ticks\":\"\"},\"colorscale\":[[0.0,\"#0d0887\"],[0.1111111111111111,\"#46039f\"],[0.2222222222222222,\"#7201a8\"],[0.3333333333333333,\"#9c179e\"],[0.4444444444444444,\"#bd3786\"],[0.5555555555555556,\"#d8576b\"],[0.6666666666666666,\"#ed7953\"],[0.7777777777777778,\"#fb9f3a\"],[0.8888888888888888,\"#fdca26\"],[1.0,\"#f0f921\"]]}],\"contourcarpet\":[{\"type\":\"contourcarpet\",\"colorbar\":{\"outlinewidth\":0,\"ticks\":\"\"}}],\"contour\":[{\"type\":\"contour\",\"colorbar\":{\"outlinewidth\":0,\"ticks\":\"\"},\"colorscale\":[[0.0,\"#0d0887\"],[0.1111111111111111,\"#46039f\"],[0.2222222222222222,\"#7201a8\"],[0.3333333333333333,\"#9c179e\"],[0.4444444444444444,\"#bd3786\"],[0.5555555555555556,\"#d8576b\"],[0.6666666666666666,\"#ed7953\"],[0.7777777777777778,\"#fb9f3a\"],[0.8888888888888888,\"#fdca26\"],[1.0,\"#f0f921\"]]}],\"surface\":[{\"type\":\"surface\",\"colorbar\":{\"outlinewidth\":0,\"ticks\":\"\"},\"colorscale\":[[0.0,\"#0d0887\"],[0.1111111111111111,\"#46039f\"],[0.2222222222222222,\"#7201a8\"],[0.3333333333333333,\"#9c179e\"],[0.4444444444444444,\"#bd3786\"],[0.5555555555555556,\"#d8576b\"],[0.6666666666666666,\"#ed7953\"],[0.7777777777777778,\"#fb9f3a\"],[0.8888888888888888,\"#fdca26\"],[1.0,\"#f0f921\"]]}],\"mesh3d\":[{\"type\":\"mesh3d\",\"colorbar\":{\"outlinewidth\":0,\"ticks\":\"\"}}],\"scatter\":[{\"fillpattern\":{\"fillmode\":\"overlay\",\"size\":10,\"solidity\":0.2},\"type\":\"scatter\"}],\"parcoords\":[{\"type\":\"parcoords\",\"line\":{\"colorbar\":{\"outlinewidth\":0,\"ticks\":\"\"}}}],\"scatterpolargl\":[{\"type\":\"scatterpolargl\",\"marker\":{\"colorbar\":{\"outlinewidth\":0,\"ticks\":\"\"}}}],\"bar\":[{\"error_x\":{\"color\":\"#2a3f5f\"},\"error_y\":{\"color\":\"#2a3f5f\"},\"marker\":{\"line\":{\"color\":\"#E5ECF6\",\"width\":0.5},\"pattern\":{\"fillmode\":\"overlay\",\"size\":10,\"solidity\":0.2}},\"type\":\"bar\"}],\"scattergeo\":[{\"type\":\"scattergeo\",\"marker\":{\"colorbar\":{\"outlinewidth\":0,\"ticks\":\"\"}}}],\"scatterpolar\":[{\"type\":\"scatterpolar\",\"marker\":{\"colorbar\":{\"outlinewidth\":0,\"ticks\":\"\"}}}],\"histogram\":[{\"marker\":{\"pattern\":{\"fillmode\":\"overlay\",\"size\":10,\"solidity\":0.2}},\"type\":\"histogram\"}],\"scattergl\":[{\"type\":\"scattergl\",\"marker\":{\"colorbar\":{\"outlinewidth\":0,\"ticks\":\"\"}}}],\"scatter3d\":[{\"type\":\"scatter3d\",\"line\":{\"colorbar\":{\"outlinewidth\":0,\"ticks\":\"\"}},\"marker\":{\"colorbar\":{\"outlinewidth\":0,\"ticks\":\"\"}}}],\"scattermapbox\":[{\"type\":\"scattermapbox\",\"marker\":{\"colorbar\":{\"outlinewidth\":0,\"ticks\":\"\"}}}],\"scatterternary\":[{\"type\":\"scatterternary\",\"marker\":{\"colorbar\":{\"outlinewidth\":0,\"ticks\":\"\"}}}],\"scattercarpet\":[{\"type\":\"scattercarpet\",\"marker\":{\"colorbar\":{\"outlinewidth\":0,\"ticks\":\"\"}}}],\"carpet\":[{\"aaxis\":{\"endlinecolor\":\"#2a3f5f\",\"gridcolor\":\"white\",\"linecolor\":\"white\",\"minorgridcolor\":\"white\",\"startlinecolor\":\"#2a3f5f\"},\"baxis\":{\"endlinecolor\":\"#2a3f5f\",\"gridcolor\":\"white\",\"linecolor\":\"white\",\"minorgridcolor\":\"white\",\"startlinecolor\":\"#2a3f5f\"},\"type\":\"carpet\"}],\"table\":[{\"cells\":{\"fill\":{\"color\":\"#EBF0F8\"},\"line\":{\"color\":\"white\"}},\"header\":{\"fill\":{\"color\":\"#C8D4E3\"},\"line\":{\"color\":\"white\"}},\"type\":\"table\"}],\"barpolar\":[{\"marker\":{\"line\":{\"color\":\"#E5ECF6\",\"width\":0.5},\"pattern\":{\"fillmode\":\"overlay\",\"size\":10,\"solidity\":0.2}},\"type\":\"barpolar\"}],\"pie\":[{\"automargin\":true,\"type\":\"pie\"}]},\"layout\":{\"autotypenumbers\":\"strict\",\"colorway\":[\"#636efa\",\"#EF553B\",\"#00cc96\",\"#ab63fa\",\"#FFA15A\",\"#19d3f3\",\"#FF6692\",\"#B6E880\",\"#FF97FF\",\"#FECB52\"],\"font\":{\"color\":\"#2a3f5f\"},\"hovermode\":\"closest\",\"hoverlabel\":{\"align\":\"left\"},\"paper_bgcolor\":\"white\",\"plot_bgcolor\":\"#E5ECF6\",\"polar\":{\"bgcolor\":\"#E5ECF6\",\"angularaxis\":{\"gridcolor\":\"white\",\"linecolor\":\"white\",\"ticks\":\"\"},\"radialaxis\":{\"gridcolor\":\"white\",\"linecolor\":\"white\",\"ticks\":\"\"}},\"ternary\":{\"bgcolor\":\"#E5ECF6\",\"aaxis\":{\"gridcolor\":\"white\",\"linecolor\":\"white\",\"ticks\":\"\"},\"baxis\":{\"gridcolor\":\"white\",\"linecolor\":\"white\",\"ticks\":\"\"},\"caxis\":{\"gridcolor\":\"white\",\"linecolor\":\"white\",\"ticks\":\"\"}},\"coloraxis\":{\"colorbar\":{\"outlinewidth\":0,\"ticks\":\"\"}},\"colorscale\":{\"sequential\":[[0.0,\"#0d0887\"],[0.1111111111111111,\"#46039f\"],[0.2222222222222222,\"#7201a8\"],[0.3333333333333333,\"#9c179e\"],[0.4444444444444444,\"#bd3786\"],[0.5555555555555556,\"#d8576b\"],[0.6666666666666666,\"#ed7953\"],[0.7777777777777778,\"#fb9f3a\"],[0.8888888888888888,\"#fdca26\"],[1.0,\"#f0f921\"]],\"sequentialminus\":[[0.0,\"#0d0887\"],[0.1111111111111111,\"#46039f\"],[0.2222222222222222,\"#7201a8\"],[0.3333333333333333,\"#9c179e\"],[0.4444444444444444,\"#bd3786\"],[0.5555555555555556,\"#d8576b\"],[0.6666666666666666,\"#ed7953\"],[0.7777777777777778,\"#fb9f3a\"],[0.8888888888888888,\"#fdca26\"],[1.0,\"#f0f921\"]],\"diverging\":[[0,\"#8e0152\"],[0.1,\"#c51b7d\"],[0.2,\"#de77ae\"],[0.3,\"#f1b6da\"],[0.4,\"#fde0ef\"],[0.5,\"#f7f7f7\"],[0.6,\"#e6f5d0\"],[0.7,\"#b8e186\"],[0.8,\"#7fbc41\"],[0.9,\"#4d9221\"],[1,\"#276419\"]]},\"xaxis\":{\"gridcolor\":\"white\",\"linecolor\":\"white\",\"ticks\":\"\",\"title\":{\"standoff\":15},\"zerolinecolor\":\"white\",\"automargin\":true,\"zerolinewidth\":2},\"yaxis\":{\"gridcolor\":\"white\",\"linecolor\":\"white\",\"ticks\":\"\",\"title\":{\"standoff\":15},\"zerolinecolor\":\"white\",\"automargin\":true,\"zerolinewidth\":2},\"scene\":{\"xaxis\":{\"backgroundcolor\":\"#E5ECF6\",\"gridcolor\":\"white\",\"linecolor\":\"white\",\"showbackground\":true,\"ticks\":\"\",\"zerolinecolor\":\"white\",\"gridwidth\":2},\"yaxis\":{\"backgroundcolor\":\"#E5ECF6\",\"gridcolor\":\"white\",\"linecolor\":\"white\",\"showbackground\":true,\"ticks\":\"\",\"zerolinecolor\":\"white\",\"gridwidth\":2},\"zaxis\":{\"backgroundcolor\":\"#E5ECF6\",\"gridcolor\":\"white\",\"linecolor\":\"white\",\"showbackground\":true,\"ticks\":\"\",\"zerolinecolor\":\"white\",\"gridwidth\":2}},\"shapedefaults\":{\"line\":{\"color\":\"#2a3f5f\"}},\"annotationdefaults\":{\"arrowcolor\":\"#2a3f5f\",\"arrowhead\":0,\"arrowwidth\":1},\"geo\":{\"bgcolor\":\"white\",\"landcolor\":\"#E5ECF6\",\"subunitcolor\":\"white\",\"showland\":true,\"showlakes\":true,\"lakecolor\":\"white\"},\"title\":{\"x\":0.05},\"mapbox\":{\"style\":\"light\"}}}},                        {\"responsive\": true}                    ).then(function(){\n",
              "                            \n",
              "var gd = document.getElementById('855e3557-32b5-43e1-b5d4-42933ea3ca9f');\n",
              "var x = new MutationObserver(function (mutations, observer) {{\n",
              "        var display = window.getComputedStyle(gd).display;\n",
              "        if (!display || display === 'none') {{\n",
              "            console.log([gd, 'removed!']);\n",
              "            Plotly.purge(gd);\n",
              "            observer.disconnect();\n",
              "        }}\n",
              "}});\n",
              "\n",
              "// Listen for the removal of the full notebook cells\n",
              "var notebookContainer = gd.closest('#notebook-container');\n",
              "if (notebookContainer) {{\n",
              "    x.observe(notebookContainer, {childList: true});\n",
              "}}\n",
              "\n",
              "// Listen for the clearing of the current output cell\n",
              "var outputEl = gd.closest('.output');\n",
              "if (outputEl) {{\n",
              "    x.observe(outputEl, {childList: true});\n",
              "}}\n",
              "\n",
              "                        })                };                            </script>        </div>\n",
              "</body>\n",
              "</html>"
            ]
          },
          "metadata": {},
          "output_type": "display_data"
        }
      ],
      "source": [
        "import plotly.graph_objects as go\n",
        "knn_basic_scores = [0.0484, 0.0062, 0.0790, 0.5175]\n",
        "knn_baseline_scores = [0.0464, 0.0055, 0.0745, 0.5520]\n",
        "knn_zscore_scores = [0.0357, 0.0038, 0.5415, 0.5415]\n",
        "knn_means_scores = [0.0278, 0.0024, 0.0492, 0.5522]\n",
        "\n",
        "metrics = ['MAE', 'MSE', 'RMSE', 'FCP']\n",
        "algorithms = ['KNN Basic', 'KNN Baseline', 'KNN with Z-Score', 'KNN with Means']\n",
        "\n",
        "data = [\n",
        "    go.Heatmap(\n",
        "        x=metrics,\n",
        "        y=algorithms,\n",
        "        z=[knn_basic_scores, knn_baseline_scores, knn_zscore_scores, knn_means_scores],\n",
        "        colorscale='Viridis'\n",
        "    )\n",
        "]\n",
        "\n",
        "layout = go.Layout(\n",
        "    title='Performance Comparison of KNN Algorithms',\n",
        "    xaxis=dict(title='Evaluation Metric'),\n",
        "    yaxis=dict(title='KNN Algorithm')\n",
        ")\n",
        "\n",
        "fig = go.Figure(data=data, layout=layout)\n",
        "\n",
        "fig.show()"
      ],
      "id": "_iB7LfeCNy0S"
    },
    {
      "cell_type": "code",
      "execution_count": null,
      "metadata": {
        "colab": {
          "base_uri": "https://localhost:8080/",
          "height": 542
        },
        "id": "-HNZYstTPowg",
        "outputId": "c8ac7b10-6831-4e0d-cdb0-bc851c4b02f4"
      },
      "outputs": [
        {
          "data": {
            "text/html": [
              "<html>\n",
              "<head><meta charset=\"utf-8\" /></head>\n",
              "<body>\n",
              "    <div>            <script src=\"https://cdnjs.cloudflare.com/ajax/libs/mathjax/2.7.5/MathJax.js?config=TeX-AMS-MML_SVG\"></script><script type=\"text/javascript\">if (window.MathJax && window.MathJax.Hub && window.MathJax.Hub.Config) {window.MathJax.Hub.Config({SVG: {font: \"STIX-Web\"}});}</script>                <script type=\"text/javascript\">window.PlotlyConfig = {MathJaxConfig: 'local'};</script>\n",
              "        <script src=\"https://cdn.plot.ly/plotly-2.18.2.min.js\"></script>                <div id=\"d7e154be-cf8d-40e0-934a-77bdb935fd6c\" class=\"plotly-graph-div\" style=\"height:525px; width:100%;\"></div>            <script type=\"text/javascript\">                                    window.PLOTLYENV=window.PLOTLYENV || {};                                    if (document.getElementById(\"d7e154be-cf8d-40e0-934a-77bdb935fd6c\")) {                    Plotly.newPlot(                        \"d7e154be-cf8d-40e0-934a-77bdb935fd6c\",                        [{\"mode\":\"lines+markers\",\"name\":\"KNN Basic\",\"x\":[\"MAE\",\"MSE\",\"RMSE\",\"FCP\"],\"y\":[0.0484,0.0062,0.079,0.5175],\"type\":\"scatter\"},{\"mode\":\"lines+markers\",\"name\":\"KNN Baseline\",\"x\":[\"MAE\",\"MSE\",\"RMSE\",\"FCP\"],\"y\":[0.0464,0.0055,0.0745,0.552],\"type\":\"scatter\"},{\"mode\":\"lines+markers\",\"name\":\"KNN with Z-Score\",\"x\":[\"MAE\",\"MSE\",\"RMSE\",\"FCP\"],\"y\":[0.0357,0.0038,0.5415,0.5415],\"type\":\"scatter\"},{\"mode\":\"lines+markers\",\"name\":\"KNN with Means\",\"x\":[\"MAE\",\"MSE\",\"RMSE\",\"FCP\"],\"y\":[0.0278,0.0024,0.0492,0.5522],\"type\":\"scatter\"}],                        {\"title\":{\"text\":\"Performance Comparison of KNN Algorithms\"},\"xaxis\":{\"title\":{\"text\":\"Evaluation Metric\"}},\"yaxis\":{\"title\":{\"text\":\"Mean Score\"}},\"template\":{\"data\":{\"histogram2dcontour\":[{\"type\":\"histogram2dcontour\",\"colorbar\":{\"outlinewidth\":0,\"ticks\":\"\"},\"colorscale\":[[0.0,\"#0d0887\"],[0.1111111111111111,\"#46039f\"],[0.2222222222222222,\"#7201a8\"],[0.3333333333333333,\"#9c179e\"],[0.4444444444444444,\"#bd3786\"],[0.5555555555555556,\"#d8576b\"],[0.6666666666666666,\"#ed7953\"],[0.7777777777777778,\"#fb9f3a\"],[0.8888888888888888,\"#fdca26\"],[1.0,\"#f0f921\"]]}],\"choropleth\":[{\"type\":\"choropleth\",\"colorbar\":{\"outlinewidth\":0,\"ticks\":\"\"}}],\"histogram2d\":[{\"type\":\"histogram2d\",\"colorbar\":{\"outlinewidth\":0,\"ticks\":\"\"},\"colorscale\":[[0.0,\"#0d0887\"],[0.1111111111111111,\"#46039f\"],[0.2222222222222222,\"#7201a8\"],[0.3333333333333333,\"#9c179e\"],[0.4444444444444444,\"#bd3786\"],[0.5555555555555556,\"#d8576b\"],[0.6666666666666666,\"#ed7953\"],[0.7777777777777778,\"#fb9f3a\"],[0.8888888888888888,\"#fdca26\"],[1.0,\"#f0f921\"]]}],\"heatmap\":[{\"type\":\"heatmap\",\"colorbar\":{\"outlinewidth\":0,\"ticks\":\"\"},\"colorscale\":[[0.0,\"#0d0887\"],[0.1111111111111111,\"#46039f\"],[0.2222222222222222,\"#7201a8\"],[0.3333333333333333,\"#9c179e\"],[0.4444444444444444,\"#bd3786\"],[0.5555555555555556,\"#d8576b\"],[0.6666666666666666,\"#ed7953\"],[0.7777777777777778,\"#fb9f3a\"],[0.8888888888888888,\"#fdca26\"],[1.0,\"#f0f921\"]]}],\"heatmapgl\":[{\"type\":\"heatmapgl\",\"colorbar\":{\"outlinewidth\":0,\"ticks\":\"\"},\"colorscale\":[[0.0,\"#0d0887\"],[0.1111111111111111,\"#46039f\"],[0.2222222222222222,\"#7201a8\"],[0.3333333333333333,\"#9c179e\"],[0.4444444444444444,\"#bd3786\"],[0.5555555555555556,\"#d8576b\"],[0.6666666666666666,\"#ed7953\"],[0.7777777777777778,\"#fb9f3a\"],[0.8888888888888888,\"#fdca26\"],[1.0,\"#f0f921\"]]}],\"contourcarpet\":[{\"type\":\"contourcarpet\",\"colorbar\":{\"outlinewidth\":0,\"ticks\":\"\"}}],\"contour\":[{\"type\":\"contour\",\"colorbar\":{\"outlinewidth\":0,\"ticks\":\"\"},\"colorscale\":[[0.0,\"#0d0887\"],[0.1111111111111111,\"#46039f\"],[0.2222222222222222,\"#7201a8\"],[0.3333333333333333,\"#9c179e\"],[0.4444444444444444,\"#bd3786\"],[0.5555555555555556,\"#d8576b\"],[0.6666666666666666,\"#ed7953\"],[0.7777777777777778,\"#fb9f3a\"],[0.8888888888888888,\"#fdca26\"],[1.0,\"#f0f921\"]]}],\"surface\":[{\"type\":\"surface\",\"colorbar\":{\"outlinewidth\":0,\"ticks\":\"\"},\"colorscale\":[[0.0,\"#0d0887\"],[0.1111111111111111,\"#46039f\"],[0.2222222222222222,\"#7201a8\"],[0.3333333333333333,\"#9c179e\"],[0.4444444444444444,\"#bd3786\"],[0.5555555555555556,\"#d8576b\"],[0.6666666666666666,\"#ed7953\"],[0.7777777777777778,\"#fb9f3a\"],[0.8888888888888888,\"#fdca26\"],[1.0,\"#f0f921\"]]}],\"mesh3d\":[{\"type\":\"mesh3d\",\"colorbar\":{\"outlinewidth\":0,\"ticks\":\"\"}}],\"scatter\":[{\"fillpattern\":{\"fillmode\":\"overlay\",\"size\":10,\"solidity\":0.2},\"type\":\"scatter\"}],\"parcoords\":[{\"type\":\"parcoords\",\"line\":{\"colorbar\":{\"outlinewidth\":0,\"ticks\":\"\"}}}],\"scatterpolargl\":[{\"type\":\"scatterpolargl\",\"marker\":{\"colorbar\":{\"outlinewidth\":0,\"ticks\":\"\"}}}],\"bar\":[{\"error_x\":{\"color\":\"#2a3f5f\"},\"error_y\":{\"color\":\"#2a3f5f\"},\"marker\":{\"line\":{\"color\":\"#E5ECF6\",\"width\":0.5},\"pattern\":{\"fillmode\":\"overlay\",\"size\":10,\"solidity\":0.2}},\"type\":\"bar\"}],\"scattergeo\":[{\"type\":\"scattergeo\",\"marker\":{\"colorbar\":{\"outlinewidth\":0,\"ticks\":\"\"}}}],\"scatterpolar\":[{\"type\":\"scatterpolar\",\"marker\":{\"colorbar\":{\"outlinewidth\":0,\"ticks\":\"\"}}}],\"histogram\":[{\"marker\":{\"pattern\":{\"fillmode\":\"overlay\",\"size\":10,\"solidity\":0.2}},\"type\":\"histogram\"}],\"scattergl\":[{\"type\":\"scattergl\",\"marker\":{\"colorbar\":{\"outlinewidth\":0,\"ticks\":\"\"}}}],\"scatter3d\":[{\"type\":\"scatter3d\",\"line\":{\"colorbar\":{\"outlinewidth\":0,\"ticks\":\"\"}},\"marker\":{\"colorbar\":{\"outlinewidth\":0,\"ticks\":\"\"}}}],\"scattermapbox\":[{\"type\":\"scattermapbox\",\"marker\":{\"colorbar\":{\"outlinewidth\":0,\"ticks\":\"\"}}}],\"scatterternary\":[{\"type\":\"scatterternary\",\"marker\":{\"colorbar\":{\"outlinewidth\":0,\"ticks\":\"\"}}}],\"scattercarpet\":[{\"type\":\"scattercarpet\",\"marker\":{\"colorbar\":{\"outlinewidth\":0,\"ticks\":\"\"}}}],\"carpet\":[{\"aaxis\":{\"endlinecolor\":\"#2a3f5f\",\"gridcolor\":\"white\",\"linecolor\":\"white\",\"minorgridcolor\":\"white\",\"startlinecolor\":\"#2a3f5f\"},\"baxis\":{\"endlinecolor\":\"#2a3f5f\",\"gridcolor\":\"white\",\"linecolor\":\"white\",\"minorgridcolor\":\"white\",\"startlinecolor\":\"#2a3f5f\"},\"type\":\"carpet\"}],\"table\":[{\"cells\":{\"fill\":{\"color\":\"#EBF0F8\"},\"line\":{\"color\":\"white\"}},\"header\":{\"fill\":{\"color\":\"#C8D4E3\"},\"line\":{\"color\":\"white\"}},\"type\":\"table\"}],\"barpolar\":[{\"marker\":{\"line\":{\"color\":\"#E5ECF6\",\"width\":0.5},\"pattern\":{\"fillmode\":\"overlay\",\"size\":10,\"solidity\":0.2}},\"type\":\"barpolar\"}],\"pie\":[{\"automargin\":true,\"type\":\"pie\"}]},\"layout\":{\"autotypenumbers\":\"strict\",\"colorway\":[\"#636efa\",\"#EF553B\",\"#00cc96\",\"#ab63fa\",\"#FFA15A\",\"#19d3f3\",\"#FF6692\",\"#B6E880\",\"#FF97FF\",\"#FECB52\"],\"font\":{\"color\":\"#2a3f5f\"},\"hovermode\":\"closest\",\"hoverlabel\":{\"align\":\"left\"},\"paper_bgcolor\":\"white\",\"plot_bgcolor\":\"#E5ECF6\",\"polar\":{\"bgcolor\":\"#E5ECF6\",\"angularaxis\":{\"gridcolor\":\"white\",\"linecolor\":\"white\",\"ticks\":\"\"},\"radialaxis\":{\"gridcolor\":\"white\",\"linecolor\":\"white\",\"ticks\":\"\"}},\"ternary\":{\"bgcolor\":\"#E5ECF6\",\"aaxis\":{\"gridcolor\":\"white\",\"linecolor\":\"white\",\"ticks\":\"\"},\"baxis\":{\"gridcolor\":\"white\",\"linecolor\":\"white\",\"ticks\":\"\"},\"caxis\":{\"gridcolor\":\"white\",\"linecolor\":\"white\",\"ticks\":\"\"}},\"coloraxis\":{\"colorbar\":{\"outlinewidth\":0,\"ticks\":\"\"}},\"colorscale\":{\"sequential\":[[0.0,\"#0d0887\"],[0.1111111111111111,\"#46039f\"],[0.2222222222222222,\"#7201a8\"],[0.3333333333333333,\"#9c179e\"],[0.4444444444444444,\"#bd3786\"],[0.5555555555555556,\"#d8576b\"],[0.6666666666666666,\"#ed7953\"],[0.7777777777777778,\"#fb9f3a\"],[0.8888888888888888,\"#fdca26\"],[1.0,\"#f0f921\"]],\"sequentialminus\":[[0.0,\"#0d0887\"],[0.1111111111111111,\"#46039f\"],[0.2222222222222222,\"#7201a8\"],[0.3333333333333333,\"#9c179e\"],[0.4444444444444444,\"#bd3786\"],[0.5555555555555556,\"#d8576b\"],[0.6666666666666666,\"#ed7953\"],[0.7777777777777778,\"#fb9f3a\"],[0.8888888888888888,\"#fdca26\"],[1.0,\"#f0f921\"]],\"diverging\":[[0,\"#8e0152\"],[0.1,\"#c51b7d\"],[0.2,\"#de77ae\"],[0.3,\"#f1b6da\"],[0.4,\"#fde0ef\"],[0.5,\"#f7f7f7\"],[0.6,\"#e6f5d0\"],[0.7,\"#b8e186\"],[0.8,\"#7fbc41\"],[0.9,\"#4d9221\"],[1,\"#276419\"]]},\"xaxis\":{\"gridcolor\":\"white\",\"linecolor\":\"white\",\"ticks\":\"\",\"title\":{\"standoff\":15},\"zerolinecolor\":\"white\",\"automargin\":true,\"zerolinewidth\":2},\"yaxis\":{\"gridcolor\":\"white\",\"linecolor\":\"white\",\"ticks\":\"\",\"title\":{\"standoff\":15},\"zerolinecolor\":\"white\",\"automargin\":true,\"zerolinewidth\":2},\"scene\":{\"xaxis\":{\"backgroundcolor\":\"#E5ECF6\",\"gridcolor\":\"white\",\"linecolor\":\"white\",\"showbackground\":true,\"ticks\":\"\",\"zerolinecolor\":\"white\",\"gridwidth\":2},\"yaxis\":{\"backgroundcolor\":\"#E5ECF6\",\"gridcolor\":\"white\",\"linecolor\":\"white\",\"showbackground\":true,\"ticks\":\"\",\"zerolinecolor\":\"white\",\"gridwidth\":2},\"zaxis\":{\"backgroundcolor\":\"#E5ECF6\",\"gridcolor\":\"white\",\"linecolor\":\"white\",\"showbackground\":true,\"ticks\":\"\",\"zerolinecolor\":\"white\",\"gridwidth\":2}},\"shapedefaults\":{\"line\":{\"color\":\"#2a3f5f\"}},\"annotationdefaults\":{\"arrowcolor\":\"#2a3f5f\",\"arrowhead\":0,\"arrowwidth\":1},\"geo\":{\"bgcolor\":\"white\",\"landcolor\":\"#E5ECF6\",\"subunitcolor\":\"white\",\"showland\":true,\"showlakes\":true,\"lakecolor\":\"white\"},\"title\":{\"x\":0.05},\"mapbox\":{\"style\":\"light\"}}}},                        {\"responsive\": true}                    ).then(function(){\n",
              "                            \n",
              "var gd = document.getElementById('d7e154be-cf8d-40e0-934a-77bdb935fd6c');\n",
              "var x = new MutationObserver(function (mutations, observer) {{\n",
              "        var display = window.getComputedStyle(gd).display;\n",
              "        if (!display || display === 'none') {{\n",
              "            console.log([gd, 'removed!']);\n",
              "            Plotly.purge(gd);\n",
              "            observer.disconnect();\n",
              "        }}\n",
              "}});\n",
              "\n",
              "// Listen for the removal of the full notebook cells\n",
              "var notebookContainer = gd.closest('#notebook-container');\n",
              "if (notebookContainer) {{\n",
              "    x.observe(notebookContainer, {childList: true});\n",
              "}}\n",
              "\n",
              "// Listen for the clearing of the current output cell\n",
              "var outputEl = gd.closest('.output');\n",
              "if (outputEl) {{\n",
              "    x.observe(outputEl, {childList: true});\n",
              "}}\n",
              "\n",
              "                        })                };                            </script>        </div>\n",
              "</body>\n",
              "</html>"
            ]
          },
          "metadata": {},
          "output_type": "display_data"
        }
      ],
      "source": [
        "knn_basic_data = go.Scatter(x=metrics, y=knn_basic_scores, mode='lines+markers', name='KNN Basic')\n",
        "knn_baseline_data = go.Scatter(x=metrics, y=knn_baseline_scores, mode='lines+markers', name='KNN Baseline')\n",
        "knn_zscore_data = go.Scatter(x=metrics, y=knn_zscore_scores, mode='lines+markers', name='KNN with Z-Score')\n",
        "knn_means_data = go.Scatter(x=metrics, y=knn_means_scores, mode='lines+markers', name='KNN with Means')\n",
        "\n",
        "# Define the layout for the line graph\n",
        "layout = go.Layout(\n",
        "    title='Performance Comparison of KNN Algorithms',\n",
        "    xaxis=dict(title='Evaluation Metric'),\n",
        "    yaxis=dict(title='Mean Score')\n",
        ")\n",
        "\n",
        "# Combine the line data and layout into a Plotly figure\n",
        "fig = go.Figure(data=[knn_basic_data, knn_baseline_data, knn_zscore_data, knn_means_data], layout=layout)\n",
        "\n",
        "# Show the line graph\n",
        "fig.show()"
      ],
      "id": "-HNZYstTPowg"
    },
    {
      "cell_type": "markdown",
      "metadata": {
        "id": "j-n8IJ_TeFjM"
      },
      "source": [
        "## 2. NMF"
      ],
      "id": "j-n8IJ_TeFjM"
    },
    {
      "cell_type": "markdown",
      "metadata": {
        "id": "pLJ6gDZte5Z6"
      },
      "source": [
        "### 1. SVD"
      ],
      "id": "pLJ6gDZte5Z6"
    },
    {
      "cell_type": "code",
      "execution_count": null,
      "metadata": {
        "id": "tsH72b_Jf3Xp"
      },
      "outputs": [],
      "source": [
        "parameters={\n",
        "    'n_factors':[20,50,80],\n",
        "    'reg_all': [0.04, 0.06, 0.10],\n",
        "    'n_epochs': [10, 20, 30, 50, 100],\n",
        "    'lr_all':[0.002, 0.005, 0.01]\n",
        "}"
      ],
      "id": "tsH72b_Jf3Xp"
    },
    {
      "cell_type": "code",
      "execution_count": null,
      "metadata": {
        "id": "Q2-AZoG1gYd_"
      },
      "outputs": [],
      "source": [
        "grid=GridSearchCV(SVD, param_grid=parameters,n_jobs=-1)\n",
        "grid.fit(data)"
      ],
      "id": "Q2-AZoG1gYd_"
    },
    {
      "cell_type": "code",
      "execution_count": null,
      "metadata": {
        "colab": {
          "base_uri": "https://localhost:8080/"
        },
        "id": "USq8qMnOk4Un",
        "outputId": "a347a3d8-90da-44c1-a470-a4abe5e71d23"
      },
      "outputs": [
        {
          "name": "stdout",
          "output_type": "stream",
          "text": [
            "{'rmse': 0.08918589319325369, 'mae': 0.056935822467182096}\n",
            "{'rmse': {'n_factors': 20, 'reg_all': 0.1, 'n_epochs': 100, 'lr_all': 0.002}, 'mae': {'n_factors': 20, 'reg_all': 0.1, 'n_epochs': 50, 'lr_all': 0.01}}\n"
          ]
        }
      ],
      "source": [
        "print(grid.best_score)\n",
        "print(grid.best_params)"
      ],
      "id": "USq8qMnOk4Un"
    },
    {
      "cell_type": "code",
      "execution_count": null,
      "metadata": {
        "colab": {
          "base_uri": "https://localhost:8080/"
        },
        "id": "lRVL898rlKEr",
        "outputId": "af0b007d-214e-4c66-ce02-adfa415a60a5"
      },
      "outputs": [
        {
          "data": {
            "text/plain": [
              "<surprise.prediction_algorithms.matrix_factorization.SVD at 0x7fbe25f33190>"
            ]
          },
          "execution_count": 42,
          "metadata": {},
          "output_type": "execute_result"
        }
      ],
      "source": [
        "algo = grid.best_estimator[\"rmse\"]\n",
        "algo.fit(data.build_full_trainset())"
      ],
      "id": "lRVL898rlKEr"
    },
    {
      "cell_type": "markdown",
      "metadata": {
        "id": "LGOAQlbXe5Z7"
      },
      "source": [
        "#### Make recommendations"
      ],
      "id": "LGOAQlbXe5Z7"
    },
    {
      "cell_type": "code",
      "execution_count": null,
      "metadata": {
        "id": "fctrJqaGe5Z7"
      },
      "outputs": [],
      "source": [
        "predictions = algo.test(testset)"
      ],
      "id": "fctrJqaGe5Z7"
    },
    {
      "cell_type": "markdown",
      "metadata": {
        "id": "vid7iGy6e5Z7"
      },
      "source": [
        "#### Recommend 5 Restaurants to users"
      ],
      "id": "vid7iGy6e5Z7"
    },
    {
      "cell_type": "code",
      "execution_count": null,
      "metadata": {
        "colab": {
          "base_uri": "https://localhost:8080/"
        },
        "id": "UFE0-1_Me5Z7",
        "outputId": "fec89889-bf53-4808-a122-7e8dbe44cb50"
      },
      "outputs": [
        {
          "name": "stdout",
          "output_type": "stream",
          "text": [
            "1. \"Papa Chevo's Taco Shop\"\n",
            "2. \"Macayo's Mexican Table\"\n",
            "3. \"Kona Grill\"\n",
            "4. \"Joyride Taco House\"\n",
            "5. \"Original Breakfast House\"\n"
          ]
        }
      ],
      "source": [
        "user_1 = 'BPKpLbR9NuWFAR9SUWpZOw'\n",
        "restaurants = review['business_id'].unique()\n",
        "user_1_ratings = []\n",
        "for restaurant in restaurants:\n",
        "    user_1_ratings.append((restaurant, algo.predict(user_1, restaurant).est))\n",
        "\n",
        "# sort the recommended restaurants by predicted rating\n",
        "sorted_ratings = sorted(user_1_ratings, key=lambda x: x[1], reverse=True)\n",
        "\n",
        "# print the top 5 recommended restaurants\n",
        "for i in range(5):\n",
        "    business_id = sorted_ratings[i][0]\n",
        "    name = review.loc[review['business_id'] == business_id, 'name'].iloc[0]\n",
        "    print(f'{i+1}. {name}')"
      ],
      "id": "UFE0-1_Me5Z7"
    },
    {
      "cell_type": "code",
      "execution_count": null,
      "metadata": {
        "colab": {
          "base_uri": "https://localhost:8080/"
        },
        "id": "SuxBzksne5Z7",
        "outputId": "beac346f-3fbb-416c-c6a3-99f249028b8e"
      },
      "outputs": [
        {
          "name": "stdout",
          "output_type": "stream",
          "text": [
            "MAE:  0.0439\n",
            "MSE: 0.0045\n",
            "RMSE: 0.0670\n",
            "FCP:  0.5509\n"
          ]
        },
        {
          "data": {
            "text/plain": [
              "0.5509170379259515"
            ]
          },
          "execution_count": 45,
          "metadata": {},
          "output_type": "execute_result"
        }
      ],
      "source": [
        "accuracy.mae(predictions)\n",
        "accuracy.mse(predictions)\n",
        "accuracy.rmse(predictions)\n",
        "accuracy.fcp(predictions)"
      ],
      "id": "SuxBzksne5Z7"
    },
    {
      "cell_type": "code",
      "execution_count": null,
      "metadata": {
        "id": "tkDfK8qle-8g"
      },
      "outputs": [],
      "source": [],
      "id": "tkDfK8qle-8g"
    },
    {
      "cell_type": "markdown",
      "metadata": {
        "id": "je_LlGuXfEyA"
      },
      "source": [
        "### 2. SVDPP"
      ],
      "id": "je_LlGuXfEyA"
    },
    {
      "cell_type": "markdown",
      "metadata": {
        "id": "CSIvrHIW69eG"
      },
      "source": [
        "##### 1. Using Implicit Feeback (Checkins)"
      ],
      "id": "CSIvrHIW69eG"
    },
    {
      "cell_type": "code",
      "execution_count": null,
      "metadata": {
        "id": "83K9pYN1rOjU"
      },
      "outputs": [],
      "source": [
        "checkin_df = pd.read_csv(\"drive/MyDrive/DIC/yelp_checkin.csv\")"
      ],
      "id": "83K9pYN1rOjU"
    },
    {
      "cell_type": "code",
      "execution_count": null,
      "metadata": {
        "id": "z8-aulb_ulaI"
      },
      "outputs": [],
      "source": [
        "checkin_df = checkin_df.drop(['weekday','hour'], axis=1)\n",
        "checkin_df"
      ],
      "id": "z8-aulb_ulaI"
    },
    {
      "cell_type": "code",
      "execution_count": null,
      "metadata": {
        "id": "o4M7-d1Lvat7"
      },
      "outputs": [],
      "source": [
        "checkin_df = checkin_df.groupby('business_id')['checkins'].sum()"
      ],
      "id": "o4M7-d1Lvat7"
    },
    {
      "cell_type": "code",
      "execution_count": null,
      "metadata": {
        "id": "Tm5vMGnCuPjF"
      },
      "outputs": [],
      "source": [
        "business_checkin_df = pd.merge(review, checkin_df, on='business_id', how='left')"
      ],
      "id": "Tm5vMGnCuPjF"
    },
    {
      "cell_type": "code",
      "execution_count": null,
      "metadata": {
        "colab": {
          "base_uri": "https://localhost:8080/"
        },
        "id": "BWoRC8Zq0-Bz",
        "outputId": "53d06532-c497-49d4-f440-1dcb68ac1c6a"
      },
      "outputs": [
        {
          "name": "stdout",
          "output_type": "stream",
          "text": [
            "32393.0\n",
            "0.0\n"
          ]
        }
      ],
      "source": [
        "business_checkin_df.fillna(0, inplace=True)\n",
        "business_checkin_df\n",
        "print(business_checkin_df['checkins'].max())\n",
        "print(business_checkin_df['checkins'].min())"
      ],
      "id": "BWoRC8Zq0-Bz"
    },
    {
      "cell_type": "code",
      "execution_count": null,
      "metadata": {
        "colab": {
          "base_uri": "https://localhost:8080/"
        },
        "id": "nE8Yyxeq6ZkP",
        "outputId": "f9e53575-ca6e-4ee9-840c-68cf9f6174ed"
      },
      "outputs": [
        {
          "data": {
            "text/plain": [
              "<surprise.prediction_algorithms.matrix_factorization.SVDpp at 0x7fbdfc8657f0>"
            ]
          },
          "execution_count": 170,
          "metadata": {},
          "output_type": "execute_result"
        }
      ],
      "source": [
        "reader_checkin = Reader(rating_scale=(0, 32393))\n",
        "data_checkins = Dataset.load_from_df(business_checkin_df[['user_id', 'business_id', 'checkins']], reader_checkin)\n",
        "trainset_checkin, testset_checkin = train_test_split(data, test_size=0.2)\n",
        "algo = SVDpp()\n",
        "algo.fit(trainset_checkin)"
      ],
      "id": "nE8Yyxeq6ZkP"
    },
    {
      "cell_type": "markdown",
      "metadata": {
        "id": "GTtOEzEGfEyB"
      },
      "source": [
        "###### Make recommendations"
      ],
      "id": "GTtOEzEGfEyB"
    },
    {
      "cell_type": "code",
      "execution_count": null,
      "metadata": {
        "colab": {
          "base_uri": "https://localhost:8080/",
          "height": 165
        },
        "id": "T6LaNFv3fEyB",
        "outputId": "590d4e7d-3d62-4060-d370-96fb520a0882"
      },
      "outputs": [
        {
          "ename": "NameError",
          "evalue": "ignored",
          "output_type": "error",
          "traceback": [
            "\u001b[0;31m---------------------------------------------------------------------------\u001b[0m",
            "\u001b[0;31mNameError\u001b[0m                                 Traceback (most recent call last)",
            "\u001b[0;32m<ipython-input-24-3680b21728b3>\u001b[0m in \u001b[0;36m<cell line: 1>\u001b[0;34m()\u001b[0m\n\u001b[0;32m----> 1\u001b[0;31m \u001b[0mpredictions\u001b[0m \u001b[0;34m=\u001b[0m \u001b[0malgo\u001b[0m\u001b[0;34m.\u001b[0m\u001b[0mtest\u001b[0m\u001b[0;34m(\u001b[0m\u001b[0mtestset_checkin\u001b[0m\u001b[0;34m)\u001b[0m\u001b[0;34m\u001b[0m\u001b[0;34m\u001b[0m\u001b[0m\n\u001b[0m",
            "\u001b[0;31mNameError\u001b[0m: name 'testset_checkin' is not defined"
          ]
        }
      ],
      "source": [
        "predictions = algo.test(testset_checkin)"
      ],
      "id": "T6LaNFv3fEyB"
    },
    {
      "cell_type": "markdown",
      "metadata": {
        "id": "uVrgRcJzfEyB"
      },
      "source": [
        "###### Recommend 5 Restaurants to users"
      ],
      "id": "uVrgRcJzfEyB"
    },
    {
      "cell_type": "code",
      "execution_count": null,
      "metadata": {
        "colab": {
          "base_uri": "https://localhost:8080/"
        },
        "id": "0dQVX5_1fEyB",
        "outputId": "ab887d1c-99fd-475c-e55f-a5beb79f5883"
      },
      "outputs": [
        {
          "name": "stdout",
          "output_type": "stream",
          "text": [
            "1. \"Eiffel Tower\"\n",
            "2. \"McDonald's\"\n",
            "3. \"Crab Corner\"\n",
            "4. \"Aces Bar & Grill\"\n",
            "5. \"Carmine's Pizza Kitchen\"\n"
          ]
        }
      ],
      "source": [
        "user_1 = 'BPKpLbR9NuWFAR9SUWpZOw'\n",
        "restaurants = review['business_id'].unique()\n",
        "user_1_ratings = []\n",
        "for restaurant in restaurants:\n",
        "    user_1_ratings.append((restaurant, algo.predict(user_1, restaurant).est))\n",
        "\n",
        "# sort the recommended restaurants by predicted rating\n",
        "sorted_ratings = sorted(user_1_ratings, key=lambda x: x[1], reverse=True)\n",
        "\n",
        "# print the top 5 recommended restaurants\n",
        "for i in range(5):\n",
        "    business_id = sorted_ratings[i][0]\n",
        "    name = review.loc[review['business_id'] == business_id, 'name'].iloc[0]\n",
        "    print(f'{i+1}. {name}')"
      ],
      "id": "0dQVX5_1fEyB"
    },
    {
      "cell_type": "code",
      "execution_count": null,
      "metadata": {
        "colab": {
          "base_uri": "https://localhost:8080/"
        },
        "id": "LIfVANVNfEyB",
        "outputId": "5ed4ace3-6614-4b0b-939c-1c3da05667ce"
      },
      "outputs": [
        {
          "name": "stdout",
          "output_type": "stream",
          "text": [
            "MAE:  0.0612\n",
            "MSE: 0.0086\n",
            "RMSE: 0.0929\n",
            "FCP:  0.4791\n"
          ]
        },
        {
          "data": {
            "text/plain": [
              "0.47906405953531334"
            ]
          },
          "execution_count": 173,
          "metadata": {},
          "output_type": "execute_result"
        }
      ],
      "source": [
        "accuracy.mae(predictions)\n",
        "accuracy.mse(predictions)\n",
        "accuracy.rmse(predictions)\n",
        "accuracy.fcp(predictions)"
      ],
      "id": "LIfVANVNfEyB"
    },
    {
      "cell_type": "markdown",
      "metadata": {
        "id": "hceP9IwV7PBM"
      },
      "source": [
        "##### 2. Using Explicit Feedback (Ratings)"
      ],
      "id": "hceP9IwV7PBM"
    },
    {
      "cell_type": "markdown",
      "metadata": {
        "id": "YbhoMtAn7NcV"
      },
      "source": [
        "###### Make recommendations"
      ],
      "id": "YbhoMtAn7NcV"
    },
    {
      "cell_type": "code",
      "execution_count": null,
      "metadata": {
        "id": "3ay-tnFr8kE-"
      },
      "outputs": [],
      "source": [
        "parameters={\n",
        "    'n_factors':[20,50],\n",
        "    'reg_all': [0.04, 0.06],\n",
        "    'n_epochs': [10, 20],\n",
        "    'lr_all':[0.002, 0.005]\n",
        "}"
      ],
      "id": "3ay-tnFr8kE-"
    },
    {
      "cell_type": "code",
      "execution_count": null,
      "metadata": {
        "id": "J8n6lyVP8kE-"
      },
      "outputs": [],
      "source": [
        "grid=GridSearchCV(SVDpp, param_grid=parameters,n_jobs=-1)\n",
        "grid.fit(data)"
      ],
      "id": "J8n6lyVP8kE-"
    },
    {
      "cell_type": "code",
      "execution_count": null,
      "metadata": {
        "colab": {
          "base_uri": "https://localhost:8080/"
        },
        "id": "NEpoFT2c8kE-",
        "outputId": "fc67ca90-7f9d-4e3a-f558-d2cb6550b02b"
      },
      "outputs": [
        {
          "name": "stdout",
          "output_type": "stream",
          "text": [
            "{'rmse': 0.09188648675557219, 'mae': 0.059843975031419916}\n",
            "{'rmse': {'n_factors': 20, 'reg_all': 0.06, 'n_epochs': 20, 'lr_all': 0.005}, 'mae': {'n_factors': 20, 'reg_all': 0.06, 'n_epochs': 20, 'lr_all': 0.005}}\n"
          ]
        }
      ],
      "source": [
        "print(grid.best_score)\n",
        "print(grid.best_params)"
      ],
      "id": "NEpoFT2c8kE-"
    },
    {
      "cell_type": "code",
      "execution_count": null,
      "metadata": {
        "colab": {
          "base_uri": "https://localhost:8080/"
        },
        "id": "Ps9D9V2_8kE_",
        "outputId": "d7bdd31d-c3df-45d1-9029-4a9859819233"
      },
      "outputs": [
        {
          "data": {
            "text/plain": [
              "<surprise.prediction_algorithms.matrix_factorization.SVDpp at 0x7fbe57865d00>"
            ]
          },
          "execution_count": 185,
          "metadata": {},
          "output_type": "execute_result"
        }
      ],
      "source": [
        "algo = grid.best_estimator[\"rmse\"]\n",
        "algo.fit(data.build_full_trainset())"
      ],
      "id": "Ps9D9V2_8kE_"
    },
    {
      "cell_type": "code",
      "execution_count": null,
      "metadata": {
        "id": "ULLrXvP-7NcV"
      },
      "outputs": [],
      "source": [
        "predictions = algo.test(testset)"
      ],
      "id": "ULLrXvP-7NcV"
    },
    {
      "cell_type": "markdown",
      "metadata": {
        "id": "wKluoSVK7NcV"
      },
      "source": [
        "###### Recommend 5 Restaurants to users"
      ],
      "id": "wKluoSVK7NcV"
    },
    {
      "cell_type": "code",
      "execution_count": null,
      "metadata": {
        "colab": {
          "base_uri": "https://localhost:8080/"
        },
        "id": "eKA_qdMl7NcV",
        "outputId": "dc117004-eaa8-46b0-a926-bb71253acd4f"
      },
      "outputs": [
        {
          "name": "stdout",
          "output_type": "stream",
          "text": [
            "1. \"Eiffel Tower\"\n",
            "2. \"Walmart Supercenter\"\n",
            "3. \"Bachi Burger\"\n",
            "4. \"Ocean One Bar and Grille\"\n",
            "5. \"Charlies  Lakeside Restaurant & Lounge\"\n"
          ]
        }
      ],
      "source": [
        "user_1 = 'BPKpLbR9NuWFAR9SUWpZOw'\n",
        "restaurants = review['business_id'].unique()\n",
        "user_1_ratings = []\n",
        "for restaurant in restaurants:\n",
        "    user_1_ratings.append((restaurant, algo.predict(user_1, restaurant).est))\n",
        "\n",
        "# sort the recommended restaurants by predicted rating\n",
        "sorted_ratings = sorted(user_1_ratings, key=lambda x: x[1], reverse=True)\n",
        "\n",
        "# print the top 5 recommended restaurants\n",
        "for i in range(5):\n",
        "    business_id = sorted_ratings[i][0]\n",
        "    name = review.loc[review['business_id'] == business_id, 'name'].iloc[0]\n",
        "    print(f'{i+1}. {name}')"
      ],
      "id": "eKA_qdMl7NcV"
    },
    {
      "cell_type": "code",
      "execution_count": null,
      "metadata": {
        "colab": {
          "base_uri": "https://localhost:8080/"
        },
        "id": "joMTEGFC7NcV",
        "outputId": "7bfcaf49-3379-42f7-fd0e-5388c76879c7"
      },
      "outputs": [
        {
          "name": "stdout",
          "output_type": "stream",
          "text": [
            "MAE:  0.0506\n",
            "MSE: 0.0059\n",
            "RMSE: 0.0766\n",
            "FCP:  0.5359\n"
          ]
        },
        {
          "data": {
            "text/plain": [
              "0.535913348883918"
            ]
          },
          "execution_count": 188,
          "metadata": {},
          "output_type": "execute_result"
        }
      ],
      "source": [
        "accuracy.mae(predictions)\n",
        "accuracy.mse(predictions)\n",
        "accuracy.rmse(predictions)\n",
        "accuracy.fcp(predictions)"
      ],
      "id": "joMTEGFC7NcV"
    },
    {
      "cell_type": "markdown",
      "metadata": {
        "id": "l3SbofxS-brk"
      },
      "source": [
        "### 3. NMF"
      ],
      "id": "l3SbofxS-brk"
    },
    {
      "cell_type": "code",
      "execution_count": null,
      "metadata": {
        "id": "LrxnB8j1BKnF"
      },
      "outputs": [],
      "source": [
        "parameters={\n",
        "    'n_factors':[20,50, 80],\n",
        "    'n_epochs': [10, 20, 30]\n",
        "}"
      ],
      "id": "LrxnB8j1BKnF"
    },
    {
      "cell_type": "code",
      "execution_count": null,
      "metadata": {
        "id": "OceqVC0gBKnL"
      },
      "outputs": [],
      "source": [
        "grid=GridSearchCV(NMF, param_grid=parameters,n_jobs=-1)\n",
        "grid.fit(data)"
      ],
      "id": "OceqVC0gBKnL"
    },
    {
      "cell_type": "code",
      "execution_count": null,
      "metadata": {
        "colab": {
          "base_uri": "https://localhost:8080/"
        },
        "id": "UXLuSp1kBKnL",
        "outputId": "31d48fa2-73e3-452f-9e9c-b988bbbb00e8"
      },
      "outputs": [
        {
          "name": "stdout",
          "output_type": "stream",
          "text": [
            "{'rmse': 0.09545103974628169, 'mae': 0.05320359396420875}\n",
            "{'rmse': {'n_factors': 50, 'n_epochs': 10}, 'mae': {'n_factors': 80, 'n_epochs': 10}}\n"
          ]
        }
      ],
      "source": [
        "print(grid.best_score)\n",
        "print(grid.best_params)"
      ],
      "id": "UXLuSp1kBKnL"
    },
    {
      "cell_type": "code",
      "execution_count": null,
      "metadata": {
        "colab": {
          "base_uri": "https://localhost:8080/"
        },
        "id": "giXFduz2BKnL",
        "outputId": "74835266-6ad7-445b-d754-b46a4c86a368"
      },
      "outputs": [
        {
          "data": {
            "text/plain": [
              "<surprise.prediction_algorithms.matrix_factorization.NMF at 0x7fbdfccfb190>"
            ]
          },
          "execution_count": 203,
          "metadata": {},
          "output_type": "execute_result"
        }
      ],
      "source": [
        "algo = grid.best_estimator[\"rmse\"]\n",
        "algo.fit(data.build_full_trainset())"
      ],
      "id": "giXFduz2BKnL"
    },
    {
      "cell_type": "code",
      "execution_count": null,
      "metadata": {
        "colab": {
          "base_uri": "https://localhost:8080/"
        },
        "id": "hYJ22gTF-brk",
        "outputId": "27ff84cf-0867-4259-b026-b4abd03dd29d"
      },
      "outputs": [
        {
          "data": {
            "text/plain": [
              "<surprise.prediction_algorithms.matrix_factorization.NMF at 0x7fcdc1384490>"
            ]
          },
          "execution_count": 31,
          "metadata": {},
          "output_type": "execute_result"
        }
      ],
      "source": [
        "algo = NMF()\n",
        "algo.fit(trainset)"
      ],
      "id": "hYJ22gTF-brk"
    },
    {
      "cell_type": "markdown",
      "metadata": {
        "id": "GgD_nHXy-brk"
      },
      "source": [
        "#### Make recommendations"
      ],
      "id": "GgD_nHXy-brk"
    },
    {
      "cell_type": "code",
      "execution_count": null,
      "metadata": {
        "id": "sEbBLNPJ-brk"
      },
      "outputs": [],
      "source": [
        "predictions = algo.test(testset)"
      ],
      "id": "sEbBLNPJ-brk"
    },
    {
      "cell_type": "markdown",
      "metadata": {
        "id": "YymGp9CJ-brk"
      },
      "source": [
        "#### Recommend 5 Restaurants to users"
      ],
      "id": "YymGp9CJ-brk"
    },
    {
      "cell_type": "code",
      "execution_count": null,
      "metadata": {
        "colab": {
          "base_uri": "https://localhost:8080/"
        },
        "id": "PwbC9yxc-brk",
        "outputId": "16cf12e9-9384-473e-a38a-80dd0fe414ea"
      },
      "outputs": [
        {
          "name": "stdout",
          "output_type": "stream",
          "text": [
            "1. \"Craig's Cake Shop\"\n",
            "2. \"Papa Chevo's Taco Shop\"\n",
            "3. \"Barro's Pizza\"\n",
            "4. \"Eiffel Tower\"\n",
            "5. \"Nottingham Inn Kitchen & Creamery\"\n"
          ]
        }
      ],
      "source": [
        "user_1 = 'BPKpLbR9NuWFAR9SUWpZOw'\n",
        "restaurants = review['business_id'].unique()\n",
        "user_1_ratings = []\n",
        "for restaurant in restaurants:\n",
        "    user_1_ratings.append((restaurant, algo.predict(user_1, restaurant).est))\n",
        "\n",
        "# sort the recommended restaurants by predicted rating\n",
        "sorted_ratings = sorted(user_1_ratings, key=lambda x: x[1], reverse=True)\n",
        "\n",
        "# print the top 5 recommended restaurants\n",
        "for i in range(5):\n",
        "    business_id = sorted_ratings[i][0]\n",
        "    name = review.loc[review['business_id'] == business_id, 'name'].iloc[0]\n",
        "    print(f'{i+1}. {name}')"
      ],
      "id": "PwbC9yxc-brk"
    },
    {
      "cell_type": "code",
      "execution_count": null,
      "metadata": {
        "colab": {
          "base_uri": "https://localhost:8080/"
        },
        "id": "i1VA9KH_-brk",
        "outputId": "2dc97cf8-fec5-42b4-953f-9a1c71c70670"
      },
      "outputs": [
        {
          "name": "stdout",
          "output_type": "stream",
          "text": [
            "MAE:  0.0452\n",
            "MSE: 0.0072\n",
            "RMSE: 0.0851\n",
            "FCP:  0.2291\n"
          ]
        },
        {
          "data": {
            "text/plain": [
              "0.22907262500899717"
            ]
          },
          "execution_count": 207,
          "metadata": {},
          "output_type": "execute_result"
        }
      ],
      "source": [
        "accuracy.mae(predictions)\n",
        "accuracy.mse(predictions)\n",
        "accuracy.rmse(predictions)\n",
        "accuracy.fcp(predictions)"
      ],
      "id": "i1VA9KH_-brk"
    },
    {
      "cell_type": "markdown",
      "metadata": {
        "id": "lajEyJ2lJd9q"
      },
      "source": [
        "### Comparing Performance of NMF techniques"
      ],
      "id": "lajEyJ2lJd9q"
    },
    {
      "cell_type": "code",
      "execution_count": null,
      "metadata": {
        "colab": {
          "base_uri": "https://localhost:8080/",
          "height": 542
        },
        "id": "Oh_i2P86DWbE",
        "outputId": "0bbc2113-3aef-43ea-c324-f9c9f3a23d89"
      },
      "outputs": [
        {
          "data": {
            "text/html": [
              "<html>\n",
              "<head><meta charset=\"utf-8\" /></head>\n",
              "<body>\n",
              "    <div>            <script src=\"https://cdnjs.cloudflare.com/ajax/libs/mathjax/2.7.5/MathJax.js?config=TeX-AMS-MML_SVG\"></script><script type=\"text/javascript\">if (window.MathJax && window.MathJax.Hub && window.MathJax.Hub.Config) {window.MathJax.Hub.Config({SVG: {font: \"STIX-Web\"}});}</script>                <script type=\"text/javascript\">window.PlotlyConfig = {MathJaxConfig: 'local'};</script>\n",
              "        <script src=\"https://cdn.plot.ly/plotly-2.18.2.min.js\"></script>                <div id=\"5f633a3a-cd83-4ed8-b0ae-e7d286d70610\" class=\"plotly-graph-div\" style=\"height:525px; width:100%;\"></div>            <script type=\"text/javascript\">                                    window.PLOTLYENV=window.PLOTLYENV || {};                                    if (document.getElementById(\"5f633a3a-cd83-4ed8-b0ae-e7d286d70610\")) {                    Plotly.newPlot(                        \"5f633a3a-cd83-4ed8-b0ae-e7d286d70610\",                        [{\"name\":\"RMSE\",\"x\":[\"SVD\",\"SVDpp\",\"NMF\"],\"y\":[0.067,0.0766,0.0851],\"type\":\"bar\"},{\"name\":\"MSE\",\"x\":[\"SVD\",\"SVDpp\",\"NMF\"],\"y\":[0.0045,0.0059,0.0072],\"type\":\"bar\"},{\"name\":\"MAE\",\"x\":[\"SVD\",\"SVDpp\",\"NMF\"],\"y\":[0.0439,0.0506,0.0452],\"type\":\"bar\"},{\"name\":\"FCP\",\"x\":[\"SVD\",\"SVDpp\",\"NMF\"],\"y\":[0.5509,0.5359,0.2291],\"type\":\"bar\"}],                        {\"template\":{\"data\":{\"histogram2dcontour\":[{\"type\":\"histogram2dcontour\",\"colorbar\":{\"outlinewidth\":0,\"ticks\":\"\"},\"colorscale\":[[0.0,\"#0d0887\"],[0.1111111111111111,\"#46039f\"],[0.2222222222222222,\"#7201a8\"],[0.3333333333333333,\"#9c179e\"],[0.4444444444444444,\"#bd3786\"],[0.5555555555555556,\"#d8576b\"],[0.6666666666666666,\"#ed7953\"],[0.7777777777777778,\"#fb9f3a\"],[0.8888888888888888,\"#fdca26\"],[1.0,\"#f0f921\"]]}],\"choropleth\":[{\"type\":\"choropleth\",\"colorbar\":{\"outlinewidth\":0,\"ticks\":\"\"}}],\"histogram2d\":[{\"type\":\"histogram2d\",\"colorbar\":{\"outlinewidth\":0,\"ticks\":\"\"},\"colorscale\":[[0.0,\"#0d0887\"],[0.1111111111111111,\"#46039f\"],[0.2222222222222222,\"#7201a8\"],[0.3333333333333333,\"#9c179e\"],[0.4444444444444444,\"#bd3786\"],[0.5555555555555556,\"#d8576b\"],[0.6666666666666666,\"#ed7953\"],[0.7777777777777778,\"#fb9f3a\"],[0.8888888888888888,\"#fdca26\"],[1.0,\"#f0f921\"]]}],\"heatmap\":[{\"type\":\"heatmap\",\"colorbar\":{\"outlinewidth\":0,\"ticks\":\"\"},\"colorscale\":[[0.0,\"#0d0887\"],[0.1111111111111111,\"#46039f\"],[0.2222222222222222,\"#7201a8\"],[0.3333333333333333,\"#9c179e\"],[0.4444444444444444,\"#bd3786\"],[0.5555555555555556,\"#d8576b\"],[0.6666666666666666,\"#ed7953\"],[0.7777777777777778,\"#fb9f3a\"],[0.8888888888888888,\"#fdca26\"],[1.0,\"#f0f921\"]]}],\"heatmapgl\":[{\"type\":\"heatmapgl\",\"colorbar\":{\"outlinewidth\":0,\"ticks\":\"\"},\"colorscale\":[[0.0,\"#0d0887\"],[0.1111111111111111,\"#46039f\"],[0.2222222222222222,\"#7201a8\"],[0.3333333333333333,\"#9c179e\"],[0.4444444444444444,\"#bd3786\"],[0.5555555555555556,\"#d8576b\"],[0.6666666666666666,\"#ed7953\"],[0.7777777777777778,\"#fb9f3a\"],[0.8888888888888888,\"#fdca26\"],[1.0,\"#f0f921\"]]}],\"contourcarpet\":[{\"type\":\"contourcarpet\",\"colorbar\":{\"outlinewidth\":0,\"ticks\":\"\"}}],\"contour\":[{\"type\":\"contour\",\"colorbar\":{\"outlinewidth\":0,\"ticks\":\"\"},\"colorscale\":[[0.0,\"#0d0887\"],[0.1111111111111111,\"#46039f\"],[0.2222222222222222,\"#7201a8\"],[0.3333333333333333,\"#9c179e\"],[0.4444444444444444,\"#bd3786\"],[0.5555555555555556,\"#d8576b\"],[0.6666666666666666,\"#ed7953\"],[0.7777777777777778,\"#fb9f3a\"],[0.8888888888888888,\"#fdca26\"],[1.0,\"#f0f921\"]]}],\"surface\":[{\"type\":\"surface\",\"colorbar\":{\"outlinewidth\":0,\"ticks\":\"\"},\"colorscale\":[[0.0,\"#0d0887\"],[0.1111111111111111,\"#46039f\"],[0.2222222222222222,\"#7201a8\"],[0.3333333333333333,\"#9c179e\"],[0.4444444444444444,\"#bd3786\"],[0.5555555555555556,\"#d8576b\"],[0.6666666666666666,\"#ed7953\"],[0.7777777777777778,\"#fb9f3a\"],[0.8888888888888888,\"#fdca26\"],[1.0,\"#f0f921\"]]}],\"mesh3d\":[{\"type\":\"mesh3d\",\"colorbar\":{\"outlinewidth\":0,\"ticks\":\"\"}}],\"scatter\":[{\"fillpattern\":{\"fillmode\":\"overlay\",\"size\":10,\"solidity\":0.2},\"type\":\"scatter\"}],\"parcoords\":[{\"type\":\"parcoords\",\"line\":{\"colorbar\":{\"outlinewidth\":0,\"ticks\":\"\"}}}],\"scatterpolargl\":[{\"type\":\"scatterpolargl\",\"marker\":{\"colorbar\":{\"outlinewidth\":0,\"ticks\":\"\"}}}],\"bar\":[{\"error_x\":{\"color\":\"#2a3f5f\"},\"error_y\":{\"color\":\"#2a3f5f\"},\"marker\":{\"line\":{\"color\":\"#E5ECF6\",\"width\":0.5},\"pattern\":{\"fillmode\":\"overlay\",\"size\":10,\"solidity\":0.2}},\"type\":\"bar\"}],\"scattergeo\":[{\"type\":\"scattergeo\",\"marker\":{\"colorbar\":{\"outlinewidth\":0,\"ticks\":\"\"}}}],\"scatterpolar\":[{\"type\":\"scatterpolar\",\"marker\":{\"colorbar\":{\"outlinewidth\":0,\"ticks\":\"\"}}}],\"histogram\":[{\"marker\":{\"pattern\":{\"fillmode\":\"overlay\",\"size\":10,\"solidity\":0.2}},\"type\":\"histogram\"}],\"scattergl\":[{\"type\":\"scattergl\",\"marker\":{\"colorbar\":{\"outlinewidth\":0,\"ticks\":\"\"}}}],\"scatter3d\":[{\"type\":\"scatter3d\",\"line\":{\"colorbar\":{\"outlinewidth\":0,\"ticks\":\"\"}},\"marker\":{\"colorbar\":{\"outlinewidth\":0,\"ticks\":\"\"}}}],\"scattermapbox\":[{\"type\":\"scattermapbox\",\"marker\":{\"colorbar\":{\"outlinewidth\":0,\"ticks\":\"\"}}}],\"scatterternary\":[{\"type\":\"scatterternary\",\"marker\":{\"colorbar\":{\"outlinewidth\":0,\"ticks\":\"\"}}}],\"scattercarpet\":[{\"type\":\"scattercarpet\",\"marker\":{\"colorbar\":{\"outlinewidth\":0,\"ticks\":\"\"}}}],\"carpet\":[{\"aaxis\":{\"endlinecolor\":\"#2a3f5f\",\"gridcolor\":\"white\",\"linecolor\":\"white\",\"minorgridcolor\":\"white\",\"startlinecolor\":\"#2a3f5f\"},\"baxis\":{\"endlinecolor\":\"#2a3f5f\",\"gridcolor\":\"white\",\"linecolor\":\"white\",\"minorgridcolor\":\"white\",\"startlinecolor\":\"#2a3f5f\"},\"type\":\"carpet\"}],\"table\":[{\"cells\":{\"fill\":{\"color\":\"#EBF0F8\"},\"line\":{\"color\":\"white\"}},\"header\":{\"fill\":{\"color\":\"#C8D4E3\"},\"line\":{\"color\":\"white\"}},\"type\":\"table\"}],\"barpolar\":[{\"marker\":{\"line\":{\"color\":\"#E5ECF6\",\"width\":0.5},\"pattern\":{\"fillmode\":\"overlay\",\"size\":10,\"solidity\":0.2}},\"type\":\"barpolar\"}],\"pie\":[{\"automargin\":true,\"type\":\"pie\"}]},\"layout\":{\"autotypenumbers\":\"strict\",\"colorway\":[\"#636efa\",\"#EF553B\",\"#00cc96\",\"#ab63fa\",\"#FFA15A\",\"#19d3f3\",\"#FF6692\",\"#B6E880\",\"#FF97FF\",\"#FECB52\"],\"font\":{\"color\":\"#2a3f5f\"},\"hovermode\":\"closest\",\"hoverlabel\":{\"align\":\"left\"},\"paper_bgcolor\":\"white\",\"plot_bgcolor\":\"#E5ECF6\",\"polar\":{\"bgcolor\":\"#E5ECF6\",\"angularaxis\":{\"gridcolor\":\"white\",\"linecolor\":\"white\",\"ticks\":\"\"},\"radialaxis\":{\"gridcolor\":\"white\",\"linecolor\":\"white\",\"ticks\":\"\"}},\"ternary\":{\"bgcolor\":\"#E5ECF6\",\"aaxis\":{\"gridcolor\":\"white\",\"linecolor\":\"white\",\"ticks\":\"\"},\"baxis\":{\"gridcolor\":\"white\",\"linecolor\":\"white\",\"ticks\":\"\"},\"caxis\":{\"gridcolor\":\"white\",\"linecolor\":\"white\",\"ticks\":\"\"}},\"coloraxis\":{\"colorbar\":{\"outlinewidth\":0,\"ticks\":\"\"}},\"colorscale\":{\"sequential\":[[0.0,\"#0d0887\"],[0.1111111111111111,\"#46039f\"],[0.2222222222222222,\"#7201a8\"],[0.3333333333333333,\"#9c179e\"],[0.4444444444444444,\"#bd3786\"],[0.5555555555555556,\"#d8576b\"],[0.6666666666666666,\"#ed7953\"],[0.7777777777777778,\"#fb9f3a\"],[0.8888888888888888,\"#fdca26\"],[1.0,\"#f0f921\"]],\"sequentialminus\":[[0.0,\"#0d0887\"],[0.1111111111111111,\"#46039f\"],[0.2222222222222222,\"#7201a8\"],[0.3333333333333333,\"#9c179e\"],[0.4444444444444444,\"#bd3786\"],[0.5555555555555556,\"#d8576b\"],[0.6666666666666666,\"#ed7953\"],[0.7777777777777778,\"#fb9f3a\"],[0.8888888888888888,\"#fdca26\"],[1.0,\"#f0f921\"]],\"diverging\":[[0,\"#8e0152\"],[0.1,\"#c51b7d\"],[0.2,\"#de77ae\"],[0.3,\"#f1b6da\"],[0.4,\"#fde0ef\"],[0.5,\"#f7f7f7\"],[0.6,\"#e6f5d0\"],[0.7,\"#b8e186\"],[0.8,\"#7fbc41\"],[0.9,\"#4d9221\"],[1,\"#276419\"]]},\"xaxis\":{\"gridcolor\":\"white\",\"linecolor\":\"white\",\"ticks\":\"\",\"title\":{\"standoff\":15},\"zerolinecolor\":\"white\",\"automargin\":true,\"zerolinewidth\":2},\"yaxis\":{\"gridcolor\":\"white\",\"linecolor\":\"white\",\"ticks\":\"\",\"title\":{\"standoff\":15},\"zerolinecolor\":\"white\",\"automargin\":true,\"zerolinewidth\":2},\"scene\":{\"xaxis\":{\"backgroundcolor\":\"#E5ECF6\",\"gridcolor\":\"white\",\"linecolor\":\"white\",\"showbackground\":true,\"ticks\":\"\",\"zerolinecolor\":\"white\",\"gridwidth\":2},\"yaxis\":{\"backgroundcolor\":\"#E5ECF6\",\"gridcolor\":\"white\",\"linecolor\":\"white\",\"showbackground\":true,\"ticks\":\"\",\"zerolinecolor\":\"white\",\"gridwidth\":2},\"zaxis\":{\"backgroundcolor\":\"#E5ECF6\",\"gridcolor\":\"white\",\"linecolor\":\"white\",\"showbackground\":true,\"ticks\":\"\",\"zerolinecolor\":\"white\",\"gridwidth\":2}},\"shapedefaults\":{\"line\":{\"color\":\"#2a3f5f\"}},\"annotationdefaults\":{\"arrowcolor\":\"#2a3f5f\",\"arrowhead\":0,\"arrowwidth\":1},\"geo\":{\"bgcolor\":\"white\",\"landcolor\":\"#E5ECF6\",\"subunitcolor\":\"white\",\"showland\":true,\"showlakes\":true,\"lakecolor\":\"white\"},\"title\":{\"x\":0.05},\"mapbox\":{\"style\":\"light\"}}},\"title\":{\"text\":\"Comparison of evaluation metrics for different algorithms\"},\"xaxis\":{\"title\":{\"text\":\"Algorithm\"}},\"yaxis\":{\"title\":{\"text\":\"Value\"}}},                        {\"responsive\": true}                    ).then(function(){\n",
              "                            \n",
              "var gd = document.getElementById('5f633a3a-cd83-4ed8-b0ae-e7d286d70610');\n",
              "var x = new MutationObserver(function (mutations, observer) {{\n",
              "        var display = window.getComputedStyle(gd).display;\n",
              "        if (!display || display === 'none') {{\n",
              "            console.log([gd, 'removed!']);\n",
              "            Plotly.purge(gd);\n",
              "            observer.disconnect();\n",
              "        }}\n",
              "}});\n",
              "\n",
              "// Listen for the removal of the full notebook cells\n",
              "var notebookContainer = gd.closest('#notebook-container');\n",
              "if (notebookContainer) {{\n",
              "    x.observe(notebookContainer, {childList: true});\n",
              "}}\n",
              "\n",
              "// Listen for the clearing of the current output cell\n",
              "var outputEl = gd.closest('.output');\n",
              "if (outputEl) {{\n",
              "    x.observe(outputEl, {childList: true});\n",
              "}}\n",
              "\n",
              "                        })                };                            </script>        </div>\n",
              "</body>\n",
              "</html>"
            ]
          },
          "metadata": {},
          "output_type": "display_data"
        }
      ],
      "source": [
        "import plotly.graph_objects as go\n",
        "\n",
        "algorithm_names = ['SVD', 'SVDpp', 'NMF']\n",
        "mae_values = [0.0439, 0.0506, 0.0452]\n",
        "mse_values = [0.0045, 0.0059, 0.0072]\n",
        "rmse_values = [0.0670, 0.0766, 0.0851]\n",
        "fcp_values = [0.5509, 0.5359, 0.2291]\n",
        "\n",
        "fig = go.Figure()\n",
        "fig.add_trace(go.Bar(x=algorithm_names, y=rmse_values, name='RMSE'))\n",
        "fig.add_trace(go.Bar(x=algorithm_names, y=mse_values, name='MSE'))\n",
        "fig.add_trace(go.Bar(x=algorithm_names, y=mae_values, name='MAE'))\n",
        "fig.add_trace(go.Bar(x=algorithm_names, y=fcp_values, name='FCP'))\n",
        "\n",
        "fig.update_layout(\n",
        "    title='Comparison of evaluation metrics for different algorithms',\n",
        "    xaxis_title='Algorithm',\n",
        "    yaxis_title='Value')\n",
        "\n",
        "fig.show()"
      ],
      "id": "Oh_i2P86DWbE"
    },
    {
      "cell_type": "markdown",
      "metadata": {
        "id": "Dd4_bYXAf0sC"
      },
      "source": [
        "## 3. BaselineOnly"
      ],
      "id": "Dd4_bYXAf0sC"
    },
    {
      "cell_type": "code",
      "execution_count": null,
      "metadata": {
        "id": "iZyO8vEcS0l4"
      },
      "outputs": [],
      "source": [
        "parameters = {'bsl_options': {'method': ['als', 'sgd'],\n",
        "                              'reg_u': [10, 20, 50],\n",
        "                              'reg_i': [5, 10, 15],\n",
        "                              'n_epochs': [100, 150, 200],\n",
        "                              'learning_rate': [0.001, 0.01, 0.1]}}"
      ],
      "id": "iZyO8vEcS0l4"
    },
    {
      "cell_type": "code",
      "execution_count": null,
      "metadata": {
        "id": "E3-xFQs6TA_e"
      },
      "outputs": [],
      "source": [
        "grid=GridSearchCV(BaselineOnly, param_grid=parameters,n_jobs=-1)\n",
        "grid.fit(data)"
      ],
      "id": "E3-xFQs6TA_e"
    },
    {
      "cell_type": "code",
      "execution_count": null,
      "metadata": {
        "colab": {
          "base_uri": "https://localhost:8080/"
        },
        "id": "vtKPdjJdTA_e",
        "outputId": "6223f403-0c9d-4c70-b1ec-36aa9ca80e1a"
      },
      "outputs": [
        {
          "name": "stdout",
          "output_type": "stream",
          "text": [
            "{'rmse': 0.08573673204517065, 'mae': 0.05358712972024675}\n",
            "{'rmse': {'bsl_options': {'method': 'als', 'reg_u': 10, 'reg_i': 15, 'n_epochs': 100, 'learning_rate': 0.001}}, 'mae': {'bsl_options': {'method': 'sgd', 'reg_u': 10, 'reg_i': 5, 'n_epochs': 100, 'learning_rate': 0.001}}}\n"
          ]
        }
      ],
      "source": [
        "print(grid.best_score)\n",
        "print(grid.best_params)"
      ],
      "id": "vtKPdjJdTA_e"
    },
    {
      "cell_type": "code",
      "execution_count": null,
      "metadata": {
        "colab": {
          "base_uri": "https://localhost:8080/"
        },
        "id": "JyF74QjPTA_e",
        "outputId": "c35f203a-f622-42ab-89a7-fca998bc1d7a"
      },
      "outputs": [
        {
          "name": "stdout",
          "output_type": "stream",
          "text": [
            "Estimating biases using als...\n"
          ]
        },
        {
          "data": {
            "text/plain": [
              "<surprise.prediction_algorithms.baseline_only.BaselineOnly at 0x7ff18cefcb20>"
            ]
          },
          "execution_count": 74,
          "metadata": {},
          "output_type": "execute_result"
        }
      ],
      "source": [
        "algo = grid.best_estimator[\"rmse\"]\n",
        "algo.fit(data.build_full_trainset())"
      ],
      "id": "JyF74QjPTA_e"
    },
    {
      "cell_type": "markdown",
      "metadata": {
        "id": "xCWHkeAmf0sD"
      },
      "source": [
        "#### Make recommendations"
      ],
      "id": "xCWHkeAmf0sD"
    },
    {
      "cell_type": "code",
      "execution_count": null,
      "metadata": {
        "id": "98S25Lytf0sD"
      },
      "outputs": [],
      "source": [
        "predictions = algo.test(testset)"
      ],
      "id": "98S25Lytf0sD"
    },
    {
      "cell_type": "markdown",
      "metadata": {
        "id": "K26Pp-PLf0sD"
      },
      "source": [
        "#### Recommend 5 Restaurants to users"
      ],
      "id": "K26Pp-PLf0sD"
    },
    {
      "cell_type": "code",
      "execution_count": null,
      "metadata": {
        "colab": {
          "base_uri": "https://localhost:8080/"
        },
        "id": "JaGV8ILif0sD",
        "outputId": "24a5d1e8-c2ee-4225-e2cb-cf192f2e5e4b"
      },
      "outputs": [
        {
          "name": "stdout",
          "output_type": "stream",
          "text": [
            "1. \"Oyster Bar\"\n",
            "2. \"CUT by Wolfgang Puck\"\n",
            "3. \"Mesa Grill\"\n",
            "4. \"Scarpetta\"\n",
            "5. \"Yardbird Southern Table & Bar\"\n"
          ]
        }
      ],
      "source": [
        "user_1 = 'BPKpLbR9NuWFAR9SUWpZOw'\n",
        "restaurants = review['business_id'].unique()\n",
        "user_1_ratings = []\n",
        "for restaurant in restaurants:\n",
        "    user_1_ratings.append((restaurant, algo.predict(user_1, restaurant).est))\n",
        "\n",
        "# sort the recommended restaurants by predicted rating\n",
        "sorted_ratings = sorted(user_1_ratings, key=lambda x: x[1], reverse=True)\n",
        "\n",
        "# print the top 5 recommended restaurants\n",
        "for i in range(5):\n",
        "    business_id = sorted_ratings[i][0]\n",
        "    name = review.loc[review['business_id'] == business_id, 'name'].iloc[0]\n",
        "    print(f'{i+1}. {name}')"
      ],
      "id": "JaGV8ILif0sD"
    },
    {
      "cell_type": "code",
      "execution_count": null,
      "metadata": {
        "colab": {
          "base_uri": "https://localhost:8080/"
        },
        "id": "s0pPYrPRf0sD",
        "outputId": "5149ea25-3e53-4e11-e857-a88aa76beab2"
      },
      "outputs": [
        {
          "name": "stdout",
          "output_type": "stream",
          "text": [
            "MAE:  0.0480\n",
            "MSE: 0.0057\n",
            "RMSE: 0.0755\n",
            "FCP:  0.5610\n"
          ]
        },
        {
          "data": {
            "text/plain": [
              "0.5610393603936039"
            ]
          },
          "execution_count": 77,
          "metadata": {},
          "output_type": "execute_result"
        }
      ],
      "source": [
        "accuracy.mae(predictions)\n",
        "accuracy.mse(predictions)\n",
        "accuracy.rmse(predictions)\n",
        "accuracy.fcp(predictions)"
      ],
      "id": "s0pPYrPRf0sD"
    },
    {
      "cell_type": "code",
      "execution_count": null,
      "metadata": {
        "colab": {
          "base_uri": "https://localhost:8080/"
        },
        "id": "Cgrogt7ig11T",
        "outputId": "d4660467-b586-4d53-cf7f-afada1211768"
      },
      "outputs": [
        {
          "name": "stdout",
          "output_type": "stream",
          "text": [
            "Estimating biases using als...\n",
            "Estimating biases using als...\n",
            "Estimating biases using als...\n",
            "Estimating biases using als...\n",
            "Estimating biases using als...\n"
          ]
        },
        {
          "data": {
            "text/plain": [
              "{'test_rmse': array([0.08762663, 0.08646312, 0.08458428, 0.08684498, 0.08558994]),\n",
              " 'test_fcp': array([0.50637668, 0.50883664, 0.53823699, 0.51156001, 0.51329518]),\n",
              " 'test_mse': array([0.00767843, 0.00747587, 0.0071545 , 0.00754205, 0.00732564]),\n",
              " 'test_mae': array([0.05516241, 0.05431599, 0.05361455, 0.0548308 , 0.05387947]),\n",
              " 'fit_time': (2.4071576595306396,\n",
              "  1.083712100982666,\n",
              "  1.1120872497558594,\n",
              "  1.5982182025909424,\n",
              "  1.2370963096618652),\n",
              " 'test_time': (0.05538582801818848,\n",
              "  0.053986549377441406,\n",
              "  0.05571913719177246,\n",
              "  0.4529423713684082,\n",
              "  0.05033612251281738)}"
            ]
          },
          "execution_count": 50,
          "metadata": {},
          "output_type": "execute_result"
        }
      ],
      "source": [
        "bsl_options = {'method': 'als',\n",
        "               'n_epochs': 50,\n",
        "               'reg_u': 20,\n",
        "               'reg_i': 10,\n",
        "               'learning_rate':1\n",
        "               }\n",
        "algo = BaselineOnly(bsl_options=bsl_options)\n",
        "cross_validate(algo, data, measures=['RMSE', 'FCP', 'MSE', 'MAE'], cv=1, verbose=False)"
      ],
      "id": "Cgrogt7ig11T"
    },
    {
      "cell_type": "markdown",
      "source": [
        "## Comparing all Collaborative Filtering Models"
      ],
      "metadata": {
        "id": "BaOygFV7sF6g"
      },
      "id": "BaOygFV7sF6g"
    },
    {
      "cell_type": "code",
      "source": [
        "import plotly.graph_objects as go\n",
        "import pandas as pd\n",
        "from plotly.subplots import make_subplots\n",
        "\n",
        "# Create the data\n",
        "data = {'test_rmse': [0.0928, 0.0755, 0.08692292],\n",
        "        'test_mae': [0.0567, 0.0480, 0.05766862],\n",
        "        'test_fcp': [0.5609, 0.5379, 0.63493503],\n",
        "        'fit_time': [1.8923487663269043, 1.9373219013214111, 2.66087007522583],\n",
        "        'test_time': [0.11574029922485352, 0.0867300033569336, 0.2719612121582031]}\n",
        "index = ['SVD', 'BaselineOnly', 'KNNBasic']\n",
        "df = pd.DataFrame(data=data, index=index)\n",
        "\n",
        "# Create the subplots\n",
        "fig = make_subplots(rows=2, cols=2, subplot_titles=('test_rmse', 'test_mae', 'test_fcp', 'fit_time'))\n",
        "\n",
        "fig.add_trace(go.Bar(x=df.index, y=df['test_rmse'], name='RMSE'), row=1, col=1)\n",
        "fig.add_trace(go.Bar(x=df.index, y=df['test_mae'], name='MAE'), row=1, col=2)\n",
        "fig.add_trace(go.Bar(x=df.index, y=df['test_fcp'], name='FCP'), row=2, col=1)\n",
        "fig.add_trace(go.Bar(x=df.index, y=df['fit_time'], name='Fit Time'), row=2, col=2)\n",
        "\n",
        "fig.update_layout(height=600, width=800, title_text=\"Performance Metrics by Algorithm\")\n",
        "fig.show()"
      ],
      "metadata": {
        "colab": {
          "base_uri": "https://localhost:8080/",
          "height": 617
        },
        "id": "tLglPs40sDX7",
        "outputId": "691a9796-75e3-4bfe-8ddd-d66dba622908"
      },
      "id": "tLglPs40sDX7",
      "execution_count": 10,
      "outputs": [
        {
          "output_type": "display_data",
          "data": {
            "text/html": [
              "<html>\n",
              "<head><meta charset=\"utf-8\" /></head>\n",
              "<body>\n",
              "    <div>            <script src=\"https://cdnjs.cloudflare.com/ajax/libs/mathjax/2.7.5/MathJax.js?config=TeX-AMS-MML_SVG\"></script><script type=\"text/javascript\">if (window.MathJax && window.MathJax.Hub && window.MathJax.Hub.Config) {window.MathJax.Hub.Config({SVG: {font: \"STIX-Web\"}});}</script>                <script type=\"text/javascript\">window.PlotlyConfig = {MathJaxConfig: 'local'};</script>\n",
              "        <script src=\"https://cdn.plot.ly/plotly-2.18.2.min.js\"></script>                <div id=\"677eb4e1-3724-4e62-b201-a60991e19e67\" class=\"plotly-graph-div\" style=\"height:600px; width:800px;\"></div>            <script type=\"text/javascript\">                                    window.PLOTLYENV=window.PLOTLYENV || {};                                    if (document.getElementById(\"677eb4e1-3724-4e62-b201-a60991e19e67\")) {                    Plotly.newPlot(                        \"677eb4e1-3724-4e62-b201-a60991e19e67\",                        [{\"name\":\"RMSE\",\"x\":[\"SVD\",\"BaselineOnly\",\"KNNBasic\"],\"y\":[0.0928,0.0755,0.08692292],\"type\":\"bar\",\"xaxis\":\"x\",\"yaxis\":\"y\"},{\"name\":\"MAE\",\"x\":[\"SVD\",\"BaselineOnly\",\"KNNBasic\"],\"y\":[0.0567,0.048,0.05766862],\"type\":\"bar\",\"xaxis\":\"x2\",\"yaxis\":\"y2\"},{\"name\":\"FCP\",\"x\":[\"SVD\",\"BaselineOnly\",\"KNNBasic\"],\"y\":[0.5609,0.5379,0.63493503],\"type\":\"bar\",\"xaxis\":\"x3\",\"yaxis\":\"y3\"},{\"name\":\"Fit Time\",\"x\":[\"SVD\",\"BaselineOnly\",\"KNNBasic\"],\"y\":[1.8923487663269043,1.9373219013214111,2.66087007522583],\"type\":\"bar\",\"xaxis\":\"x4\",\"yaxis\":\"y4\"}],                        {\"template\":{\"data\":{\"histogram2dcontour\":[{\"type\":\"histogram2dcontour\",\"colorbar\":{\"outlinewidth\":0,\"ticks\":\"\"},\"colorscale\":[[0.0,\"#0d0887\"],[0.1111111111111111,\"#46039f\"],[0.2222222222222222,\"#7201a8\"],[0.3333333333333333,\"#9c179e\"],[0.4444444444444444,\"#bd3786\"],[0.5555555555555556,\"#d8576b\"],[0.6666666666666666,\"#ed7953\"],[0.7777777777777778,\"#fb9f3a\"],[0.8888888888888888,\"#fdca26\"],[1.0,\"#f0f921\"]]}],\"choropleth\":[{\"type\":\"choropleth\",\"colorbar\":{\"outlinewidth\":0,\"ticks\":\"\"}}],\"histogram2d\":[{\"type\":\"histogram2d\",\"colorbar\":{\"outlinewidth\":0,\"ticks\":\"\"},\"colorscale\":[[0.0,\"#0d0887\"],[0.1111111111111111,\"#46039f\"],[0.2222222222222222,\"#7201a8\"],[0.3333333333333333,\"#9c179e\"],[0.4444444444444444,\"#bd3786\"],[0.5555555555555556,\"#d8576b\"],[0.6666666666666666,\"#ed7953\"],[0.7777777777777778,\"#fb9f3a\"],[0.8888888888888888,\"#fdca26\"],[1.0,\"#f0f921\"]]}],\"heatmap\":[{\"type\":\"heatmap\",\"colorbar\":{\"outlinewidth\":0,\"ticks\":\"\"},\"colorscale\":[[0.0,\"#0d0887\"],[0.1111111111111111,\"#46039f\"],[0.2222222222222222,\"#7201a8\"],[0.3333333333333333,\"#9c179e\"],[0.4444444444444444,\"#bd3786\"],[0.5555555555555556,\"#d8576b\"],[0.6666666666666666,\"#ed7953\"],[0.7777777777777778,\"#fb9f3a\"],[0.8888888888888888,\"#fdca26\"],[1.0,\"#f0f921\"]]}],\"heatmapgl\":[{\"type\":\"heatmapgl\",\"colorbar\":{\"outlinewidth\":0,\"ticks\":\"\"},\"colorscale\":[[0.0,\"#0d0887\"],[0.1111111111111111,\"#46039f\"],[0.2222222222222222,\"#7201a8\"],[0.3333333333333333,\"#9c179e\"],[0.4444444444444444,\"#bd3786\"],[0.5555555555555556,\"#d8576b\"],[0.6666666666666666,\"#ed7953\"],[0.7777777777777778,\"#fb9f3a\"],[0.8888888888888888,\"#fdca26\"],[1.0,\"#f0f921\"]]}],\"contourcarpet\":[{\"type\":\"contourcarpet\",\"colorbar\":{\"outlinewidth\":0,\"ticks\":\"\"}}],\"contour\":[{\"type\":\"contour\",\"colorbar\":{\"outlinewidth\":0,\"ticks\":\"\"},\"colorscale\":[[0.0,\"#0d0887\"],[0.1111111111111111,\"#46039f\"],[0.2222222222222222,\"#7201a8\"],[0.3333333333333333,\"#9c179e\"],[0.4444444444444444,\"#bd3786\"],[0.5555555555555556,\"#d8576b\"],[0.6666666666666666,\"#ed7953\"],[0.7777777777777778,\"#fb9f3a\"],[0.8888888888888888,\"#fdca26\"],[1.0,\"#f0f921\"]]}],\"surface\":[{\"type\":\"surface\",\"colorbar\":{\"outlinewidth\":0,\"ticks\":\"\"},\"colorscale\":[[0.0,\"#0d0887\"],[0.1111111111111111,\"#46039f\"],[0.2222222222222222,\"#7201a8\"],[0.3333333333333333,\"#9c179e\"],[0.4444444444444444,\"#bd3786\"],[0.5555555555555556,\"#d8576b\"],[0.6666666666666666,\"#ed7953\"],[0.7777777777777778,\"#fb9f3a\"],[0.8888888888888888,\"#fdca26\"],[1.0,\"#f0f921\"]]}],\"mesh3d\":[{\"type\":\"mesh3d\",\"colorbar\":{\"outlinewidth\":0,\"ticks\":\"\"}}],\"scatter\":[{\"fillpattern\":{\"fillmode\":\"overlay\",\"size\":10,\"solidity\":0.2},\"type\":\"scatter\"}],\"parcoords\":[{\"type\":\"parcoords\",\"line\":{\"colorbar\":{\"outlinewidth\":0,\"ticks\":\"\"}}}],\"scatterpolargl\":[{\"type\":\"scatterpolargl\",\"marker\":{\"colorbar\":{\"outlinewidth\":0,\"ticks\":\"\"}}}],\"bar\":[{\"error_x\":{\"color\":\"#2a3f5f\"},\"error_y\":{\"color\":\"#2a3f5f\"},\"marker\":{\"line\":{\"color\":\"#E5ECF6\",\"width\":0.5},\"pattern\":{\"fillmode\":\"overlay\",\"size\":10,\"solidity\":0.2}},\"type\":\"bar\"}],\"scattergeo\":[{\"type\":\"scattergeo\",\"marker\":{\"colorbar\":{\"outlinewidth\":0,\"ticks\":\"\"}}}],\"scatterpolar\":[{\"type\":\"scatterpolar\",\"marker\":{\"colorbar\":{\"outlinewidth\":0,\"ticks\":\"\"}}}],\"histogram\":[{\"marker\":{\"pattern\":{\"fillmode\":\"overlay\",\"size\":10,\"solidity\":0.2}},\"type\":\"histogram\"}],\"scattergl\":[{\"type\":\"scattergl\",\"marker\":{\"colorbar\":{\"outlinewidth\":0,\"ticks\":\"\"}}}],\"scatter3d\":[{\"type\":\"scatter3d\",\"line\":{\"colorbar\":{\"outlinewidth\":0,\"ticks\":\"\"}},\"marker\":{\"colorbar\":{\"outlinewidth\":0,\"ticks\":\"\"}}}],\"scattermapbox\":[{\"type\":\"scattermapbox\",\"marker\":{\"colorbar\":{\"outlinewidth\":0,\"ticks\":\"\"}}}],\"scatterternary\":[{\"type\":\"scatterternary\",\"marker\":{\"colorbar\":{\"outlinewidth\":0,\"ticks\":\"\"}}}],\"scattercarpet\":[{\"type\":\"scattercarpet\",\"marker\":{\"colorbar\":{\"outlinewidth\":0,\"ticks\":\"\"}}}],\"carpet\":[{\"aaxis\":{\"endlinecolor\":\"#2a3f5f\",\"gridcolor\":\"white\",\"linecolor\":\"white\",\"minorgridcolor\":\"white\",\"startlinecolor\":\"#2a3f5f\"},\"baxis\":{\"endlinecolor\":\"#2a3f5f\",\"gridcolor\":\"white\",\"linecolor\":\"white\",\"minorgridcolor\":\"white\",\"startlinecolor\":\"#2a3f5f\"},\"type\":\"carpet\"}],\"table\":[{\"cells\":{\"fill\":{\"color\":\"#EBF0F8\"},\"line\":{\"color\":\"white\"}},\"header\":{\"fill\":{\"color\":\"#C8D4E3\"},\"line\":{\"color\":\"white\"}},\"type\":\"table\"}],\"barpolar\":[{\"marker\":{\"line\":{\"color\":\"#E5ECF6\",\"width\":0.5},\"pattern\":{\"fillmode\":\"overlay\",\"size\":10,\"solidity\":0.2}},\"type\":\"barpolar\"}],\"pie\":[{\"automargin\":true,\"type\":\"pie\"}]},\"layout\":{\"autotypenumbers\":\"strict\",\"colorway\":[\"#636efa\",\"#EF553B\",\"#00cc96\",\"#ab63fa\",\"#FFA15A\",\"#19d3f3\",\"#FF6692\",\"#B6E880\",\"#FF97FF\",\"#FECB52\"],\"font\":{\"color\":\"#2a3f5f\"},\"hovermode\":\"closest\",\"hoverlabel\":{\"align\":\"left\"},\"paper_bgcolor\":\"white\",\"plot_bgcolor\":\"#E5ECF6\",\"polar\":{\"bgcolor\":\"#E5ECF6\",\"angularaxis\":{\"gridcolor\":\"white\",\"linecolor\":\"white\",\"ticks\":\"\"},\"radialaxis\":{\"gridcolor\":\"white\",\"linecolor\":\"white\",\"ticks\":\"\"}},\"ternary\":{\"bgcolor\":\"#E5ECF6\",\"aaxis\":{\"gridcolor\":\"white\",\"linecolor\":\"white\",\"ticks\":\"\"},\"baxis\":{\"gridcolor\":\"white\",\"linecolor\":\"white\",\"ticks\":\"\"},\"caxis\":{\"gridcolor\":\"white\",\"linecolor\":\"white\",\"ticks\":\"\"}},\"coloraxis\":{\"colorbar\":{\"outlinewidth\":0,\"ticks\":\"\"}},\"colorscale\":{\"sequential\":[[0.0,\"#0d0887\"],[0.1111111111111111,\"#46039f\"],[0.2222222222222222,\"#7201a8\"],[0.3333333333333333,\"#9c179e\"],[0.4444444444444444,\"#bd3786\"],[0.5555555555555556,\"#d8576b\"],[0.6666666666666666,\"#ed7953\"],[0.7777777777777778,\"#fb9f3a\"],[0.8888888888888888,\"#fdca26\"],[1.0,\"#f0f921\"]],\"sequentialminus\":[[0.0,\"#0d0887\"],[0.1111111111111111,\"#46039f\"],[0.2222222222222222,\"#7201a8\"],[0.3333333333333333,\"#9c179e\"],[0.4444444444444444,\"#bd3786\"],[0.5555555555555556,\"#d8576b\"],[0.6666666666666666,\"#ed7953\"],[0.7777777777777778,\"#fb9f3a\"],[0.8888888888888888,\"#fdca26\"],[1.0,\"#f0f921\"]],\"diverging\":[[0,\"#8e0152\"],[0.1,\"#c51b7d\"],[0.2,\"#de77ae\"],[0.3,\"#f1b6da\"],[0.4,\"#fde0ef\"],[0.5,\"#f7f7f7\"],[0.6,\"#e6f5d0\"],[0.7,\"#b8e186\"],[0.8,\"#7fbc41\"],[0.9,\"#4d9221\"],[1,\"#276419\"]]},\"xaxis\":{\"gridcolor\":\"white\",\"linecolor\":\"white\",\"ticks\":\"\",\"title\":{\"standoff\":15},\"zerolinecolor\":\"white\",\"automargin\":true,\"zerolinewidth\":2},\"yaxis\":{\"gridcolor\":\"white\",\"linecolor\":\"white\",\"ticks\":\"\",\"title\":{\"standoff\":15},\"zerolinecolor\":\"white\",\"automargin\":true,\"zerolinewidth\":2},\"scene\":{\"xaxis\":{\"backgroundcolor\":\"#E5ECF6\",\"gridcolor\":\"white\",\"linecolor\":\"white\",\"showbackground\":true,\"ticks\":\"\",\"zerolinecolor\":\"white\",\"gridwidth\":2},\"yaxis\":{\"backgroundcolor\":\"#E5ECF6\",\"gridcolor\":\"white\",\"linecolor\":\"white\",\"showbackground\":true,\"ticks\":\"\",\"zerolinecolor\":\"white\",\"gridwidth\":2},\"zaxis\":{\"backgroundcolor\":\"#E5ECF6\",\"gridcolor\":\"white\",\"linecolor\":\"white\",\"showbackground\":true,\"ticks\":\"\",\"zerolinecolor\":\"white\",\"gridwidth\":2}},\"shapedefaults\":{\"line\":{\"color\":\"#2a3f5f\"}},\"annotationdefaults\":{\"arrowcolor\":\"#2a3f5f\",\"arrowhead\":0,\"arrowwidth\":1},\"geo\":{\"bgcolor\":\"white\",\"landcolor\":\"#E5ECF6\",\"subunitcolor\":\"white\",\"showland\":true,\"showlakes\":true,\"lakecolor\":\"white\"},\"title\":{\"x\":0.05},\"mapbox\":{\"style\":\"light\"}}},\"xaxis\":{\"anchor\":\"y\",\"domain\":[0.0,0.45]},\"yaxis\":{\"anchor\":\"x\",\"domain\":[0.625,1.0]},\"xaxis2\":{\"anchor\":\"y2\",\"domain\":[0.55,1.0]},\"yaxis2\":{\"anchor\":\"x2\",\"domain\":[0.625,1.0]},\"xaxis3\":{\"anchor\":\"y3\",\"domain\":[0.0,0.45]},\"yaxis3\":{\"anchor\":\"x3\",\"domain\":[0.0,0.375]},\"xaxis4\":{\"anchor\":\"y4\",\"domain\":[0.55,1.0]},\"yaxis4\":{\"anchor\":\"x4\",\"domain\":[0.0,0.375]},\"annotations\":[{\"font\":{\"size\":16},\"showarrow\":false,\"text\":\"test_rmse\",\"x\":0.225,\"xanchor\":\"center\",\"xref\":\"paper\",\"y\":1.0,\"yanchor\":\"bottom\",\"yref\":\"paper\"},{\"font\":{\"size\":16},\"showarrow\":false,\"text\":\"test_mae\",\"x\":0.775,\"xanchor\":\"center\",\"xref\":\"paper\",\"y\":1.0,\"yanchor\":\"bottom\",\"yref\":\"paper\"},{\"font\":{\"size\":16},\"showarrow\":false,\"text\":\"test_fcp\",\"x\":0.225,\"xanchor\":\"center\",\"xref\":\"paper\",\"y\":0.375,\"yanchor\":\"bottom\",\"yref\":\"paper\"},{\"font\":{\"size\":16},\"showarrow\":false,\"text\":\"fit_time\",\"x\":0.775,\"xanchor\":\"center\",\"xref\":\"paper\",\"y\":0.375,\"yanchor\":\"bottom\",\"yref\":\"paper\"}],\"title\":{\"text\":\"Performance Metrics by Algorithm\"},\"height\":600,\"width\":800},                        {\"responsive\": true}                    ).then(function(){\n",
              "                            \n",
              "var gd = document.getElementById('677eb4e1-3724-4e62-b201-a60991e19e67');\n",
              "var x = new MutationObserver(function (mutations, observer) {{\n",
              "        var display = window.getComputedStyle(gd).display;\n",
              "        if (!display || display === 'none') {{\n",
              "            console.log([gd, 'removed!']);\n",
              "            Plotly.purge(gd);\n",
              "            observer.disconnect();\n",
              "        }}\n",
              "}});\n",
              "\n",
              "// Listen for the removal of the full notebook cells\n",
              "var notebookContainer = gd.closest('#notebook-container');\n",
              "if (notebookContainer) {{\n",
              "    x.observe(notebookContainer, {childList: true});\n",
              "}}\n",
              "\n",
              "// Listen for the clearing of the current output cell\n",
              "var outputEl = gd.closest('.output');\n",
              "if (outputEl) {{\n",
              "    x.observe(outputEl, {childList: true});\n",
              "}}\n",
              "\n",
              "                        })                };                            </script>        </div>\n",
              "</body>\n",
              "</html>"
            ]
          },
          "metadata": {}
        }
      ]
    },
    {
      "cell_type": "markdown",
      "source": [
        "## References - "
      ],
      "metadata": {
        "id": "OxgMUpA6zIrA"
      },
      "id": "OxgMUpA6zIrA"
    },
    {
      "cell_type": "markdown",
      "source": [
        "https://towardsdatascience.com/building-and-testing-recommender-systems-with-surprise-step-by-step-d4ba702ef80b\n",
        "https://surprise.readthedocs.io/"
      ],
      "metadata": {
        "id": "x9HPh3oZzPYt"
      },
      "id": "x9HPh3oZzPYt"
    }
  ],
  "metadata": {
    "colab": {
      "provenance": [],
      "include_colab_link": true
    },
    "kernelspec": {
      "display_name": "Python 3 (ipykernel)",
      "language": "python",
      "name": "python3"
    },
    "language_info": {
      "codemirror_mode": {
        "name": "ipython",
        "version": 3
      },
      "file_extension": ".py",
      "mimetype": "text/x-python",
      "name": "python",
      "nbconvert_exporter": "python",
      "pygments_lexer": "ipython3",
      "version": "3.11.2"
    }
  },
  "nbformat": 4,
  "nbformat_minor": 5
}