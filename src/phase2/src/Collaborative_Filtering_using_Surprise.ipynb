{
  "cells": [
    {
      "cell_type": "markdown",
      "metadata": {
        "id": "cyTZ1AS4izYi"
      },
      "source": [
        "#**Collaborative Filtering using Surprise**"
      ],
      "id": "cyTZ1AS4izYi"
    },
    {
      "cell_type": "code",
      "execution_count": 1,
      "metadata": {
        "colab": {
          "base_uri": "https://localhost:8080/"
        },
        "id": "3DpUdn1rg4b_",
        "outputId": "f6d26fa2-8544-42e8-f2d7-5cac90e9be0e"
      },
      "outputs": [
        {
          "output_type": "stream",
          "name": "stdout",
          "text": [
            "Looking in indexes: https://pypi.org/simple, https://us-python.pkg.dev/colab-wheels/public/simple/\n",
            "Collecting surprise\n",
            "  Downloading surprise-0.1-py2.py3-none-any.whl (1.8 kB)\n",
            "Collecting scikit-surprise\n",
            "  Downloading scikit-surprise-1.1.3.tar.gz (771 kB)\n",
            "\u001b[2K     \u001b[90m━━━━━━━━━━━━━━━━━━━━━━━━━━━━━━━━━━━━━━\u001b[0m \u001b[32m772.0/772.0 kB\u001b[0m \u001b[31m10.2 MB/s\u001b[0m eta \u001b[36m0:00:00\u001b[0m\n",
            "\u001b[?25h  Preparing metadata (setup.py) ... \u001b[?25l\u001b[?25hdone\n",
            "Requirement already satisfied: joblib>=1.0.0 in /usr/local/lib/python3.9/dist-packages (from scikit-surprise->surprise) (1.1.1)\n",
            "Requirement already satisfied: numpy>=1.17.3 in /usr/local/lib/python3.9/dist-packages (from scikit-surprise->surprise) (1.22.4)\n",
            "Requirement already satisfied: scipy>=1.3.2 in /usr/local/lib/python3.9/dist-packages (from scikit-surprise->surprise) (1.10.1)\n",
            "Building wheels for collected packages: scikit-surprise\n",
            "  Building wheel for scikit-surprise (setup.py) ... \u001b[?25l\u001b[?25hdone\n",
            "  Created wheel for scikit-surprise: filename=scikit_surprise-1.1.3-cp39-cp39-linux_x86_64.whl size=3195812 sha256=89e844b95bbdeb1face6e094aa377709973558eb0ffaf50c4a88c2a11dd06c97\n",
            "  Stored in directory: /root/.cache/pip/wheels/c6/3a/46/9b17b3512bdf283c6cb84f59929cdd5199d4e754d596d22784\n",
            "Successfully built scikit-surprise\n",
            "Installing collected packages: scikit-surprise, surprise\n",
            "Successfully installed scikit-surprise-1.1.3 surprise-0.1\n"
          ]
        }
      ],
      "source": [
        "!pip install surprise "
      ],
      "id": "3DpUdn1rg4b_"
    },
    {
      "cell_type": "code",
      "execution_count": 2,
      "metadata": {
        "colab": {
          "base_uri": "https://localhost:8080/"
        },
        "id": "fbUjy_gJhOtX",
        "outputId": "0d34532d-d868-4a27-b6d9-eaa2b6a26734"
      },
      "outputs": [
        {
          "output_type": "stream",
          "name": "stdout",
          "text": [
            "Mounted at /content/drive\n"
          ]
        }
      ],
      "source": [
        "from google.colab import drive\n",
        "drive.mount('/content/drive')"
      ],
      "id": "fbUjy_gJhOtX"
    },
    {
      "cell_type": "markdown",
      "metadata": {
        "id": "3f2a6e12"
      },
      "source": [
        "## Import Libraries"
      ],
      "id": "3f2a6e12"
    },
    {
      "cell_type": "code",
      "execution_count": 3,
      "metadata": {
        "id": "36237b0e"
      },
      "outputs": [],
      "source": [
        "import pandas as pd\n",
        "from surprise import *\n",
        "from surprise.accuracy import rmse\n",
        "from surprise import accuracy\n",
        "from surprise.model_selection import cross_validate\n",
        "from surprise.model_selection import train_test_split\n",
        "from surprise.model_selection import GridSearchCV\n",
        "from surprise import dataset"
      ],
      "id": "36237b0e"
    },
    {
      "cell_type": "markdown",
      "metadata": {
        "id": "cfce09f3"
      },
      "source": [
        "## Read Review and Business Dataset"
      ],
      "id": "cfce09f3"
    },
    {
      "cell_type": "code",
      "execution_count": 4,
      "metadata": {
        "colab": {
          "base_uri": "https://localhost:8080/",
          "height": 1000
        },
        "id": "fbb1221f",
        "outputId": "032a04c3-0441-41b2-9fb9-57c74881f7c9"
      },
      "outputs": [
        {
          "output_type": "execute_result",
          "data": {
            "text/plain": [
              "       Unnamed: 0               review_id                 user_id  \\\n",
              "0              93  BF0ANB54sc_f-3_howQBCg  ssuXFjkH4neiBgwv-oN4IA   \n",
              "1           15312  -QgtOpsFzLHd58-Y1Ao2tA  BPKpLbR9NuWFAR9SUWpZOw   \n",
              "2           49074  zdhN3MBABBKi-9QHAh-G1A  sg5q7rz2_7PfaN-6JnLb5g   \n",
              "3              94  DbLUpPT61ykLTakknCF9CQ  ssuXFjkH4neiBgwv-oN4IA   \n",
              "4            2901  W2tkFrhscAIBo-PttIalYg  L8d61tDHFB5CemHBUvxn-g   \n",
              "...           ...                     ...                     ...   \n",
              "32123       99914  kRhVtVQJXyB39paGKNHKkw  oxxHn3CSVW8N1JPLiOCHqg   \n",
              "32124       99916  g78E0chAO3d-yS9qiLtyZg  oxxHn3CSVW8N1JPLiOCHqg   \n",
              "32125       99924  N7vmawqApfl0fn7OlKjGjg  oxxHn3CSVW8N1JPLiOCHqg   \n",
              "32126       99942  bH0lMpJQFjEPaD3ZkOK97w  mUbIcYFzkkvLXP0yV4RpqQ   \n",
              "32127       99965  o882zQGOakne88rFRRyKWQ  CKRfBUqQGaVCYTKN5kDrzw   \n",
              "\n",
              "                  business_id  stars        date  \\\n",
              "0      JlNeaOymdVbE6_bubqjohg      1  2014-08-09   \n",
              "1      JlNeaOymdVbE6_bubqjohg      5  2014-06-29   \n",
              "2      JlNeaOymdVbE6_bubqjohg      5  2014-05-01   \n",
              "3      0Rni7ocMC_Lg2UH0lDeKMQ      1  2014-08-09   \n",
              "4      0Rni7ocMC_Lg2UH0lDeKMQ      1  2016-04-21   \n",
              "...                       ...    ...         ...   \n",
              "32123  uRNQ4z2QQPX7tqWpMjiuTw      3  2014-10-15   \n",
              "32124  EgW-kEqxP83MlVl06Qn21g      1  2014-09-28   \n",
              "32125  0Ge4hEQ8HYnrkfm8UHj2BQ      5  2015-08-27   \n",
              "32126  _iUlt5rm-15QoLw0MEEg5A      5  2015-12-03   \n",
              "32127  fhx1yUZlC1QwovIjdYeGiw      4  2017-04-24   \n",
              "\n",
              "                                                    text  useful  funny  cool  \\\n",
              "0      always go chevo chandler delicious one ahwatuk...       3      0     0   \n",
              "1      great grilled chicken burrito believe coming c...       0      0     0   \n",
              "2      everything far great sure reviews pleased food...       1      0     1   \n",
              "3      place always dirty grimy twice back customer s...       6      0     0   \n",
              "4      walked order pizza wanted simple pizza pie ext...       0      0     0   \n",
              "...                                                  ...     ...    ...   ...   \n",
              "32123  nice lunch good food worth another trip spicy ...       0      0     0   \n",
              "32124  minus stars hear order brought wrong item atti...       7      0     0   \n",
              "32125  time husband use go ny gyros said equal better...       0      0     0   \n",
              "32126  joe absolutely amazing love coming hard day wo...       0      0     0   \n",
              "32127  friendly yummy affordable italian food tried b...       1      0     1   \n",
              "\n",
              "       sentiment_score sentiment  super_score  \\\n",
              "0               0.7964  positive      0.95928   \n",
              "1               0.8481  positive      0.96962   \n",
              "2               0.9463  positive      0.98926   \n",
              "3              -0.8481  negative      0.63038   \n",
              "4               0.4215  positive      0.88430   \n",
              "...                ...       ...          ...   \n",
              "32123           0.9066  positive      0.98132   \n",
              "32124          -0.1027  negative      0.77946   \n",
              "32125           0.7906  positive      0.95812   \n",
              "32126           0.8927  positive      0.97854   \n",
              "32127           0.9738  positive      0.99476   \n",
              "\n",
              "                                               name  \n",
              "0                          \"Papa Chevo's Taco Shop\"  \n",
              "1                          \"Papa Chevo's Taco Shop\"  \n",
              "2                          \"Papa Chevo's Taco Shop\"  \n",
              "3                                   \"Barro's Pizza\"  \n",
              "4                                   \"Barro's Pizza\"  \n",
              "...                                             ...  \n",
              "32123               \"Emiliano's Mexican Restaurant\"  \n",
              "32124             \"Rochester Inn & Hardwood Grille\"  \n",
              "32125                       \"My Big Fat Greek Gyro\"  \n",
              "32126  \"Mitchell's Restaurant Bar & Banquet Center\"  \n",
              "32127                                      \"Tavolo\"  \n",
              "\n",
              "[32128 rows x 14 columns]"
            ],
            "text/html": [
              "\n",
              "  <div id=\"df-236f6e71-6e38-4de3-897a-a816f4e02f1e\">\n",
              "    <div class=\"colab-df-container\">\n",
              "      <div>\n",
              "<style scoped>\n",
              "    .dataframe tbody tr th:only-of-type {\n",
              "        vertical-align: middle;\n",
              "    }\n",
              "\n",
              "    .dataframe tbody tr th {\n",
              "        vertical-align: top;\n",
              "    }\n",
              "\n",
              "    .dataframe thead th {\n",
              "        text-align: right;\n",
              "    }\n",
              "</style>\n",
              "<table border=\"1\" class=\"dataframe\">\n",
              "  <thead>\n",
              "    <tr style=\"text-align: right;\">\n",
              "      <th></th>\n",
              "      <th>Unnamed: 0</th>\n",
              "      <th>review_id</th>\n",
              "      <th>user_id</th>\n",
              "      <th>business_id</th>\n",
              "      <th>stars</th>\n",
              "      <th>date</th>\n",
              "      <th>text</th>\n",
              "      <th>useful</th>\n",
              "      <th>funny</th>\n",
              "      <th>cool</th>\n",
              "      <th>sentiment_score</th>\n",
              "      <th>sentiment</th>\n",
              "      <th>super_score</th>\n",
              "      <th>name</th>\n",
              "    </tr>\n",
              "  </thead>\n",
              "  <tbody>\n",
              "    <tr>\n",
              "      <th>0</th>\n",
              "      <td>93</td>\n",
              "      <td>BF0ANB54sc_f-3_howQBCg</td>\n",
              "      <td>ssuXFjkH4neiBgwv-oN4IA</td>\n",
              "      <td>JlNeaOymdVbE6_bubqjohg</td>\n",
              "      <td>1</td>\n",
              "      <td>2014-08-09</td>\n",
              "      <td>always go chevo chandler delicious one ahwatuk...</td>\n",
              "      <td>3</td>\n",
              "      <td>0</td>\n",
              "      <td>0</td>\n",
              "      <td>0.7964</td>\n",
              "      <td>positive</td>\n",
              "      <td>0.95928</td>\n",
              "      <td>\"Papa Chevo's Taco Shop\"</td>\n",
              "    </tr>\n",
              "    <tr>\n",
              "      <th>1</th>\n",
              "      <td>15312</td>\n",
              "      <td>-QgtOpsFzLHd58-Y1Ao2tA</td>\n",
              "      <td>BPKpLbR9NuWFAR9SUWpZOw</td>\n",
              "      <td>JlNeaOymdVbE6_bubqjohg</td>\n",
              "      <td>5</td>\n",
              "      <td>2014-06-29</td>\n",
              "      <td>great grilled chicken burrito believe coming c...</td>\n",
              "      <td>0</td>\n",
              "      <td>0</td>\n",
              "      <td>0</td>\n",
              "      <td>0.8481</td>\n",
              "      <td>positive</td>\n",
              "      <td>0.96962</td>\n",
              "      <td>\"Papa Chevo's Taco Shop\"</td>\n",
              "    </tr>\n",
              "    <tr>\n",
              "      <th>2</th>\n",
              "      <td>49074</td>\n",
              "      <td>zdhN3MBABBKi-9QHAh-G1A</td>\n",
              "      <td>sg5q7rz2_7PfaN-6JnLb5g</td>\n",
              "      <td>JlNeaOymdVbE6_bubqjohg</td>\n",
              "      <td>5</td>\n",
              "      <td>2014-05-01</td>\n",
              "      <td>everything far great sure reviews pleased food...</td>\n",
              "      <td>1</td>\n",
              "      <td>0</td>\n",
              "      <td>1</td>\n",
              "      <td>0.9463</td>\n",
              "      <td>positive</td>\n",
              "      <td>0.98926</td>\n",
              "      <td>\"Papa Chevo's Taco Shop\"</td>\n",
              "    </tr>\n",
              "    <tr>\n",
              "      <th>3</th>\n",
              "      <td>94</td>\n",
              "      <td>DbLUpPT61ykLTakknCF9CQ</td>\n",
              "      <td>ssuXFjkH4neiBgwv-oN4IA</td>\n",
              "      <td>0Rni7ocMC_Lg2UH0lDeKMQ</td>\n",
              "      <td>1</td>\n",
              "      <td>2014-08-09</td>\n",
              "      <td>place always dirty grimy twice back customer s...</td>\n",
              "      <td>6</td>\n",
              "      <td>0</td>\n",
              "      <td>0</td>\n",
              "      <td>-0.8481</td>\n",
              "      <td>negative</td>\n",
              "      <td>0.63038</td>\n",
              "      <td>\"Barro's Pizza\"</td>\n",
              "    </tr>\n",
              "    <tr>\n",
              "      <th>4</th>\n",
              "      <td>2901</td>\n",
              "      <td>W2tkFrhscAIBo-PttIalYg</td>\n",
              "      <td>L8d61tDHFB5CemHBUvxn-g</td>\n",
              "      <td>0Rni7ocMC_Lg2UH0lDeKMQ</td>\n",
              "      <td>1</td>\n",
              "      <td>2016-04-21</td>\n",
              "      <td>walked order pizza wanted simple pizza pie ext...</td>\n",
              "      <td>0</td>\n",
              "      <td>0</td>\n",
              "      <td>0</td>\n",
              "      <td>0.4215</td>\n",
              "      <td>positive</td>\n",
              "      <td>0.88430</td>\n",
              "      <td>\"Barro's Pizza\"</td>\n",
              "    </tr>\n",
              "    <tr>\n",
              "      <th>...</th>\n",
              "      <td>...</td>\n",
              "      <td>...</td>\n",
              "      <td>...</td>\n",
              "      <td>...</td>\n",
              "      <td>...</td>\n",
              "      <td>...</td>\n",
              "      <td>...</td>\n",
              "      <td>...</td>\n",
              "      <td>...</td>\n",
              "      <td>...</td>\n",
              "      <td>...</td>\n",
              "      <td>...</td>\n",
              "      <td>...</td>\n",
              "      <td>...</td>\n",
              "    </tr>\n",
              "    <tr>\n",
              "      <th>32123</th>\n",
              "      <td>99914</td>\n",
              "      <td>kRhVtVQJXyB39paGKNHKkw</td>\n",
              "      <td>oxxHn3CSVW8N1JPLiOCHqg</td>\n",
              "      <td>uRNQ4z2QQPX7tqWpMjiuTw</td>\n",
              "      <td>3</td>\n",
              "      <td>2014-10-15</td>\n",
              "      <td>nice lunch good food worth another trip spicy ...</td>\n",
              "      <td>0</td>\n",
              "      <td>0</td>\n",
              "      <td>0</td>\n",
              "      <td>0.9066</td>\n",
              "      <td>positive</td>\n",
              "      <td>0.98132</td>\n",
              "      <td>\"Emiliano's Mexican Restaurant\"</td>\n",
              "    </tr>\n",
              "    <tr>\n",
              "      <th>32124</th>\n",
              "      <td>99916</td>\n",
              "      <td>g78E0chAO3d-yS9qiLtyZg</td>\n",
              "      <td>oxxHn3CSVW8N1JPLiOCHqg</td>\n",
              "      <td>EgW-kEqxP83MlVl06Qn21g</td>\n",
              "      <td>1</td>\n",
              "      <td>2014-09-28</td>\n",
              "      <td>minus stars hear order brought wrong item atti...</td>\n",
              "      <td>7</td>\n",
              "      <td>0</td>\n",
              "      <td>0</td>\n",
              "      <td>-0.1027</td>\n",
              "      <td>negative</td>\n",
              "      <td>0.77946</td>\n",
              "      <td>\"Rochester Inn &amp; Hardwood Grille\"</td>\n",
              "    </tr>\n",
              "    <tr>\n",
              "      <th>32125</th>\n",
              "      <td>99924</td>\n",
              "      <td>N7vmawqApfl0fn7OlKjGjg</td>\n",
              "      <td>oxxHn3CSVW8N1JPLiOCHqg</td>\n",
              "      <td>0Ge4hEQ8HYnrkfm8UHj2BQ</td>\n",
              "      <td>5</td>\n",
              "      <td>2015-08-27</td>\n",
              "      <td>time husband use go ny gyros said equal better...</td>\n",
              "      <td>0</td>\n",
              "      <td>0</td>\n",
              "      <td>0</td>\n",
              "      <td>0.7906</td>\n",
              "      <td>positive</td>\n",
              "      <td>0.95812</td>\n",
              "      <td>\"My Big Fat Greek Gyro\"</td>\n",
              "    </tr>\n",
              "    <tr>\n",
              "      <th>32126</th>\n",
              "      <td>99942</td>\n",
              "      <td>bH0lMpJQFjEPaD3ZkOK97w</td>\n",
              "      <td>mUbIcYFzkkvLXP0yV4RpqQ</td>\n",
              "      <td>_iUlt5rm-15QoLw0MEEg5A</td>\n",
              "      <td>5</td>\n",
              "      <td>2015-12-03</td>\n",
              "      <td>joe absolutely amazing love coming hard day wo...</td>\n",
              "      <td>0</td>\n",
              "      <td>0</td>\n",
              "      <td>0</td>\n",
              "      <td>0.8927</td>\n",
              "      <td>positive</td>\n",
              "      <td>0.97854</td>\n",
              "      <td>\"Mitchell's Restaurant Bar &amp; Banquet Center\"</td>\n",
              "    </tr>\n",
              "    <tr>\n",
              "      <th>32127</th>\n",
              "      <td>99965</td>\n",
              "      <td>o882zQGOakne88rFRRyKWQ</td>\n",
              "      <td>CKRfBUqQGaVCYTKN5kDrzw</td>\n",
              "      <td>fhx1yUZlC1QwovIjdYeGiw</td>\n",
              "      <td>4</td>\n",
              "      <td>2017-04-24</td>\n",
              "      <td>friendly yummy affordable italian food tried b...</td>\n",
              "      <td>1</td>\n",
              "      <td>0</td>\n",
              "      <td>1</td>\n",
              "      <td>0.9738</td>\n",
              "      <td>positive</td>\n",
              "      <td>0.99476</td>\n",
              "      <td>\"Tavolo\"</td>\n",
              "    </tr>\n",
              "  </tbody>\n",
              "</table>\n",
              "<p>32128 rows × 14 columns</p>\n",
              "</div>\n",
              "      <button class=\"colab-df-convert\" onclick=\"convertToInteractive('df-236f6e71-6e38-4de3-897a-a816f4e02f1e')\"\n",
              "              title=\"Convert this dataframe to an interactive table.\"\n",
              "              style=\"display:none;\">\n",
              "        \n",
              "  <svg xmlns=\"http://www.w3.org/2000/svg\" height=\"24px\"viewBox=\"0 0 24 24\"\n",
              "       width=\"24px\">\n",
              "    <path d=\"M0 0h24v24H0V0z\" fill=\"none\"/>\n",
              "    <path d=\"M18.56 5.44l.94 2.06.94-2.06 2.06-.94-2.06-.94-.94-2.06-.94 2.06-2.06.94zm-11 1L8.5 8.5l.94-2.06 2.06-.94-2.06-.94L8.5 2.5l-.94 2.06-2.06.94zm10 10l.94 2.06.94-2.06 2.06-.94-2.06-.94-.94-2.06-.94 2.06-2.06.94z\"/><path d=\"M17.41 7.96l-1.37-1.37c-.4-.4-.92-.59-1.43-.59-.52 0-1.04.2-1.43.59L10.3 9.45l-7.72 7.72c-.78.78-.78 2.05 0 2.83L4 21.41c.39.39.9.59 1.41.59.51 0 1.02-.2 1.41-.59l7.78-7.78 2.81-2.81c.8-.78.8-2.07 0-2.86zM5.41 20L4 18.59l7.72-7.72 1.47 1.35L5.41 20z\"/>\n",
              "  </svg>\n",
              "      </button>\n",
              "      \n",
              "  <style>\n",
              "    .colab-df-container {\n",
              "      display:flex;\n",
              "      flex-wrap:wrap;\n",
              "      gap: 12px;\n",
              "    }\n",
              "\n",
              "    .colab-df-convert {\n",
              "      background-color: #E8F0FE;\n",
              "      border: none;\n",
              "      border-radius: 50%;\n",
              "      cursor: pointer;\n",
              "      display: none;\n",
              "      fill: #1967D2;\n",
              "      height: 32px;\n",
              "      padding: 0 0 0 0;\n",
              "      width: 32px;\n",
              "    }\n",
              "\n",
              "    .colab-df-convert:hover {\n",
              "      background-color: #E2EBFA;\n",
              "      box-shadow: 0px 1px 2px rgba(60, 64, 67, 0.3), 0px 1px 3px 1px rgba(60, 64, 67, 0.15);\n",
              "      fill: #174EA6;\n",
              "    }\n",
              "\n",
              "    [theme=dark] .colab-df-convert {\n",
              "      background-color: #3B4455;\n",
              "      fill: #D2E3FC;\n",
              "    }\n",
              "\n",
              "    [theme=dark] .colab-df-convert:hover {\n",
              "      background-color: #434B5C;\n",
              "      box-shadow: 0px 1px 3px 1px rgba(0, 0, 0, 0.15);\n",
              "      filter: drop-shadow(0px 1px 2px rgba(0, 0, 0, 0.3));\n",
              "      fill: #FFFFFF;\n",
              "    }\n",
              "  </style>\n",
              "\n",
              "      <script>\n",
              "        const buttonEl =\n",
              "          document.querySelector('#df-236f6e71-6e38-4de3-897a-a816f4e02f1e button.colab-df-convert');\n",
              "        buttonEl.style.display =\n",
              "          google.colab.kernel.accessAllowed ? 'block' : 'none';\n",
              "\n",
              "        async function convertToInteractive(key) {\n",
              "          const element = document.querySelector('#df-236f6e71-6e38-4de3-897a-a816f4e02f1e');\n",
              "          const dataTable =\n",
              "            await google.colab.kernel.invokeFunction('convertToInteractive',\n",
              "                                                     [key], {});\n",
              "          if (!dataTable) return;\n",
              "\n",
              "          const docLinkHtml = 'Like what you see? Visit the ' +\n",
              "            '<a target=\"_blank\" href=https://colab.research.google.com/notebooks/data_table.ipynb>data table notebook</a>'\n",
              "            + ' to learn more about interactive tables.';\n",
              "          element.innerHTML = '';\n",
              "          dataTable['output_type'] = 'display_data';\n",
              "          await google.colab.output.renderOutput(dataTable, element);\n",
              "          const docLink = document.createElement('div');\n",
              "          docLink.innerHTML = docLinkHtml;\n",
              "          element.appendChild(docLink);\n",
              "        }\n",
              "      </script>\n",
              "    </div>\n",
              "  </div>\n",
              "  "
            ]
          },
          "metadata": {},
          "execution_count": 4
        }
      ],
      "source": [
        "review=pd.read_csv('drive/MyDrive/DIC/review.csv')\n",
        "business_final=pd.read_csv('drive/MyDrive/DIC/business_final.csv')\n",
        "review = review.merge(business_final[['name','business_id']], how='inner')\n",
        "review"
      ],
      "id": "fbb1221f"
    },
    {
      "cell_type": "markdown",
      "metadata": {
        "id": "374ce021"
      },
      "source": [
        "## Define Scale"
      ],
      "id": "374ce021"
    },
    {
      "cell_type": "code",
      "execution_count": 5,
      "metadata": {
        "id": "093b37d3"
      },
      "outputs": [],
      "source": [
        "reader = Reader(rating_scale=(0,1))"
      ],
      "id": "093b37d3"
    },
    {
      "cell_type": "markdown",
      "metadata": {
        "id": "ef36d6c8"
      },
      "source": [
        "## Get the relevant Data"
      ],
      "id": "ef36d6c8"
    },
    {
      "cell_type": "code",
      "execution_count": 52,
      "metadata": {
        "id": "c425fc56"
      },
      "outputs": [],
      "source": [
        "data = Dataset.load_from_df(review[['user_id', 'business_id', 'super_score']], reader)"
      ],
      "id": "c425fc56"
    },
    {
      "cell_type": "markdown",
      "metadata": {
        "id": "a7aa1461"
      },
      "source": [
        "## Train, Test split"
      ],
      "id": "a7aa1461"
    },
    {
      "cell_type": "code",
      "execution_count": 7,
      "metadata": {
        "id": "6cc88141"
      },
      "outputs": [],
      "source": [
        "trainset, testset = train_test_split(data, test_size=0.2, random_state=42)\n",
        "trainset = data.build_full_trainset()"
      ],
      "id": "6cc88141"
    },
    {
      "cell_type": "markdown",
      "metadata": {
        "id": "8moJqtJ5HmKn"
      },
      "source": [
        "## 1. KNN"
      ],
      "id": "8moJqtJ5HmKn"
    },
    {
      "cell_type": "markdown",
      "metadata": {
        "id": "BRdC5LDUFbth"
      },
      "source": [
        "### 1. KNNBaseline"
      ],
      "id": "BRdC5LDUFbth"
    },
    {
      "cell_type": "code",
      "execution_count": 8,
      "metadata": {
        "id": "EwS1uYSsFbti"
      },
      "outputs": [],
      "source": [
        "parameters_knnb={\n",
        "    'name':['cosine','pearson'],\n",
        "    'min_k': [3, 6, 9],\n",
        "    'min_support': [True, False],\n",
        "    'user_based':[True, False]\n",
        "}"
      ],
      "id": "EwS1uYSsFbti"
    },
    {
      "cell_type": "code",
      "execution_count": 9,
      "metadata": {
        "id": "VoluE4VRFbti"
      },
      "outputs": [],
      "source": [
        "grid_knnb=GridSearchCV(KNNBaseline, param_grid=parameters_knnb,n_jobs=-1)\n",
        "grid_knnb.fit(data)"
      ],
      "id": "VoluE4VRFbti"
    },
    {
      "cell_type": "code",
      "execution_count": 10,
      "metadata": {
        "colab": {
          "base_uri": "https://localhost:8080/"
        },
        "id": "n_MvoYDoFbti",
        "outputId": "f84a04cd-1fbd-4f6b-a089-56eff0b82e17"
      },
      "outputs": [
        {
          "output_type": "stream",
          "name": "stdout",
          "text": [
            "{'rmse': 0.08124346935615659, 'mae': 0.050019257075632616}\n",
            "{'rmse': {'name': 'cosine', 'min_k': 6, 'min_support': True, 'user_based': True}, 'mae': {'name': 'cosine', 'min_k': 3, 'min_support': True, 'user_based': True}}\n"
          ]
        }
      ],
      "source": [
        "print(grid_knnb.best_score)\n",
        "print(grid_knnb.best_params)"
      ],
      "id": "n_MvoYDoFbti"
    },
    {
      "cell_type": "code",
      "execution_count": 11,
      "metadata": {
        "colab": {
          "base_uri": "https://localhost:8080/"
        },
        "id": "l7QVU3cfigGP",
        "outputId": "0b5683f7-05c3-43d5-9240-ac7a368dbb74"
      },
      "outputs": [
        {
          "output_type": "stream",
          "name": "stdout",
          "text": [
            "Estimating biases using als...\n",
            "Computing the msd similarity matrix...\n",
            "Done computing similarity matrix.\n"
          ]
        },
        {
          "output_type": "execute_result",
          "data": {
            "text/plain": [
              "<surprise.prediction_algorithms.knns.KNNBaseline at 0x7fcf3c1c4e50>"
            ]
          },
          "metadata": {},
          "execution_count": 11
        }
      ],
      "source": [
        "algo_knnb = grid_knnb.best_estimator[\"rmse\"]\n",
        "algo_knnb.fit(data.build_full_trainset())"
      ],
      "id": "l7QVU3cfigGP"
    },
    {
      "cell_type": "markdown",
      "metadata": {
        "id": "3K8zK1JYFbtj"
      },
      "source": [
        "#### Make recommendations"
      ],
      "id": "3K8zK1JYFbtj"
    },
    {
      "cell_type": "code",
      "execution_count": 12,
      "metadata": {
        "id": "LL2aYLQlFbtj"
      },
      "outputs": [],
      "source": [
        "predictions = algo_knnb.test(testset)"
      ],
      "id": "LL2aYLQlFbtj"
    },
    {
      "cell_type": "markdown",
      "metadata": {
        "id": "b5-PSoXxFbtj"
      },
      "source": [
        "#### Recommend 5 Restaurants to users"
      ],
      "id": "b5-PSoXxFbtj"
    },
    {
      "cell_type": "code",
      "execution_count": 14,
      "metadata": {
        "colab": {
          "base_uri": "https://localhost:8080/"
        },
        "id": "4YcUW3tVFbtj",
        "outputId": "cd218984-d12d-481b-c405-f55c31947eb8"
      },
      "outputs": [
        {
          "output_type": "stream",
          "name": "stdout",
          "text": [
            "1. \"Mesa Grill\"\n",
            "2. \"International House of Food\"\n",
            "3. \"Rokerij\"\n",
            "4. \"Vic & Anthony's Steakhouse\"\n",
            "5. \"Scarpetta\"\n",
            "6. \"Pan Asian\"\n",
            "7. \"EVO\"\n",
            "8. \"Ocotillo\"\n",
            "9. \"White Oaks\"\n",
            "10. \"The Great Dane\"\n"
          ]
        }
      ],
      "source": [
        "user_1 = 'BPKpLbR9NuWFAR9SUWpZOw'\n",
        "restaurants = review['business_id'].unique()\n",
        "user_1_ratings = []\n",
        "for restaurant in restaurants:\n",
        "    user_1_ratings.append((restaurant, algo_knnb.predict(user_1, restaurant).est))\n",
        "\n",
        "sorted_ratings = sorted(user_1_ratings, key=lambda x: x[1], reverse=True)\n",
        "\n",
        "for i in range(10):\n",
        "    business_id = sorted_ratings[i][0]\n",
        "    name = review.loc[review['business_id'] == business_id, 'name'].iloc[0]\n",
        "    print(f'{i+1}. {name}')"
      ],
      "id": "4YcUW3tVFbtj"
    },
    {
      "cell_type": "code",
      "execution_count": 15,
      "metadata": {
        "colab": {
          "base_uri": "https://localhost:8080/"
        },
        "id": "5US6EVAzFbtj",
        "outputId": "cb099644-d35d-4dfd-9901-dfc638a3d732"
      },
      "outputs": [
        {
          "output_type": "stream",
          "name": "stdout",
          "text": [
            "MAE:  0.0427\n",
            "MSE: 0.0048\n",
            "RMSE: 0.0696\n",
            "FCP:  0.5267\n"
          ]
        },
        {
          "output_type": "execute_result",
          "data": {
            "text/plain": [
              "0.5266590846274231"
            ]
          },
          "metadata": {},
          "execution_count": 15
        }
      ],
      "source": [
        "accuracy.mae(predictions)\n",
        "accuracy.mse(predictions)\n",
        "accuracy.rmse(predictions)\n",
        "accuracy.fcp(predictions)"
      ],
      "id": "5US6EVAzFbtj"
    },
    {
      "cell_type": "markdown",
      "metadata": {
        "id": "WPMoix1LFbtj"
      },
      "source": [
        "### 2. KNNWithMeans"
      ],
      "id": "WPMoix1LFbtj"
    },
    {
      "cell_type": "code",
      "execution_count": 16,
      "metadata": {
        "id": "fJXKhnAro80C"
      },
      "outputs": [],
      "source": [
        "parameters_knnm={\n",
        "    'name':['cosine','pearson'],\n",
        "    'min_k': [3, 6, 9],\n",
        "    'min_support': [True, False],\n",
        "    'user_based':[True, False]\n",
        "}"
      ],
      "id": "fJXKhnAro80C"
    },
    {
      "cell_type": "code",
      "execution_count": 17,
      "metadata": {
        "id": "UU1XoYOVpB7D"
      },
      "outputs": [],
      "source": [
        "grid_knnm=GridSearchCV(KNNWithMeans, param_grid=parameters_knnm,n_jobs=-1)\n",
        "grid_knnm.fit(data)"
      ],
      "id": "UU1XoYOVpB7D"
    },
    {
      "cell_type": "code",
      "execution_count": 18,
      "metadata": {
        "colab": {
          "base_uri": "https://localhost:8080/"
        },
        "id": "2s08xWb0pUfv",
        "outputId": "c8f299ea-b941-4d79-d834-acd19ac638e6"
      },
      "outputs": [
        {
          "output_type": "stream",
          "name": "stdout",
          "text": [
            "{'rmse': 0.0831709285425499, 'mae': 0.04802412127749702}\n",
            "{'rmse': {'name': 'cosine', 'min_k': 6, 'min_support': True, 'user_based': True}, 'mae': {'name': 'cosine', 'min_k': 9, 'min_support': True, 'user_based': True}}\n"
          ]
        }
      ],
      "source": [
        "print(grid_knnm.best_score)\n",
        "print(grid_knnm.best_params)"
      ],
      "id": "2s08xWb0pUfv"
    },
    {
      "cell_type": "code",
      "execution_count": 19,
      "metadata": {
        "colab": {
          "base_uri": "https://localhost:8080/"
        },
        "id": "BmelfEbUpUfv",
        "outputId": "92dadf85-f1c5-4b41-a374-d67c485da9bb"
      },
      "outputs": [
        {
          "output_type": "stream",
          "name": "stdout",
          "text": [
            "Computing the msd similarity matrix...\n",
            "Done computing similarity matrix.\n"
          ]
        },
        {
          "output_type": "execute_result",
          "data": {
            "text/plain": [
              "<surprise.prediction_algorithms.knns.KNNWithMeans at 0x7fcf0cdd9a60>"
            ]
          },
          "metadata": {},
          "execution_count": 19
        }
      ],
      "source": [
        "algo_knnm = grid_knnm.best_estimator[\"rmse\"]\n",
        "algo_knnm.fit(data.build_full_trainset())"
      ],
      "id": "BmelfEbUpUfv"
    },
    {
      "cell_type": "markdown",
      "metadata": {
        "id": "JjwzhAQPFbtk"
      },
      "source": [
        "#### Make recommendations"
      ],
      "id": "JjwzhAQPFbtk"
    },
    {
      "cell_type": "code",
      "execution_count": 20,
      "metadata": {
        "id": "KbnGW-71Fbtk"
      },
      "outputs": [],
      "source": [
        "predictions = algo_knnm.test(testset)"
      ],
      "id": "KbnGW-71Fbtk"
    },
    {
      "cell_type": "markdown",
      "metadata": {
        "id": "RGXliLr_Fbtk"
      },
      "source": [
        "#### Recommend 5 Restaurants to users"
      ],
      "id": "RGXliLr_Fbtk"
    },
    {
      "cell_type": "code",
      "execution_count": 21,
      "metadata": {
        "colab": {
          "base_uri": "https://localhost:8080/"
        },
        "id": "EjE-W74GFbtk",
        "outputId": "d819ea31-ca45-4d12-be23-9e2928e8c7a8"
      },
      "outputs": [
        {
          "output_type": "stream",
          "name": "stdout",
          "text": [
            "1. \"Papa Chevo's Taco Shop\"\n",
            "2. \"Barro's Pizza\"\n",
            "3. \"Nottingham Inn Kitchen & Creamery\"\n",
            "4. \"Chun Fai Chinese Eatery\"\n",
            "5. \"IHOP\"\n"
          ]
        }
      ],
      "source": [
        "user_1 = 'BPKpLbR9NuWFAR9SUWpZOw'\n",
        "restaurants = review['business_id'].unique()\n",
        "user_1_ratings = []\n",
        "for restaurant in restaurants:\n",
        "    user_1_ratings.append((restaurant, algo_knnm.predict(user_1, restaurant).est))\n",
        "\n",
        "sorted_ratings = sorted(user_1_ratings, key=lambda x: x[1], reverse=True)\n",
        "\n",
        "for i in range(5):\n",
        "    business_id = sorted_ratings[i][0]\n",
        "    name = review.loc[review['business_id'] == business_id, 'name'].iloc[0]\n",
        "    print(f'{i+1}. {name}')"
      ],
      "id": "EjE-W74GFbtk"
    },
    {
      "cell_type": "code",
      "execution_count": 22,
      "metadata": {
        "colab": {
          "base_uri": "https://localhost:8080/"
        },
        "id": "bak-r9BBFbtk",
        "outputId": "6974562f-b077-4ebc-990a-fb481ef1d1a2"
      },
      "outputs": [
        {
          "output_type": "stream",
          "name": "stdout",
          "text": [
            "MAE:  0.0293\n",
            "MSE: 0.0029\n",
            "RMSE: 0.0541\n",
            "FCP:  0.4973\n"
          ]
        },
        {
          "output_type": "execute_result",
          "data": {
            "text/plain": [
              "0.49726533840965426"
            ]
          },
          "metadata": {},
          "execution_count": 22
        }
      ],
      "source": [
        "accuracy.mae(predictions)\n",
        "accuracy.mse(predictions)\n",
        "accuracy.rmse(predictions)\n",
        "accuracy.fcp(predictions)"
      ],
      "id": "bak-r9BBFbtk"
    },
    {
      "cell_type": "markdown",
      "metadata": {
        "id": "0dc9ab62"
      },
      "source": [
        "### 3. KNN With ZScore"
      ],
      "id": "0dc9ab62"
    },
    {
      "cell_type": "code",
      "execution_count": 23,
      "metadata": {
        "id": "iz1pMvHzfTyx"
      },
      "outputs": [],
      "source": [
        "parameters_knnz={\n",
        "    'name':['cosine','pearson'],\n",
        "    'min_k': [3, 6, 9],\n",
        "    'min_support': [True, False],\n",
        "    'user_based':[True, False]\n",
        "}"
      ],
      "id": "iz1pMvHzfTyx"
    },
    {
      "cell_type": "code",
      "execution_count": 24,
      "metadata": {
        "id": "8s7sCdb-fhoK"
      },
      "outputs": [],
      "source": [
        "grid_knnz=GridSearchCV(KNNWithZScore, param_grid=parameters_knnz,n_jobs=-1)\n",
        "grid_knnz.fit(data)"
      ],
      "id": "8s7sCdb-fhoK"
    },
    {
      "cell_type": "code",
      "execution_count": 25,
      "metadata": {
        "colab": {
          "base_uri": "https://localhost:8080/"
        },
        "id": "9hEWARl1fn-h",
        "outputId": "c52be6fc-68da-41c1-f5aa-7ff91852b184"
      },
      "outputs": [
        {
          "output_type": "stream",
          "name": "stdout",
          "text": [
            "{'rmse': 0.08348379929824526, 'mae': 0.04812953206133315}\n",
            "{'rmse': {'name': 'cosine', 'min_k': 6, 'min_support': True, 'user_based': True}, 'mae': {'name': 'cosine', 'min_k': 9, 'min_support': True, 'user_based': True}}\n"
          ]
        }
      ],
      "source": [
        "print(grid_knnz.best_score)\n",
        "print(grid_knnz.best_params)"
      ],
      "id": "9hEWARl1fn-h"
    },
    {
      "cell_type": "code",
      "execution_count": 26,
      "metadata": {
        "colab": {
          "base_uri": "https://localhost:8080/"
        },
        "id": "ccf4ee09",
        "outputId": "db67d4a8-d26f-47b1-e48c-d64bb297d4c4"
      },
      "outputs": [
        {
          "output_type": "stream",
          "name": "stdout",
          "text": [
            "Computing the msd similarity matrix...\n",
            "Done computing similarity matrix.\n"
          ]
        },
        {
          "output_type": "execute_result",
          "data": {
            "text/plain": [
              "<surprise.prediction_algorithms.knns.KNNWithZScore at 0x7fcf0d002520>"
            ]
          },
          "metadata": {},
          "execution_count": 26
        }
      ],
      "source": [
        "algo_knnz = grid_knnz.best_estimator[\"rmse\"]\n",
        "algo_knnz.fit(data.build_full_trainset())"
      ],
      "id": "ccf4ee09"
    },
    {
      "cell_type": "markdown",
      "metadata": {
        "id": "6bc24c09"
      },
      "source": [
        "#### Make recommendations"
      ],
      "id": "6bc24c09"
    },
    {
      "cell_type": "code",
      "execution_count": 27,
      "metadata": {
        "id": "8d86394d"
      },
      "outputs": [],
      "source": [
        "predictions = algo_knnz.test(testset)"
      ],
      "id": "8d86394d"
    },
    {
      "cell_type": "markdown",
      "metadata": {
        "id": "e492784c"
      },
      "source": [
        "#### Recommend 5 Restaurants to users"
      ],
      "id": "e492784c"
    },
    {
      "cell_type": "code",
      "execution_count": 28,
      "metadata": {
        "colab": {
          "base_uri": "https://localhost:8080/"
        },
        "id": "2f673c2d",
        "outputId": "60ab774b-cca6-41f0-a094-9957c0c91cd1"
      },
      "outputs": [
        {
          "output_type": "stream",
          "name": "stdout",
          "text": [
            "1. \"Papa Chevo's Taco Shop\"\n",
            "2. \"Barro's Pizza\"\n",
            "3. \"Nottingham Inn Kitchen & Creamery\"\n",
            "4. \"Chun Fai Chinese Eatery\"\n",
            "5. \"IHOP\"\n"
          ]
        }
      ],
      "source": [
        "user_1 = 'BPKpLbR9NuWFAR9SUWpZOw'\n",
        "restaurants = review['business_id'].unique()\n",
        "user_1_ratings = []\n",
        "for restaurant in restaurants:\n",
        "    user_1_ratings.append((restaurant, algo_knnz.predict(user_1, restaurant).est))\n",
        "\n",
        "sorted_ratings = sorted(user_1_ratings, key=lambda x: x[1], reverse=True)\n",
        "\n",
        "for i in range(5):\n",
        "    business_id = sorted_ratings[i][0]\n",
        "    name = review.loc[review['business_id'] == business_id, 'name'].iloc[0]\n",
        "    print(f'{i+1}. {name}')"
      ],
      "id": "2f673c2d"
    },
    {
      "cell_type": "code",
      "execution_count": 29,
      "metadata": {
        "colab": {
          "base_uri": "https://localhost:8080/"
        },
        "id": "2bc76ec3",
        "outputId": "33c5d0ea-2323-447f-fd8e-84e3a9d27061"
      },
      "outputs": [
        {
          "output_type": "stream",
          "name": "stdout",
          "text": [
            "MAE:  0.0287\n",
            "MSE: 0.0029\n",
            "RMSE: 0.0542\n",
            "FCP:  0.4930\n"
          ]
        },
        {
          "output_type": "execute_result",
          "data": {
            "text/plain": [
              "0.4930366986411109"
            ]
          },
          "metadata": {},
          "execution_count": 29
        }
      ],
      "source": [
        "accuracy.mae(predictions)\n",
        "accuracy.mse(predictions)\n",
        "accuracy.rmse(predictions)\n",
        "accuracy.fcp(predictions)"
      ],
      "id": "2bc76ec3"
    },
    {
      "cell_type": "markdown",
      "metadata": {
        "id": "dS0mykCFfb7p"
      },
      "source": [
        "### 5. KNN Basic"
      ],
      "id": "dS0mykCFfb7p"
    },
    {
      "cell_type": "code",
      "execution_count": 30,
      "metadata": {
        "id": "7V-W98L-E60v"
      },
      "outputs": [],
      "source": [
        "parameters_knnbasic={\n",
        "    'name':['cosine','pearson'],\n",
        "    'min_k': [3, 6, 9],\n",
        "    'min_support': [True, False],\n",
        "    'user_based':[True, False]\n",
        "}"
      ],
      "id": "7V-W98L-E60v"
    },
    {
      "cell_type": "code",
      "execution_count": 31,
      "metadata": {
        "id": "TAoedIKxfb7q"
      },
      "outputs": [],
      "source": [
        "grid_knnbasic=GridSearchCV(KNNBasic, param_grid=parameters_knnbasic,n_jobs=-1)\n",
        "grid_knnbasic.fit(data)"
      ],
      "id": "TAoedIKxfb7q"
    },
    {
      "cell_type": "code",
      "execution_count": 39,
      "metadata": {
        "colab": {
          "base_uri": "https://localhost:8080/"
        },
        "id": "FWWqc38jsQsz",
        "outputId": "6cfdba19-9d92-4a68-8958-3ffc2cddd022"
      },
      "outputs": [
        {
          "output_type": "stream",
          "name": "stdout",
          "text": [
            "Computing the msd similarity matrix...\n",
            "Done computing similarity matrix.\n",
            "MAE:  0.0458\n",
            "MSE: 0.0056\n",
            "RMSE: 0.0746\n",
            "FCP:  0.5253\n"
          ]
        },
        {
          "output_type": "execute_result",
          "data": {
            "text/plain": [
              "0.5253082736525312"
            ]
          },
          "metadata": {},
          "execution_count": 39
        }
      ],
      "source": [
        "algo_knnbasic = grid_knnbasic.best_estimator[\"rmse\"]\n",
        "\n",
        "predictions = algo_knnbasic.fit(trainset).test(testset)\n",
        "accuracy.mae(predictions)\n",
        "accuracy.mse(predictions)\n",
        "accuracy.rmse(predictions)\n",
        "accuracy.fcp(predictions)\n"
      ],
      "id": "FWWqc38jsQsz"
    },
    {
      "cell_type": "code",
      "source": [
        "algo = KNNBasic()\n",
        "cross_validate(algo, data, measures=['RMSE', 'FCP', 'MSE', 'MAE'], cv=5, verbose=False)"
      ],
      "metadata": {
        "colab": {
          "base_uri": "https://localhost:8080/"
        },
        "id": "lcNFZVrVi9ZM",
        "outputId": "f290d799-09d3-48bc-9f90-cf5006f54ae9"
      },
      "id": "lcNFZVrVi9ZM",
      "execution_count": 41,
      "outputs": [
        {
          "output_type": "stream",
          "name": "stdout",
          "text": [
            "Computing the msd similarity matrix...\n",
            "Done computing similarity matrix.\n",
            "Computing the msd similarity matrix...\n",
            "Done computing similarity matrix.\n",
            "Computing the msd similarity matrix...\n",
            "Done computing similarity matrix.\n",
            "Computing the msd similarity matrix...\n",
            "Done computing similarity matrix.\n",
            "Computing the msd similarity matrix...\n",
            "Done computing similarity matrix.\n"
          ]
        },
        {
          "output_type": "execute_result",
          "data": {
            "text/plain": [
              "{'test_rmse': array([0.08433431, 0.08545874, 0.08614855, 0.08598624, 0.08540879]),\n",
              " 'test_fcp': array([0.5616848 , 0.56688971, 0.58710803, 0.56705216, 0.55761779]),\n",
              " 'test_mse': array([0.00711228, 0.0073032 , 0.00742157, 0.00739363, 0.00729466]),\n",
              " 'test_mae': array([0.0508648 , 0.05066878, 0.0516045 , 0.05208684, 0.05148891]),\n",
              " 'fit_time': (1.798865556716919,\n",
              "  1.7698490619659424,\n",
              "  1.8515751361846924,\n",
              "  2.0308785438537598,\n",
              "  1.927640676498413),\n",
              " 'test_time': (0.14418530464172363,\n",
              "  0.13407182693481445,\n",
              "  0.24821758270263672,\n",
              "  0.2420668601989746,\n",
              "  0.13592839241027832)}"
            ]
          },
          "metadata": {},
          "execution_count": 41
        }
      ]
    },
    {
      "cell_type": "code",
      "execution_count": 43,
      "metadata": {
        "colab": {
          "base_uri": "https://localhost:8080/"
        },
        "id": "1Bp_dzquM4yS",
        "outputId": "7e4d8d74-522f-4211-be01-7c7639433a34"
      },
      "outputs": [
        {
          "output_type": "stream",
          "name": "stdout",
          "text": [
            "{'rmse': 0.08389916705217312, 'mae': 0.05296204111834677}\n",
            "{'rmse': {'name': 'cosine', 'min_k': 3, 'min_support': True, 'user_based': True}, 'mae': {'name': 'cosine', 'min_k': 3, 'min_support': True, 'user_based': True}}\n"
          ]
        }
      ],
      "source": [
        "print(grid_knnbasic.best_score)\n",
        "print(grid_knnbasic.best_params)"
      ],
      "id": "1Bp_dzquM4yS"
    },
    {
      "cell_type": "markdown",
      "metadata": {
        "id": "pDCOP3y8fb7q"
      },
      "source": [
        "#### Make recommendations"
      ],
      "id": "pDCOP3y8fb7q"
    },
    {
      "cell_type": "code",
      "execution_count": 44,
      "metadata": {
        "id": "_ZOZmqaTfb7q"
      },
      "outputs": [],
      "source": [
        "predictions = algo_knnbasic.test(testset)"
      ],
      "id": "_ZOZmqaTfb7q"
    },
    {
      "cell_type": "markdown",
      "metadata": {
        "id": "secopy7jfb7q"
      },
      "source": [
        "#### Recommend 5 Restaurants to users"
      ],
      "id": "secopy7jfb7q"
    },
    {
      "cell_type": "code",
      "execution_count": 45,
      "metadata": {
        "colab": {
          "base_uri": "https://localhost:8080/"
        },
        "id": "HTO5D0pGfb7q",
        "outputId": "5a3ee891-24ca-4911-81d4-7b2908d09be2"
      },
      "outputs": [
        {
          "output_type": "stream",
          "name": "stdout",
          "text": [
            "1. \"Black Bear Diner\"\n",
            "2. \"The House Brasserie\"\n",
            "3. \"T Cook's\"\n",
            "4. \"Sapori D'Italia\"\n",
            "5. \"Red White & Brew\"\n"
          ]
        }
      ],
      "source": [
        "user_1 = 'BPKpLbR9NuWFAR9SUWpZOw'\n",
        "restaurants = review['business_id'].unique()\n",
        "user_1_ratings = []\n",
        "for restaurant in restaurants:\n",
        "    user_1_ratings.append((restaurant, algo.predict(user_1, restaurant).est))\n",
        "\n",
        "sorted_ratings = sorted(user_1_ratings, key=lambda x: x[1], reverse=True)\n",
        "\n",
        "for i in range(5):\n",
        "    business_id = sorted_ratings[i][0]\n",
        "    name = review.loc[review['business_id'] == business_id, 'name'].iloc[0]\n",
        "    print(f'{i+1}. {name}')"
      ],
      "id": "HTO5D0pGfb7q"
    },
    {
      "cell_type": "markdown",
      "metadata": {
        "id": "7ArBardTNuPp"
      },
      "source": [
        "### Comparision of KNN Algorithms"
      ],
      "id": "7ArBardTNuPp"
    },
    {
      "cell_type": "code",
      "execution_count": 46,
      "metadata": {
        "colab": {
          "base_uri": "https://localhost:8080/",
          "height": 542
        },
        "id": "_iB7LfeCNy0S",
        "outputId": "fd35f58d-83fa-4bfd-f195-9e6ac0d35835"
      },
      "outputs": [
        {
          "output_type": "display_data",
          "data": {
            "text/html": [
              "<html>\n",
              "<head><meta charset=\"utf-8\" /></head>\n",
              "<body>\n",
              "    <div>            <script src=\"https://cdnjs.cloudflare.com/ajax/libs/mathjax/2.7.5/MathJax.js?config=TeX-AMS-MML_SVG\"></script><script type=\"text/javascript\">if (window.MathJax && window.MathJax.Hub && window.MathJax.Hub.Config) {window.MathJax.Hub.Config({SVG: {font: \"STIX-Web\"}});}</script>                <script type=\"text/javascript\">window.PlotlyConfig = {MathJaxConfig: 'local'};</script>\n",
              "        <script src=\"https://cdn.plot.ly/plotly-2.18.2.min.js\"></script>                <div id=\"44550b98-d24c-4c9a-8294-417362c2ba54\" class=\"plotly-graph-div\" style=\"height:525px; width:100%;\"></div>            <script type=\"text/javascript\">                                    window.PLOTLYENV=window.PLOTLYENV || {};                                    if (document.getElementById(\"44550b98-d24c-4c9a-8294-417362c2ba54\")) {                    Plotly.newPlot(                        \"44550b98-d24c-4c9a-8294-417362c2ba54\",                        [{\"colorscale\":[[0.0,\"#440154\"],[0.1111111111111111,\"#482878\"],[0.2222222222222222,\"#3e4989\"],[0.3333333333333333,\"#31688e\"],[0.4444444444444444,\"#26828e\"],[0.5555555555555556,\"#1f9e89\"],[0.6666666666666666,\"#35b779\"],[0.7777777777777778,\"#6ece58\"],[0.8888888888888888,\"#b5de2b\"],[1.0,\"#fde725\"]],\"x\":[\"MAE\",\"MSE\",\"RMSE\",\"FCP\"],\"y\":[\"KNN Basic\",\"KNN Baseline\",\"KNN with Z-Score\",\"KNN with Means\"],\"z\":[[0.0484,0.0062,0.079,0.5175],[0.0464,0.0055,0.0745,0.552],[0.0357,0.0038,0.5415,0.5415],[0.0278,0.0024,0.0492,0.5522]],\"type\":\"heatmap\"}],                        {\"title\":{\"text\":\"Performance Comparison of KNN Algorithms\"},\"xaxis\":{\"title\":{\"text\":\"Evaluation Metric\"}},\"yaxis\":{\"title\":{\"text\":\"KNN Algorithm\"}},\"template\":{\"data\":{\"histogram2dcontour\":[{\"type\":\"histogram2dcontour\",\"colorbar\":{\"outlinewidth\":0,\"ticks\":\"\"},\"colorscale\":[[0.0,\"#0d0887\"],[0.1111111111111111,\"#46039f\"],[0.2222222222222222,\"#7201a8\"],[0.3333333333333333,\"#9c179e\"],[0.4444444444444444,\"#bd3786\"],[0.5555555555555556,\"#d8576b\"],[0.6666666666666666,\"#ed7953\"],[0.7777777777777778,\"#fb9f3a\"],[0.8888888888888888,\"#fdca26\"],[1.0,\"#f0f921\"]]}],\"choropleth\":[{\"type\":\"choropleth\",\"colorbar\":{\"outlinewidth\":0,\"ticks\":\"\"}}],\"histogram2d\":[{\"type\":\"histogram2d\",\"colorbar\":{\"outlinewidth\":0,\"ticks\":\"\"},\"colorscale\":[[0.0,\"#0d0887\"],[0.1111111111111111,\"#46039f\"],[0.2222222222222222,\"#7201a8\"],[0.3333333333333333,\"#9c179e\"],[0.4444444444444444,\"#bd3786\"],[0.5555555555555556,\"#d8576b\"],[0.6666666666666666,\"#ed7953\"],[0.7777777777777778,\"#fb9f3a\"],[0.8888888888888888,\"#fdca26\"],[1.0,\"#f0f921\"]]}],\"heatmap\":[{\"type\":\"heatmap\",\"colorbar\":{\"outlinewidth\":0,\"ticks\":\"\"},\"colorscale\":[[0.0,\"#0d0887\"],[0.1111111111111111,\"#46039f\"],[0.2222222222222222,\"#7201a8\"],[0.3333333333333333,\"#9c179e\"],[0.4444444444444444,\"#bd3786\"],[0.5555555555555556,\"#d8576b\"],[0.6666666666666666,\"#ed7953\"],[0.7777777777777778,\"#fb9f3a\"],[0.8888888888888888,\"#fdca26\"],[1.0,\"#f0f921\"]]}],\"heatmapgl\":[{\"type\":\"heatmapgl\",\"colorbar\":{\"outlinewidth\":0,\"ticks\":\"\"},\"colorscale\":[[0.0,\"#0d0887\"],[0.1111111111111111,\"#46039f\"],[0.2222222222222222,\"#7201a8\"],[0.3333333333333333,\"#9c179e\"],[0.4444444444444444,\"#bd3786\"],[0.5555555555555556,\"#d8576b\"],[0.6666666666666666,\"#ed7953\"],[0.7777777777777778,\"#fb9f3a\"],[0.8888888888888888,\"#fdca26\"],[1.0,\"#f0f921\"]]}],\"contourcarpet\":[{\"type\":\"contourcarpet\",\"colorbar\":{\"outlinewidth\":0,\"ticks\":\"\"}}],\"contour\":[{\"type\":\"contour\",\"colorbar\":{\"outlinewidth\":0,\"ticks\":\"\"},\"colorscale\":[[0.0,\"#0d0887\"],[0.1111111111111111,\"#46039f\"],[0.2222222222222222,\"#7201a8\"],[0.3333333333333333,\"#9c179e\"],[0.4444444444444444,\"#bd3786\"],[0.5555555555555556,\"#d8576b\"],[0.6666666666666666,\"#ed7953\"],[0.7777777777777778,\"#fb9f3a\"],[0.8888888888888888,\"#fdca26\"],[1.0,\"#f0f921\"]]}],\"surface\":[{\"type\":\"surface\",\"colorbar\":{\"outlinewidth\":0,\"ticks\":\"\"},\"colorscale\":[[0.0,\"#0d0887\"],[0.1111111111111111,\"#46039f\"],[0.2222222222222222,\"#7201a8\"],[0.3333333333333333,\"#9c179e\"],[0.4444444444444444,\"#bd3786\"],[0.5555555555555556,\"#d8576b\"],[0.6666666666666666,\"#ed7953\"],[0.7777777777777778,\"#fb9f3a\"],[0.8888888888888888,\"#fdca26\"],[1.0,\"#f0f921\"]]}],\"mesh3d\":[{\"type\":\"mesh3d\",\"colorbar\":{\"outlinewidth\":0,\"ticks\":\"\"}}],\"scatter\":[{\"fillpattern\":{\"fillmode\":\"overlay\",\"size\":10,\"solidity\":0.2},\"type\":\"scatter\"}],\"parcoords\":[{\"type\":\"parcoords\",\"line\":{\"colorbar\":{\"outlinewidth\":0,\"ticks\":\"\"}}}],\"scatterpolargl\":[{\"type\":\"scatterpolargl\",\"marker\":{\"colorbar\":{\"outlinewidth\":0,\"ticks\":\"\"}}}],\"bar\":[{\"error_x\":{\"color\":\"#2a3f5f\"},\"error_y\":{\"color\":\"#2a3f5f\"},\"marker\":{\"line\":{\"color\":\"#E5ECF6\",\"width\":0.5},\"pattern\":{\"fillmode\":\"overlay\",\"size\":10,\"solidity\":0.2}},\"type\":\"bar\"}],\"scattergeo\":[{\"type\":\"scattergeo\",\"marker\":{\"colorbar\":{\"outlinewidth\":0,\"ticks\":\"\"}}}],\"scatterpolar\":[{\"type\":\"scatterpolar\",\"marker\":{\"colorbar\":{\"outlinewidth\":0,\"ticks\":\"\"}}}],\"histogram\":[{\"marker\":{\"pattern\":{\"fillmode\":\"overlay\",\"size\":10,\"solidity\":0.2}},\"type\":\"histogram\"}],\"scattergl\":[{\"type\":\"scattergl\",\"marker\":{\"colorbar\":{\"outlinewidth\":0,\"ticks\":\"\"}}}],\"scatter3d\":[{\"type\":\"scatter3d\",\"line\":{\"colorbar\":{\"outlinewidth\":0,\"ticks\":\"\"}},\"marker\":{\"colorbar\":{\"outlinewidth\":0,\"ticks\":\"\"}}}],\"scattermapbox\":[{\"type\":\"scattermapbox\",\"marker\":{\"colorbar\":{\"outlinewidth\":0,\"ticks\":\"\"}}}],\"scatterternary\":[{\"type\":\"scatterternary\",\"marker\":{\"colorbar\":{\"outlinewidth\":0,\"ticks\":\"\"}}}],\"scattercarpet\":[{\"type\":\"scattercarpet\",\"marker\":{\"colorbar\":{\"outlinewidth\":0,\"ticks\":\"\"}}}],\"carpet\":[{\"aaxis\":{\"endlinecolor\":\"#2a3f5f\",\"gridcolor\":\"white\",\"linecolor\":\"white\",\"minorgridcolor\":\"white\",\"startlinecolor\":\"#2a3f5f\"},\"baxis\":{\"endlinecolor\":\"#2a3f5f\",\"gridcolor\":\"white\",\"linecolor\":\"white\",\"minorgridcolor\":\"white\",\"startlinecolor\":\"#2a3f5f\"},\"type\":\"carpet\"}],\"table\":[{\"cells\":{\"fill\":{\"color\":\"#EBF0F8\"},\"line\":{\"color\":\"white\"}},\"header\":{\"fill\":{\"color\":\"#C8D4E3\"},\"line\":{\"color\":\"white\"}},\"type\":\"table\"}],\"barpolar\":[{\"marker\":{\"line\":{\"color\":\"#E5ECF6\",\"width\":0.5},\"pattern\":{\"fillmode\":\"overlay\",\"size\":10,\"solidity\":0.2}},\"type\":\"barpolar\"}],\"pie\":[{\"automargin\":true,\"type\":\"pie\"}]},\"layout\":{\"autotypenumbers\":\"strict\",\"colorway\":[\"#636efa\",\"#EF553B\",\"#00cc96\",\"#ab63fa\",\"#FFA15A\",\"#19d3f3\",\"#FF6692\",\"#B6E880\",\"#FF97FF\",\"#FECB52\"],\"font\":{\"color\":\"#2a3f5f\"},\"hovermode\":\"closest\",\"hoverlabel\":{\"align\":\"left\"},\"paper_bgcolor\":\"white\",\"plot_bgcolor\":\"#E5ECF6\",\"polar\":{\"bgcolor\":\"#E5ECF6\",\"angularaxis\":{\"gridcolor\":\"white\",\"linecolor\":\"white\",\"ticks\":\"\"},\"radialaxis\":{\"gridcolor\":\"white\",\"linecolor\":\"white\",\"ticks\":\"\"}},\"ternary\":{\"bgcolor\":\"#E5ECF6\",\"aaxis\":{\"gridcolor\":\"white\",\"linecolor\":\"white\",\"ticks\":\"\"},\"baxis\":{\"gridcolor\":\"white\",\"linecolor\":\"white\",\"ticks\":\"\"},\"caxis\":{\"gridcolor\":\"white\",\"linecolor\":\"white\",\"ticks\":\"\"}},\"coloraxis\":{\"colorbar\":{\"outlinewidth\":0,\"ticks\":\"\"}},\"colorscale\":{\"sequential\":[[0.0,\"#0d0887\"],[0.1111111111111111,\"#46039f\"],[0.2222222222222222,\"#7201a8\"],[0.3333333333333333,\"#9c179e\"],[0.4444444444444444,\"#bd3786\"],[0.5555555555555556,\"#d8576b\"],[0.6666666666666666,\"#ed7953\"],[0.7777777777777778,\"#fb9f3a\"],[0.8888888888888888,\"#fdca26\"],[1.0,\"#f0f921\"]],\"sequentialminus\":[[0.0,\"#0d0887\"],[0.1111111111111111,\"#46039f\"],[0.2222222222222222,\"#7201a8\"],[0.3333333333333333,\"#9c179e\"],[0.4444444444444444,\"#bd3786\"],[0.5555555555555556,\"#d8576b\"],[0.6666666666666666,\"#ed7953\"],[0.7777777777777778,\"#fb9f3a\"],[0.8888888888888888,\"#fdca26\"],[1.0,\"#f0f921\"]],\"diverging\":[[0,\"#8e0152\"],[0.1,\"#c51b7d\"],[0.2,\"#de77ae\"],[0.3,\"#f1b6da\"],[0.4,\"#fde0ef\"],[0.5,\"#f7f7f7\"],[0.6,\"#e6f5d0\"],[0.7,\"#b8e186\"],[0.8,\"#7fbc41\"],[0.9,\"#4d9221\"],[1,\"#276419\"]]},\"xaxis\":{\"gridcolor\":\"white\",\"linecolor\":\"white\",\"ticks\":\"\",\"title\":{\"standoff\":15},\"zerolinecolor\":\"white\",\"automargin\":true,\"zerolinewidth\":2},\"yaxis\":{\"gridcolor\":\"white\",\"linecolor\":\"white\",\"ticks\":\"\",\"title\":{\"standoff\":15},\"zerolinecolor\":\"white\",\"automargin\":true,\"zerolinewidth\":2},\"scene\":{\"xaxis\":{\"backgroundcolor\":\"#E5ECF6\",\"gridcolor\":\"white\",\"linecolor\":\"white\",\"showbackground\":true,\"ticks\":\"\",\"zerolinecolor\":\"white\",\"gridwidth\":2},\"yaxis\":{\"backgroundcolor\":\"#E5ECF6\",\"gridcolor\":\"white\",\"linecolor\":\"white\",\"showbackground\":true,\"ticks\":\"\",\"zerolinecolor\":\"white\",\"gridwidth\":2},\"zaxis\":{\"backgroundcolor\":\"#E5ECF6\",\"gridcolor\":\"white\",\"linecolor\":\"white\",\"showbackground\":true,\"ticks\":\"\",\"zerolinecolor\":\"white\",\"gridwidth\":2}},\"shapedefaults\":{\"line\":{\"color\":\"#2a3f5f\"}},\"annotationdefaults\":{\"arrowcolor\":\"#2a3f5f\",\"arrowhead\":0,\"arrowwidth\":1},\"geo\":{\"bgcolor\":\"white\",\"landcolor\":\"#E5ECF6\",\"subunitcolor\":\"white\",\"showland\":true,\"showlakes\":true,\"lakecolor\":\"white\"},\"title\":{\"x\":0.05},\"mapbox\":{\"style\":\"light\"}}}},                        {\"responsive\": true}                    ).then(function(){\n",
              "                            \n",
              "var gd = document.getElementById('44550b98-d24c-4c9a-8294-417362c2ba54');\n",
              "var x = new MutationObserver(function (mutations, observer) {{\n",
              "        var display = window.getComputedStyle(gd).display;\n",
              "        if (!display || display === 'none') {{\n",
              "            console.log([gd, 'removed!']);\n",
              "            Plotly.purge(gd);\n",
              "            observer.disconnect();\n",
              "        }}\n",
              "}});\n",
              "\n",
              "// Listen for the removal of the full notebook cells\n",
              "var notebookContainer = gd.closest('#notebook-container');\n",
              "if (notebookContainer) {{\n",
              "    x.observe(notebookContainer, {childList: true});\n",
              "}}\n",
              "\n",
              "// Listen for the clearing of the current output cell\n",
              "var outputEl = gd.closest('.output');\n",
              "if (outputEl) {{\n",
              "    x.observe(outputEl, {childList: true});\n",
              "}}\n",
              "\n",
              "                        })                };                            </script>        </div>\n",
              "</body>\n",
              "</html>"
            ]
          },
          "metadata": {}
        }
      ],
      "source": [
        "import plotly.graph_objects as go\n",
        "knn_basic_scores = [0.0484, 0.0062, 0.0790, 0.5175]\n",
        "knn_baseline_scores = [0.0464, 0.0055, 0.0745, 0.5520]\n",
        "knn_zscore_scores = [0.0357, 0.0038, 0.5415, 0.5415]\n",
        "knn_means_scores = [0.0278, 0.0024, 0.0492, 0.5522]\n",
        "\n",
        "metrics = ['MAE', 'MSE', 'RMSE', 'FCP']\n",
        "algorithms = ['KNN Basic', 'KNN Baseline', 'KNN with Z-Score', 'KNN with Means']\n",
        "\n",
        "data = [\n",
        "    go.Heatmap(\n",
        "        x=metrics,\n",
        "        y=algorithms,\n",
        "        z=[knn_basic_scores, knn_baseline_scores, knn_zscore_scores, knn_means_scores],\n",
        "        colorscale='Viridis'\n",
        "    )\n",
        "]\n",
        "\n",
        "layout = go.Layout(\n",
        "    title='Performance Comparison of KNN Algorithms',\n",
        "    xaxis=dict(title='Evaluation Metric'),\n",
        "    yaxis=dict(title='KNN Algorithm')\n",
        ")\n",
        "\n",
        "fig = go.Figure(data=data, layout=layout)\n",
        "\n",
        "fig.show()"
      ],
      "id": "_iB7LfeCNy0S"
    },
    {
      "cell_type": "code",
      "execution_count": 47,
      "metadata": {
        "colab": {
          "base_uri": "https://localhost:8080/",
          "height": 542
        },
        "id": "-HNZYstTPowg",
        "outputId": "3a9b09b9-4081-41be-a016-707e839024e3"
      },
      "outputs": [
        {
          "output_type": "display_data",
          "data": {
            "text/html": [
              "<html>\n",
              "<head><meta charset=\"utf-8\" /></head>\n",
              "<body>\n",
              "    <div>            <script src=\"https://cdnjs.cloudflare.com/ajax/libs/mathjax/2.7.5/MathJax.js?config=TeX-AMS-MML_SVG\"></script><script type=\"text/javascript\">if (window.MathJax && window.MathJax.Hub && window.MathJax.Hub.Config) {window.MathJax.Hub.Config({SVG: {font: \"STIX-Web\"}});}</script>                <script type=\"text/javascript\">window.PlotlyConfig = {MathJaxConfig: 'local'};</script>\n",
              "        <script src=\"https://cdn.plot.ly/plotly-2.18.2.min.js\"></script>                <div id=\"7f1fdf2a-404c-4d5d-8578-68b170e6ad49\" class=\"plotly-graph-div\" style=\"height:525px; width:100%;\"></div>            <script type=\"text/javascript\">                                    window.PLOTLYENV=window.PLOTLYENV || {};                                    if (document.getElementById(\"7f1fdf2a-404c-4d5d-8578-68b170e6ad49\")) {                    Plotly.newPlot(                        \"7f1fdf2a-404c-4d5d-8578-68b170e6ad49\",                        [{\"mode\":\"lines+markers\",\"name\":\"KNN Basic\",\"x\":[\"MAE\",\"MSE\",\"RMSE\",\"FCP\"],\"y\":[0.0484,0.0062,0.079,0.5175],\"type\":\"scatter\"},{\"mode\":\"lines+markers\",\"name\":\"KNN Baseline\",\"x\":[\"MAE\",\"MSE\",\"RMSE\",\"FCP\"],\"y\":[0.0464,0.0055,0.0745,0.552],\"type\":\"scatter\"},{\"mode\":\"lines+markers\",\"name\":\"KNN with Z-Score\",\"x\":[\"MAE\",\"MSE\",\"RMSE\",\"FCP\"],\"y\":[0.0357,0.0038,0.5415,0.5415],\"type\":\"scatter\"},{\"mode\":\"lines+markers\",\"name\":\"KNN with Means\",\"x\":[\"MAE\",\"MSE\",\"RMSE\",\"FCP\"],\"y\":[0.0278,0.0024,0.0492,0.5522],\"type\":\"scatter\"}],                        {\"title\":{\"text\":\"Performance Comparison of KNN Algorithms\"},\"xaxis\":{\"title\":{\"text\":\"Evaluation Metric\"}},\"yaxis\":{\"title\":{\"text\":\"Mean Score\"}},\"template\":{\"data\":{\"histogram2dcontour\":[{\"type\":\"histogram2dcontour\",\"colorbar\":{\"outlinewidth\":0,\"ticks\":\"\"},\"colorscale\":[[0.0,\"#0d0887\"],[0.1111111111111111,\"#46039f\"],[0.2222222222222222,\"#7201a8\"],[0.3333333333333333,\"#9c179e\"],[0.4444444444444444,\"#bd3786\"],[0.5555555555555556,\"#d8576b\"],[0.6666666666666666,\"#ed7953\"],[0.7777777777777778,\"#fb9f3a\"],[0.8888888888888888,\"#fdca26\"],[1.0,\"#f0f921\"]]}],\"choropleth\":[{\"type\":\"choropleth\",\"colorbar\":{\"outlinewidth\":0,\"ticks\":\"\"}}],\"histogram2d\":[{\"type\":\"histogram2d\",\"colorbar\":{\"outlinewidth\":0,\"ticks\":\"\"},\"colorscale\":[[0.0,\"#0d0887\"],[0.1111111111111111,\"#46039f\"],[0.2222222222222222,\"#7201a8\"],[0.3333333333333333,\"#9c179e\"],[0.4444444444444444,\"#bd3786\"],[0.5555555555555556,\"#d8576b\"],[0.6666666666666666,\"#ed7953\"],[0.7777777777777778,\"#fb9f3a\"],[0.8888888888888888,\"#fdca26\"],[1.0,\"#f0f921\"]]}],\"heatmap\":[{\"type\":\"heatmap\",\"colorbar\":{\"outlinewidth\":0,\"ticks\":\"\"},\"colorscale\":[[0.0,\"#0d0887\"],[0.1111111111111111,\"#46039f\"],[0.2222222222222222,\"#7201a8\"],[0.3333333333333333,\"#9c179e\"],[0.4444444444444444,\"#bd3786\"],[0.5555555555555556,\"#d8576b\"],[0.6666666666666666,\"#ed7953\"],[0.7777777777777778,\"#fb9f3a\"],[0.8888888888888888,\"#fdca26\"],[1.0,\"#f0f921\"]]}],\"heatmapgl\":[{\"type\":\"heatmapgl\",\"colorbar\":{\"outlinewidth\":0,\"ticks\":\"\"},\"colorscale\":[[0.0,\"#0d0887\"],[0.1111111111111111,\"#46039f\"],[0.2222222222222222,\"#7201a8\"],[0.3333333333333333,\"#9c179e\"],[0.4444444444444444,\"#bd3786\"],[0.5555555555555556,\"#d8576b\"],[0.6666666666666666,\"#ed7953\"],[0.7777777777777778,\"#fb9f3a\"],[0.8888888888888888,\"#fdca26\"],[1.0,\"#f0f921\"]]}],\"contourcarpet\":[{\"type\":\"contourcarpet\",\"colorbar\":{\"outlinewidth\":0,\"ticks\":\"\"}}],\"contour\":[{\"type\":\"contour\",\"colorbar\":{\"outlinewidth\":0,\"ticks\":\"\"},\"colorscale\":[[0.0,\"#0d0887\"],[0.1111111111111111,\"#46039f\"],[0.2222222222222222,\"#7201a8\"],[0.3333333333333333,\"#9c179e\"],[0.4444444444444444,\"#bd3786\"],[0.5555555555555556,\"#d8576b\"],[0.6666666666666666,\"#ed7953\"],[0.7777777777777778,\"#fb9f3a\"],[0.8888888888888888,\"#fdca26\"],[1.0,\"#f0f921\"]]}],\"surface\":[{\"type\":\"surface\",\"colorbar\":{\"outlinewidth\":0,\"ticks\":\"\"},\"colorscale\":[[0.0,\"#0d0887\"],[0.1111111111111111,\"#46039f\"],[0.2222222222222222,\"#7201a8\"],[0.3333333333333333,\"#9c179e\"],[0.4444444444444444,\"#bd3786\"],[0.5555555555555556,\"#d8576b\"],[0.6666666666666666,\"#ed7953\"],[0.7777777777777778,\"#fb9f3a\"],[0.8888888888888888,\"#fdca26\"],[1.0,\"#f0f921\"]]}],\"mesh3d\":[{\"type\":\"mesh3d\",\"colorbar\":{\"outlinewidth\":0,\"ticks\":\"\"}}],\"scatter\":[{\"fillpattern\":{\"fillmode\":\"overlay\",\"size\":10,\"solidity\":0.2},\"type\":\"scatter\"}],\"parcoords\":[{\"type\":\"parcoords\",\"line\":{\"colorbar\":{\"outlinewidth\":0,\"ticks\":\"\"}}}],\"scatterpolargl\":[{\"type\":\"scatterpolargl\",\"marker\":{\"colorbar\":{\"outlinewidth\":0,\"ticks\":\"\"}}}],\"bar\":[{\"error_x\":{\"color\":\"#2a3f5f\"},\"error_y\":{\"color\":\"#2a3f5f\"},\"marker\":{\"line\":{\"color\":\"#E5ECF6\",\"width\":0.5},\"pattern\":{\"fillmode\":\"overlay\",\"size\":10,\"solidity\":0.2}},\"type\":\"bar\"}],\"scattergeo\":[{\"type\":\"scattergeo\",\"marker\":{\"colorbar\":{\"outlinewidth\":0,\"ticks\":\"\"}}}],\"scatterpolar\":[{\"type\":\"scatterpolar\",\"marker\":{\"colorbar\":{\"outlinewidth\":0,\"ticks\":\"\"}}}],\"histogram\":[{\"marker\":{\"pattern\":{\"fillmode\":\"overlay\",\"size\":10,\"solidity\":0.2}},\"type\":\"histogram\"}],\"scattergl\":[{\"type\":\"scattergl\",\"marker\":{\"colorbar\":{\"outlinewidth\":0,\"ticks\":\"\"}}}],\"scatter3d\":[{\"type\":\"scatter3d\",\"line\":{\"colorbar\":{\"outlinewidth\":0,\"ticks\":\"\"}},\"marker\":{\"colorbar\":{\"outlinewidth\":0,\"ticks\":\"\"}}}],\"scattermapbox\":[{\"type\":\"scattermapbox\",\"marker\":{\"colorbar\":{\"outlinewidth\":0,\"ticks\":\"\"}}}],\"scatterternary\":[{\"type\":\"scatterternary\",\"marker\":{\"colorbar\":{\"outlinewidth\":0,\"ticks\":\"\"}}}],\"scattercarpet\":[{\"type\":\"scattercarpet\",\"marker\":{\"colorbar\":{\"outlinewidth\":0,\"ticks\":\"\"}}}],\"carpet\":[{\"aaxis\":{\"endlinecolor\":\"#2a3f5f\",\"gridcolor\":\"white\",\"linecolor\":\"white\",\"minorgridcolor\":\"white\",\"startlinecolor\":\"#2a3f5f\"},\"baxis\":{\"endlinecolor\":\"#2a3f5f\",\"gridcolor\":\"white\",\"linecolor\":\"white\",\"minorgridcolor\":\"white\",\"startlinecolor\":\"#2a3f5f\"},\"type\":\"carpet\"}],\"table\":[{\"cells\":{\"fill\":{\"color\":\"#EBF0F8\"},\"line\":{\"color\":\"white\"}},\"header\":{\"fill\":{\"color\":\"#C8D4E3\"},\"line\":{\"color\":\"white\"}},\"type\":\"table\"}],\"barpolar\":[{\"marker\":{\"line\":{\"color\":\"#E5ECF6\",\"width\":0.5},\"pattern\":{\"fillmode\":\"overlay\",\"size\":10,\"solidity\":0.2}},\"type\":\"barpolar\"}],\"pie\":[{\"automargin\":true,\"type\":\"pie\"}]},\"layout\":{\"autotypenumbers\":\"strict\",\"colorway\":[\"#636efa\",\"#EF553B\",\"#00cc96\",\"#ab63fa\",\"#FFA15A\",\"#19d3f3\",\"#FF6692\",\"#B6E880\",\"#FF97FF\",\"#FECB52\"],\"font\":{\"color\":\"#2a3f5f\"},\"hovermode\":\"closest\",\"hoverlabel\":{\"align\":\"left\"},\"paper_bgcolor\":\"white\",\"plot_bgcolor\":\"#E5ECF6\",\"polar\":{\"bgcolor\":\"#E5ECF6\",\"angularaxis\":{\"gridcolor\":\"white\",\"linecolor\":\"white\",\"ticks\":\"\"},\"radialaxis\":{\"gridcolor\":\"white\",\"linecolor\":\"white\",\"ticks\":\"\"}},\"ternary\":{\"bgcolor\":\"#E5ECF6\",\"aaxis\":{\"gridcolor\":\"white\",\"linecolor\":\"white\",\"ticks\":\"\"},\"baxis\":{\"gridcolor\":\"white\",\"linecolor\":\"white\",\"ticks\":\"\"},\"caxis\":{\"gridcolor\":\"white\",\"linecolor\":\"white\",\"ticks\":\"\"}},\"coloraxis\":{\"colorbar\":{\"outlinewidth\":0,\"ticks\":\"\"}},\"colorscale\":{\"sequential\":[[0.0,\"#0d0887\"],[0.1111111111111111,\"#46039f\"],[0.2222222222222222,\"#7201a8\"],[0.3333333333333333,\"#9c179e\"],[0.4444444444444444,\"#bd3786\"],[0.5555555555555556,\"#d8576b\"],[0.6666666666666666,\"#ed7953\"],[0.7777777777777778,\"#fb9f3a\"],[0.8888888888888888,\"#fdca26\"],[1.0,\"#f0f921\"]],\"sequentialminus\":[[0.0,\"#0d0887\"],[0.1111111111111111,\"#46039f\"],[0.2222222222222222,\"#7201a8\"],[0.3333333333333333,\"#9c179e\"],[0.4444444444444444,\"#bd3786\"],[0.5555555555555556,\"#d8576b\"],[0.6666666666666666,\"#ed7953\"],[0.7777777777777778,\"#fb9f3a\"],[0.8888888888888888,\"#fdca26\"],[1.0,\"#f0f921\"]],\"diverging\":[[0,\"#8e0152\"],[0.1,\"#c51b7d\"],[0.2,\"#de77ae\"],[0.3,\"#f1b6da\"],[0.4,\"#fde0ef\"],[0.5,\"#f7f7f7\"],[0.6,\"#e6f5d0\"],[0.7,\"#b8e186\"],[0.8,\"#7fbc41\"],[0.9,\"#4d9221\"],[1,\"#276419\"]]},\"xaxis\":{\"gridcolor\":\"white\",\"linecolor\":\"white\",\"ticks\":\"\",\"title\":{\"standoff\":15},\"zerolinecolor\":\"white\",\"automargin\":true,\"zerolinewidth\":2},\"yaxis\":{\"gridcolor\":\"white\",\"linecolor\":\"white\",\"ticks\":\"\",\"title\":{\"standoff\":15},\"zerolinecolor\":\"white\",\"automargin\":true,\"zerolinewidth\":2},\"scene\":{\"xaxis\":{\"backgroundcolor\":\"#E5ECF6\",\"gridcolor\":\"white\",\"linecolor\":\"white\",\"showbackground\":true,\"ticks\":\"\",\"zerolinecolor\":\"white\",\"gridwidth\":2},\"yaxis\":{\"backgroundcolor\":\"#E5ECF6\",\"gridcolor\":\"white\",\"linecolor\":\"white\",\"showbackground\":true,\"ticks\":\"\",\"zerolinecolor\":\"white\",\"gridwidth\":2},\"zaxis\":{\"backgroundcolor\":\"#E5ECF6\",\"gridcolor\":\"white\",\"linecolor\":\"white\",\"showbackground\":true,\"ticks\":\"\",\"zerolinecolor\":\"white\",\"gridwidth\":2}},\"shapedefaults\":{\"line\":{\"color\":\"#2a3f5f\"}},\"annotationdefaults\":{\"arrowcolor\":\"#2a3f5f\",\"arrowhead\":0,\"arrowwidth\":1},\"geo\":{\"bgcolor\":\"white\",\"landcolor\":\"#E5ECF6\",\"subunitcolor\":\"white\",\"showland\":true,\"showlakes\":true,\"lakecolor\":\"white\"},\"title\":{\"x\":0.05},\"mapbox\":{\"style\":\"light\"}}}},                        {\"responsive\": true}                    ).then(function(){\n",
              "                            \n",
              "var gd = document.getElementById('7f1fdf2a-404c-4d5d-8578-68b170e6ad49');\n",
              "var x = new MutationObserver(function (mutations, observer) {{\n",
              "        var display = window.getComputedStyle(gd).display;\n",
              "        if (!display || display === 'none') {{\n",
              "            console.log([gd, 'removed!']);\n",
              "            Plotly.purge(gd);\n",
              "            observer.disconnect();\n",
              "        }}\n",
              "}});\n",
              "\n",
              "// Listen for the removal of the full notebook cells\n",
              "var notebookContainer = gd.closest('#notebook-container');\n",
              "if (notebookContainer) {{\n",
              "    x.observe(notebookContainer, {childList: true});\n",
              "}}\n",
              "\n",
              "// Listen for the clearing of the current output cell\n",
              "var outputEl = gd.closest('.output');\n",
              "if (outputEl) {{\n",
              "    x.observe(outputEl, {childList: true});\n",
              "}}\n",
              "\n",
              "                        })                };                            </script>        </div>\n",
              "</body>\n",
              "</html>"
            ]
          },
          "metadata": {}
        }
      ],
      "source": [
        "knn_basic_data = go.Scatter(x=metrics, y=knn_basic_scores, mode='lines+markers', name='KNN Basic')\n",
        "knn_baseline_data = go.Scatter(x=metrics, y=knn_baseline_scores, mode='lines+markers', name='KNN Baseline')\n",
        "knn_zscore_data = go.Scatter(x=metrics, y=knn_zscore_scores, mode='lines+markers', name='KNN with Z-Score')\n",
        "knn_means_data = go.Scatter(x=metrics, y=knn_means_scores, mode='lines+markers', name='KNN with Means')\n",
        "\n",
        "layout = go.Layout(\n",
        "    title='Performance Comparison of KNN Algorithms',\n",
        "    xaxis=dict(title='Evaluation Metric'),\n",
        "    yaxis=dict(title='Mean Score')\n",
        ")\n",
        "\n",
        "fig = go.Figure(data=[knn_basic_data, knn_baseline_data, knn_zscore_data, knn_means_data], layout=layout)\n",
        "\n",
        "fig.show()"
      ],
      "id": "-HNZYstTPowg"
    },
    {
      "cell_type": "markdown",
      "metadata": {
        "id": "j-n8IJ_TeFjM"
      },
      "source": [
        "## 2. NMF"
      ],
      "id": "j-n8IJ_TeFjM"
    },
    {
      "cell_type": "markdown",
      "metadata": {
        "id": "pLJ6gDZte5Z6"
      },
      "source": [
        "### 1. SVD"
      ],
      "id": "pLJ6gDZte5Z6"
    },
    {
      "cell_type": "code",
      "execution_count": 50,
      "metadata": {
        "id": "tsH72b_Jf3Xp"
      },
      "outputs": [],
      "source": [
        "parameters_svd={\n",
        "    'n_factors':[20,50,80],\n",
        "    'reg_all': [0.04, 0.06, 0.10],\n",
        "    'n_epochs': [10, 20, 30, 50, 100],\n",
        "    'lr_all':[0.002, 0.005, 0.01]\n",
        "}"
      ],
      "id": "tsH72b_Jf3Xp"
    },
    {
      "cell_type": "code",
      "execution_count": 53,
      "metadata": {
        "id": "Q2-AZoG1gYd_"
      },
      "outputs": [],
      "source": [
        "grid_svd=GridSearchCV(SVD, param_grid=parameters_svd,n_jobs=-1)\n",
        "grid_svd.fit(data)"
      ],
      "id": "Q2-AZoG1gYd_"
    },
    {
      "cell_type": "code",
      "execution_count": 54,
      "metadata": {
        "colab": {
          "base_uri": "https://localhost:8080/"
        },
        "id": "USq8qMnOk4Un",
        "outputId": "7a5f0119-2d27-4933-a987-1536339922e5"
      },
      "outputs": [
        {
          "output_type": "stream",
          "name": "stdout",
          "text": [
            "{'rmse': 0.08124887839910602, 'mae': 0.04918536892075037}\n",
            "{'rmse': {'n_factors': 50, 'reg_all': 0.1, 'n_epochs': 100, 'lr_all': 0.01}, 'mae': {'n_factors': 50, 'reg_all': 0.1, 'n_epochs': 100, 'lr_all': 0.01}}\n"
          ]
        }
      ],
      "source": [
        "print(grid_svd.best_score)\n",
        "print(grid_svd.best_params)"
      ],
      "id": "USq8qMnOk4Un"
    },
    {
      "cell_type": "code",
      "execution_count": 55,
      "metadata": {
        "colab": {
          "base_uri": "https://localhost:8080/"
        },
        "id": "lRVL898rlKEr",
        "outputId": "da7b12f8-d611-4dbd-dcc9-317d4d159c3a"
      },
      "outputs": [
        {
          "output_type": "execute_result",
          "data": {
            "text/plain": [
              "<surprise.prediction_algorithms.matrix_factorization.SVD at 0x7fcf0d120280>"
            ]
          },
          "metadata": {},
          "execution_count": 55
        }
      ],
      "source": [
        "algo_svd = grid_svd.best_estimator[\"rmse\"]\n",
        "algo_svd.fit(data.build_full_trainset())"
      ],
      "id": "lRVL898rlKEr"
    },
    {
      "cell_type": "code",
      "source": [
        "cross_validate(algo_svd, data, measures=['RMSE', 'FCP', 'MSE', 'MAE'], cv=5, verbose=False)"
      ],
      "metadata": {
        "colab": {
          "base_uri": "https://localhost:8080/"
        },
        "id": "GRvR9D8gkr5w",
        "outputId": "1d442282-7fa9-4773-f062-18cddafecd51"
      },
      "id": "GRvR9D8gkr5w",
      "execution_count": 56,
      "outputs": [
        {
          "output_type": "execute_result",
          "data": {
            "text/plain": [
              "{'test_rmse': array([0.07997775, 0.08053537, 0.08318084, 0.07984584, 0.08262086]),\n",
              " 'test_fcp': array([0.53325904, 0.51191617, 0.50430627, 0.50566666, 0.51123288]),\n",
              " 'test_mse': array([0.00639644, 0.00648595, 0.00691905, 0.00637536, 0.00682621]),\n",
              " 'test_mae': array([0.04828102, 0.04919163, 0.05101161, 0.04849256, 0.05027775]),\n",
              " 'fit_time': (1.8486266136169434,\n",
              "  1.8385465145111084,\n",
              "  1.8329989910125732,\n",
              "  2.0512070655822754,\n",
              "  2.850985050201416),\n",
              " 'test_time': (0.044441938400268555,\n",
              "  0.26224231719970703,\n",
              "  0.04266929626464844,\n",
              "  0.07973051071166992,\n",
              "  0.2905843257904053)}"
            ]
          },
          "metadata": {},
          "execution_count": 56
        }
      ]
    },
    {
      "cell_type": "markdown",
      "metadata": {
        "id": "LGOAQlbXe5Z7"
      },
      "source": [
        "#### Make recommendations"
      ],
      "id": "LGOAQlbXe5Z7"
    },
    {
      "cell_type": "code",
      "execution_count": 57,
      "metadata": {
        "id": "fctrJqaGe5Z7"
      },
      "outputs": [],
      "source": [
        "predictions = algo_svd.test(testset)"
      ],
      "id": "fctrJqaGe5Z7"
    },
    {
      "cell_type": "markdown",
      "metadata": {
        "id": "vid7iGy6e5Z7"
      },
      "source": [
        "#### Recommend 5 Restaurants to users"
      ],
      "id": "vid7iGy6e5Z7"
    },
    {
      "cell_type": "code",
      "execution_count": 58,
      "metadata": {
        "colab": {
          "base_uri": "https://localhost:8080/"
        },
        "id": "UFE0-1_Me5Z7",
        "outputId": "4b972dbe-2ece-4a4d-b69a-a78d33ebc6ae"
      },
      "outputs": [
        {
          "output_type": "stream",
          "name": "stdout",
          "text": [
            "1. \"Charlies  Lakeside Restaurant & Lounge\"\n",
            "2. \"Sonic Drive-In\"\n",
            "3. \"Metro Diner\"\n",
            "4. \"Sid's Cafe\"\n",
            "5. \"Rosita's Place\"\n"
          ]
        }
      ],
      "source": [
        "user_1 = 'BPKpLbR9NuWFAR9SUWpZOw'\n",
        "restaurants = review['business_id'].unique()\n",
        "user_1_ratings = []\n",
        "for restaurant in restaurants:\n",
        "    user_1_ratings.append((restaurant, algo_svd.predict(user_1, restaurant).est))\n",
        "\n",
        "sorted_ratings = sorted(user_1_ratings, key=lambda x: x[1], reverse=True)\n",
        "\n",
        "for i in range(5):\n",
        "    business_id = sorted_ratings[i][0]\n",
        "    name = review.loc[review['business_id'] == business_id, 'name'].iloc[0]\n",
        "    print(f'{i+1}. {name}')"
      ],
      "id": "UFE0-1_Me5Z7"
    },
    {
      "cell_type": "code",
      "execution_count": 59,
      "metadata": {
        "colab": {
          "base_uri": "https://localhost:8080/"
        },
        "id": "SuxBzksne5Z7",
        "outputId": "835aff3b-765b-4047-9586-c4d8ab3079de"
      },
      "outputs": [
        {
          "output_type": "stream",
          "name": "stdout",
          "text": [
            "MAE:  0.0273\n",
            "MSE: 0.0023\n",
            "RMSE: 0.0478\n",
            "FCP:  0.5353\n"
          ]
        },
        {
          "output_type": "execute_result",
          "data": {
            "text/plain": [
              "0.5353064850006839"
            ]
          },
          "metadata": {},
          "execution_count": 59
        }
      ],
      "source": [
        "accuracy.mae(predictions)\n",
        "accuracy.mse(predictions)\n",
        "accuracy.rmse(predictions)\n",
        "accuracy.fcp(predictions)"
      ],
      "id": "SuxBzksne5Z7"
    },
    {
      "cell_type": "code",
      "execution_count": null,
      "metadata": {
        "id": "tkDfK8qle-8g"
      },
      "outputs": [],
      "source": [],
      "id": "tkDfK8qle-8g"
    },
    {
      "cell_type": "markdown",
      "metadata": {
        "id": "je_LlGuXfEyA"
      },
      "source": [
        "### 2. SVDPP"
      ],
      "id": "je_LlGuXfEyA"
    },
    {
      "cell_type": "markdown",
      "metadata": {
        "id": "CSIvrHIW69eG"
      },
      "source": [
        "##### 1. Using Implicit Feeback (Checkins)"
      ],
      "id": "CSIvrHIW69eG"
    },
    {
      "cell_type": "code",
      "execution_count": 60,
      "metadata": {
        "id": "83K9pYN1rOjU"
      },
      "outputs": [],
      "source": [
        "checkin_df = pd.read_csv(\"drive/MyDrive/DIC/yelp_checkin.csv\")"
      ],
      "id": "83K9pYN1rOjU"
    },
    {
      "cell_type": "code",
      "execution_count": 61,
      "metadata": {
        "id": "z8-aulb_ulaI",
        "colab": {
          "base_uri": "https://localhost:8080/",
          "height": 423
        },
        "outputId": "c27f3c2d-63d9-4573-e1b1-ccd816cc41ee"
      },
      "outputs": [
        {
          "output_type": "execute_result",
          "data": {
            "text/plain": [
              "                    business_id  checkins\n",
              "0        3Mc-LxcqeguOXOVT_2ZtCg        12\n",
              "1        SVFx6_epO22bZTZnKwlX7g         4\n",
              "2        vW9aLivd4-IorAfStzsHww         1\n",
              "3        tEzxhauTQddACyqdJ0OPEQ         1\n",
              "4        CEyZU32P-vtMhgqRCaXzMA         1\n",
              "...                         ...       ...\n",
              "3911213  CZKHXlDuy3IagC2W881fyA         7\n",
              "3911214  mUWE-uNGyCiifmboWbyMqQ         1\n",
              "3911215  nFR7dDedxRuBeZz_6Cdalg         1\n",
              "3911216  y3YRUsh8FVih0AhYLx-DWA         1\n",
              "3911217  MfWBM8gcsUn7RC_PmhsHhw         1\n",
              "\n",
              "[3911218 rows x 2 columns]"
            ],
            "text/html": [
              "\n",
              "  <div id=\"df-3dbafa33-faf1-4183-9cfd-89e86eca86f0\">\n",
              "    <div class=\"colab-df-container\">\n",
              "      <div>\n",
              "<style scoped>\n",
              "    .dataframe tbody tr th:only-of-type {\n",
              "        vertical-align: middle;\n",
              "    }\n",
              "\n",
              "    .dataframe tbody tr th {\n",
              "        vertical-align: top;\n",
              "    }\n",
              "\n",
              "    .dataframe thead th {\n",
              "        text-align: right;\n",
              "    }\n",
              "</style>\n",
              "<table border=\"1\" class=\"dataframe\">\n",
              "  <thead>\n",
              "    <tr style=\"text-align: right;\">\n",
              "      <th></th>\n",
              "      <th>business_id</th>\n",
              "      <th>checkins</th>\n",
              "    </tr>\n",
              "  </thead>\n",
              "  <tbody>\n",
              "    <tr>\n",
              "      <th>0</th>\n",
              "      <td>3Mc-LxcqeguOXOVT_2ZtCg</td>\n",
              "      <td>12</td>\n",
              "    </tr>\n",
              "    <tr>\n",
              "      <th>1</th>\n",
              "      <td>SVFx6_epO22bZTZnKwlX7g</td>\n",
              "      <td>4</td>\n",
              "    </tr>\n",
              "    <tr>\n",
              "      <th>2</th>\n",
              "      <td>vW9aLivd4-IorAfStzsHww</td>\n",
              "      <td>1</td>\n",
              "    </tr>\n",
              "    <tr>\n",
              "      <th>3</th>\n",
              "      <td>tEzxhauTQddACyqdJ0OPEQ</td>\n",
              "      <td>1</td>\n",
              "    </tr>\n",
              "    <tr>\n",
              "      <th>4</th>\n",
              "      <td>CEyZU32P-vtMhgqRCaXzMA</td>\n",
              "      <td>1</td>\n",
              "    </tr>\n",
              "    <tr>\n",
              "      <th>...</th>\n",
              "      <td>...</td>\n",
              "      <td>...</td>\n",
              "    </tr>\n",
              "    <tr>\n",
              "      <th>3911213</th>\n",
              "      <td>CZKHXlDuy3IagC2W881fyA</td>\n",
              "      <td>7</td>\n",
              "    </tr>\n",
              "    <tr>\n",
              "      <th>3911214</th>\n",
              "      <td>mUWE-uNGyCiifmboWbyMqQ</td>\n",
              "      <td>1</td>\n",
              "    </tr>\n",
              "    <tr>\n",
              "      <th>3911215</th>\n",
              "      <td>nFR7dDedxRuBeZz_6Cdalg</td>\n",
              "      <td>1</td>\n",
              "    </tr>\n",
              "    <tr>\n",
              "      <th>3911216</th>\n",
              "      <td>y3YRUsh8FVih0AhYLx-DWA</td>\n",
              "      <td>1</td>\n",
              "    </tr>\n",
              "    <tr>\n",
              "      <th>3911217</th>\n",
              "      <td>MfWBM8gcsUn7RC_PmhsHhw</td>\n",
              "      <td>1</td>\n",
              "    </tr>\n",
              "  </tbody>\n",
              "</table>\n",
              "<p>3911218 rows × 2 columns</p>\n",
              "</div>\n",
              "      <button class=\"colab-df-convert\" onclick=\"convertToInteractive('df-3dbafa33-faf1-4183-9cfd-89e86eca86f0')\"\n",
              "              title=\"Convert this dataframe to an interactive table.\"\n",
              "              style=\"display:none;\">\n",
              "        \n",
              "  <svg xmlns=\"http://www.w3.org/2000/svg\" height=\"24px\"viewBox=\"0 0 24 24\"\n",
              "       width=\"24px\">\n",
              "    <path d=\"M0 0h24v24H0V0z\" fill=\"none\"/>\n",
              "    <path d=\"M18.56 5.44l.94 2.06.94-2.06 2.06-.94-2.06-.94-.94-2.06-.94 2.06-2.06.94zm-11 1L8.5 8.5l.94-2.06 2.06-.94-2.06-.94L8.5 2.5l-.94 2.06-2.06.94zm10 10l.94 2.06.94-2.06 2.06-.94-2.06-.94-.94-2.06-.94 2.06-2.06.94z\"/><path d=\"M17.41 7.96l-1.37-1.37c-.4-.4-.92-.59-1.43-.59-.52 0-1.04.2-1.43.59L10.3 9.45l-7.72 7.72c-.78.78-.78 2.05 0 2.83L4 21.41c.39.39.9.59 1.41.59.51 0 1.02-.2 1.41-.59l7.78-7.78 2.81-2.81c.8-.78.8-2.07 0-2.86zM5.41 20L4 18.59l7.72-7.72 1.47 1.35L5.41 20z\"/>\n",
              "  </svg>\n",
              "      </button>\n",
              "      \n",
              "  <style>\n",
              "    .colab-df-container {\n",
              "      display:flex;\n",
              "      flex-wrap:wrap;\n",
              "      gap: 12px;\n",
              "    }\n",
              "\n",
              "    .colab-df-convert {\n",
              "      background-color: #E8F0FE;\n",
              "      border: none;\n",
              "      border-radius: 50%;\n",
              "      cursor: pointer;\n",
              "      display: none;\n",
              "      fill: #1967D2;\n",
              "      height: 32px;\n",
              "      padding: 0 0 0 0;\n",
              "      width: 32px;\n",
              "    }\n",
              "\n",
              "    .colab-df-convert:hover {\n",
              "      background-color: #E2EBFA;\n",
              "      box-shadow: 0px 1px 2px rgba(60, 64, 67, 0.3), 0px 1px 3px 1px rgba(60, 64, 67, 0.15);\n",
              "      fill: #174EA6;\n",
              "    }\n",
              "\n",
              "    [theme=dark] .colab-df-convert {\n",
              "      background-color: #3B4455;\n",
              "      fill: #D2E3FC;\n",
              "    }\n",
              "\n",
              "    [theme=dark] .colab-df-convert:hover {\n",
              "      background-color: #434B5C;\n",
              "      box-shadow: 0px 1px 3px 1px rgba(0, 0, 0, 0.15);\n",
              "      filter: drop-shadow(0px 1px 2px rgba(0, 0, 0, 0.3));\n",
              "      fill: #FFFFFF;\n",
              "    }\n",
              "  </style>\n",
              "\n",
              "      <script>\n",
              "        const buttonEl =\n",
              "          document.querySelector('#df-3dbafa33-faf1-4183-9cfd-89e86eca86f0 button.colab-df-convert');\n",
              "        buttonEl.style.display =\n",
              "          google.colab.kernel.accessAllowed ? 'block' : 'none';\n",
              "\n",
              "        async function convertToInteractive(key) {\n",
              "          const element = document.querySelector('#df-3dbafa33-faf1-4183-9cfd-89e86eca86f0');\n",
              "          const dataTable =\n",
              "            await google.colab.kernel.invokeFunction('convertToInteractive',\n",
              "                                                     [key], {});\n",
              "          if (!dataTable) return;\n",
              "\n",
              "          const docLinkHtml = 'Like what you see? Visit the ' +\n",
              "            '<a target=\"_blank\" href=https://colab.research.google.com/notebooks/data_table.ipynb>data table notebook</a>'\n",
              "            + ' to learn more about interactive tables.';\n",
              "          element.innerHTML = '';\n",
              "          dataTable['output_type'] = 'display_data';\n",
              "          await google.colab.output.renderOutput(dataTable, element);\n",
              "          const docLink = document.createElement('div');\n",
              "          docLink.innerHTML = docLinkHtml;\n",
              "          element.appendChild(docLink);\n",
              "        }\n",
              "      </script>\n",
              "    </div>\n",
              "  </div>\n",
              "  "
            ]
          },
          "metadata": {},
          "execution_count": 61
        }
      ],
      "source": [
        "checkin_df = checkin_df.drop(['weekday','hour'], axis=1)\n",
        "checkin_df"
      ],
      "id": "z8-aulb_ulaI"
    },
    {
      "cell_type": "code",
      "execution_count": 62,
      "metadata": {
        "id": "o4M7-d1Lvat7"
      },
      "outputs": [],
      "source": [
        "checkin_df = checkin_df.groupby('business_id')['checkins'].sum()"
      ],
      "id": "o4M7-d1Lvat7"
    },
    {
      "cell_type": "code",
      "execution_count": 63,
      "metadata": {
        "id": "Tm5vMGnCuPjF"
      },
      "outputs": [],
      "source": [
        "business_checkin_df = pd.merge(review, checkin_df, on='business_id', how='left')"
      ],
      "id": "Tm5vMGnCuPjF"
    },
    {
      "cell_type": "code",
      "execution_count": 64,
      "metadata": {
        "colab": {
          "base_uri": "https://localhost:8080/"
        },
        "id": "BWoRC8Zq0-Bz",
        "outputId": "be141773-8ad7-45ef-ef25-566f491290f1"
      },
      "outputs": [
        {
          "output_type": "stream",
          "name": "stdout",
          "text": [
            "16322.0\n",
            "0.0\n"
          ]
        }
      ],
      "source": [
        "business_checkin_df.fillna(0, inplace=True)\n",
        "business_checkin_df\n",
        "print(business_checkin_df['checkins'].max())\n",
        "print(business_checkin_df['checkins'].min())"
      ],
      "id": "BWoRC8Zq0-Bz"
    },
    {
      "cell_type": "code",
      "execution_count": 65,
      "metadata": {
        "colab": {
          "base_uri": "https://localhost:8080/"
        },
        "id": "nE8Yyxeq6ZkP",
        "outputId": "9d664e87-6902-4ee7-8545-37d71b058bed"
      },
      "outputs": [
        {
          "output_type": "execute_result",
          "data": {
            "text/plain": [
              "<surprise.prediction_algorithms.matrix_factorization.SVDpp at 0x7fcf02596100>"
            ]
          },
          "metadata": {},
          "execution_count": 65
        }
      ],
      "source": [
        "reader_checkin = Reader(rating_scale=(0, 32393))\n",
        "data_checkins = Dataset.load_from_df(business_checkin_df[['user_id', 'business_id', 'checkins']], reader_checkin)\n",
        "trainset_checkin, testset_checkin = train_test_split(data, test_size=0.2)\n",
        "algo = SVDpp()\n",
        "algo.fit(trainset_checkin)"
      ],
      "id": "nE8Yyxeq6ZkP"
    },
    {
      "cell_type": "markdown",
      "metadata": {
        "id": "GTtOEzEGfEyB"
      },
      "source": [
        "###### Make recommendations"
      ],
      "id": "GTtOEzEGfEyB"
    },
    {
      "cell_type": "code",
      "execution_count": 66,
      "metadata": {
        "id": "T6LaNFv3fEyB"
      },
      "outputs": [],
      "source": [
        "predictions = algo.test(testset_checkin)"
      ],
      "id": "T6LaNFv3fEyB"
    },
    {
      "cell_type": "markdown",
      "metadata": {
        "id": "uVrgRcJzfEyB"
      },
      "source": [
        "###### Recommend 5 Restaurants to users"
      ],
      "id": "uVrgRcJzfEyB"
    },
    {
      "cell_type": "code",
      "execution_count": 67,
      "metadata": {
        "colab": {
          "base_uri": "https://localhost:8080/"
        },
        "id": "0dQVX5_1fEyB",
        "outputId": "487f0687-995a-4747-e0ed-cf9626bcdc8d"
      },
      "outputs": [
        {
          "output_type": "stream",
          "name": "stdout",
          "text": [
            "1. \"Bachi Burger\"\n",
            "2. \"Grand Café\"\n",
            "3. \"Sonic Drive-In\"\n",
            "4. \"Carmine's Pizza Kitchen\"\n",
            "5. \"Metro Diner\"\n"
          ]
        }
      ],
      "source": [
        "user_1 = 'BPKpLbR9NuWFAR9SUWpZOw'\n",
        "restaurants = review['business_id'].unique()\n",
        "user_1_ratings = []\n",
        "for restaurant in restaurants:\n",
        "    user_1_ratings.append((restaurant, algo.predict(user_1, restaurant).est))\n",
        "\n",
        "sorted_ratings = sorted(user_1_ratings, key=lambda x: x[1], reverse=True)\n",
        "\n",
        "for i in range(5):\n",
        "    business_id = sorted_ratings[i][0]\n",
        "    name = review.loc[review['business_id'] == business_id, 'name'].iloc[0]\n",
        "    print(f'{i+1}. {name}')"
      ],
      "id": "0dQVX5_1fEyB"
    },
    {
      "cell_type": "code",
      "execution_count": 68,
      "metadata": {
        "colab": {
          "base_uri": "https://localhost:8080/"
        },
        "id": "LIfVANVNfEyB",
        "outputId": "ffa0aefb-2184-4cea-c43f-9cc0bbacd295"
      },
      "outputs": [
        {
          "output_type": "stream",
          "name": "stdout",
          "text": [
            "MAE:  0.0572\n",
            "MSE: 0.0076\n",
            "RMSE: 0.0870\n",
            "FCP:  0.4860\n"
          ]
        },
        {
          "output_type": "execute_result",
          "data": {
            "text/plain": [
              "0.4859530535862487"
            ]
          },
          "metadata": {},
          "execution_count": 68
        }
      ],
      "source": [
        "accuracy.mae(predictions)\n",
        "accuracy.mse(predictions)\n",
        "accuracy.rmse(predictions)\n",
        "accuracy.fcp(predictions)"
      ],
      "id": "LIfVANVNfEyB"
    },
    {
      "cell_type": "markdown",
      "metadata": {
        "id": "hceP9IwV7PBM"
      },
      "source": [
        "##### 2. Using Explicit Feedback (Ratings)"
      ],
      "id": "hceP9IwV7PBM"
    },
    {
      "cell_type": "markdown",
      "metadata": {
        "id": "YbhoMtAn7NcV"
      },
      "source": [
        "###### Make recommendations"
      ],
      "id": "YbhoMtAn7NcV"
    },
    {
      "cell_type": "code",
      "execution_count": 69,
      "metadata": {
        "id": "3ay-tnFr8kE-"
      },
      "outputs": [],
      "source": [
        "parameters={\n",
        "    'n_factors':[20,50],\n",
        "    'reg_all': [0.04, 0.06],\n",
        "    'n_epochs': [10, 20],\n",
        "    'lr_all':[0.002, 0.005]\n",
        "}"
      ],
      "id": "3ay-tnFr8kE-"
    },
    {
      "cell_type": "code",
      "execution_count": 70,
      "metadata": {
        "id": "J8n6lyVP8kE-"
      },
      "outputs": [],
      "source": [
        "grid=GridSearchCV(SVDpp, param_grid=parameters,n_jobs=-1)\n",
        "grid.fit(data)"
      ],
      "id": "J8n6lyVP8kE-"
    },
    {
      "cell_type": "code",
      "execution_count": 71,
      "metadata": {
        "colab": {
          "base_uri": "https://localhost:8080/"
        },
        "id": "NEpoFT2c8kE-",
        "outputId": "d24807a2-3b56-43a1-caab-795d77eaacef"
      },
      "outputs": [
        {
          "output_type": "stream",
          "name": "stdout",
          "text": [
            "{'rmse': 0.0871196438122511, 'mae': 0.056399116698772164}\n",
            "{'rmse': {'n_factors': 20, 'reg_all': 0.06, 'n_epochs': 20, 'lr_all': 0.005}, 'mae': {'n_factors': 20, 'reg_all': 0.06, 'n_epochs': 20, 'lr_all': 0.005}}\n"
          ]
        }
      ],
      "source": [
        "print(grid.best_score)\n",
        "print(grid.best_params)"
      ],
      "id": "NEpoFT2c8kE-"
    },
    {
      "cell_type": "code",
      "execution_count": 72,
      "metadata": {
        "colab": {
          "base_uri": "https://localhost:8080/"
        },
        "id": "Ps9D9V2_8kE_",
        "outputId": "fb3984f1-76d9-46d2-c259-4166eba125cd"
      },
      "outputs": [
        {
          "output_type": "execute_result",
          "data": {
            "text/plain": [
              "<surprise.prediction_algorithms.matrix_factorization.SVDpp at 0x7fcf0cddd700>"
            ]
          },
          "metadata": {},
          "execution_count": 72
        }
      ],
      "source": [
        "algo = grid.best_estimator[\"rmse\"]\n",
        "algo.fit(data.build_full_trainset())"
      ],
      "id": "Ps9D9V2_8kE_"
    },
    {
      "cell_type": "code",
      "execution_count": 73,
      "metadata": {
        "id": "ULLrXvP-7NcV"
      },
      "outputs": [],
      "source": [
        "predictions = algo.test(testset)"
      ],
      "id": "ULLrXvP-7NcV"
    },
    {
      "cell_type": "markdown",
      "metadata": {
        "id": "wKluoSVK7NcV"
      },
      "source": [
        "###### Recommend 5 Restaurants to users"
      ],
      "id": "wKluoSVK7NcV"
    },
    {
      "cell_type": "code",
      "execution_count": 74,
      "metadata": {
        "colab": {
          "base_uri": "https://localhost:8080/"
        },
        "id": "eKA_qdMl7NcV",
        "outputId": "862a90bd-df41-4d39-f1fa-18ad8634fa71"
      },
      "outputs": [
        {
          "output_type": "stream",
          "name": "stdout",
          "text": [
            "1. \"Papa Chevo's Taco Shop\"\n",
            "2. \"Barro's Pizza\"\n",
            "3. \"Bachi Burger\"\n",
            "4. \"Capo's Italian Cuisine\"\n",
            "5. \"The Peppermill Restaurant & Fireside Lounge\"\n"
          ]
        }
      ],
      "source": [
        "user_1 = 'BPKpLbR9NuWFAR9SUWpZOw'\n",
        "restaurants = review['business_id'].unique()\n",
        "user_1_ratings = []\n",
        "for restaurant in restaurants:\n",
        "    user_1_ratings.append((restaurant, algo.predict(user_1, restaurant).est))\n",
        "\n",
        "sorted_ratings = sorted(user_1_ratings, key=lambda x: x[1], reverse=True)\n",
        "\n",
        "for i in range(5):\n",
        "    business_id = sorted_ratings[i][0]\n",
        "    name = review.loc[review['business_id'] == business_id, 'name'].iloc[0]\n",
        "    print(f'{i+1}. {name}')"
      ],
      "id": "eKA_qdMl7NcV"
    },
    {
      "cell_type": "code",
      "execution_count": 75,
      "metadata": {
        "colab": {
          "base_uri": "https://localhost:8080/"
        },
        "id": "joMTEGFC7NcV",
        "outputId": "a15fe9f0-8e55-447f-c29d-07188ba1bbf4"
      },
      "outputs": [
        {
          "output_type": "stream",
          "name": "stdout",
          "text": [
            "MAE:  0.0467\n",
            "MSE: 0.0050\n",
            "RMSE: 0.0709\n",
            "FCP:  0.5278\n"
          ]
        },
        {
          "output_type": "execute_result",
          "data": {
            "text/plain": [
              "0.5278499433527367"
            ]
          },
          "metadata": {},
          "execution_count": 75
        }
      ],
      "source": [
        "accuracy.mae(predictions)\n",
        "accuracy.mse(predictions)\n",
        "accuracy.rmse(predictions)\n",
        "accuracy.fcp(predictions)"
      ],
      "id": "joMTEGFC7NcV"
    },
    {
      "cell_type": "markdown",
      "metadata": {
        "id": "l3SbofxS-brk"
      },
      "source": [
        "### 3. NMF"
      ],
      "id": "l3SbofxS-brk"
    },
    {
      "cell_type": "code",
      "execution_count": 76,
      "metadata": {
        "id": "LrxnB8j1BKnF"
      },
      "outputs": [],
      "source": [
        "parameters={\n",
        "    'n_factors':[20,50, 80],\n",
        "    'n_epochs': [10, 20, 30]\n",
        "}"
      ],
      "id": "LrxnB8j1BKnF"
    },
    {
      "cell_type": "code",
      "execution_count": 77,
      "metadata": {
        "id": "OceqVC0gBKnL"
      },
      "outputs": [],
      "source": [
        "grid=GridSearchCV(NMF, param_grid=parameters,n_jobs=-1)\n",
        "grid.fit(data)"
      ],
      "id": "OceqVC0gBKnL"
    },
    {
      "cell_type": "code",
      "execution_count": 78,
      "metadata": {
        "colab": {
          "base_uri": "https://localhost:8080/"
        },
        "id": "UXLuSp1kBKnL",
        "outputId": "97a4469c-109a-4c0e-cdc3-a8274fd18862"
      },
      "outputs": [
        {
          "output_type": "stream",
          "name": "stdout",
          "text": [
            "{'rmse': 0.09001170938603195, 'mae': 0.04905255883377468}\n",
            "{'rmse': {'n_factors': 50, 'n_epochs': 10}, 'mae': {'n_factors': 50, 'n_epochs': 10}}\n"
          ]
        }
      ],
      "source": [
        "print(grid.best_score)\n",
        "print(grid.best_params)"
      ],
      "id": "UXLuSp1kBKnL"
    },
    {
      "cell_type": "code",
      "execution_count": 79,
      "metadata": {
        "colab": {
          "base_uri": "https://localhost:8080/"
        },
        "id": "giXFduz2BKnL",
        "outputId": "925faa01-eaa4-4245-976f-17642ce7db68"
      },
      "outputs": [
        {
          "output_type": "execute_result",
          "data": {
            "text/plain": [
              "<surprise.prediction_algorithms.matrix_factorization.NMF at 0x7fcf014e0280>"
            ]
          },
          "metadata": {},
          "execution_count": 79
        }
      ],
      "source": [
        "algo = grid.best_estimator[\"rmse\"]\n",
        "algo.fit(data.build_full_trainset())"
      ],
      "id": "giXFduz2BKnL"
    },
    {
      "cell_type": "code",
      "execution_count": 80,
      "metadata": {
        "colab": {
          "base_uri": "https://localhost:8080/"
        },
        "id": "hYJ22gTF-brk",
        "outputId": "d9d397bc-ab59-4a2d-9c89-2926c5404234"
      },
      "outputs": [
        {
          "output_type": "execute_result",
          "data": {
            "text/plain": [
              "<surprise.prediction_algorithms.matrix_factorization.NMF at 0x7fcf014e0ac0>"
            ]
          },
          "metadata": {},
          "execution_count": 80
        }
      ],
      "source": [
        "algo = NMF()\n",
        "algo.fit(trainset)"
      ],
      "id": "hYJ22gTF-brk"
    },
    {
      "cell_type": "markdown",
      "metadata": {
        "id": "GgD_nHXy-brk"
      },
      "source": [
        "#### Make recommendations"
      ],
      "id": "GgD_nHXy-brk"
    },
    {
      "cell_type": "code",
      "execution_count": 81,
      "metadata": {
        "id": "sEbBLNPJ-brk"
      },
      "outputs": [],
      "source": [
        "predictions = algo.test(testset)"
      ],
      "id": "sEbBLNPJ-brk"
    },
    {
      "cell_type": "markdown",
      "metadata": {
        "id": "YymGp9CJ-brk"
      },
      "source": [
        "#### Recommend 5 Restaurants to users"
      ],
      "id": "YymGp9CJ-brk"
    },
    {
      "cell_type": "code",
      "execution_count": 82,
      "metadata": {
        "colab": {
          "base_uri": "https://localhost:8080/"
        },
        "id": "PwbC9yxc-brk",
        "outputId": "12329938-adbf-41d2-eed7-fa1e07459980"
      },
      "outputs": [
        {
          "output_type": "stream",
          "name": "stdout",
          "text": [
            "1. \"Panda Express\"\n",
            "2. \"Red Robin Gourmet Burgers\"\n",
            "3. \"Nara Hookah Lounge & Bar\"\n",
            "4. \"Hong Phat Restaurant\"\n",
            "5. \"Denny's\"\n"
          ]
        }
      ],
      "source": [
        "user_1 = 'BPKpLbR9NuWFAR9SUWpZOw'\n",
        "restaurants = review['business_id'].unique()\n",
        "user_1_ratings = []\n",
        "for restaurant in restaurants:\n",
        "    user_1_ratings.append((restaurant, algo.predict(user_1, restaurant).est))\n",
        "\n",
        "sorted_ratings = sorted(user_1_ratings, key=lambda x: x[1], reverse=True)\n",
        "\n",
        "for i in range(5):\n",
        "    business_id = sorted_ratings[i][0]\n",
        "    name = review.loc[review['business_id'] == business_id, 'name'].iloc[0]\n",
        "    print(f'{i+1}. {name}')"
      ],
      "id": "PwbC9yxc-brk"
    },
    {
      "cell_type": "code",
      "execution_count": 83,
      "metadata": {
        "colab": {
          "base_uri": "https://localhost:8080/"
        },
        "id": "i1VA9KH_-brk",
        "outputId": "78356c90-0a1f-4708-8e18-c7304c7c22dc"
      },
      "outputs": [
        {
          "output_type": "stream",
          "name": "stdout",
          "text": [
            "MAE:  0.0644\n",
            "MSE: 0.0048\n",
            "RMSE: 0.0690\n",
            "FCP:  0.5550\n"
          ]
        },
        {
          "output_type": "execute_result",
          "data": {
            "text/plain": [
              "0.5549707191294283"
            ]
          },
          "metadata": {},
          "execution_count": 83
        }
      ],
      "source": [
        "accuracy.mae(predictions)\n",
        "accuracy.mse(predictions)\n",
        "accuracy.rmse(predictions)\n",
        "accuracy.fcp(predictions)"
      ],
      "id": "i1VA9KH_-brk"
    },
    {
      "cell_type": "markdown",
      "metadata": {
        "id": "lajEyJ2lJd9q"
      },
      "source": [
        "### Comparing Performance of NMF techniques"
      ],
      "id": "lajEyJ2lJd9q"
    },
    {
      "cell_type": "code",
      "execution_count": 84,
      "metadata": {
        "colab": {
          "base_uri": "https://localhost:8080/",
          "height": 542
        },
        "id": "Oh_i2P86DWbE",
        "outputId": "3778db71-0bef-41f8-df19-cb8b5bc997d8"
      },
      "outputs": [
        {
          "output_type": "display_data",
          "data": {
            "text/html": [
              "<html>\n",
              "<head><meta charset=\"utf-8\" /></head>\n",
              "<body>\n",
              "    <div>            <script src=\"https://cdnjs.cloudflare.com/ajax/libs/mathjax/2.7.5/MathJax.js?config=TeX-AMS-MML_SVG\"></script><script type=\"text/javascript\">if (window.MathJax && window.MathJax.Hub && window.MathJax.Hub.Config) {window.MathJax.Hub.Config({SVG: {font: \"STIX-Web\"}});}</script>                <script type=\"text/javascript\">window.PlotlyConfig = {MathJaxConfig: 'local'};</script>\n",
              "        <script src=\"https://cdn.plot.ly/plotly-2.18.2.min.js\"></script>                <div id=\"9c5f905e-a9f0-464b-92be-9c4c16108a11\" class=\"plotly-graph-div\" style=\"height:525px; width:100%;\"></div>            <script type=\"text/javascript\">                                    window.PLOTLYENV=window.PLOTLYENV || {};                                    if (document.getElementById(\"9c5f905e-a9f0-464b-92be-9c4c16108a11\")) {                    Plotly.newPlot(                        \"9c5f905e-a9f0-464b-92be-9c4c16108a11\",                        [{\"name\":\"RMSE\",\"x\":[\"SVD\",\"SVDpp\",\"NMF\"],\"y\":[0.067,0.0766,0.0851],\"type\":\"bar\"},{\"name\":\"MSE\",\"x\":[\"SVD\",\"SVDpp\",\"NMF\"],\"y\":[0.0045,0.0059,0.0072],\"type\":\"bar\"},{\"name\":\"MAE\",\"x\":[\"SVD\",\"SVDpp\",\"NMF\"],\"y\":[0.0439,0.0506,0.0452],\"type\":\"bar\"},{\"name\":\"FCP\",\"x\":[\"SVD\",\"SVDpp\",\"NMF\"],\"y\":[0.5509,0.5359,0.2291],\"type\":\"bar\"}],                        {\"template\":{\"data\":{\"histogram2dcontour\":[{\"type\":\"histogram2dcontour\",\"colorbar\":{\"outlinewidth\":0,\"ticks\":\"\"},\"colorscale\":[[0.0,\"#0d0887\"],[0.1111111111111111,\"#46039f\"],[0.2222222222222222,\"#7201a8\"],[0.3333333333333333,\"#9c179e\"],[0.4444444444444444,\"#bd3786\"],[0.5555555555555556,\"#d8576b\"],[0.6666666666666666,\"#ed7953\"],[0.7777777777777778,\"#fb9f3a\"],[0.8888888888888888,\"#fdca26\"],[1.0,\"#f0f921\"]]}],\"choropleth\":[{\"type\":\"choropleth\",\"colorbar\":{\"outlinewidth\":0,\"ticks\":\"\"}}],\"histogram2d\":[{\"type\":\"histogram2d\",\"colorbar\":{\"outlinewidth\":0,\"ticks\":\"\"},\"colorscale\":[[0.0,\"#0d0887\"],[0.1111111111111111,\"#46039f\"],[0.2222222222222222,\"#7201a8\"],[0.3333333333333333,\"#9c179e\"],[0.4444444444444444,\"#bd3786\"],[0.5555555555555556,\"#d8576b\"],[0.6666666666666666,\"#ed7953\"],[0.7777777777777778,\"#fb9f3a\"],[0.8888888888888888,\"#fdca26\"],[1.0,\"#f0f921\"]]}],\"heatmap\":[{\"type\":\"heatmap\",\"colorbar\":{\"outlinewidth\":0,\"ticks\":\"\"},\"colorscale\":[[0.0,\"#0d0887\"],[0.1111111111111111,\"#46039f\"],[0.2222222222222222,\"#7201a8\"],[0.3333333333333333,\"#9c179e\"],[0.4444444444444444,\"#bd3786\"],[0.5555555555555556,\"#d8576b\"],[0.6666666666666666,\"#ed7953\"],[0.7777777777777778,\"#fb9f3a\"],[0.8888888888888888,\"#fdca26\"],[1.0,\"#f0f921\"]]}],\"heatmapgl\":[{\"type\":\"heatmapgl\",\"colorbar\":{\"outlinewidth\":0,\"ticks\":\"\"},\"colorscale\":[[0.0,\"#0d0887\"],[0.1111111111111111,\"#46039f\"],[0.2222222222222222,\"#7201a8\"],[0.3333333333333333,\"#9c179e\"],[0.4444444444444444,\"#bd3786\"],[0.5555555555555556,\"#d8576b\"],[0.6666666666666666,\"#ed7953\"],[0.7777777777777778,\"#fb9f3a\"],[0.8888888888888888,\"#fdca26\"],[1.0,\"#f0f921\"]]}],\"contourcarpet\":[{\"type\":\"contourcarpet\",\"colorbar\":{\"outlinewidth\":0,\"ticks\":\"\"}}],\"contour\":[{\"type\":\"contour\",\"colorbar\":{\"outlinewidth\":0,\"ticks\":\"\"},\"colorscale\":[[0.0,\"#0d0887\"],[0.1111111111111111,\"#46039f\"],[0.2222222222222222,\"#7201a8\"],[0.3333333333333333,\"#9c179e\"],[0.4444444444444444,\"#bd3786\"],[0.5555555555555556,\"#d8576b\"],[0.6666666666666666,\"#ed7953\"],[0.7777777777777778,\"#fb9f3a\"],[0.8888888888888888,\"#fdca26\"],[1.0,\"#f0f921\"]]}],\"surface\":[{\"type\":\"surface\",\"colorbar\":{\"outlinewidth\":0,\"ticks\":\"\"},\"colorscale\":[[0.0,\"#0d0887\"],[0.1111111111111111,\"#46039f\"],[0.2222222222222222,\"#7201a8\"],[0.3333333333333333,\"#9c179e\"],[0.4444444444444444,\"#bd3786\"],[0.5555555555555556,\"#d8576b\"],[0.6666666666666666,\"#ed7953\"],[0.7777777777777778,\"#fb9f3a\"],[0.8888888888888888,\"#fdca26\"],[1.0,\"#f0f921\"]]}],\"mesh3d\":[{\"type\":\"mesh3d\",\"colorbar\":{\"outlinewidth\":0,\"ticks\":\"\"}}],\"scatter\":[{\"fillpattern\":{\"fillmode\":\"overlay\",\"size\":10,\"solidity\":0.2},\"type\":\"scatter\"}],\"parcoords\":[{\"type\":\"parcoords\",\"line\":{\"colorbar\":{\"outlinewidth\":0,\"ticks\":\"\"}}}],\"scatterpolargl\":[{\"type\":\"scatterpolargl\",\"marker\":{\"colorbar\":{\"outlinewidth\":0,\"ticks\":\"\"}}}],\"bar\":[{\"error_x\":{\"color\":\"#2a3f5f\"},\"error_y\":{\"color\":\"#2a3f5f\"},\"marker\":{\"line\":{\"color\":\"#E5ECF6\",\"width\":0.5},\"pattern\":{\"fillmode\":\"overlay\",\"size\":10,\"solidity\":0.2}},\"type\":\"bar\"}],\"scattergeo\":[{\"type\":\"scattergeo\",\"marker\":{\"colorbar\":{\"outlinewidth\":0,\"ticks\":\"\"}}}],\"scatterpolar\":[{\"type\":\"scatterpolar\",\"marker\":{\"colorbar\":{\"outlinewidth\":0,\"ticks\":\"\"}}}],\"histogram\":[{\"marker\":{\"pattern\":{\"fillmode\":\"overlay\",\"size\":10,\"solidity\":0.2}},\"type\":\"histogram\"}],\"scattergl\":[{\"type\":\"scattergl\",\"marker\":{\"colorbar\":{\"outlinewidth\":0,\"ticks\":\"\"}}}],\"scatter3d\":[{\"type\":\"scatter3d\",\"line\":{\"colorbar\":{\"outlinewidth\":0,\"ticks\":\"\"}},\"marker\":{\"colorbar\":{\"outlinewidth\":0,\"ticks\":\"\"}}}],\"scattermapbox\":[{\"type\":\"scattermapbox\",\"marker\":{\"colorbar\":{\"outlinewidth\":0,\"ticks\":\"\"}}}],\"scatterternary\":[{\"type\":\"scatterternary\",\"marker\":{\"colorbar\":{\"outlinewidth\":0,\"ticks\":\"\"}}}],\"scattercarpet\":[{\"type\":\"scattercarpet\",\"marker\":{\"colorbar\":{\"outlinewidth\":0,\"ticks\":\"\"}}}],\"carpet\":[{\"aaxis\":{\"endlinecolor\":\"#2a3f5f\",\"gridcolor\":\"white\",\"linecolor\":\"white\",\"minorgridcolor\":\"white\",\"startlinecolor\":\"#2a3f5f\"},\"baxis\":{\"endlinecolor\":\"#2a3f5f\",\"gridcolor\":\"white\",\"linecolor\":\"white\",\"minorgridcolor\":\"white\",\"startlinecolor\":\"#2a3f5f\"},\"type\":\"carpet\"}],\"table\":[{\"cells\":{\"fill\":{\"color\":\"#EBF0F8\"},\"line\":{\"color\":\"white\"}},\"header\":{\"fill\":{\"color\":\"#C8D4E3\"},\"line\":{\"color\":\"white\"}},\"type\":\"table\"}],\"barpolar\":[{\"marker\":{\"line\":{\"color\":\"#E5ECF6\",\"width\":0.5},\"pattern\":{\"fillmode\":\"overlay\",\"size\":10,\"solidity\":0.2}},\"type\":\"barpolar\"}],\"pie\":[{\"automargin\":true,\"type\":\"pie\"}]},\"layout\":{\"autotypenumbers\":\"strict\",\"colorway\":[\"#636efa\",\"#EF553B\",\"#00cc96\",\"#ab63fa\",\"#FFA15A\",\"#19d3f3\",\"#FF6692\",\"#B6E880\",\"#FF97FF\",\"#FECB52\"],\"font\":{\"color\":\"#2a3f5f\"},\"hovermode\":\"closest\",\"hoverlabel\":{\"align\":\"left\"},\"paper_bgcolor\":\"white\",\"plot_bgcolor\":\"#E5ECF6\",\"polar\":{\"bgcolor\":\"#E5ECF6\",\"angularaxis\":{\"gridcolor\":\"white\",\"linecolor\":\"white\",\"ticks\":\"\"},\"radialaxis\":{\"gridcolor\":\"white\",\"linecolor\":\"white\",\"ticks\":\"\"}},\"ternary\":{\"bgcolor\":\"#E5ECF6\",\"aaxis\":{\"gridcolor\":\"white\",\"linecolor\":\"white\",\"ticks\":\"\"},\"baxis\":{\"gridcolor\":\"white\",\"linecolor\":\"white\",\"ticks\":\"\"},\"caxis\":{\"gridcolor\":\"white\",\"linecolor\":\"white\",\"ticks\":\"\"}},\"coloraxis\":{\"colorbar\":{\"outlinewidth\":0,\"ticks\":\"\"}},\"colorscale\":{\"sequential\":[[0.0,\"#0d0887\"],[0.1111111111111111,\"#46039f\"],[0.2222222222222222,\"#7201a8\"],[0.3333333333333333,\"#9c179e\"],[0.4444444444444444,\"#bd3786\"],[0.5555555555555556,\"#d8576b\"],[0.6666666666666666,\"#ed7953\"],[0.7777777777777778,\"#fb9f3a\"],[0.8888888888888888,\"#fdca26\"],[1.0,\"#f0f921\"]],\"sequentialminus\":[[0.0,\"#0d0887\"],[0.1111111111111111,\"#46039f\"],[0.2222222222222222,\"#7201a8\"],[0.3333333333333333,\"#9c179e\"],[0.4444444444444444,\"#bd3786\"],[0.5555555555555556,\"#d8576b\"],[0.6666666666666666,\"#ed7953\"],[0.7777777777777778,\"#fb9f3a\"],[0.8888888888888888,\"#fdca26\"],[1.0,\"#f0f921\"]],\"diverging\":[[0,\"#8e0152\"],[0.1,\"#c51b7d\"],[0.2,\"#de77ae\"],[0.3,\"#f1b6da\"],[0.4,\"#fde0ef\"],[0.5,\"#f7f7f7\"],[0.6,\"#e6f5d0\"],[0.7,\"#b8e186\"],[0.8,\"#7fbc41\"],[0.9,\"#4d9221\"],[1,\"#276419\"]]},\"xaxis\":{\"gridcolor\":\"white\",\"linecolor\":\"white\",\"ticks\":\"\",\"title\":{\"standoff\":15},\"zerolinecolor\":\"white\",\"automargin\":true,\"zerolinewidth\":2},\"yaxis\":{\"gridcolor\":\"white\",\"linecolor\":\"white\",\"ticks\":\"\",\"title\":{\"standoff\":15},\"zerolinecolor\":\"white\",\"automargin\":true,\"zerolinewidth\":2},\"scene\":{\"xaxis\":{\"backgroundcolor\":\"#E5ECF6\",\"gridcolor\":\"white\",\"linecolor\":\"white\",\"showbackground\":true,\"ticks\":\"\",\"zerolinecolor\":\"white\",\"gridwidth\":2},\"yaxis\":{\"backgroundcolor\":\"#E5ECF6\",\"gridcolor\":\"white\",\"linecolor\":\"white\",\"showbackground\":true,\"ticks\":\"\",\"zerolinecolor\":\"white\",\"gridwidth\":2},\"zaxis\":{\"backgroundcolor\":\"#E5ECF6\",\"gridcolor\":\"white\",\"linecolor\":\"white\",\"showbackground\":true,\"ticks\":\"\",\"zerolinecolor\":\"white\",\"gridwidth\":2}},\"shapedefaults\":{\"line\":{\"color\":\"#2a3f5f\"}},\"annotationdefaults\":{\"arrowcolor\":\"#2a3f5f\",\"arrowhead\":0,\"arrowwidth\":1},\"geo\":{\"bgcolor\":\"white\",\"landcolor\":\"#E5ECF6\",\"subunitcolor\":\"white\",\"showland\":true,\"showlakes\":true,\"lakecolor\":\"white\"},\"title\":{\"x\":0.05},\"mapbox\":{\"style\":\"light\"}}},\"title\":{\"text\":\"Comparison of evaluation metrics for different algorithms\"},\"xaxis\":{\"title\":{\"text\":\"Algorithm\"}},\"yaxis\":{\"title\":{\"text\":\"Value\"}}},                        {\"responsive\": true}                    ).then(function(){\n",
              "                            \n",
              "var gd = document.getElementById('9c5f905e-a9f0-464b-92be-9c4c16108a11');\n",
              "var x = new MutationObserver(function (mutations, observer) {{\n",
              "        var display = window.getComputedStyle(gd).display;\n",
              "        if (!display || display === 'none') {{\n",
              "            console.log([gd, 'removed!']);\n",
              "            Plotly.purge(gd);\n",
              "            observer.disconnect();\n",
              "        }}\n",
              "}});\n",
              "\n",
              "// Listen for the removal of the full notebook cells\n",
              "var notebookContainer = gd.closest('#notebook-container');\n",
              "if (notebookContainer) {{\n",
              "    x.observe(notebookContainer, {childList: true});\n",
              "}}\n",
              "\n",
              "// Listen for the clearing of the current output cell\n",
              "var outputEl = gd.closest('.output');\n",
              "if (outputEl) {{\n",
              "    x.observe(outputEl, {childList: true});\n",
              "}}\n",
              "\n",
              "                        })                };                            </script>        </div>\n",
              "</body>\n",
              "</html>"
            ]
          },
          "metadata": {}
        }
      ],
      "source": [
        "import plotly.graph_objects as go\n",
        "\n",
        "algorithm_names = ['SVD', 'SVDpp', 'NMF']\n",
        "mae_values = [0.0439, 0.0506, 0.0452]\n",
        "mse_values = [0.0045, 0.0059, 0.0072]\n",
        "rmse_values = [0.0670, 0.0766, 0.0851]\n",
        "fcp_values = [0.5509, 0.5359, 0.2291]\n",
        "\n",
        "fig = go.Figure()\n",
        "fig.add_trace(go.Bar(x=algorithm_names, y=rmse_values, name='RMSE'))\n",
        "fig.add_trace(go.Bar(x=algorithm_names, y=mse_values, name='MSE'))\n",
        "fig.add_trace(go.Bar(x=algorithm_names, y=mae_values, name='MAE'))\n",
        "fig.add_trace(go.Bar(x=algorithm_names, y=fcp_values, name='FCP'))\n",
        "\n",
        "fig.update_layout(\n",
        "    title='Comparison of evaluation metrics for different algorithms',\n",
        "    xaxis_title='Algorithm',\n",
        "    yaxis_title='Value')\n",
        "\n",
        "fig.show()"
      ],
      "id": "Oh_i2P86DWbE"
    },
    {
      "cell_type": "markdown",
      "metadata": {
        "id": "Dd4_bYXAf0sC"
      },
      "source": [
        "## 3. BaselineOnly"
      ],
      "id": "Dd4_bYXAf0sC"
    },
    {
      "cell_type": "code",
      "execution_count": 85,
      "metadata": {
        "id": "iZyO8vEcS0l4"
      },
      "outputs": [],
      "source": [
        "parameters = {'bsl_options': {'method': ['als', 'sgd'],\n",
        "                              'reg_u': [10, 20, 50],\n",
        "                              'reg_i': [5, 10, 15],\n",
        "                              'n_epochs': [100, 150, 200],\n",
        "                              'learning_rate': [0.001, 0.01, 0.1]}}"
      ],
      "id": "iZyO8vEcS0l4"
    },
    {
      "cell_type": "code",
      "execution_count": 86,
      "metadata": {
        "id": "E3-xFQs6TA_e"
      },
      "outputs": [],
      "source": [
        "grid=GridSearchCV(BaselineOnly, param_grid=parameters,n_jobs=-1)\n",
        "grid.fit(data)"
      ],
      "id": "E3-xFQs6TA_e"
    },
    {
      "cell_type": "code",
      "execution_count": 87,
      "metadata": {
        "colab": {
          "base_uri": "https://localhost:8080/"
        },
        "id": "vtKPdjJdTA_e",
        "outputId": "daa08c43-b341-4d7b-8265-576c136af901"
      },
      "outputs": [
        {
          "output_type": "stream",
          "name": "stdout",
          "text": [
            "{'rmse': 0.08069920279896112, 'mae': 0.049451412982127775}\n",
            "{'rmse': {'bsl_options': {'method': 'sgd', 'reg_u': 10, 'reg_i': 5, 'n_epochs': 200, 'learning_rate': 0.001}}, 'mae': {'bsl_options': {'method': 'sgd', 'reg_u': 10, 'reg_i': 5, 'n_epochs': 200, 'learning_rate': 0.001}}}\n"
          ]
        }
      ],
      "source": [
        "print(grid.best_score)\n",
        "print(grid.best_params)"
      ],
      "id": "vtKPdjJdTA_e"
    },
    {
      "cell_type": "code",
      "execution_count": 88,
      "metadata": {
        "colab": {
          "base_uri": "https://localhost:8080/"
        },
        "id": "JyF74QjPTA_e",
        "outputId": "a8205cae-fee9-4618-bf72-1e682a1585ba"
      },
      "outputs": [
        {
          "output_type": "stream",
          "name": "stdout",
          "text": [
            "Estimating biases using sgd...\n"
          ]
        },
        {
          "output_type": "execute_result",
          "data": {
            "text/plain": [
              "<surprise.prediction_algorithms.baseline_only.BaselineOnly at 0x7fcf000bb130>"
            ]
          },
          "metadata": {},
          "execution_count": 88
        }
      ],
      "source": [
        "algo = grid.best_estimator[\"rmse\"]\n",
        "algo.fit(data.build_full_trainset())"
      ],
      "id": "JyF74QjPTA_e"
    },
    {
      "cell_type": "markdown",
      "metadata": {
        "id": "xCWHkeAmf0sD"
      },
      "source": [
        "#### Make recommendations"
      ],
      "id": "xCWHkeAmf0sD"
    },
    {
      "cell_type": "code",
      "execution_count": 89,
      "metadata": {
        "id": "98S25Lytf0sD"
      },
      "outputs": [],
      "source": [
        "predictions = algo.test(testset)"
      ],
      "id": "98S25Lytf0sD"
    },
    {
      "cell_type": "markdown",
      "metadata": {
        "id": "K26Pp-PLf0sD"
      },
      "source": [
        "#### Recommend 5 Restaurants to users"
      ],
      "id": "K26Pp-PLf0sD"
    },
    {
      "cell_type": "code",
      "execution_count": 90,
      "metadata": {
        "colab": {
          "base_uri": "https://localhost:8080/"
        },
        "id": "JaGV8ILif0sD",
        "outputId": "a9fcea6a-5c27-42d0-8d0b-bb5e1f48f128"
      },
      "outputs": [
        {
          "output_type": "stream",
          "name": "stdout",
          "text": [
            "1. \"El Torito Taqueria Bar\"\n",
            "2. \"Pier 54\"\n",
            "3. \"Novanta\"\n",
            "4. \"Rokerij\"\n",
            "5. \"Giuseppe's Italian Grille\"\n"
          ]
        }
      ],
      "source": [
        "user_1 = 'BPKpLbR9NuWFAR9SUWpZOw'\n",
        "restaurants = review['business_id'].unique()\n",
        "user_1_ratings = []\n",
        "for restaurant in restaurants:\n",
        "    user_1_ratings.append((restaurant, algo.predict(user_1, restaurant).est))\n",
        "\n",
        "sorted_ratings = sorted(user_1_ratings, key=lambda x: x[1], reverse=True)\n",
        "\n",
        "for i in range(5):\n",
        "    business_id = sorted_ratings[i][0]\n",
        "    name = review.loc[review['business_id'] == business_id, 'name'].iloc[0]\n",
        "    print(f'{i+1}. {name}')"
      ],
      "id": "JaGV8ILif0sD"
    },
    {
      "cell_type": "code",
      "execution_count": 91,
      "metadata": {
        "colab": {
          "base_uri": "https://localhost:8080/"
        },
        "id": "s0pPYrPRf0sD",
        "outputId": "c667d6be-3594-40a2-8286-6e623ac33c66"
      },
      "outputs": [
        {
          "output_type": "stream",
          "name": "stdout",
          "text": [
            "MAE:  0.0386\n",
            "MSE: 0.0038\n",
            "RMSE: 0.0615\n",
            "FCP:  0.5331\n"
          ]
        },
        {
          "output_type": "execute_result",
          "data": {
            "text/plain": [
              "0.5331302056590838"
            ]
          },
          "metadata": {},
          "execution_count": 91
        }
      ],
      "source": [
        "accuracy.mae(predictions)\n",
        "accuracy.mse(predictions)\n",
        "accuracy.rmse(predictions)\n",
        "accuracy.fcp(predictions)"
      ],
      "id": "s0pPYrPRf0sD"
    },
    {
      "cell_type": "markdown",
      "source": [
        "## Comparing all Collaborative Filtering Models"
      ],
      "metadata": {
        "id": "BaOygFV7sF6g"
      },
      "id": "BaOygFV7sF6g"
    },
    {
      "cell_type": "code",
      "source": [
        "import plotly.graph_objects as go\n",
        "import pandas as pd\n",
        "from plotly.subplots import make_subplots\n",
        "\n",
        "data = {'test_rmse': [0.0928, 0.0755, 0.08692292],\n",
        "        'test_mae': [0.0567, 0.0480, 0.05766862],\n",
        "        'test_fcp': [0.5609, 0.5379, 0.63493503],\n",
        "        'fit_time': [1.8923487663269043, 1.9373219013214111, 2.66087007522583],\n",
        "        'test_time': [0.11574029922485352, 0.0867300033569336, 0.2719612121582031]}\n",
        "index = ['SVD', 'BaselineOnly', 'KNNBasic']\n",
        "df = pd.DataFrame(data=data, index=index)\n",
        "\n",
        "fig = make_subplots(rows=2, cols=2, subplot_titles=('test_rmse', 'test_mae', 'test_fcp', 'fit_time'))\n",
        "\n",
        "fig.add_trace(go.Bar(x=df.index, y=df['test_rmse'], name='RMSE'), row=1, col=1)\n",
        "fig.add_trace(go.Bar(x=df.index, y=df['test_mae'], name='MAE'), row=1, col=2)\n",
        "fig.add_trace(go.Bar(x=df.index, y=df['test_fcp'], name='FCP'), row=2, col=1)\n",
        "fig.add_trace(go.Bar(x=df.index, y=df['fit_time'], name='Fit Time'), row=2, col=2)\n",
        "\n",
        "fig.update_layout(height=600, width=800, title_text=\"Performance Metrics by Algorithm\")\n",
        "fig.show()"
      ],
      "metadata": {
        "colab": {
          "base_uri": "https://localhost:8080/",
          "height": 617
        },
        "id": "tLglPs40sDX7",
        "outputId": "e7c1bdb9-cc25-43c8-de5d-b2b29080f049"
      },
      "id": "tLglPs40sDX7",
      "execution_count": 93,
      "outputs": [
        {
          "output_type": "display_data",
          "data": {
            "text/html": [
              "<html>\n",
              "<head><meta charset=\"utf-8\" /></head>\n",
              "<body>\n",
              "    <div>            <script src=\"https://cdnjs.cloudflare.com/ajax/libs/mathjax/2.7.5/MathJax.js?config=TeX-AMS-MML_SVG\"></script><script type=\"text/javascript\">if (window.MathJax && window.MathJax.Hub && window.MathJax.Hub.Config) {window.MathJax.Hub.Config({SVG: {font: \"STIX-Web\"}});}</script>                <script type=\"text/javascript\">window.PlotlyConfig = {MathJaxConfig: 'local'};</script>\n",
              "        <script src=\"https://cdn.plot.ly/plotly-2.18.2.min.js\"></script>                <div id=\"e532e9f8-b3bf-4ef0-a695-b7a2fb13ea1a\" class=\"plotly-graph-div\" style=\"height:600px; width:800px;\"></div>            <script type=\"text/javascript\">                                    window.PLOTLYENV=window.PLOTLYENV || {};                                    if (document.getElementById(\"e532e9f8-b3bf-4ef0-a695-b7a2fb13ea1a\")) {                    Plotly.newPlot(                        \"e532e9f8-b3bf-4ef0-a695-b7a2fb13ea1a\",                        [{\"name\":\"RMSE\",\"x\":[\"SVD\",\"BaselineOnly\",\"KNNBasic\"],\"y\":[0.0928,0.0755,0.08692292],\"type\":\"bar\",\"xaxis\":\"x\",\"yaxis\":\"y\"},{\"name\":\"MAE\",\"x\":[\"SVD\",\"BaselineOnly\",\"KNNBasic\"],\"y\":[0.0567,0.048,0.05766862],\"type\":\"bar\",\"xaxis\":\"x2\",\"yaxis\":\"y2\"},{\"name\":\"FCP\",\"x\":[\"SVD\",\"BaselineOnly\",\"KNNBasic\"],\"y\":[0.5609,0.5379,0.63493503],\"type\":\"bar\",\"xaxis\":\"x3\",\"yaxis\":\"y3\"},{\"name\":\"Fit Time\",\"x\":[\"SVD\",\"BaselineOnly\",\"KNNBasic\"],\"y\":[1.8923487663269043,1.9373219013214111,2.66087007522583],\"type\":\"bar\",\"xaxis\":\"x4\",\"yaxis\":\"y4\"}],                        {\"template\":{\"data\":{\"histogram2dcontour\":[{\"type\":\"histogram2dcontour\",\"colorbar\":{\"outlinewidth\":0,\"ticks\":\"\"},\"colorscale\":[[0.0,\"#0d0887\"],[0.1111111111111111,\"#46039f\"],[0.2222222222222222,\"#7201a8\"],[0.3333333333333333,\"#9c179e\"],[0.4444444444444444,\"#bd3786\"],[0.5555555555555556,\"#d8576b\"],[0.6666666666666666,\"#ed7953\"],[0.7777777777777778,\"#fb9f3a\"],[0.8888888888888888,\"#fdca26\"],[1.0,\"#f0f921\"]]}],\"choropleth\":[{\"type\":\"choropleth\",\"colorbar\":{\"outlinewidth\":0,\"ticks\":\"\"}}],\"histogram2d\":[{\"type\":\"histogram2d\",\"colorbar\":{\"outlinewidth\":0,\"ticks\":\"\"},\"colorscale\":[[0.0,\"#0d0887\"],[0.1111111111111111,\"#46039f\"],[0.2222222222222222,\"#7201a8\"],[0.3333333333333333,\"#9c179e\"],[0.4444444444444444,\"#bd3786\"],[0.5555555555555556,\"#d8576b\"],[0.6666666666666666,\"#ed7953\"],[0.7777777777777778,\"#fb9f3a\"],[0.8888888888888888,\"#fdca26\"],[1.0,\"#f0f921\"]]}],\"heatmap\":[{\"type\":\"heatmap\",\"colorbar\":{\"outlinewidth\":0,\"ticks\":\"\"},\"colorscale\":[[0.0,\"#0d0887\"],[0.1111111111111111,\"#46039f\"],[0.2222222222222222,\"#7201a8\"],[0.3333333333333333,\"#9c179e\"],[0.4444444444444444,\"#bd3786\"],[0.5555555555555556,\"#d8576b\"],[0.6666666666666666,\"#ed7953\"],[0.7777777777777778,\"#fb9f3a\"],[0.8888888888888888,\"#fdca26\"],[1.0,\"#f0f921\"]]}],\"heatmapgl\":[{\"type\":\"heatmapgl\",\"colorbar\":{\"outlinewidth\":0,\"ticks\":\"\"},\"colorscale\":[[0.0,\"#0d0887\"],[0.1111111111111111,\"#46039f\"],[0.2222222222222222,\"#7201a8\"],[0.3333333333333333,\"#9c179e\"],[0.4444444444444444,\"#bd3786\"],[0.5555555555555556,\"#d8576b\"],[0.6666666666666666,\"#ed7953\"],[0.7777777777777778,\"#fb9f3a\"],[0.8888888888888888,\"#fdca26\"],[1.0,\"#f0f921\"]]}],\"contourcarpet\":[{\"type\":\"contourcarpet\",\"colorbar\":{\"outlinewidth\":0,\"ticks\":\"\"}}],\"contour\":[{\"type\":\"contour\",\"colorbar\":{\"outlinewidth\":0,\"ticks\":\"\"},\"colorscale\":[[0.0,\"#0d0887\"],[0.1111111111111111,\"#46039f\"],[0.2222222222222222,\"#7201a8\"],[0.3333333333333333,\"#9c179e\"],[0.4444444444444444,\"#bd3786\"],[0.5555555555555556,\"#d8576b\"],[0.6666666666666666,\"#ed7953\"],[0.7777777777777778,\"#fb9f3a\"],[0.8888888888888888,\"#fdca26\"],[1.0,\"#f0f921\"]]}],\"surface\":[{\"type\":\"surface\",\"colorbar\":{\"outlinewidth\":0,\"ticks\":\"\"},\"colorscale\":[[0.0,\"#0d0887\"],[0.1111111111111111,\"#46039f\"],[0.2222222222222222,\"#7201a8\"],[0.3333333333333333,\"#9c179e\"],[0.4444444444444444,\"#bd3786\"],[0.5555555555555556,\"#d8576b\"],[0.6666666666666666,\"#ed7953\"],[0.7777777777777778,\"#fb9f3a\"],[0.8888888888888888,\"#fdca26\"],[1.0,\"#f0f921\"]]}],\"mesh3d\":[{\"type\":\"mesh3d\",\"colorbar\":{\"outlinewidth\":0,\"ticks\":\"\"}}],\"scatter\":[{\"fillpattern\":{\"fillmode\":\"overlay\",\"size\":10,\"solidity\":0.2},\"type\":\"scatter\"}],\"parcoords\":[{\"type\":\"parcoords\",\"line\":{\"colorbar\":{\"outlinewidth\":0,\"ticks\":\"\"}}}],\"scatterpolargl\":[{\"type\":\"scatterpolargl\",\"marker\":{\"colorbar\":{\"outlinewidth\":0,\"ticks\":\"\"}}}],\"bar\":[{\"error_x\":{\"color\":\"#2a3f5f\"},\"error_y\":{\"color\":\"#2a3f5f\"},\"marker\":{\"line\":{\"color\":\"#E5ECF6\",\"width\":0.5},\"pattern\":{\"fillmode\":\"overlay\",\"size\":10,\"solidity\":0.2}},\"type\":\"bar\"}],\"scattergeo\":[{\"type\":\"scattergeo\",\"marker\":{\"colorbar\":{\"outlinewidth\":0,\"ticks\":\"\"}}}],\"scatterpolar\":[{\"type\":\"scatterpolar\",\"marker\":{\"colorbar\":{\"outlinewidth\":0,\"ticks\":\"\"}}}],\"histogram\":[{\"marker\":{\"pattern\":{\"fillmode\":\"overlay\",\"size\":10,\"solidity\":0.2}},\"type\":\"histogram\"}],\"scattergl\":[{\"type\":\"scattergl\",\"marker\":{\"colorbar\":{\"outlinewidth\":0,\"ticks\":\"\"}}}],\"scatter3d\":[{\"type\":\"scatter3d\",\"line\":{\"colorbar\":{\"outlinewidth\":0,\"ticks\":\"\"}},\"marker\":{\"colorbar\":{\"outlinewidth\":0,\"ticks\":\"\"}}}],\"scattermapbox\":[{\"type\":\"scattermapbox\",\"marker\":{\"colorbar\":{\"outlinewidth\":0,\"ticks\":\"\"}}}],\"scatterternary\":[{\"type\":\"scatterternary\",\"marker\":{\"colorbar\":{\"outlinewidth\":0,\"ticks\":\"\"}}}],\"scattercarpet\":[{\"type\":\"scattercarpet\",\"marker\":{\"colorbar\":{\"outlinewidth\":0,\"ticks\":\"\"}}}],\"carpet\":[{\"aaxis\":{\"endlinecolor\":\"#2a3f5f\",\"gridcolor\":\"white\",\"linecolor\":\"white\",\"minorgridcolor\":\"white\",\"startlinecolor\":\"#2a3f5f\"},\"baxis\":{\"endlinecolor\":\"#2a3f5f\",\"gridcolor\":\"white\",\"linecolor\":\"white\",\"minorgridcolor\":\"white\",\"startlinecolor\":\"#2a3f5f\"},\"type\":\"carpet\"}],\"table\":[{\"cells\":{\"fill\":{\"color\":\"#EBF0F8\"},\"line\":{\"color\":\"white\"}},\"header\":{\"fill\":{\"color\":\"#C8D4E3\"},\"line\":{\"color\":\"white\"}},\"type\":\"table\"}],\"barpolar\":[{\"marker\":{\"line\":{\"color\":\"#E5ECF6\",\"width\":0.5},\"pattern\":{\"fillmode\":\"overlay\",\"size\":10,\"solidity\":0.2}},\"type\":\"barpolar\"}],\"pie\":[{\"automargin\":true,\"type\":\"pie\"}]},\"layout\":{\"autotypenumbers\":\"strict\",\"colorway\":[\"#636efa\",\"#EF553B\",\"#00cc96\",\"#ab63fa\",\"#FFA15A\",\"#19d3f3\",\"#FF6692\",\"#B6E880\",\"#FF97FF\",\"#FECB52\"],\"font\":{\"color\":\"#2a3f5f\"},\"hovermode\":\"closest\",\"hoverlabel\":{\"align\":\"left\"},\"paper_bgcolor\":\"white\",\"plot_bgcolor\":\"#E5ECF6\",\"polar\":{\"bgcolor\":\"#E5ECF6\",\"angularaxis\":{\"gridcolor\":\"white\",\"linecolor\":\"white\",\"ticks\":\"\"},\"radialaxis\":{\"gridcolor\":\"white\",\"linecolor\":\"white\",\"ticks\":\"\"}},\"ternary\":{\"bgcolor\":\"#E5ECF6\",\"aaxis\":{\"gridcolor\":\"white\",\"linecolor\":\"white\",\"ticks\":\"\"},\"baxis\":{\"gridcolor\":\"white\",\"linecolor\":\"white\",\"ticks\":\"\"},\"caxis\":{\"gridcolor\":\"white\",\"linecolor\":\"white\",\"ticks\":\"\"}},\"coloraxis\":{\"colorbar\":{\"outlinewidth\":0,\"ticks\":\"\"}},\"colorscale\":{\"sequential\":[[0.0,\"#0d0887\"],[0.1111111111111111,\"#46039f\"],[0.2222222222222222,\"#7201a8\"],[0.3333333333333333,\"#9c179e\"],[0.4444444444444444,\"#bd3786\"],[0.5555555555555556,\"#d8576b\"],[0.6666666666666666,\"#ed7953\"],[0.7777777777777778,\"#fb9f3a\"],[0.8888888888888888,\"#fdca26\"],[1.0,\"#f0f921\"]],\"sequentialminus\":[[0.0,\"#0d0887\"],[0.1111111111111111,\"#46039f\"],[0.2222222222222222,\"#7201a8\"],[0.3333333333333333,\"#9c179e\"],[0.4444444444444444,\"#bd3786\"],[0.5555555555555556,\"#d8576b\"],[0.6666666666666666,\"#ed7953\"],[0.7777777777777778,\"#fb9f3a\"],[0.8888888888888888,\"#fdca26\"],[1.0,\"#f0f921\"]],\"diverging\":[[0,\"#8e0152\"],[0.1,\"#c51b7d\"],[0.2,\"#de77ae\"],[0.3,\"#f1b6da\"],[0.4,\"#fde0ef\"],[0.5,\"#f7f7f7\"],[0.6,\"#e6f5d0\"],[0.7,\"#b8e186\"],[0.8,\"#7fbc41\"],[0.9,\"#4d9221\"],[1,\"#276419\"]]},\"xaxis\":{\"gridcolor\":\"white\",\"linecolor\":\"white\",\"ticks\":\"\",\"title\":{\"standoff\":15},\"zerolinecolor\":\"white\",\"automargin\":true,\"zerolinewidth\":2},\"yaxis\":{\"gridcolor\":\"white\",\"linecolor\":\"white\",\"ticks\":\"\",\"title\":{\"standoff\":15},\"zerolinecolor\":\"white\",\"automargin\":true,\"zerolinewidth\":2},\"scene\":{\"xaxis\":{\"backgroundcolor\":\"#E5ECF6\",\"gridcolor\":\"white\",\"linecolor\":\"white\",\"showbackground\":true,\"ticks\":\"\",\"zerolinecolor\":\"white\",\"gridwidth\":2},\"yaxis\":{\"backgroundcolor\":\"#E5ECF6\",\"gridcolor\":\"white\",\"linecolor\":\"white\",\"showbackground\":true,\"ticks\":\"\",\"zerolinecolor\":\"white\",\"gridwidth\":2},\"zaxis\":{\"backgroundcolor\":\"#E5ECF6\",\"gridcolor\":\"white\",\"linecolor\":\"white\",\"showbackground\":true,\"ticks\":\"\",\"zerolinecolor\":\"white\",\"gridwidth\":2}},\"shapedefaults\":{\"line\":{\"color\":\"#2a3f5f\"}},\"annotationdefaults\":{\"arrowcolor\":\"#2a3f5f\",\"arrowhead\":0,\"arrowwidth\":1},\"geo\":{\"bgcolor\":\"white\",\"landcolor\":\"#E5ECF6\",\"subunitcolor\":\"white\",\"showland\":true,\"showlakes\":true,\"lakecolor\":\"white\"},\"title\":{\"x\":0.05},\"mapbox\":{\"style\":\"light\"}}},\"xaxis\":{\"anchor\":\"y\",\"domain\":[0.0,0.45]},\"yaxis\":{\"anchor\":\"x\",\"domain\":[0.625,1.0]},\"xaxis2\":{\"anchor\":\"y2\",\"domain\":[0.55,1.0]},\"yaxis2\":{\"anchor\":\"x2\",\"domain\":[0.625,1.0]},\"xaxis3\":{\"anchor\":\"y3\",\"domain\":[0.0,0.45]},\"yaxis3\":{\"anchor\":\"x3\",\"domain\":[0.0,0.375]},\"xaxis4\":{\"anchor\":\"y4\",\"domain\":[0.55,1.0]},\"yaxis4\":{\"anchor\":\"x4\",\"domain\":[0.0,0.375]},\"annotations\":[{\"font\":{\"size\":16},\"showarrow\":false,\"text\":\"test_rmse\",\"x\":0.225,\"xanchor\":\"center\",\"xref\":\"paper\",\"y\":1.0,\"yanchor\":\"bottom\",\"yref\":\"paper\"},{\"font\":{\"size\":16},\"showarrow\":false,\"text\":\"test_mae\",\"x\":0.775,\"xanchor\":\"center\",\"xref\":\"paper\",\"y\":1.0,\"yanchor\":\"bottom\",\"yref\":\"paper\"},{\"font\":{\"size\":16},\"showarrow\":false,\"text\":\"test_fcp\",\"x\":0.225,\"xanchor\":\"center\",\"xref\":\"paper\",\"y\":0.375,\"yanchor\":\"bottom\",\"yref\":\"paper\"},{\"font\":{\"size\":16},\"showarrow\":false,\"text\":\"fit_time\",\"x\":0.775,\"xanchor\":\"center\",\"xref\":\"paper\",\"y\":0.375,\"yanchor\":\"bottom\",\"yref\":\"paper\"}],\"title\":{\"text\":\"Performance Metrics by Algorithm\"},\"height\":600,\"width\":800},                        {\"responsive\": true}                    ).then(function(){\n",
              "                            \n",
              "var gd = document.getElementById('e532e9f8-b3bf-4ef0-a695-b7a2fb13ea1a');\n",
              "var x = new MutationObserver(function (mutations, observer) {{\n",
              "        var display = window.getComputedStyle(gd).display;\n",
              "        if (!display || display === 'none') {{\n",
              "            console.log([gd, 'removed!']);\n",
              "            Plotly.purge(gd);\n",
              "            observer.disconnect();\n",
              "        }}\n",
              "}});\n",
              "\n",
              "// Listen for the removal of the full notebook cells\n",
              "var notebookContainer = gd.closest('#notebook-container');\n",
              "if (notebookContainer) {{\n",
              "    x.observe(notebookContainer, {childList: true});\n",
              "}}\n",
              "\n",
              "// Listen for the clearing of the current output cell\n",
              "var outputEl = gd.closest('.output');\n",
              "if (outputEl) {{\n",
              "    x.observe(outputEl, {childList: true});\n",
              "}}\n",
              "\n",
              "                        })                };                            </script>        </div>\n",
              "</body>\n",
              "</html>"
            ]
          },
          "metadata": {}
        }
      ]
    },
    {
      "cell_type": "markdown",
      "source": [
        "## References - "
      ],
      "metadata": {
        "id": "OxgMUpA6zIrA"
      },
      "id": "OxgMUpA6zIrA"
    },
    {
      "cell_type": "markdown",
      "source": [
        "https://towardsdatascience.com/building-and-testing-recommender-systems-with-surprise-step-by-step-d4ba702ef80b\n",
        "https://surprise.readthedocs.io/"
      ],
      "metadata": {
        "id": "x9HPh3oZzPYt"
      },
      "id": "x9HPh3oZzPYt"
    },
    {
      "cell_type": "code",
      "source": [],
      "metadata": {
        "id": "xGty4CT4q3t1"
      },
      "id": "xGty4CT4q3t1",
      "execution_count": null,
      "outputs": []
    }
  ],
  "metadata": {
    "colab": {
      "provenance": []
    },
    "kernelspec": {
      "display_name": "Python 3 (ipykernel)",
      "language": "python",
      "name": "python3"
    },
    "language_info": {
      "codemirror_mode": {
        "name": "ipython",
        "version": 3
      },
      "file_extension": ".py",
      "mimetype": "text/x-python",
      "name": "python",
      "nbconvert_exporter": "python",
      "pygments_lexer": "ipython3",
      "version": "3.11.2"
    }
  },
  "nbformat": 4,
  "nbformat_minor": 5
}