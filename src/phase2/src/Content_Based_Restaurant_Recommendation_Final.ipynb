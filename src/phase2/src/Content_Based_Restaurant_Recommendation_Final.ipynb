{
  "cells": [
    {
      "cell_type": "code",
      "execution_count": null,
      "id": "N1Ctmu7w97xz",
      "metadata": {
        "colab": {
          "base_uri": "https://localhost:8080/"
        },
        "id": "N1Ctmu7w97xz",
        "outputId": "d213c3e9-0e92-4b36-d0fe-9e9e4575024d"
      },
      "outputs": [
        {
          "name": "stdout",
          "output_type": "stream",
          "text": [
            "Mounted at /content/drive\n"
          ]
        }
      ],
      "source": [
        "from google.colab import drive\n",
        "drive.mount('/content/drive')"
      ]
    },
    {
      "attachments": {},
      "cell_type": "markdown",
      "id": "-CoCaNr3CQw9",
      "metadata": {
        "id": "-CoCaNr3CQw9"
      },
      "source": [
        "## Imports"
      ]
    },
    {
      "cell_type": "code",
      "execution_count": null,
      "id": "54283bb5",
      "metadata": {
        "id": "54283bb5"
      },
      "outputs": [],
      "source": [
        "# importing required libraries\n",
        "import pandas as pd\n",
        "from collections import Counter \n",
        "import math\n",
        "import pandas as pd\n",
        "from sklearn.feature_extraction.text import TfidfVectorizer\n",
        "from sklearn.metrics.pairwise import cosine_similarity\n",
        "import nltk\n",
        "from nltk.corpus import stopwords\n",
        "from geopy.distance import geodesic\n",
        "import plotly.graph_objects as go"
      ]
    },
    {
      "attachments": {},
      "cell_type": "markdown",
      "id": "8581b072",
      "metadata": {
        "id": "8581b072"
      },
      "source": [
        "## Reading Processed Restaurants Review and Business Datasets"
      ]
    },
    {
      "cell_type": "code",
      "execution_count": null,
      "id": "5cb92f69",
      "metadata": {
        "id": "5cb92f69"
      },
      "outputs": [],
      "source": [
        "# loading data from CSV\n",
        "business=pd.read_csv('drive/MyDrive/DIC/business_final.csv')"
      ]
    },
    {
      "cell_type": "code",
      "execution_count": null,
      "id": "00dda267",
      "metadata": {
        "id": "00dda267",
        "scrolled": true
      },
      "outputs": [],
      "source": [
        "rest_review=pd.read_csv('drive/MyDrive/DIC/rest_review.csv')"
      ]
    },
    {
      "attachments": {},
      "cell_type": "markdown",
      "id": "1UMtUsNYCkVF",
      "metadata": {
        "id": "1UMtUsNYCkVF"
      },
      "source": [
        "### Merging and cleaning un-necessary columns"
      ]
    },
    {
      "cell_type": "code",
      "execution_count": null,
      "id": "ce2feeb2",
      "metadata": {
        "id": "ce2feeb2",
        "scrolled": true
      },
      "outputs": [],
      "source": [
        "# merging rest review with business \n",
        "rest_review=rest_review.merge(business,on='business_id',how='inner')\n"
      ]
    },
    {
      "cell_type": "code",
      "execution_count": null,
      "id": "89e577b4",
      "metadata": {
        "id": "89e577b4"
      },
      "outputs": [],
      "source": [
        "rest_review=rest_review.drop('Unnamed: 0_x',axis=1)"
      ]
    },
    {
      "cell_type": "code",
      "execution_count": null,
      "id": "77766c3c",
      "metadata": {
        "colab": {
          "base_uri": "https://localhost:8080/"
        },
        "id": "77766c3c",
        "outputId": "34180ace-3134-416f-c277-3fdbb434f8db",
        "scrolled": true
      },
      "outputs": [
        {
          "data": {
            "text/plain": [
              "Index(['review_id', 'user_id', 'business_id', 'stars_x', 'date', 'text',\n",
              "       'useful', 'funny', 'cool', 'Unnamed: 0_y', 'name', 'address', 'city',\n",
              "       'state', 'postal_code', 'latitude', 'longitude', 'stars_y',\n",
              "       'review_count', 'is_open', 'categories', 'monday', 'tuesday',\n",
              "       'wednesday', 'thursday', 'friday', 'saturday', 'sunday', 'cuisines'],\n",
              "      dtype='object')"
            ]
          },
          "execution_count": 8,
          "metadata": {},
          "output_type": "execute_result"
        }
      ],
      "source": [
        "rest_review.columns# num_tags"
      ]
    },
    {
      "attachments": {},
      "cell_type": "markdown",
      "id": "5001ac7f",
      "metadata": {
        "id": "5001ac7f"
      },
      "source": [
        "## Grouping all reviews for a business"
      ]
    },
    {
      "cell_type": "code",
      "execution_count": null,
      "id": "4f9e1bee",
      "metadata": {
        "id": "4f9e1bee"
      },
      "outputs": [],
      "source": [
        "# grouping business_id using groupby on rest_review\n",
        "grouped_bus=rest_review.groupby('business_id')['text'].agg(lambda x:str(x))\n",
        "grouped_bus=pd.DataFrame(grouped_bus)\n",
        "grouped_bus=grouped_bus.reset_index()"
      ]
    },
    {
      "cell_type": "code",
      "execution_count": null,
      "id": "2bbc1c6f",
      "metadata": {
        "id": "2bbc1c6f"
      },
      "outputs": [],
      "source": [
        "# dropping non-significant columns\n",
        "business=business.drop(['Unnamed: 0','monday','tuesday','wednesday','thursday','friday','saturday','sunday','is_open'],axis=1)"
      ]
    },
    {
      "cell_type": "code",
      "execution_count": null,
      "id": "a06f4e22",
      "metadata": {
        "colab": {
          "base_uri": "https://localhost:8080/"
        },
        "id": "a06f4e22",
        "outputId": "799e0363-fa34-478d-f9a2-8b77b2362982"
      },
      "outputs": [
        {
          "data": {
            "text/plain": [
              "Index(['business_id', 'name', 'address', 'city', 'state', 'postal_code',\n",
              "       'latitude', 'longitude', 'stars', 'review_count', 'categories',\n",
              "       'cuisines'],\n",
              "      dtype='object')"
            ]
          },
          "execution_count": 11,
          "metadata": {},
          "output_type": "execute_result"
        }
      ],
      "source": [
        "business.columns"
      ]
    },
    {
      "attachments": {},
      "cell_type": "markdown",
      "id": "2da4ee51",
      "metadata": {
        "id": "2da4ee51"
      },
      "source": [
        "##  Merging grouped_business with business dataframe"
      ]
    },
    {
      "cell_type": "code",
      "execution_count": null,
      "id": "a7e9aa52",
      "metadata": {
        "id": "a7e9aa52"
      },
      "outputs": [],
      "source": [
        "# meging business with grouped_bus\n",
        "business=business.merge(grouped_bus,how='inner')"
      ]
    },
    {
      "cell_type": "code",
      "execution_count": null,
      "id": "d336a59a",
      "metadata": {
        "colab": {
          "base_uri": "https://localhost:8080/",
          "height": 88
        },
        "id": "d336a59a",
        "outputId": "d276208c-0d61-4dc2-d4f2-ca4befcded96"
      },
      "outputs": [
        {
          "data": {
            "application/vnd.google.colaboratory.intrinsic+json": {
              "type": "string"
            },
            "text/plain": [
              "\"1529036    Hands down best local bar in Las Vegas! My bar...\\n1529037    I'm changing my review to zero stars so far th...\\n1529038    We went here to watch the World Series game. Y...\\n1529039    My husband & I decided to go have a couple dri...\\n1529040    Great local BAR! Love this place, I walk in an...\\n                                 ...                        \\n1529139    This location is not the greatest; however, it...\\n1529140    Everytime we drive by this place on our way to...\\n1529141    Great little place. It can be a little bit bus...\\n1529142    My wife ordered the breakfast burrito.\\\\nWas ju...\\n1529143    Great food, great service and great atmosphere...\\nName: text, Length: 108, dtype: object\""
            ]
          },
          "execution_count": 13,
          "metadata": {},
          "output_type": "execute_result"
        }
      ],
      "source": [
        "grouped_bus.iloc[0]['text']"
      ]
    },
    {
      "cell_type": "code",
      "execution_count": null,
      "id": "bd280e00",
      "metadata": {
        "id": "bd280e00"
      },
      "outputs": [],
      "source": [
        "business.drop_duplicates( subset='business_id', keep=\"first\", inplace=True)\n",
        "business=business.reset_index(drop=True)"
      ]
    },
    {
      "attachments": {},
      "cell_type": "markdown",
      "id": "4d115993",
      "metadata": {
        "id": "4d115993"
      },
      "source": [
        "## **Content Based Recommender System**"
      ]
    },
    {
      "attachments": {},
      "cell_type": "markdown",
      "id": "8e337445",
      "metadata": {
        "id": "8e337445"
      },
      "source": [
        "### 1. Recommending Restaurants similar to ones Users highly rated"
      ]
    },
    {
      "attachments": {},
      "cell_type": "markdown",
      "id": "c4a9fd0b",
      "metadata": {
        "id": "c4a9fd0b"
      },
      "source": [
        "We started by creating a TF-IDF matrix taking features - categories, cusisines, text and stars_scaled(normalized stars).\n",
        "Then we applied Cosine Similarity and based on the similarity matrix onbtained, we then created a method that takes user_id as input and checks for business rated above 3 by the user. This method gives us the business_id, which we then use to get similar businesses. These businesses are then recommended to the user."
      ]
    },
    {
      "attachments": {},
      "cell_type": "markdown",
      "id": "UNHKZSH-NEP_",
      "metadata": {
        "id": "UNHKZSH-NEP_"
      },
      "source": [
        "#### Removing stop words from text"
      ]
    },
    {
      "cell_type": "code",
      "execution_count": null,
      "id": "gSEwOtntM9A_",
      "metadata": {
        "colab": {
          "base_uri": "https://localhost:8080/"
        },
        "id": "gSEwOtntM9A_",
        "outputId": "7d7bec2b-0656-44b2-d385-a2b004211d1d"
      },
      "outputs": [
        {
          "name": "stderr",
          "output_type": "stream",
          "text": [
            "[nltk_data] Downloading package stopwords to /root/nltk_data...\n",
            "[nltk_data]   Unzipping corpora/stopwords.zip.\n"
          ]
        }
      ],
      "source": [
        "# downloading stopwords nltk\n",
        "data = business\n",
        "nltk.download('stopwords')\n",
        "stop_words = set(stopwords.words('english'))\n",
        "data['text'] = data['text'].apply(lambda x: ' '.join([word for word in x.split() if word.lower() not in stop_words]))"
      ]
    },
    {
      "attachments": {},
      "cell_type": "markdown",
      "id": "ojXOKBQJNP5w",
      "metadata": {
        "id": "ojXOKBQJNP5w"
      },
      "source": [
        "#### Selecting Features for training and Pre-processing for fit"
      ]
    },
    {
      "cell_type": "code",
      "execution_count": null,
      "id": "9e1i69LcjwHY",
      "metadata": {
        "id": "9e1i69LcjwHY"
      },
      "outputs": [],
      "source": [
        "# selecting feature\n",
        "features = [\"categories\", \"cuisines\", \"text\",\"stars_scaled\"]\n",
        "data['stars_scaled'] = (data['stars'] - data['stars'].min()) / (data['stars'].max() - data['stars'].min())\n",
        "# Combining features into single column\n",
        "data[\"combined_features\"] = data[features].apply(lambda x: \" \".join(x.dropna().astype(str)), axis=1)"
      ]
    },
    {
      "attachments": {},
      "cell_type": "markdown",
      "id": "6d-7JdlkNWVM",
      "metadata": {
        "id": "6d-7JdlkNWVM"
      },
      "source": [
        "#### Calculating TF-IDF Matrix"
      ]
    },
    {
      "cell_type": "code",
      "execution_count": null,
      "id": "PQDezxtKNMW7",
      "metadata": {
        "id": "PQDezxtKNMW7"
      },
      "outputs": [],
      "source": [
        "# initializing vectorizer and converting our combined features to vectors\n",
        "vectorizer = TfidfVectorizer()\n",
        "tfidf_matrix = vectorizer.fit_transform(data[\"combined_features\"])"
      ]
    },
    {
      "attachments": {},
      "cell_type": "markdown",
      "id": "xyiylbArNdQh",
      "metadata": {
        "id": "xyiylbArNdQh"
      },
      "source": [
        "#### Applying Cosine Similarity"
      ]
    },
    {
      "cell_type": "code",
      "execution_count": null,
      "id": "RqgDMeT9NN7m",
      "metadata": {
        "id": "RqgDMeT9NN7m"
      },
      "outputs": [],
      "source": [
        "# applying cosine similarty for the matrix\n",
        "cosine_sim = cosine_similarity(tfidf_matrix, tfidf_matrix)"
      ]
    },
    {
      "cell_type": "code",
      "execution_count": null,
      "id": "XH7yUoSEVG6k",
      "metadata": {
        "colab": {
          "base_uri": "https://localhost:8080/",
          "height": 218
        },
        "id": "XH7yUoSEVG6k",
        "outputId": "ed12bf85-c2a1-46ff-8d83-a66dca5b6b27"
      },
      "outputs": [
        {
          "ename": "TypeError",
          "evalue": "ignored",
          "output_type": "error",
          "traceback": [
            "\u001b[0;31m---------------------------------------------------------------------------\u001b[0m",
            "\u001b[0;31mTypeError\u001b[0m                                 Traceback (most recent call last)",
            "\u001b[0;32m<ipython-input-136-a6398f1fbd6a>\u001b[0m in \u001b[0;36m<cell line: 5>\u001b[0;34m()\u001b[0m\n\u001b[1;32m      3\u001b[0m \u001b[0;34m\u001b[0m\u001b[0m\n\u001b[1;32m      4\u001b[0m \u001b[0meuclidean_dist\u001b[0m \u001b[0;34m=\u001b[0m \u001b[0mpairwise_distances\u001b[0m\u001b[0;34m(\u001b[0m\u001b[0mtfidf_matrix\u001b[0m\u001b[0;34m,\u001b[0m \u001b[0mmetric\u001b[0m\u001b[0;34m=\u001b[0m\u001b[0;34m'euclidean'\u001b[0m\u001b[0;34m)\u001b[0m\u001b[0;34m\u001b[0m\u001b[0;34m\u001b[0m\u001b[0m\n\u001b[0;32m----> 5\u001b[0;31m \u001b[0mset_list\u001b[0m \u001b[0;34m=\u001b[0m \u001b[0mset\u001b[0m\u001b[0;34m(\u001b[0m\u001b[0mdata\u001b[0m\u001b[0;34m[\u001b[0m\u001b[0;34m\"combined_features\"\u001b[0m\u001b[0;34m]\u001b[0m\u001b[0;34m.\u001b[0m\u001b[0mstr\u001b[0m\u001b[0;34m.\u001b[0m\u001b[0msplit\u001b[0m\u001b[0;34m(\u001b[0m\u001b[0;34m)\u001b[0m\u001b[0;34m.\u001b[0m\u001b[0msum\u001b[0m\u001b[0;34m(\u001b[0m\u001b[0;34m)\u001b[0m\u001b[0;34m)\u001b[0m\u001b[0;34m\u001b[0m\u001b[0;34m\u001b[0m\u001b[0m\n\u001b[0m\u001b[1;32m      6\u001b[0m \u001b[0mjaccard_sim\u001b[0m \u001b[0;34m=\u001b[0m \u001b[0mpairwise\u001b[0m\u001b[0;34m.\u001b[0m\u001b[0mjaccard_similarity_score\u001b[0m\u001b[0;34m(\u001b[0m\u001b[0mset_list\u001b[0m\u001b[0;34m)\u001b[0m\u001b[0;34m\u001b[0m\u001b[0;34m\u001b[0m\u001b[0m\n",
            "\u001b[0;31mTypeError\u001b[0m: list indices must be integers or slices, not str"
          ]
        }
      ],
      "source": [
        "from sklearn.metrics.pairwise import pairwise_distances\n",
        "from sklearn.metrics import pairwise\n",
        "\n",
        "euclidean_dist = pairwise_distances(tfidf_matrix, metric='euclidean')"
      ]
    },
    {
      "cell_type": "code",
      "execution_count": null,
      "id": "Uq5rBoSmzeoh",
      "metadata": {
        "colab": {
          "base_uri": "https://localhost:8080/",
          "height": 183
        },
        "id": "Uq5rBoSmzeoh",
        "outputId": "a23e3a83-85d3-4830-f97b-89513eea260c"
      },
      "outputs": [
        {
          "ename": "TypeError",
          "evalue": "ignored",
          "output_type": "error",
          "traceback": [
            "\u001b[0;31m---------------------------------------------------------------------------\u001b[0m",
            "\u001b[0;31mTypeError\u001b[0m                                 Traceback (most recent call last)",
            "\u001b[0;32m<ipython-input-138-7a9d9af0fc40>\u001b[0m in \u001b[0;36m<cell line: 1>\u001b[0;34m()\u001b[0m\n\u001b[0;32m----> 1\u001b[0;31m \u001b[0mset_list\u001b[0m \u001b[0;34m=\u001b[0m \u001b[0mset\u001b[0m\u001b[0;34m(\u001b[0m\u001b[0mdata\u001b[0m\u001b[0;34m[\u001b[0m\u001b[0;34m\"combined_features\"\u001b[0m\u001b[0;34m]\u001b[0m\u001b[0;34m.\u001b[0m\u001b[0mstr\u001b[0m\u001b[0;34m.\u001b[0m\u001b[0msplit\u001b[0m\u001b[0;34m(\u001b[0m\u001b[0;34m)\u001b[0m\u001b[0;34m.\u001b[0m\u001b[0msum\u001b[0m\u001b[0;34m(\u001b[0m\u001b[0;34m)\u001b[0m\u001b[0;34m.\u001b[0m\u001b[0mtolist\u001b[0m\u001b[0;34m(\u001b[0m\u001b[0;34m)\u001b[0m\u001b[0;34m)\u001b[0m\u001b[0;34m\u001b[0m\u001b[0;34m\u001b[0m\u001b[0m\n\u001b[0m\u001b[1;32m      2\u001b[0m \u001b[0mjaccard_sim\u001b[0m \u001b[0;34m=\u001b[0m \u001b[0mpairwise\u001b[0m\u001b[0;34m.\u001b[0m\u001b[0mjaccard_similarity_score\u001b[0m\u001b[0;34m(\u001b[0m\u001b[0mset_list\u001b[0m\u001b[0;34m)\u001b[0m\u001b[0;34m\u001b[0m\u001b[0;34m\u001b[0m\u001b[0m\n",
            "\u001b[0;31mTypeError\u001b[0m: list indices must be integers or slices, not str"
          ]
        }
      ],
      "source": [
        "set_list = set(data[\"combined_features\"].str.split().sum().tolist())\n",
        "jaccard_sim = pairwise.jaccard_similarity_score(set_list)"
      ]
    },
    {
      "attachments": {},
      "cell_type": "markdown",
      "id": "PWBlh5r6PGvL",
      "metadata": {
        "id": "PWBlh5r6PGvL"
      },
      "source": [
        "#### Reommend and Evaluate Functions"
      ]
    },
    {
      "cell_type": "code",
      "execution_count": null,
      "id": "a89fe92e",
      "metadata": {
        "id": "a89fe92e"
      },
      "outputs": [],
      "source": [
        "# creating class contentrec with input arguments cosine_sim, review data, business data\n",
        "class contentrecc():\n",
        "    def __init__(self,cosine_sim,data,bus,top_n=5):\n",
        "        self.cosine_sim=cosine_sim\n",
        "        self.data=data\n",
        "        self.bus=bus\n",
        "        self.top_n=top_n\n",
        "\n",
        "    # creating a function get_recommendations\n",
        "    def get_recommendations(self,bid ):\n",
        "        data=self.bus\n",
        "        top_res=[]\n",
        "        # looping over the business_ids\n",
        "        for i in bid:\n",
        "            # Get the index of the business that matches the title\n",
        "            idx = data[data['business_id'] == i].index[0]\n",
        "            sim_scores = list(enumerate(self.cosine_sim[idx]))\n",
        "            # sim_s=[i for i in sim_scores if i[0] in list(result.index)]\n",
        "            sim_s = sorted(sim_scores, key=lambda x: x[1], reverse=True)\n",
        "            #print(sim_scores)\n",
        "            top_n_scores = sim_s[1 : self.top_n + 1]\n",
        "            top_n_indices = [i[0] for i in top_n_scores]\n",
        "            # appending name and business_ids of top recommended restaurts to top_res lst\n",
        "            top_res.append(data.iloc[top_n_indices][[\"name\",'business_id','cuisines']])\n",
        "        return top_res\n",
        "    \n",
        "    # creating function fit\n",
        "    def fit(self,uid):\n",
        "        data= self.data\n",
        "        # taking only businesses that user has rated more than or equal to 3\n",
        "        user_data=data[(data['user_id'] == uid) & (data['stars_x'] >= 3)]\n",
        "        user_data=user_data.sort_values(by='stars_x', ascending=False)\n",
        "        bid=user_data['business_id'].tolist()[:2]\n",
        "        output=self.get_recommendations(bid)\n",
        "        return output\n",
        "\n",
        "    def precision(self, uid, top_n):\n",
        "      data = self.data\n",
        "      recommended_businesses = []\n",
        "      for m in self.fit(uid):\n",
        "          for n in m['cuisines']:\n",
        "              recommended_businesses.append(n)      \n",
        "          \n",
        "      user_data = data[(data['user_id'] == uid) & (data['stars_x'] >= 3)]\n",
        "      actual_businesses = set(user_data['cuisines'].str.lower().tolist())\n",
        "\n",
        "      tp = len(set(recommended_businesses).intersection(actual_businesses))\n",
        "      fp = top_n - tp\n",
        "      if (tp+fp == 0) or tp==0: \n",
        "        return 0\n",
        "      precision = tp / (tp+fp)\n",
        "      return precision\n",
        "\n",
        "    def recall(self, uid):\n",
        "      data = self.data\n",
        "      recommended_businesses = []\n",
        "      for m in self.fit(uid):\n",
        "          for n in m['cuisines']:\n",
        "              recommended_businesses.append(n)\n",
        "\n",
        "      user_data = data[(data['user_id'] == uid) & (data['stars_x'] >= 3)]\n",
        "      # if len(user_data)==0:\n",
        "      #   return 0\n",
        "      actual_businesses = set(user_data['cuisines'].str.lower().tolist())\n",
        "\n",
        "      tp = len(set(recommended_businesses).intersection(actual_businesses))\n",
        "      fn = len(actual_businesses - set(recommended_businesses))\n",
        "      \n",
        "      if tp+fn == 0:\n",
        "        return 0.5\n",
        "      recall = tp / (tp + fn)\n",
        "      return recall"
      ]
    },
    {
      "attachments": {},
      "cell_type": "markdown",
      "id": "Qdy1cFBiPFOh",
      "metadata": {
        "id": "Qdy1cFBiPFOh"
      },
      "source": [
        "#### Recommendations"
      ]
    },
    {
      "cell_type": "code",
      "execution_count": null,
      "id": "bb8afe26",
      "metadata": {
        "colab": {
          "base_uri": "https://localhost:8080/"
        },
        "id": "bb8afe26",
        "outputId": "f378b8d8-8a6f-4136-c83a-4127de2df48a"
      },
      "outputs": [
        {
          "data": {
            "text/plain": [
              "[                                name             business_id  \\\n",
              " 2704  \"House of Blues - Music Venue\"  IzEHkReZTds6ipOaCq2G6g   \n",
              " 3822                          \"IHOP\"  V0GHF8CkhOovDeQKCn7YQg   \n",
              " 2802           \"A Pig In a Fur Coat\"  OoI3WUe4Xl86d53avy3oVA   \n",
              " 1883                   \"TGI Fridays\"  XPma1KatL8CYQ-Ym4TWvsg   \n",
              " 2200                 \"Pizza Factory\"  0ajTatYvxoFd7-C22r6L4w   \n",
              " \n",
              "                     cuisines  \n",
              " 2704          american (new)  \n",
              " 3822  american (traditional)  \n",
              " 2802           mediterranean  \n",
              " 1883          american (new)  \n",
              " 2200  american (traditional)  ,\n",
              "                                       name             business_id  \\\n",
              " 2817                    \"Hellriegel's Inn\"  mJbrw3Y3NOjCKj2I5t8YsA   \n",
              " 5322               \"Troon North Golf Club\"  CKIGXGlSweovWDljQyhSHA   \n",
              " 2780                            \"Ocotillo\"  ElWzx5_fU8S2G45OnM-HpA   \n",
              " 5777            \"Luna's Deli & Restaurant\"  jNWyePugCw1J_O-s04JtIQ   \n",
              " 4988  \"The Kitchen Counter at Whole Foods\"  s_7R8WNq6LzCMxk8sd8cqQ   \n",
              " \n",
              "                     cuisines  \n",
              " 2817          american (new)  \n",
              " 5322          american (new)  \n",
              " 2780          american (new)  \n",
              " 5777  american (traditional)  \n",
              " 4988          american (new)  ]"
            ]
          },
          "execution_count": 105,
          "metadata": {},
          "output_type": "execute_result"
        }
      ],
      "source": [
        "con=contentrecc(euclidean_dist,rest_review,business, 5)\n",
        "a=con.fit('EYkzxQlabF-XBVD_EB0maw')\n",
        "a"
      ]
    },
    {
      "cell_type": "code",
      "execution_count": null,
      "id": "yST3lEv3YSqB",
      "metadata": {
        "colab": {
          "base_uri": "https://localhost:8080/"
        },
        "id": "yST3lEv3YSqB",
        "outputId": "3095c144-803a-494c-ed54-154c29dbd04c"
      },
      "outputs": [
        {
          "data": {
            "text/plain": [
              "[                            name             business_id cuisines\n",
              " 3705                 \"Taco Time\"  S6V63OzrCaj22BQJeKBDCw  mexican\n",
              " 6150         \"Durango Taco Shop\"  nt2-Zk4FmGY2SYSDBI0gHw  mexican\n",
              " 10506  \"Chicago Style Taco Shop\"  9t8PEynZGVCG1EjOQr1xBA  mexican\n",
              " 8793                \"Taco Shack\"  db12Hn9hdoE-Ne4_NsVKSw  mexican\n",
              " 1996                  \"Del Taco\"  Fho2P7OP80-yChCRxkK7Hw  mexican,\n",
              "                  name             business_id cuisines\n",
              " 1284    \"Asian Grill\"  4sn2a0QzxTmAO3-mxi1s7g  chinese\n",
              " 8316   \"Asian Island\"  Xfod0UWr_9B-TOM6qxVIwQ  chinese\n",
              " 1828   \"Asian Garden\"  IIWz96zl3D8thYIxv3-5mA     thai\n",
              " 8193       \"Yes Cafe\"  Y6Vw0FF8Qz9XD8fY4Z9Vfg  chinese\n",
              " 9972  \"Asian Cuisine\"  uno5w5Zkhwn-yFkJgFuYOw  chinese]"
            ]
          },
          "execution_count": 106,
          "metadata": {},
          "output_type": "execute_result"
        }
      ],
      "source": [
        "con=contentrecc(cosine_sim,rest_review,business, 5)\n",
        "a=con.fit('EYkzxQlabF-XBVD_EB0maw')\n",
        "a"
      ]
    },
    {
      "attachments": {},
      "cell_type": "markdown",
      "id": "FAnRh4ztPSuF",
      "metadata": {
        "id": "FAnRh4ztPSuF"
      },
      "source": [
        "#### Sampling Test Set (due to computational constraints)"
      ]
    },
    {
      "cell_type": "code",
      "execution_count": null,
      "id": "M08fK2SBjdJi",
      "metadata": {
        "id": "M08fK2SBjdJi"
      },
      "outputs": [],
      "source": [
        "test_set=rest_review.sample(frac=.00001, random_state=69)"
      ]
    },
    {
      "attachments": {},
      "cell_type": "markdown",
      "id": "ZoEjafnPPZ-b",
      "metadata": {
        "id": "ZoEjafnPPZ-b"
      },
      "source": [
        "#### Calculating Precision, Recall and F1-Score for Test Dataset"
      ]
    },
    {
      "cell_type": "code",
      "execution_count": null,
      "id": "_vk6cCZfx4ex",
      "metadata": {
        "colab": {
          "base_uri": "https://localhost:8080/"
        },
        "id": "_vk6cCZfx4ex",
        "outputId": "13c8b89f-f154-43a1-a65a-fd867d5e45d9"
      },
      "outputs": [
        {
          "name": "stdout",
          "output_type": "stream",
          "text": [
            "precision:0.2823529411764706,recall:0.5294117647058824,f1-score:0.3682864450127877\n"
          ]
        }
      ],
      "source": [
        "top_n=5\n",
        "p=0\n",
        "r=0\n",
        "pre=[]\n",
        "rc=[]\n",
        "# iterating test set\n",
        "for i,row in test_set.iterrows():\n",
        "  # \n",
        "  model=contentrecc(euclidean_dist,rest_review,business,50)\n",
        "  uid=row['user_id']\n",
        "  fit=model.fit(uid)\n",
        "  a=model.precision(uid, top_n)\n",
        "  b=model.recall(uid)\n",
        "  pre.append(a)\n",
        "  rc.append(b)\n",
        "  p+=a\n",
        "  r+=b\n",
        "\n",
        "precision=p/len(test_set)\n",
        "recall=r/len(test_set)\n",
        "f1_score = 2 * (( precision* recall) / (precision + recall))\n",
        "print(f'precision:{precision},recall:{recall},f1-score:{f1_score}')"
      ]
    },
    {
      "attachments": {},
      "cell_type": "markdown",
      "id": "WJzXd9fWPlQl",
      "metadata": {
        "id": "WJzXd9fWPlQl"
      },
      "source": [
        "#### Plots "
      ]
    },
    {
      "cell_type": "code",
      "execution_count": null,
      "id": "ZuSDEW2NOryk",
      "metadata": {
        "colab": {
          "base_uri": "https://localhost:8080/",
          "height": 542
        },
        "id": "ZuSDEW2NOryk",
        "outputId": "a236cd2e-ec2a-49e2-cd6f-c3e31c60719d"
      },
      "outputs": [
        {
          "data": {
            "text/html": [
              "<html>\n",
              "<head><meta charset=\"utf-8\" /></head>\n",
              "<body>\n",
              "    <div>            <script src=\"https://cdnjs.cloudflare.com/ajax/libs/mathjax/2.7.5/MathJax.js?config=TeX-AMS-MML_SVG\"></script><script type=\"text/javascript\">if (window.MathJax && window.MathJax.Hub && window.MathJax.Hub.Config) {window.MathJax.Hub.Config({SVG: {font: \"STIX-Web\"}});}</script>                <script type=\"text/javascript\">window.PlotlyConfig = {MathJaxConfig: 'local'};</script>\n",
              "        <script src=\"https://cdn.plot.ly/plotly-2.18.2.min.js\"></script>                <div id=\"e8ba6f82-d16b-40fd-9d8d-cf790e7c1082\" class=\"plotly-graph-div\" style=\"height:525px; width:100%;\"></div>            <script type=\"text/javascript\">                                    window.PLOTLYENV=window.PLOTLYENV || {};                                    if (document.getElementById(\"e8ba6f82-d16b-40fd-9d8d-cf790e7c1082\")) {                    Plotly.newPlot(                        \"e8ba6f82-d16b-40fd-9d8d-cf790e7c1082\",                        [{\"mode\":\"lines+markers\",\"name\":\"Precision\",\"x\":[0,1,2,3,4,5,6,7,8,9,10,11,12,13,14,15,16],\"y\":[0,1.0,0.4,0.2,0.2,0.8,0,0.4,0,0.4,0.6,0.4,0.4,0,0,0,0],\"type\":\"scatter\"},{\"mode\":\"lines+markers\",\"name\":\"Recall\",\"x\":[0,1,2,3,4,5,6,7,8,9,10,11,12,13,14,15,16],\"y\":[0.0,1.0,1.0,0.5,0.5,1.0,0.5,1.0,0.5,0.5,0.6,0.4,1.0,0.5,0.0,0.0,0.0],\"type\":\"scatter\"}],                        {\"template\":{\"data\":{\"histogram2dcontour\":[{\"type\":\"histogram2dcontour\",\"colorbar\":{\"outlinewidth\":0,\"ticks\":\"\"},\"colorscale\":[[0.0,\"#0d0887\"],[0.1111111111111111,\"#46039f\"],[0.2222222222222222,\"#7201a8\"],[0.3333333333333333,\"#9c179e\"],[0.4444444444444444,\"#bd3786\"],[0.5555555555555556,\"#d8576b\"],[0.6666666666666666,\"#ed7953\"],[0.7777777777777778,\"#fb9f3a\"],[0.8888888888888888,\"#fdca26\"],[1.0,\"#f0f921\"]]}],\"choropleth\":[{\"type\":\"choropleth\",\"colorbar\":{\"outlinewidth\":0,\"ticks\":\"\"}}],\"histogram2d\":[{\"type\":\"histogram2d\",\"colorbar\":{\"outlinewidth\":0,\"ticks\":\"\"},\"colorscale\":[[0.0,\"#0d0887\"],[0.1111111111111111,\"#46039f\"],[0.2222222222222222,\"#7201a8\"],[0.3333333333333333,\"#9c179e\"],[0.4444444444444444,\"#bd3786\"],[0.5555555555555556,\"#d8576b\"],[0.6666666666666666,\"#ed7953\"],[0.7777777777777778,\"#fb9f3a\"],[0.8888888888888888,\"#fdca26\"],[1.0,\"#f0f921\"]]}],\"heatmap\":[{\"type\":\"heatmap\",\"colorbar\":{\"outlinewidth\":0,\"ticks\":\"\"},\"colorscale\":[[0.0,\"#0d0887\"],[0.1111111111111111,\"#46039f\"],[0.2222222222222222,\"#7201a8\"],[0.3333333333333333,\"#9c179e\"],[0.4444444444444444,\"#bd3786\"],[0.5555555555555556,\"#d8576b\"],[0.6666666666666666,\"#ed7953\"],[0.7777777777777778,\"#fb9f3a\"],[0.8888888888888888,\"#fdca26\"],[1.0,\"#f0f921\"]]}],\"heatmapgl\":[{\"type\":\"heatmapgl\",\"colorbar\":{\"outlinewidth\":0,\"ticks\":\"\"},\"colorscale\":[[0.0,\"#0d0887\"],[0.1111111111111111,\"#46039f\"],[0.2222222222222222,\"#7201a8\"],[0.3333333333333333,\"#9c179e\"],[0.4444444444444444,\"#bd3786\"],[0.5555555555555556,\"#d8576b\"],[0.6666666666666666,\"#ed7953\"],[0.7777777777777778,\"#fb9f3a\"],[0.8888888888888888,\"#fdca26\"],[1.0,\"#f0f921\"]]}],\"contourcarpet\":[{\"type\":\"contourcarpet\",\"colorbar\":{\"outlinewidth\":0,\"ticks\":\"\"}}],\"contour\":[{\"type\":\"contour\",\"colorbar\":{\"outlinewidth\":0,\"ticks\":\"\"},\"colorscale\":[[0.0,\"#0d0887\"],[0.1111111111111111,\"#46039f\"],[0.2222222222222222,\"#7201a8\"],[0.3333333333333333,\"#9c179e\"],[0.4444444444444444,\"#bd3786\"],[0.5555555555555556,\"#d8576b\"],[0.6666666666666666,\"#ed7953\"],[0.7777777777777778,\"#fb9f3a\"],[0.8888888888888888,\"#fdca26\"],[1.0,\"#f0f921\"]]}],\"surface\":[{\"type\":\"surface\",\"colorbar\":{\"outlinewidth\":0,\"ticks\":\"\"},\"colorscale\":[[0.0,\"#0d0887\"],[0.1111111111111111,\"#46039f\"],[0.2222222222222222,\"#7201a8\"],[0.3333333333333333,\"#9c179e\"],[0.4444444444444444,\"#bd3786\"],[0.5555555555555556,\"#d8576b\"],[0.6666666666666666,\"#ed7953\"],[0.7777777777777778,\"#fb9f3a\"],[0.8888888888888888,\"#fdca26\"],[1.0,\"#f0f921\"]]}],\"mesh3d\":[{\"type\":\"mesh3d\",\"colorbar\":{\"outlinewidth\":0,\"ticks\":\"\"}}],\"scatter\":[{\"fillpattern\":{\"fillmode\":\"overlay\",\"size\":10,\"solidity\":0.2},\"type\":\"scatter\"}],\"parcoords\":[{\"type\":\"parcoords\",\"line\":{\"colorbar\":{\"outlinewidth\":0,\"ticks\":\"\"}}}],\"scatterpolargl\":[{\"type\":\"scatterpolargl\",\"marker\":{\"colorbar\":{\"outlinewidth\":0,\"ticks\":\"\"}}}],\"bar\":[{\"error_x\":{\"color\":\"#2a3f5f\"},\"error_y\":{\"color\":\"#2a3f5f\"},\"marker\":{\"line\":{\"color\":\"#E5ECF6\",\"width\":0.5},\"pattern\":{\"fillmode\":\"overlay\",\"size\":10,\"solidity\":0.2}},\"type\":\"bar\"}],\"scattergeo\":[{\"type\":\"scattergeo\",\"marker\":{\"colorbar\":{\"outlinewidth\":0,\"ticks\":\"\"}}}],\"scatterpolar\":[{\"type\":\"scatterpolar\",\"marker\":{\"colorbar\":{\"outlinewidth\":0,\"ticks\":\"\"}}}],\"histogram\":[{\"marker\":{\"pattern\":{\"fillmode\":\"overlay\",\"size\":10,\"solidity\":0.2}},\"type\":\"histogram\"}],\"scattergl\":[{\"type\":\"scattergl\",\"marker\":{\"colorbar\":{\"outlinewidth\":0,\"ticks\":\"\"}}}],\"scatter3d\":[{\"type\":\"scatter3d\",\"line\":{\"colorbar\":{\"outlinewidth\":0,\"ticks\":\"\"}},\"marker\":{\"colorbar\":{\"outlinewidth\":0,\"ticks\":\"\"}}}],\"scattermapbox\":[{\"type\":\"scattermapbox\",\"marker\":{\"colorbar\":{\"outlinewidth\":0,\"ticks\":\"\"}}}],\"scatterternary\":[{\"type\":\"scatterternary\",\"marker\":{\"colorbar\":{\"outlinewidth\":0,\"ticks\":\"\"}}}],\"scattercarpet\":[{\"type\":\"scattercarpet\",\"marker\":{\"colorbar\":{\"outlinewidth\":0,\"ticks\":\"\"}}}],\"carpet\":[{\"aaxis\":{\"endlinecolor\":\"#2a3f5f\",\"gridcolor\":\"white\",\"linecolor\":\"white\",\"minorgridcolor\":\"white\",\"startlinecolor\":\"#2a3f5f\"},\"baxis\":{\"endlinecolor\":\"#2a3f5f\",\"gridcolor\":\"white\",\"linecolor\":\"white\",\"minorgridcolor\":\"white\",\"startlinecolor\":\"#2a3f5f\"},\"type\":\"carpet\"}],\"table\":[{\"cells\":{\"fill\":{\"color\":\"#EBF0F8\"},\"line\":{\"color\":\"white\"}},\"header\":{\"fill\":{\"color\":\"#C8D4E3\"},\"line\":{\"color\":\"white\"}},\"type\":\"table\"}],\"barpolar\":[{\"marker\":{\"line\":{\"color\":\"#E5ECF6\",\"width\":0.5},\"pattern\":{\"fillmode\":\"overlay\",\"size\":10,\"solidity\":0.2}},\"type\":\"barpolar\"}],\"pie\":[{\"automargin\":true,\"type\":\"pie\"}]},\"layout\":{\"autotypenumbers\":\"strict\",\"colorway\":[\"#636efa\",\"#EF553B\",\"#00cc96\",\"#ab63fa\",\"#FFA15A\",\"#19d3f3\",\"#FF6692\",\"#B6E880\",\"#FF97FF\",\"#FECB52\"],\"font\":{\"color\":\"#2a3f5f\"},\"hovermode\":\"closest\",\"hoverlabel\":{\"align\":\"left\"},\"paper_bgcolor\":\"white\",\"plot_bgcolor\":\"#E5ECF6\",\"polar\":{\"bgcolor\":\"#E5ECF6\",\"angularaxis\":{\"gridcolor\":\"white\",\"linecolor\":\"white\",\"ticks\":\"\"},\"radialaxis\":{\"gridcolor\":\"white\",\"linecolor\":\"white\",\"ticks\":\"\"}},\"ternary\":{\"bgcolor\":\"#E5ECF6\",\"aaxis\":{\"gridcolor\":\"white\",\"linecolor\":\"white\",\"ticks\":\"\"},\"baxis\":{\"gridcolor\":\"white\",\"linecolor\":\"white\",\"ticks\":\"\"},\"caxis\":{\"gridcolor\":\"white\",\"linecolor\":\"white\",\"ticks\":\"\"}},\"coloraxis\":{\"colorbar\":{\"outlinewidth\":0,\"ticks\":\"\"}},\"colorscale\":{\"sequential\":[[0.0,\"#0d0887\"],[0.1111111111111111,\"#46039f\"],[0.2222222222222222,\"#7201a8\"],[0.3333333333333333,\"#9c179e\"],[0.4444444444444444,\"#bd3786\"],[0.5555555555555556,\"#d8576b\"],[0.6666666666666666,\"#ed7953\"],[0.7777777777777778,\"#fb9f3a\"],[0.8888888888888888,\"#fdca26\"],[1.0,\"#f0f921\"]],\"sequentialminus\":[[0.0,\"#0d0887\"],[0.1111111111111111,\"#46039f\"],[0.2222222222222222,\"#7201a8\"],[0.3333333333333333,\"#9c179e\"],[0.4444444444444444,\"#bd3786\"],[0.5555555555555556,\"#d8576b\"],[0.6666666666666666,\"#ed7953\"],[0.7777777777777778,\"#fb9f3a\"],[0.8888888888888888,\"#fdca26\"],[1.0,\"#f0f921\"]],\"diverging\":[[0,\"#8e0152\"],[0.1,\"#c51b7d\"],[0.2,\"#de77ae\"],[0.3,\"#f1b6da\"],[0.4,\"#fde0ef\"],[0.5,\"#f7f7f7\"],[0.6,\"#e6f5d0\"],[0.7,\"#b8e186\"],[0.8,\"#7fbc41\"],[0.9,\"#4d9221\"],[1,\"#276419\"]]},\"xaxis\":{\"gridcolor\":\"white\",\"linecolor\":\"white\",\"ticks\":\"\",\"title\":{\"standoff\":15},\"zerolinecolor\":\"white\",\"automargin\":true,\"zerolinewidth\":2},\"yaxis\":{\"gridcolor\":\"white\",\"linecolor\":\"white\",\"ticks\":\"\",\"title\":{\"standoff\":15},\"zerolinecolor\":\"white\",\"automargin\":true,\"zerolinewidth\":2},\"scene\":{\"xaxis\":{\"backgroundcolor\":\"#E5ECF6\",\"gridcolor\":\"white\",\"linecolor\":\"white\",\"showbackground\":true,\"ticks\":\"\",\"zerolinecolor\":\"white\",\"gridwidth\":2},\"yaxis\":{\"backgroundcolor\":\"#E5ECF6\",\"gridcolor\":\"white\",\"linecolor\":\"white\",\"showbackground\":true,\"ticks\":\"\",\"zerolinecolor\":\"white\",\"gridwidth\":2},\"zaxis\":{\"backgroundcolor\":\"#E5ECF6\",\"gridcolor\":\"white\",\"linecolor\":\"white\",\"showbackground\":true,\"ticks\":\"\",\"zerolinecolor\":\"white\",\"gridwidth\":2}},\"shapedefaults\":{\"line\":{\"color\":\"#2a3f5f\"}},\"annotationdefaults\":{\"arrowcolor\":\"#2a3f5f\",\"arrowhead\":0,\"arrowwidth\":1},\"geo\":{\"bgcolor\":\"white\",\"landcolor\":\"#E5ECF6\",\"subunitcolor\":\"white\",\"showland\":true,\"showlakes\":true,\"lakecolor\":\"white\"},\"title\":{\"x\":0.05},\"mapbox\":{\"style\":\"light\"}}},\"title\":{\"text\":\"Precision and Recall\"},\"xaxis\":{\"title\":{\"text\":\"Test Dataset\"}},\"yaxis\":{\"title\":{\"text\":\"Score\"}}},                        {\"responsive\": true}                    ).then(function(){\n",
              "                            \n",
              "var gd = document.getElementById('e8ba6f82-d16b-40fd-9d8d-cf790e7c1082');\n",
              "var x = new MutationObserver(function (mutations, observer) {{\n",
              "        var display = window.getComputedStyle(gd).display;\n",
              "        if (!display || display === 'none') {{\n",
              "            console.log([gd, 'removed!']);\n",
              "            Plotly.purge(gd);\n",
              "            observer.disconnect();\n",
              "        }}\n",
              "}});\n",
              "\n",
              "// Listen for the removal of the full notebook cells\n",
              "var notebookContainer = gd.closest('#notebook-container');\n",
              "if (notebookContainer) {{\n",
              "    x.observe(notebookContainer, {childList: true});\n",
              "}}\n",
              "\n",
              "// Listen for the clearing of the current output cell\n",
              "var outputEl = gd.closest('.output');\n",
              "if (outputEl) {{\n",
              "    x.observe(outputEl, {childList: true});\n",
              "}}\n",
              "\n",
              "                        })                };                            </script>        </div>\n",
              "</body>\n",
              "</html>"
            ]
          },
          "metadata": {},
          "output_type": "display_data"
        }
      ],
      "source": [
        "fig = go.Figure()\n",
        "fig.add_trace(go.Scatter(x=list(range(len(pre))), y=pre,\n",
        "                    mode='lines+markers',\n",
        "                    name='Precision'))\n",
        "fig.add_trace(go.Scatter(x=list(range(len(rc))), y=rc,\n",
        "                    mode='lines+markers',\n",
        "                    name='Recall'))\n",
        "\n",
        "# add axis labels and title\n",
        "fig.update_layout(title='Precision and Recall',\n",
        "                   xaxis_title='Test Dataset',\n",
        "                   yaxis_title='Score')\n",
        "\n",
        "# show plot\n",
        "fig.show()"
      ]
    },
    {
      "attachments": {},
      "cell_type": "markdown",
      "id": "9f0f4e58",
      "metadata": {
        "id": "9f0f4e58"
      },
      "source": [
        "### 2. Recommending restaurants in the Demographic vicinity based on their past preferences "
      ]
    },
    {
      "attachments": {},
      "cell_type": "markdown",
      "id": "e2e58291",
      "metadata": {
        "id": "e2e58291"
      },
      "source": [
        " \n",
        "\n",
        "1.   Created a TF-idf matrix taking features - categories, cusisines, text and stars_scaled(normalized stars).\n",
        "2.    Applied Cosine Similarity to the feature vectors\n",
        "3. Created a method that takes user_id, and location of user (latitude and longitude) as input and checks for business rated above 3 by the user. \n",
        "4. We then use these businesses similar to these businesses in the user's vicinity."
      ]
    },
    {
      "cell_type": "code",
      "execution_count": null,
      "id": "d375874e",
      "metadata": {
        "id": "d375874e",
        "scrolled": true
      },
      "outputs": [],
      "source": [
        "# Creating class contentrec_loc taking input arguments cosine_sim, latitude, longitude, restaurant review, business\n",
        "class contentrec_loc():\n",
        "    def __init__(self,cosine_sim,lat,lon,data,bus):\n",
        "#         self.uid=uid\n",
        "        self.lat=lat\n",
        "        self.lon=lon\n",
        "        self.cosine_sim=cosine_sim\n",
        "        self.data=data\n",
        "        self.bus=bus\n",
        "\n",
        "    def get_recommendations(self,bid, cosine_sim=cosine_sim , top_n=20):\n",
        "        data=self.bus\n",
        "        top_lst=[]\n",
        "        top_dict={}\n",
        "        for i in bid:\n",
        "            target_lat=self.lat\n",
        "            target_long=self.lon\n",
        "            distances = []\n",
        "            # creating a column[Distance] in data which has the distances between restaurants and our location\n",
        "            for j in range(len(data)):\n",
        "                lat = data.iloc[j]['latitude']\n",
        "                long = data.iloc[j]['longitude']\n",
        "                dist = geodesic((float(target_lat), float(target_long)), (lat, long)).miles\n",
        "                distances.append(dist)\n",
        "            data['distance'] = distances\n",
        "\n",
        "            # Sort the DataFrame by distance and return the top results\n",
        "            result = data.sort_values('distance').head(30)\n",
        "            # Get the index of the business that matches the title\n",
        "            idx = data[data['business_id'] == i].index[0]\n",
        "            sim_scores = list(enumerate(cosine_sim[idx]))\n",
        "            sim_s=[i for i in sim_scores if i[0] in list(result.index)]\n",
        "            sim_s = sorted(sim_s, key=lambda x: x[1], reverse=True)\n",
        "            top_n_scores = sim_s[1 : top_n + 1]\n",
        "            top_n_indices = [i[0] for i in top_n_scores]\n",
        "            \n",
        "            # appending name and business_ids of tep recommended restaurts to top_res dictionry\n",
        "            top_lst=data.iloc[top_n_indices][[\"name\",\"business_id\",\"distance\",\"latitude\",'longitude']]\n",
        "\n",
        "            top_dict['name']=data.iloc[top_n_indices][\"name\"]\n",
        "            top_dict['business_id']=data.iloc[top_n_indices][\"business_id\"]\n",
        "            top_dict['distance']=data.iloc[top_n_indices][\"distance\"]\n",
        "            \n",
        "        return [top_dict],top_lst\n",
        "    \n",
        "    def fit(self,uid):\n",
        "        data= self.data\n",
        "        user_data=data[(data['user_id'] == uid) & (data['stars_x'] >= 3)]\n",
        "        user_data=user_data.sort_values(by='stars_x', ascending=False)\n",
        "        bid=user_data['business_id'].tolist()[:1]\n",
        "        output,rec=self.get_recommendations(bid)\n",
        "        return output,pd.DataFrame(rec)\n",
        "\n"
      ]
    },
    {
      "cell_type": "code",
      "execution_count": null,
      "id": "9b72d5b1",
      "metadata": {
        "colab": {
          "base_uri": "https://localhost:8080/"
        },
        "id": "9b72d5b1",
        "outputId": "cb9e1cca-fc6d-4d0d-8a86-69b795ac2ab7"
      },
      "outputs": [
        {
          "data": {
            "text/plain": [
              "[{'name': 7681                              \"Home Plate Grill & Bar\"\n",
              "  1272                       \"Crazy Pita Rotisserie & Grill\"\n",
              "  475                   \"Double Helix Wine & Whiskey Lounge\"\n",
              "  8213                           \"Lazy Dog Restaurant & Bar\"\n",
              "  3                                \"Flight Deck Bar & Grill\"\n",
              "  5587                          \"Kabuki Japanese Restaurant\"\n",
              "  5029                               \"FUWA Teppanyaki Grill\"\n",
              "  6496                            \"La Bella Napoli Pizzeria\"\n",
              "  9594     \"Tommy Bahama Restaurant | Bar | Store - Las V...\n",
              "  1539                                 \"Blue Martini Lounge\"\n",
              "  11842                                 \"Hot Dog On A Stick\"\n",
              "  6948                                      \"Bonefish Grill\"\n",
              "  11467                                     \"Pot Liquor CAS\"\n",
              "  3485                                          \"Yard House\"\n",
              "  11346                                             \"LV bar\"\n",
              "  7444                              \"17 South Booze & Bites\"\n",
              "  9862                    \"McFadden's Restaurant and Saloon\"\n",
              "  7540                                  \"Brio Tuscan Grille\"\n",
              "  4804                          \"Fleming's Prime Steakhouse\"\n",
              "  4                                              \"GameWorks\"\n",
              "  Name: name, dtype: object,\n",
              "  'business_id': 7681     lLMJsTchKYF1O0fpNWpCRA\n",
              "  1272     F6p_k-Q6W_kkAb-s_a0Omw\n",
              "  475      hYX0z2C6Th5XmcrKOP31fQ\n",
              "  8213     rdE9gg0WB7Z8kRytIMSapg\n",
              "  3        Pd52CjgyEU3Rb8co6QfTPw\n",
              "  5587     O7ot_LMlCfLpOP9tBqeNfw\n",
              "  5029     TDL9WXyjmBGGxl9yfbQ89w\n",
              "  6496     y1esDY2vFyaTMf1YlRT7ZA\n",
              "  9594     uUEKndnFbHD8mVkGiirtpA\n",
              "  1539     UCpUOtvqR-NBWBNVMzJleA\n",
              "  11842    OwG2nkJrDoP-WGcU9tvkUA\n",
              "  6948     Q5olb1x6FGk2oLAlc9p5Lg\n",
              "  11467    OjApDLQUPV8c_yPCg8xZog\n",
              "  3485     A5Rkh7UymKm0_Rxm9K2PJw\n",
              "  11346    VWnMgGRexZMGFs7IrQR_9Q\n",
              "  7444     dNRbhJt4wd-ZU4lFVK3iiw\n",
              "  9862     km5aBHRss5ir_B0jvEErzQ\n",
              "  7540     UYh1N1xQhOh-a7nX92xPzQ\n",
              "  4804     FYqFfaxVRW6pdviONXIoDw\n",
              "  4        n7V4cD-KqqE3OXk0irJTyA\n",
              "  Name: business_id, dtype: object,\n",
              "  'distance': 7681     0.713881\n",
              "  1272     0.432902\n",
              "  475      0.395924\n",
              "  8213     0.279334\n",
              "  3        0.000036\n",
              "  5587     0.401079\n",
              "  5029     0.828134\n",
              "  6496     0.381870\n",
              "  9594     0.357552\n",
              "  1539     0.387608\n",
              "  11842    0.082288\n",
              "  6948     0.304058\n",
              "  11467    0.441303\n",
              "  3485     0.415009\n",
              "  11346    0.194822\n",
              "  7444     0.499574\n",
              "  9862     0.411495\n",
              "  7540     0.297009\n",
              "  4804     0.244567\n",
              "  4        0.458891\n",
              "  Name: distance, dtype: float64}]"
            ]
          },
          "execution_count": 131,
          "metadata": {},
          "output_type": "execute_result"
        }
      ],
      "source": [
        "model=contentrec_loc(cosine_sim,36.066914,-115.170848,rest_review,business)\n",
        "output,rec=model.fit('jFTfEhwPuBsWXydhcEbqAQ')\n",
        "output"
      ]
    },
    {
      "cell_type": "code",
      "execution_count": null,
      "id": "YagOsCPHu5PZ",
      "metadata": {
        "colab": {
          "base_uri": "https://localhost:8080/",
          "height": 363
        },
        "id": "YagOsCPHu5PZ",
        "outputId": "aad65e20-0925-4a83-ead5-449c27811d7b"
      },
      "outputs": [
        {
          "data": {
            "text/html": [
              "\n",
              "  <div id=\"df-3b43ece9-93ee-4c5d-ab22-2eff3b70e3a1\">\n",
              "    <div class=\"colab-df-container\">\n",
              "      <div>\n",
              "<style scoped>\n",
              "    .dataframe tbody tr th:only-of-type {\n",
              "        vertical-align: middle;\n",
              "    }\n",
              "\n",
              "    .dataframe tbody tr th {\n",
              "        vertical-align: top;\n",
              "    }\n",
              "\n",
              "    .dataframe thead th {\n",
              "        text-align: right;\n",
              "    }\n",
              "</style>\n",
              "<table border=\"1\" class=\"dataframe\">\n",
              "  <thead>\n",
              "    <tr style=\"text-align: right;\">\n",
              "      <th></th>\n",
              "      <th>name</th>\n",
              "      <th>business_id</th>\n",
              "      <th>distance</th>\n",
              "      <th>latitude</th>\n",
              "      <th>longitude</th>\n",
              "    </tr>\n",
              "  </thead>\n",
              "  <tbody>\n",
              "    <tr>\n",
              "      <th>3</th>\n",
              "      <td>\"Flight Deck Bar &amp; Grill\"</td>\n",
              "      <td>Pd52CjgyEU3Rb8co6QfTPw</td>\n",
              "      <td>0.000036</td>\n",
              "      <td>36.066914</td>\n",
              "      <td>-115.170848</td>\n",
              "    </tr>\n",
              "    <tr>\n",
              "      <th>11842</th>\n",
              "      <td>\"Hot Dog On A Stick\"</td>\n",
              "      <td>OwG2nkJrDoP-WGcU9tvkUA</td>\n",
              "      <td>0.082288</td>\n",
              "      <td>36.066499</td>\n",
              "      <td>-115.172226</td>\n",
              "    </tr>\n",
              "    <tr>\n",
              "      <th>11346</th>\n",
              "      <td>\"LV bar\"</td>\n",
              "      <td>VWnMgGRexZMGFs7IrQR_9Q</td>\n",
              "      <td>0.194822</td>\n",
              "      <td>36.067581</td>\n",
              "      <td>-115.174230</td>\n",
              "    </tr>\n",
              "    <tr>\n",
              "      <th>4804</th>\n",
              "      <td>\"Fleming's Prime Steakhouse\"</td>\n",
              "      <td>FYqFfaxVRW6pdviONXIoDw</td>\n",
              "      <td>0.244567</td>\n",
              "      <td>36.069568</td>\n",
              "      <td>-115.173747</td>\n",
              "    </tr>\n",
              "    <tr>\n",
              "      <th>8213</th>\n",
              "      <td>\"Lazy Dog Restaurant &amp; Bar\"</td>\n",
              "      <td>rdE9gg0WB7Z8kRytIMSapg</td>\n",
              "      <td>0.279334</td>\n",
              "      <td>36.070146</td>\n",
              "      <td>-115.173856</td>\n",
              "    </tr>\n",
              "    <tr>\n",
              "      <th>7540</th>\n",
              "      <td>\"Brio Tuscan Grille\"</td>\n",
              "      <td>UYh1N1xQhOh-a7nX92xPzQ</td>\n",
              "      <td>0.297009</td>\n",
              "      <td>36.068152</td>\n",
              "      <td>-115.175930</td>\n",
              "    </tr>\n",
              "    <tr>\n",
              "      <th>6948</th>\n",
              "      <td>\"Bonefish Grill\"</td>\n",
              "      <td>Q5olb1x6FGk2oLAlc9p5Lg</td>\n",
              "      <td>0.304058</td>\n",
              "      <td>36.070043</td>\n",
              "      <td>-115.174675</td>\n",
              "    </tr>\n",
              "    <tr>\n",
              "      <th>9594</th>\n",
              "      <td>\"Tommy Bahama Restaurant | Bar | Store - Las V...</td>\n",
              "      <td>uUEKndnFbHD8mVkGiirtpA</td>\n",
              "      <td>0.357552</td>\n",
              "      <td>36.068497</td>\n",
              "      <td>-115.176931</td>\n",
              "    </tr>\n",
              "    <tr>\n",
              "      <th>6496</th>\n",
              "      <td>\"La Bella Napoli Pizzeria\"</td>\n",
              "      <td>y1esDY2vFyaTMf1YlRT7ZA</td>\n",
              "      <td>0.381870</td>\n",
              "      <td>36.068160</td>\n",
              "      <td>-115.177495</td>\n",
              "    </tr>\n",
              "    <tr>\n",
              "      <th>1539</th>\n",
              "      <td>\"Blue Martini Lounge\"</td>\n",
              "      <td>UCpUOtvqR-NBWBNVMzJleA</td>\n",
              "      <td>0.387608</td>\n",
              "      <td>36.068371</td>\n",
              "      <td>-115.177536</td>\n",
              "    </tr>\n",
              "  </tbody>\n",
              "</table>\n",
              "</div>\n",
              "      <button class=\"colab-df-convert\" onclick=\"convertToInteractive('df-3b43ece9-93ee-4c5d-ab22-2eff3b70e3a1')\"\n",
              "              title=\"Convert this dataframe to an interactive table.\"\n",
              "              style=\"display:none;\">\n",
              "        \n",
              "  <svg xmlns=\"http://www.w3.org/2000/svg\" height=\"24px\"viewBox=\"0 0 24 24\"\n",
              "       width=\"24px\">\n",
              "    <path d=\"M0 0h24v24H0V0z\" fill=\"none\"/>\n",
              "    <path d=\"M18.56 5.44l.94 2.06.94-2.06 2.06-.94-2.06-.94-.94-2.06-.94 2.06-2.06.94zm-11 1L8.5 8.5l.94-2.06 2.06-.94-2.06-.94L8.5 2.5l-.94 2.06-2.06.94zm10 10l.94 2.06.94-2.06 2.06-.94-2.06-.94-.94-2.06-.94 2.06-2.06.94z\"/><path d=\"M17.41 7.96l-1.37-1.37c-.4-.4-.92-.59-1.43-.59-.52 0-1.04.2-1.43.59L10.3 9.45l-7.72 7.72c-.78.78-.78 2.05 0 2.83L4 21.41c.39.39.9.59 1.41.59.51 0 1.02-.2 1.41-.59l7.78-7.78 2.81-2.81c.8-.78.8-2.07 0-2.86zM5.41 20L4 18.59l7.72-7.72 1.47 1.35L5.41 20z\"/>\n",
              "  </svg>\n",
              "      </button>\n",
              "      \n",
              "  <style>\n",
              "    .colab-df-container {\n",
              "      display:flex;\n",
              "      flex-wrap:wrap;\n",
              "      gap: 12px;\n",
              "    }\n",
              "\n",
              "    .colab-df-convert {\n",
              "      background-color: #E8F0FE;\n",
              "      border: none;\n",
              "      border-radius: 50%;\n",
              "      cursor: pointer;\n",
              "      display: none;\n",
              "      fill: #1967D2;\n",
              "      height: 32px;\n",
              "      padding: 0 0 0 0;\n",
              "      width: 32px;\n",
              "    }\n",
              "\n",
              "    .colab-df-convert:hover {\n",
              "      background-color: #E2EBFA;\n",
              "      box-shadow: 0px 1px 2px rgba(60, 64, 67, 0.3), 0px 1px 3px 1px rgba(60, 64, 67, 0.15);\n",
              "      fill: #174EA6;\n",
              "    }\n",
              "\n",
              "    [theme=dark] .colab-df-convert {\n",
              "      background-color: #3B4455;\n",
              "      fill: #D2E3FC;\n",
              "    }\n",
              "\n",
              "    [theme=dark] .colab-df-convert:hover {\n",
              "      background-color: #434B5C;\n",
              "      box-shadow: 0px 1px 3px 1px rgba(0, 0, 0, 0.15);\n",
              "      filter: drop-shadow(0px 1px 2px rgba(0, 0, 0, 0.3));\n",
              "      fill: #FFFFFF;\n",
              "    }\n",
              "  </style>\n",
              "\n",
              "      <script>\n",
              "        const buttonEl =\n",
              "          document.querySelector('#df-3b43ece9-93ee-4c5d-ab22-2eff3b70e3a1 button.colab-df-convert');\n",
              "        buttonEl.style.display =\n",
              "          google.colab.kernel.accessAllowed ? 'block' : 'none';\n",
              "\n",
              "        async function convertToInteractive(key) {\n",
              "          const element = document.querySelector('#df-3b43ece9-93ee-4c5d-ab22-2eff3b70e3a1');\n",
              "          const dataTable =\n",
              "            await google.colab.kernel.invokeFunction('convertToInteractive',\n",
              "                                                     [key], {});\n",
              "          if (!dataTable) return;\n",
              "\n",
              "          const docLinkHtml = 'Like what you see? Visit the ' +\n",
              "            '<a target=\"_blank\" href=https://colab.research.google.com/notebooks/data_table.ipynb>data table notebook</a>'\n",
              "            + ' to learn more about interactive tables.';\n",
              "          element.innerHTML = '';\n",
              "          dataTable['output_type'] = 'display_data';\n",
              "          await google.colab.output.renderOutput(dataTable, element);\n",
              "          const docLink = document.createElement('div');\n",
              "          docLink.innerHTML = docLinkHtml;\n",
              "          element.appendChild(docLink);\n",
              "        }\n",
              "      </script>\n",
              "    </div>\n",
              "  </div>\n",
              "  "
            ],
            "text/plain": [
              "                                                    name  \\\n",
              "3                              \"Flight Deck Bar & Grill\"   \n",
              "11842                               \"Hot Dog On A Stick\"   \n",
              "11346                                           \"LV bar\"   \n",
              "4804                        \"Fleming's Prime Steakhouse\"   \n",
              "8213                         \"Lazy Dog Restaurant & Bar\"   \n",
              "7540                                \"Brio Tuscan Grille\"   \n",
              "6948                                    \"Bonefish Grill\"   \n",
              "9594   \"Tommy Bahama Restaurant | Bar | Store - Las V...   \n",
              "6496                          \"La Bella Napoli Pizzeria\"   \n",
              "1539                               \"Blue Martini Lounge\"   \n",
              "\n",
              "                  business_id  distance   latitude   longitude  \n",
              "3      Pd52CjgyEU3Rb8co6QfTPw  0.000036  36.066914 -115.170848  \n",
              "11842  OwG2nkJrDoP-WGcU9tvkUA  0.082288  36.066499 -115.172226  \n",
              "11346  VWnMgGRexZMGFs7IrQR_9Q  0.194822  36.067581 -115.174230  \n",
              "4804   FYqFfaxVRW6pdviONXIoDw  0.244567  36.069568 -115.173747  \n",
              "8213   rdE9gg0WB7Z8kRytIMSapg  0.279334  36.070146 -115.173856  \n",
              "7540   UYh1N1xQhOh-a7nX92xPzQ  0.297009  36.068152 -115.175930  \n",
              "6948   Q5olb1x6FGk2oLAlc9p5Lg  0.304058  36.070043 -115.174675  \n",
              "9594   uUEKndnFbHD8mVkGiirtpA  0.357552  36.068497 -115.176931  \n",
              "6496   y1esDY2vFyaTMf1YlRT7ZA  0.381870  36.068160 -115.177495  \n",
              "1539   UCpUOtvqR-NBWBNVMzJleA  0.387608  36.068371 -115.177536  "
            ]
          },
          "execution_count": 134,
          "metadata": {},
          "output_type": "execute_result"
        }
      ],
      "source": [
        "rec=rec.sort_values('distance').head(10)\n",
        "rec"
      ]
    },
    {
      "cell_type": "code",
      "execution_count": null,
      "id": "l2h2rP8xspku",
      "metadata": {
        "colab": {
          "base_uri": "https://localhost:8080/",
          "height": 542
        },
        "id": "l2h2rP8xspku",
        "outputId": "830ec37b-49d7-4b0e-c400-502ecb3e5fcd"
      },
      "outputs": [
        {
          "data": {
            "text/html": [
              "<html>\n",
              "<head><meta charset=\"utf-8\" /></head>\n",
              "<body>\n",
              "    <div>            <script src=\"https://cdnjs.cloudflare.com/ajax/libs/mathjax/2.7.5/MathJax.js?config=TeX-AMS-MML_SVG\"></script><script type=\"text/javascript\">if (window.MathJax && window.MathJax.Hub && window.MathJax.Hub.Config) {window.MathJax.Hub.Config({SVG: {font: \"STIX-Web\"}});}</script>                <script type=\"text/javascript\">window.PlotlyConfig = {MathJaxConfig: 'local'};</script>\n",
              "        <script src=\"https://cdn.plot.ly/plotly-2.18.2.min.js\"></script>                <div id=\"88ae6732-d594-457d-8a9d-01d691357574\" class=\"plotly-graph-div\" style=\"height:525px; width:100%;\"></div>            <script type=\"text/javascript\">                                    window.PLOTLYENV=window.PLOTLYENV || {};                                    if (document.getElementById(\"88ae6732-d594-457d-8a9d-01d691357574\")) {                    Plotly.newPlot(                        \"88ae6732-d594-457d-8a9d-01d691357574\",                        [{\"hoverinfo\":\"text\",\"lat\":[36.0669136,36.0664995,36.067581,36.0695675256,36.0701464765,36.0681523873,36.0700432228,36.0684969257,36.06816,36.0683706291],\"lon\":[-115.1708484,-115.1722265,-115.17423,-115.173747385,-115.173856268,-115.175929912,-115.174675467,-115.176930629,-115.177495,-115.177535906],\"marker\":{\"color\":[\"red\"],\"size\":14},\"mode\":\"markers\",\"text\":[\"\\\"Flight Deck Bar & Grill\\\"<br>Distance: 0.0000 km\",\"\\\"Hot Dog On A Stick\\\"<br>Distance: 0.0823 km\",\"\\\"LV bar\\\"<br>Distance: 0.1948 km\",\"\\\"Fleming's Prime Steakhouse\\\"<br>Distance: 0.2446 km\",\"\\\"Lazy Dog Restaurant & Bar\\\"<br>Distance: 0.2793 km\",\"\\\"Brio Tuscan Grille\\\"<br>Distance: 0.2970 km\",\"\\\"Bonefish Grill\\\"<br>Distance: 0.3041 km\",\"\\\"Tommy Bahama Restaurant | Bar | Store - Las Vegas\\\"<br>Distance: 0.3576 km\",\"\\\"La Bella Napoli Pizzeria\\\"<br>Distance: 0.3819 km\",\"\\\"Blue Martini Lounge\\\"<br>Distance: 0.3876 km\"],\"type\":\"scattermapbox\"},{\"lat\":[36.066914],\"lon\":[-115.170848],\"marker\":{\"color\":\"blue\",\"size\":14},\"mode\":\"markers\",\"text\":[\"Users' Location\"],\"type\":\"scattermapbox\"}],                        {\"autosize\":true,\"hovermode\":\"closest\",\"mapbox\":{\"accesstoken\":\"pk.eyJ1IjoicGdvZGh3YW4iLCJhIjoiY2xnYjh1cjd5MW96NjNmbzhnZGNza3dycCJ9.yHzDlveagH2d0ibjgpDHPQ\",\"center\":{\"lat\":36.0683931267,\"lon\":-115.17474754669999},\"style\":\"streets\",\"zoom\":15},\"template\":{\"data\":{\"histogram2dcontour\":[{\"type\":\"histogram2dcontour\",\"colorbar\":{\"outlinewidth\":0,\"ticks\":\"\"},\"colorscale\":[[0.0,\"#0d0887\"],[0.1111111111111111,\"#46039f\"],[0.2222222222222222,\"#7201a8\"],[0.3333333333333333,\"#9c179e\"],[0.4444444444444444,\"#bd3786\"],[0.5555555555555556,\"#d8576b\"],[0.6666666666666666,\"#ed7953\"],[0.7777777777777778,\"#fb9f3a\"],[0.8888888888888888,\"#fdca26\"],[1.0,\"#f0f921\"]]}],\"choropleth\":[{\"type\":\"choropleth\",\"colorbar\":{\"outlinewidth\":0,\"ticks\":\"\"}}],\"histogram2d\":[{\"type\":\"histogram2d\",\"colorbar\":{\"outlinewidth\":0,\"ticks\":\"\"},\"colorscale\":[[0.0,\"#0d0887\"],[0.1111111111111111,\"#46039f\"],[0.2222222222222222,\"#7201a8\"],[0.3333333333333333,\"#9c179e\"],[0.4444444444444444,\"#bd3786\"],[0.5555555555555556,\"#d8576b\"],[0.6666666666666666,\"#ed7953\"],[0.7777777777777778,\"#fb9f3a\"],[0.8888888888888888,\"#fdca26\"],[1.0,\"#f0f921\"]]}],\"heatmap\":[{\"type\":\"heatmap\",\"colorbar\":{\"outlinewidth\":0,\"ticks\":\"\"},\"colorscale\":[[0.0,\"#0d0887\"],[0.1111111111111111,\"#46039f\"],[0.2222222222222222,\"#7201a8\"],[0.3333333333333333,\"#9c179e\"],[0.4444444444444444,\"#bd3786\"],[0.5555555555555556,\"#d8576b\"],[0.6666666666666666,\"#ed7953\"],[0.7777777777777778,\"#fb9f3a\"],[0.8888888888888888,\"#fdca26\"],[1.0,\"#f0f921\"]]}],\"heatmapgl\":[{\"type\":\"heatmapgl\",\"colorbar\":{\"outlinewidth\":0,\"ticks\":\"\"},\"colorscale\":[[0.0,\"#0d0887\"],[0.1111111111111111,\"#46039f\"],[0.2222222222222222,\"#7201a8\"],[0.3333333333333333,\"#9c179e\"],[0.4444444444444444,\"#bd3786\"],[0.5555555555555556,\"#d8576b\"],[0.6666666666666666,\"#ed7953\"],[0.7777777777777778,\"#fb9f3a\"],[0.8888888888888888,\"#fdca26\"],[1.0,\"#f0f921\"]]}],\"contourcarpet\":[{\"type\":\"contourcarpet\",\"colorbar\":{\"outlinewidth\":0,\"ticks\":\"\"}}],\"contour\":[{\"type\":\"contour\",\"colorbar\":{\"outlinewidth\":0,\"ticks\":\"\"},\"colorscale\":[[0.0,\"#0d0887\"],[0.1111111111111111,\"#46039f\"],[0.2222222222222222,\"#7201a8\"],[0.3333333333333333,\"#9c179e\"],[0.4444444444444444,\"#bd3786\"],[0.5555555555555556,\"#d8576b\"],[0.6666666666666666,\"#ed7953\"],[0.7777777777777778,\"#fb9f3a\"],[0.8888888888888888,\"#fdca26\"],[1.0,\"#f0f921\"]]}],\"surface\":[{\"type\":\"surface\",\"colorbar\":{\"outlinewidth\":0,\"ticks\":\"\"},\"colorscale\":[[0.0,\"#0d0887\"],[0.1111111111111111,\"#46039f\"],[0.2222222222222222,\"#7201a8\"],[0.3333333333333333,\"#9c179e\"],[0.4444444444444444,\"#bd3786\"],[0.5555555555555556,\"#d8576b\"],[0.6666666666666666,\"#ed7953\"],[0.7777777777777778,\"#fb9f3a\"],[0.8888888888888888,\"#fdca26\"],[1.0,\"#f0f921\"]]}],\"mesh3d\":[{\"type\":\"mesh3d\",\"colorbar\":{\"outlinewidth\":0,\"ticks\":\"\"}}],\"scatter\":[{\"fillpattern\":{\"fillmode\":\"overlay\",\"size\":10,\"solidity\":0.2},\"type\":\"scatter\"}],\"parcoords\":[{\"type\":\"parcoords\",\"line\":{\"colorbar\":{\"outlinewidth\":0,\"ticks\":\"\"}}}],\"scatterpolargl\":[{\"type\":\"scatterpolargl\",\"marker\":{\"colorbar\":{\"outlinewidth\":0,\"ticks\":\"\"}}}],\"bar\":[{\"error_x\":{\"color\":\"#2a3f5f\"},\"error_y\":{\"color\":\"#2a3f5f\"},\"marker\":{\"line\":{\"color\":\"#E5ECF6\",\"width\":0.5},\"pattern\":{\"fillmode\":\"overlay\",\"size\":10,\"solidity\":0.2}},\"type\":\"bar\"}],\"scattergeo\":[{\"type\":\"scattergeo\",\"marker\":{\"colorbar\":{\"outlinewidth\":0,\"ticks\":\"\"}}}],\"scatterpolar\":[{\"type\":\"scatterpolar\",\"marker\":{\"colorbar\":{\"outlinewidth\":0,\"ticks\":\"\"}}}],\"histogram\":[{\"marker\":{\"pattern\":{\"fillmode\":\"overlay\",\"size\":10,\"solidity\":0.2}},\"type\":\"histogram\"}],\"scattergl\":[{\"type\":\"scattergl\",\"marker\":{\"colorbar\":{\"outlinewidth\":0,\"ticks\":\"\"}}}],\"scatter3d\":[{\"type\":\"scatter3d\",\"line\":{\"colorbar\":{\"outlinewidth\":0,\"ticks\":\"\"}},\"marker\":{\"colorbar\":{\"outlinewidth\":0,\"ticks\":\"\"}}}],\"scattermapbox\":[{\"type\":\"scattermapbox\",\"marker\":{\"colorbar\":{\"outlinewidth\":0,\"ticks\":\"\"}}}],\"scatterternary\":[{\"type\":\"scatterternary\",\"marker\":{\"colorbar\":{\"outlinewidth\":0,\"ticks\":\"\"}}}],\"scattercarpet\":[{\"type\":\"scattercarpet\",\"marker\":{\"colorbar\":{\"outlinewidth\":0,\"ticks\":\"\"}}}],\"carpet\":[{\"aaxis\":{\"endlinecolor\":\"#2a3f5f\",\"gridcolor\":\"white\",\"linecolor\":\"white\",\"minorgridcolor\":\"white\",\"startlinecolor\":\"#2a3f5f\"},\"baxis\":{\"endlinecolor\":\"#2a3f5f\",\"gridcolor\":\"white\",\"linecolor\":\"white\",\"minorgridcolor\":\"white\",\"startlinecolor\":\"#2a3f5f\"},\"type\":\"carpet\"}],\"table\":[{\"cells\":{\"fill\":{\"color\":\"#EBF0F8\"},\"line\":{\"color\":\"white\"}},\"header\":{\"fill\":{\"color\":\"#C8D4E3\"},\"line\":{\"color\":\"white\"}},\"type\":\"table\"}],\"barpolar\":[{\"marker\":{\"line\":{\"color\":\"#E5ECF6\",\"width\":0.5},\"pattern\":{\"fillmode\":\"overlay\",\"size\":10,\"solidity\":0.2}},\"type\":\"barpolar\"}],\"pie\":[{\"automargin\":true,\"type\":\"pie\"}]},\"layout\":{\"autotypenumbers\":\"strict\",\"colorway\":[\"#636efa\",\"#EF553B\",\"#00cc96\",\"#ab63fa\",\"#FFA15A\",\"#19d3f3\",\"#FF6692\",\"#B6E880\",\"#FF97FF\",\"#FECB52\"],\"font\":{\"color\":\"#2a3f5f\"},\"hovermode\":\"closest\",\"hoverlabel\":{\"align\":\"left\"},\"paper_bgcolor\":\"white\",\"plot_bgcolor\":\"#E5ECF6\",\"polar\":{\"bgcolor\":\"#E5ECF6\",\"angularaxis\":{\"gridcolor\":\"white\",\"linecolor\":\"white\",\"ticks\":\"\"},\"radialaxis\":{\"gridcolor\":\"white\",\"linecolor\":\"white\",\"ticks\":\"\"}},\"ternary\":{\"bgcolor\":\"#E5ECF6\",\"aaxis\":{\"gridcolor\":\"white\",\"linecolor\":\"white\",\"ticks\":\"\"},\"baxis\":{\"gridcolor\":\"white\",\"linecolor\":\"white\",\"ticks\":\"\"},\"caxis\":{\"gridcolor\":\"white\",\"linecolor\":\"white\",\"ticks\":\"\"}},\"coloraxis\":{\"colorbar\":{\"outlinewidth\":0,\"ticks\":\"\"}},\"colorscale\":{\"sequential\":[[0.0,\"#0d0887\"],[0.1111111111111111,\"#46039f\"],[0.2222222222222222,\"#7201a8\"],[0.3333333333333333,\"#9c179e\"],[0.4444444444444444,\"#bd3786\"],[0.5555555555555556,\"#d8576b\"],[0.6666666666666666,\"#ed7953\"],[0.7777777777777778,\"#fb9f3a\"],[0.8888888888888888,\"#fdca26\"],[1.0,\"#f0f921\"]],\"sequentialminus\":[[0.0,\"#0d0887\"],[0.1111111111111111,\"#46039f\"],[0.2222222222222222,\"#7201a8\"],[0.3333333333333333,\"#9c179e\"],[0.4444444444444444,\"#bd3786\"],[0.5555555555555556,\"#d8576b\"],[0.6666666666666666,\"#ed7953\"],[0.7777777777777778,\"#fb9f3a\"],[0.8888888888888888,\"#fdca26\"],[1.0,\"#f0f921\"]],\"diverging\":[[0,\"#8e0152\"],[0.1,\"#c51b7d\"],[0.2,\"#de77ae\"],[0.3,\"#f1b6da\"],[0.4,\"#fde0ef\"],[0.5,\"#f7f7f7\"],[0.6,\"#e6f5d0\"],[0.7,\"#b8e186\"],[0.8,\"#7fbc41\"],[0.9,\"#4d9221\"],[1,\"#276419\"]]},\"xaxis\":{\"gridcolor\":\"white\",\"linecolor\":\"white\",\"ticks\":\"\",\"title\":{\"standoff\":15},\"zerolinecolor\":\"white\",\"automargin\":true,\"zerolinewidth\":2},\"yaxis\":{\"gridcolor\":\"white\",\"linecolor\":\"white\",\"ticks\":\"\",\"title\":{\"standoff\":15},\"zerolinecolor\":\"white\",\"automargin\":true,\"zerolinewidth\":2},\"scene\":{\"xaxis\":{\"backgroundcolor\":\"#E5ECF6\",\"gridcolor\":\"white\",\"linecolor\":\"white\",\"showbackground\":true,\"ticks\":\"\",\"zerolinecolor\":\"white\",\"gridwidth\":2},\"yaxis\":{\"backgroundcolor\":\"#E5ECF6\",\"gridcolor\":\"white\",\"linecolor\":\"white\",\"showbackground\":true,\"ticks\":\"\",\"zerolinecolor\":\"white\",\"gridwidth\":2},\"zaxis\":{\"backgroundcolor\":\"#E5ECF6\",\"gridcolor\":\"white\",\"linecolor\":\"white\",\"showbackground\":true,\"ticks\":\"\",\"zerolinecolor\":\"white\",\"gridwidth\":2}},\"shapedefaults\":{\"line\":{\"color\":\"#2a3f5f\"}},\"annotationdefaults\":{\"arrowcolor\":\"#2a3f5f\",\"arrowhead\":0,\"arrowwidth\":1},\"geo\":{\"bgcolor\":\"white\",\"landcolor\":\"#E5ECF6\",\"subunitcolor\":\"white\",\"showland\":true,\"showlakes\":true,\"lakecolor\":\"white\"},\"title\":{\"x\":0.05},\"mapbox\":{\"style\":\"light\"}}}},                        {\"responsive\": true}                    ).then(function(){\n",
              "                            \n",
              "var gd = document.getElementById('88ae6732-d594-457d-8a9d-01d691357574');\n",
              "var x = new MutationObserver(function (mutations, observer) {{\n",
              "        var display = window.getComputedStyle(gd).display;\n",
              "        if (!display || display === 'none') {{\n",
              "            console.log([gd, 'removed!']);\n",
              "            Plotly.purge(gd);\n",
              "            observer.disconnect();\n",
              "        }}\n",
              "}});\n",
              "\n",
              "// Listen for the removal of the full notebook cells\n",
              "var notebookContainer = gd.closest('#notebook-container');\n",
              "if (notebookContainer) {{\n",
              "    x.observe(notebookContainer, {childList: true});\n",
              "}}\n",
              "\n",
              "// Listen for the clearing of the current output cell\n",
              "var outputEl = gd.closest('.output');\n",
              "if (outputEl) {{\n",
              "    x.observe(outputEl, {childList: true});\n",
              "}}\n",
              "\n",
              "                        })                };                            </script>        </div>\n",
              "</body>\n",
              "</html>"
            ]
          },
          "metadata": {},
          "output_type": "display_data"
        }
      ],
      "source": [
        "data = [\n",
        "    # First trace represents the recommended locations\n",
        "    go.Scattermapbox(\n",
        "        lat=rec[\"latitude\"],\n",
        "        lon=rec[\"longitude\"],\n",
        "        mode=\"markers\",\n",
        "        marker=dict(size=14, color=[\"red\"]),\n",
        "        text=[f\"{name}<br>Distance: {distance:.4f} km\" for name, distance in zip(rec[\"name\"], rec[\"distance\"])],\n",
        "        hoverinfo=\"text\",\n",
        "    ),\n",
        "    # Second trace represents the user's location\n",
        "    go.Scattermapbox(\n",
        "        lat=[36.066914],\n",
        "        lon=[-115.170848],\n",
        "        mode=\"markers\",\n",
        "        marker=dict(size=14, color=\"blue\"),\n",
        "        text=[\"Users' Location\"]\n",
        "    )\n",
        "]\n",
        "\n",
        "layout = go.Layout(\n",
        "    autosize=True,\n",
        "    hovermode=\"closest\",\n",
        "    # Setting the mapbox API access token and the center, zoom level, and style of the map\n",
        "    mapbox=dict(\n",
        "        accesstoken=\"pk.eyJ1IjoicGdvZGh3YW4iLCJhIjoiY2xnYjh1cjd5MW96NjNmbzhnZGNza3dycCJ9.yHzDlveagH2d0ibjgpDHPQ\",\n",
        "        center=dict(lat=rec[\"latitude\"].mean(), lon=rec[\"longitude\"].mean()),\n",
        "        style=\"streets\",\n",
        "        zoom=15,\n",
        "    ),\n",
        ")\n",
        "\n",
        "go.Figure(data=data, layout=layout).show()"
      ]
    },
    {
      "cell_type": "code",
      "execution_count": null,
      "id": "9fa17610",
      "metadata": {},
      "outputs": [],
      "source": []
    },
    {
      "attachments": {},
      "cell_type": "markdown",
      "id": "-XNv040668KE",
      "metadata": {
        "id": "-XNv040668KE"
      },
      "source": [
        "### 3. Content based Recommendation using text input"
      ]
    },
    {
      "attachments": {},
      "cell_type": "markdown",
      "id": "20Ys5Y3l7AnW",
      "metadata": {
        "id": "20Ys5Y3l7AnW"
      },
      "source": [
        "\n",
        "\n",
        "1.  We start by selecting our features. Then we combine them and transform them into vectors using TFIDF vectorizer. \n",
        "2.  Created function recommend takes input a text and transforms into a vector. \n",
        "3. After that we find the similarity using cosine similarity and get indices of businesses.\n",
        "4. Using indices we find the 'categories', 'cuisines','text', 'stars' and finally sort them by stars\n",
        "\n"
      ]
    },
    {
      "cell_type": "code",
      "execution_count": null,
      "id": "15f691dd",
      "metadata": {
        "id": "15f691dd"
      },
      "outputs": [],
      "source": [
        "class ContentBasedRS:\n",
        "    def __init__(self, data):\n",
        "        self.df = data\n",
        "        # Fill in any missing values in the 'text' column with empty strings\n",
        "        self.df['text'] = self.df['text'].fillna('')\n",
        "        # Combine the values from 'text', 'categories', and 'cuisines' columns into a single column\n",
        "        features=['text','categories','cuisines']\n",
        "        self.df[\"combined_features\"] = data[features].apply(lambda x: \" \".join(x.dropna().astype(str)), axis=1)\n",
        "        # Vectorize the text data using TfidfVectorizer\n",
        "        self.vectorizer = TfidfVectorizer(stop_words='english')\n",
        "        self.tfidf_matrix = self.vectorizer.fit_transform(self.df[\"combined_features\"])\n",
        "\n",
        "    # Recommend the top_n items based on the similarity between the input text and the items in the dataset\n",
        "    def recommend(self, text, top_n=5):\n",
        "        # Vectorize the input text\n",
        "        text_tfidf = self.vectorizer.transform([text])\n",
        "        # Calculate the cosine similarity between the input text and the items in the dataset\n",
        "        similarity_scores = cosine_similarity(text_tfidf, self.tfidf_matrix)[0]\n",
        "        # Get the indices of the top_n items with the highest similarity scores\n",
        "        top_indices = similarity_scores.argsort()[::-1][:top_n]\n",
        "        # Get the output data for the top_n items, filtering out items with star ratings below 3 and sorting by star rating\n",
        "        output_data=self.df.iloc[top_indices][['business_id', 'categories', 'cuisines','text', 'stars']]\n",
        "        output_data=output_data[output_data['stars'] >= 3]\n",
        "        output_data=output_data.sort_values(by='stars', ascending=False)\n",
        "        return output_data.head(5)"
      ]
    },
    {
      "cell_type": "code",
      "execution_count": null,
      "id": "0f8bd769",
      "metadata": {
        "colab": {
          "base_uri": "https://localhost:8080/",
          "height": 206
        },
        "id": "0f8bd769",
        "outputId": "72b5e611-4b54-4e40-c673-9c39edcc67e4"
      },
      "outputs": [
        {
          "data": {
            "text/html": [
              "\n",
              "  <div id=\"df-d3c53fdd-8aea-4185-a75f-9f9ce9cfaec5\">\n",
              "    <div class=\"colab-df-container\">\n",
              "      <div>\n",
              "<style scoped>\n",
              "    .dataframe tbody tr th:only-of-type {\n",
              "        vertical-align: middle;\n",
              "    }\n",
              "\n",
              "    .dataframe tbody tr th {\n",
              "        vertical-align: top;\n",
              "    }\n",
              "\n",
              "    .dataframe thead th {\n",
              "        text-align: right;\n",
              "    }\n",
              "</style>\n",
              "<table border=\"1\" class=\"dataframe\">\n",
              "  <thead>\n",
              "    <tr style=\"text-align: right;\">\n",
              "      <th></th>\n",
              "      <th>business_id</th>\n",
              "      <th>categories</th>\n",
              "      <th>cuisines</th>\n",
              "      <th>text</th>\n",
              "      <th>stars</th>\n",
              "    </tr>\n",
              "  </thead>\n",
              "  <tbody>\n",
              "    <tr>\n",
              "      <th>72</th>\n",
              "      <td>NlBifQZCNUAnbuo_wKIVpg</td>\n",
              "      <td>pizza;italian;restaurants</td>\n",
              "      <td>italian</td>\n",
              "      <td>1642946 Absolutely best wings area. orde... 16...</td>\n",
              "      <td>4.5</td>\n",
              "    </tr>\n",
              "    <tr>\n",
              "      <th>1548</th>\n",
              "      <td>ZL-4ejIO3DCgSsdRWwsX-A</td>\n",
              "      <td>pizza;restaurants;italian</td>\n",
              "      <td>italian</td>\n",
              "      <td>1011125 Easily best slice pizza downtown Cle.....</td>\n",
              "      <td>4.0</td>\n",
              "    </tr>\n",
              "    <tr>\n",
              "      <th>370</th>\n",
              "      <td>sByhyN_S2FgNnPl5pqY0Ow</td>\n",
              "      <td>restaurants;pizza;italian;salad</td>\n",
              "      <td>italian</td>\n",
              "      <td>1589362 Good quality great price. can't beat ....</td>\n",
              "      <td>4.0</td>\n",
              "    </tr>\n",
              "    <tr>\n",
              "      <th>1499</th>\n",
              "      <td>egLgkvwupLaUXhwnWnvp7A</td>\n",
              "      <td>restaurants;italian;pizza</td>\n",
              "      <td>italian</td>\n",
              "      <td>1499277 pizza Charlotte, ... 1499278 yelpers f...</td>\n",
              "      <td>4.0</td>\n",
              "    </tr>\n",
              "    <tr>\n",
              "      <th>4814</th>\n",
              "      <td>a5l5JLVC0_lkz9QNOc5mHg</td>\n",
              "      <td>restaurants;italian;pizza</td>\n",
              "      <td>italian</td>\n",
              "      <td>1219983 traveled Olmsted area 6-8 times ... 12...</td>\n",
              "      <td>4.0</td>\n",
              "    </tr>\n",
              "  </tbody>\n",
              "</table>\n",
              "</div>\n",
              "      <button class=\"colab-df-convert\" onclick=\"convertToInteractive('df-d3c53fdd-8aea-4185-a75f-9f9ce9cfaec5')\"\n",
              "              title=\"Convert this dataframe to an interactive table.\"\n",
              "              style=\"display:none;\">\n",
              "        \n",
              "  <svg xmlns=\"http://www.w3.org/2000/svg\" height=\"24px\"viewBox=\"0 0 24 24\"\n",
              "       width=\"24px\">\n",
              "    <path d=\"M0 0h24v24H0V0z\" fill=\"none\"/>\n",
              "    <path d=\"M18.56 5.44l.94 2.06.94-2.06 2.06-.94-2.06-.94-.94-2.06-.94 2.06-2.06.94zm-11 1L8.5 8.5l.94-2.06 2.06-.94-2.06-.94L8.5 2.5l-.94 2.06-2.06.94zm10 10l.94 2.06.94-2.06 2.06-.94-2.06-.94-.94-2.06-.94 2.06-2.06.94z\"/><path d=\"M17.41 7.96l-1.37-1.37c-.4-.4-.92-.59-1.43-.59-.52 0-1.04.2-1.43.59L10.3 9.45l-7.72 7.72c-.78.78-.78 2.05 0 2.83L4 21.41c.39.39.9.59 1.41.59.51 0 1.02-.2 1.41-.59l7.78-7.78 2.81-2.81c.8-.78.8-2.07 0-2.86zM5.41 20L4 18.59l7.72-7.72 1.47 1.35L5.41 20z\"/>\n",
              "  </svg>\n",
              "      </button>\n",
              "      \n",
              "  <style>\n",
              "    .colab-df-container {\n",
              "      display:flex;\n",
              "      flex-wrap:wrap;\n",
              "      gap: 12px;\n",
              "    }\n",
              "\n",
              "    .colab-df-convert {\n",
              "      background-color: #E8F0FE;\n",
              "      border: none;\n",
              "      border-radius: 50%;\n",
              "      cursor: pointer;\n",
              "      display: none;\n",
              "      fill: #1967D2;\n",
              "      height: 32px;\n",
              "      padding: 0 0 0 0;\n",
              "      width: 32px;\n",
              "    }\n",
              "\n",
              "    .colab-df-convert:hover {\n",
              "      background-color: #E2EBFA;\n",
              "      box-shadow: 0px 1px 2px rgba(60, 64, 67, 0.3), 0px 1px 3px 1px rgba(60, 64, 67, 0.15);\n",
              "      fill: #174EA6;\n",
              "    }\n",
              "\n",
              "    [theme=dark] .colab-df-convert {\n",
              "      background-color: #3B4455;\n",
              "      fill: #D2E3FC;\n",
              "    }\n",
              "\n",
              "    [theme=dark] .colab-df-convert:hover {\n",
              "      background-color: #434B5C;\n",
              "      box-shadow: 0px 1px 3px 1px rgba(0, 0, 0, 0.15);\n",
              "      filter: drop-shadow(0px 1px 2px rgba(0, 0, 0, 0.3));\n",
              "      fill: #FFFFFF;\n",
              "    }\n",
              "  </style>\n",
              "\n",
              "      <script>\n",
              "        const buttonEl =\n",
              "          document.querySelector('#df-d3c53fdd-8aea-4185-a75f-9f9ce9cfaec5 button.colab-df-convert');\n",
              "        buttonEl.style.display =\n",
              "          google.colab.kernel.accessAllowed ? 'block' : 'none';\n",
              "\n",
              "        async function convertToInteractive(key) {\n",
              "          const element = document.querySelector('#df-d3c53fdd-8aea-4185-a75f-9f9ce9cfaec5');\n",
              "          const dataTable =\n",
              "            await google.colab.kernel.invokeFunction('convertToInteractive',\n",
              "                                                     [key], {});\n",
              "          if (!dataTable) return;\n",
              "\n",
              "          const docLinkHtml = 'Like what you see? Visit the ' +\n",
              "            '<a target=\"_blank\" href=https://colab.research.google.com/notebooks/data_table.ipynb>data table notebook</a>'\n",
              "            + ' to learn more about interactive tables.';\n",
              "          element.innerHTML = '';\n",
              "          dataTable['output_type'] = 'display_data';\n",
              "          await google.colab.output.renderOutput(dataTable, element);\n",
              "          const docLink = document.createElement('div');\n",
              "          docLink.innerHTML = docLinkHtml;\n",
              "          element.appendChild(docLink);\n",
              "        }\n",
              "      </script>\n",
              "    </div>\n",
              "  </div>\n",
              "  "
            ],
            "text/plain": [
              "                 business_id                       categories cuisines  \\\n",
              "72    NlBifQZCNUAnbuo_wKIVpg        pizza;italian;restaurants  italian   \n",
              "1548  ZL-4ejIO3DCgSsdRWwsX-A        pizza;restaurants;italian  italian   \n",
              "370   sByhyN_S2FgNnPl5pqY0Ow  restaurants;pizza;italian;salad  italian   \n",
              "1499  egLgkvwupLaUXhwnWnvp7A        restaurants;italian;pizza  italian   \n",
              "4814  a5l5JLVC0_lkz9QNOc5mHg        restaurants;italian;pizza  italian   \n",
              "\n",
              "                                                   text  stars  \n",
              "72    1642946 Absolutely best wings area. orde... 16...    4.5  \n",
              "1548  1011125 Easily best slice pizza downtown Cle.....    4.0  \n",
              "370   1589362 Good quality great price. can't beat ....    4.0  \n",
              "1499  1499277 pizza Charlotte, ... 1499278 yelpers f...    4.0  \n",
              "4814  1219983 traveled Olmsted area 6-8 times ... 12...    4.0  "
            ]
          },
          "execution_count": 141,
          "metadata": {},
          "output_type": "execute_result"
        }
      ],
      "source": [
        "rec=ContentBasedRS(business)\n",
        "text='i need best pizza in downtown'\n",
        "rec.recommend(text)"
      ]
    },
    {
      "cell_type": "code",
      "execution_count": null,
      "id": "22338947",
      "metadata": {
        "colab": {
          "base_uri": "https://localhost:8080/",
          "height": 206
        },
        "id": "22338947",
        "outputId": "0478b9d0-850d-4974-f41a-bf264ecfc90b"
      },
      "outputs": [
        {
          "data": {
            "text/html": [
              "\n",
              "  <div id=\"df-11b4e024-6848-43a5-a9b6-b69d443adbd9\">\n",
              "    <div class=\"colab-df-container\">\n",
              "      <div>\n",
              "<style scoped>\n",
              "    .dataframe tbody tr th:only-of-type {\n",
              "        vertical-align: middle;\n",
              "    }\n",
              "\n",
              "    .dataframe tbody tr th {\n",
              "        vertical-align: top;\n",
              "    }\n",
              "\n",
              "    .dataframe thead th {\n",
              "        text-align: right;\n",
              "    }\n",
              "</style>\n",
              "<table border=\"1\" class=\"dataframe\">\n",
              "  <thead>\n",
              "    <tr style=\"text-align: right;\">\n",
              "      <th></th>\n",
              "      <th>business_id</th>\n",
              "      <th>categories</th>\n",
              "      <th>cuisines</th>\n",
              "      <th>text</th>\n",
              "      <th>stars</th>\n",
              "    </tr>\n",
              "  </thead>\n",
              "  <tbody>\n",
              "    <tr>\n",
              "      <th>2402</th>\n",
              "      <td>afuh98hZmRUPS_H2wl6y4g</td>\n",
              "      <td>american (new);southern;restaurants</td>\n",
              "      <td>american (new)</td>\n",
              "      <td>1681364 Fish, chicken, burgers, fries, even fu...</td>\n",
              "      <td>5.0</td>\n",
              "    </tr>\n",
              "    <tr>\n",
              "      <th>11183</th>\n",
              "      <td>RUnq8jOzySCpRa5X64FgJQ</td>\n",
              "      <td>music venues;bars;nightlife;arts &amp; entertainme...</td>\n",
              "      <td>american (traditional)</td>\n",
              "      <td>524384 perfect sized music venue, opi... 52438...</td>\n",
              "      <td>4.0</td>\n",
              "    </tr>\n",
              "    <tr>\n",
              "      <th>11710</th>\n",
              "      <td>RrKfYuyKqBn3wKBZNBuFSw</td>\n",
              "      <td>bars;restaurants;nightlife;american (tradition...</td>\n",
              "      <td>american (traditional)</td>\n",
              "      <td>1681951 place nice inside server catalina... 1...</td>\n",
              "      <td>4.0</td>\n",
              "    </tr>\n",
              "    <tr>\n",
              "      <th>5307</th>\n",
              "      <td>0jMWCioUATOJgMpsPTyC7g</td>\n",
              "      <td>bars;american (new);nightlife;american (tradit...</td>\n",
              "      <td>american (new)</td>\n",
              "      <td>1323298 Awesome place. Jenn Carlos took care m...</td>\n",
              "      <td>3.5</td>\n",
              "    </tr>\n",
              "    <tr>\n",
              "      <th>11543</th>\n",
              "      <td>9e9AW5qdxhWNrK2uhNCkAQ</td>\n",
              "      <td>bars;american (new);restaurants;nightlife</td>\n",
              "      <td>american (new)</td>\n",
              "      <td>897338 Club Tavern decent place play trivia .....</td>\n",
              "      <td>3.0</td>\n",
              "    </tr>\n",
              "  </tbody>\n",
              "</table>\n",
              "</div>\n",
              "      <button class=\"colab-df-convert\" onclick=\"convertToInteractive('df-11b4e024-6848-43a5-a9b6-b69d443adbd9')\"\n",
              "              title=\"Convert this dataframe to an interactive table.\"\n",
              "              style=\"display:none;\">\n",
              "        \n",
              "  <svg xmlns=\"http://www.w3.org/2000/svg\" height=\"24px\"viewBox=\"0 0 24 24\"\n",
              "       width=\"24px\">\n",
              "    <path d=\"M0 0h24v24H0V0z\" fill=\"none\"/>\n",
              "    <path d=\"M18.56 5.44l.94 2.06.94-2.06 2.06-.94-2.06-.94-.94-2.06-.94 2.06-2.06.94zm-11 1L8.5 8.5l.94-2.06 2.06-.94-2.06-.94L8.5 2.5l-.94 2.06-2.06.94zm10 10l.94 2.06.94-2.06 2.06-.94-2.06-.94-.94-2.06-.94 2.06-2.06.94z\"/><path d=\"M17.41 7.96l-1.37-1.37c-.4-.4-.92-.59-1.43-.59-.52 0-1.04.2-1.43.59L10.3 9.45l-7.72 7.72c-.78.78-.78 2.05 0 2.83L4 21.41c.39.39.9.59 1.41.59.51 0 1.02-.2 1.41-.59l7.78-7.78 2.81-2.81c.8-.78.8-2.07 0-2.86zM5.41 20L4 18.59l7.72-7.72 1.47 1.35L5.41 20z\"/>\n",
              "  </svg>\n",
              "      </button>\n",
              "      \n",
              "  <style>\n",
              "    .colab-df-container {\n",
              "      display:flex;\n",
              "      flex-wrap:wrap;\n",
              "      gap: 12px;\n",
              "    }\n",
              "\n",
              "    .colab-df-convert {\n",
              "      background-color: #E8F0FE;\n",
              "      border: none;\n",
              "      border-radius: 50%;\n",
              "      cursor: pointer;\n",
              "      display: none;\n",
              "      fill: #1967D2;\n",
              "      height: 32px;\n",
              "      padding: 0 0 0 0;\n",
              "      width: 32px;\n",
              "    }\n",
              "\n",
              "    .colab-df-convert:hover {\n",
              "      background-color: #E2EBFA;\n",
              "      box-shadow: 0px 1px 2px rgba(60, 64, 67, 0.3), 0px 1px 3px 1px rgba(60, 64, 67, 0.15);\n",
              "      fill: #174EA6;\n",
              "    }\n",
              "\n",
              "    [theme=dark] .colab-df-convert {\n",
              "      background-color: #3B4455;\n",
              "      fill: #D2E3FC;\n",
              "    }\n",
              "\n",
              "    [theme=dark] .colab-df-convert:hover {\n",
              "      background-color: #434B5C;\n",
              "      box-shadow: 0px 1px 3px 1px rgba(0, 0, 0, 0.15);\n",
              "      filter: drop-shadow(0px 1px 2px rgba(0, 0, 0, 0.3));\n",
              "      fill: #FFFFFF;\n",
              "    }\n",
              "  </style>\n",
              "\n",
              "      <script>\n",
              "        const buttonEl =\n",
              "          document.querySelector('#df-11b4e024-6848-43a5-a9b6-b69d443adbd9 button.colab-df-convert');\n",
              "        buttonEl.style.display =\n",
              "          google.colab.kernel.accessAllowed ? 'block' : 'none';\n",
              "\n",
              "        async function convertToInteractive(key) {\n",
              "          const element = document.querySelector('#df-11b4e024-6848-43a5-a9b6-b69d443adbd9');\n",
              "          const dataTable =\n",
              "            await google.colab.kernel.invokeFunction('convertToInteractive',\n",
              "                                                     [key], {});\n",
              "          if (!dataTable) return;\n",
              "\n",
              "          const docLinkHtml = 'Like what you see? Visit the ' +\n",
              "            '<a target=\"_blank\" href=https://colab.research.google.com/notebooks/data_table.ipynb>data table notebook</a>'\n",
              "            + ' to learn more about interactive tables.';\n",
              "          element.innerHTML = '';\n",
              "          dataTable['output_type'] = 'display_data';\n",
              "          await google.colab.output.renderOutput(dataTable, element);\n",
              "          const docLink = document.createElement('div');\n",
              "          docLink.innerHTML = docLinkHtml;\n",
              "          element.appendChild(docLink);\n",
              "        }\n",
              "      </script>\n",
              "    </div>\n",
              "  </div>\n",
              "  "
            ],
            "text/plain": [
              "                  business_id  \\\n",
              "2402   afuh98hZmRUPS_H2wl6y4g   \n",
              "11183  RUnq8jOzySCpRa5X64FgJQ   \n",
              "11710  RrKfYuyKqBn3wKBZNBuFSw   \n",
              "5307   0jMWCioUATOJgMpsPTyC7g   \n",
              "11543  9e9AW5qdxhWNrK2uhNCkAQ   \n",
              "\n",
              "                                              categories  \\\n",
              "2402                 american (new);southern;restaurants   \n",
              "11183  music venues;bars;nightlife;arts & entertainme...   \n",
              "11710  bars;restaurants;nightlife;american (tradition...   \n",
              "5307   bars;american (new);nightlife;american (tradit...   \n",
              "11543          bars;american (new);restaurants;nightlife   \n",
              "\n",
              "                     cuisines  \\\n",
              "2402           american (new)   \n",
              "11183  american (traditional)   \n",
              "11710  american (traditional)   \n",
              "5307           american (new)   \n",
              "11543          american (new)   \n",
              "\n",
              "                                                    text  stars  \n",
              "2402   1681364 Fish, chicken, burgers, fries, even fu...    5.0  \n",
              "11183  524384 perfect sized music venue, opi... 52438...    4.0  \n",
              "11710  1681951 place nice inside server catalina... 1...    4.0  \n",
              "5307   1323298 Awesome place. Jenn Carlos took care m...    3.5  \n",
              "11543  897338 Club Tavern decent place play trivia .....    3.0  "
            ]
          },
          "execution_count": 142,
          "metadata": {},
          "output_type": "execute_result"
        }
      ],
      "source": [
        "text='night life club with burgers'\n",
        "rec.recommend(text)"
      ]
    },
    {
      "cell_type": "code",
      "execution_count": null,
      "id": "bubl8iLn2HKJ",
      "metadata": {
        "colab": {
          "base_uri": "https://localhost:8080/",
          "height": 206
        },
        "id": "bubl8iLn2HKJ",
        "outputId": "8b3dedf1-1c74-475c-fa2e-a470474045c7"
      },
      "outputs": [
        {
          "data": {
            "text/html": [
              "\n",
              "  <div id=\"df-e7e17b5f-2288-41be-be49-d65861847fc7\">\n",
              "    <div class=\"colab-df-container\">\n",
              "      <div>\n",
              "<style scoped>\n",
              "    .dataframe tbody tr th:only-of-type {\n",
              "        vertical-align: middle;\n",
              "    }\n",
              "\n",
              "    .dataframe tbody tr th {\n",
              "        vertical-align: top;\n",
              "    }\n",
              "\n",
              "    .dataframe thead th {\n",
              "        text-align: right;\n",
              "    }\n",
              "</style>\n",
              "<table border=\"1\" class=\"dataframe\">\n",
              "  <thead>\n",
              "    <tr style=\"text-align: right;\">\n",
              "      <th></th>\n",
              "      <th>business_id</th>\n",
              "      <th>categories</th>\n",
              "      <th>cuisines</th>\n",
              "      <th>text</th>\n",
              "      <th>stars</th>\n",
              "    </tr>\n",
              "  </thead>\n",
              "  <tbody>\n",
              "    <tr>\n",
              "      <th>8452</th>\n",
              "      <td>prFx0Kg92PfPkoU8OY4KxA</td>\n",
              "      <td>buffets;restaurants;vegan;gluten-free;indian</td>\n",
              "      <td>indian</td>\n",
              "      <td>1591634 Fabulous buffet exotic treats, sp... 1...</td>\n",
              "      <td>4.5</td>\n",
              "    </tr>\n",
              "    <tr>\n",
              "      <th>6620</th>\n",
              "      <td>6gPcuK1mTlJDb3SG7d0q7A</td>\n",
              "      <td>event planning &amp; services;indian;restaurants;v...</td>\n",
              "      <td>indian</td>\n",
              "      <td>1619012 tried weekend lunch buffet here, nd th...</td>\n",
              "      <td>4.5</td>\n",
              "    </tr>\n",
              "    <tr>\n",
              "      <th>8312</th>\n",
              "      <td>49sbCG7F2jvqJsfG6-N8Rw</td>\n",
              "      <td>restaurants;indian</td>\n",
              "      <td>indian</td>\n",
              "      <td>1602901 FINALLY Indian food restaurant o... 16...</td>\n",
              "      <td>4.5</td>\n",
              "    </tr>\n",
              "    <tr>\n",
              "      <th>11349</th>\n",
              "      <td>gTlDDzDEHyDQ6iwjNhpI6A</td>\n",
              "      <td>indian;restaurants</td>\n",
              "      <td>indian</td>\n",
              "      <td>608638 fav Indian buffet town. Eaten lunch her...</td>\n",
              "      <td>4.5</td>\n",
              "    </tr>\n",
              "    <tr>\n",
              "      <th>894</th>\n",
              "      <td>P2uPCEBP2VZsApnvEHCgag</td>\n",
              "      <td>indian;restaurants</td>\n",
              "      <td>indian</td>\n",
              "      <td>523089 dinner yet, lunch bu... 523090 One best...</td>\n",
              "      <td>4.0</td>\n",
              "    </tr>\n",
              "  </tbody>\n",
              "</table>\n",
              "</div>\n",
              "      <button class=\"colab-df-convert\" onclick=\"convertToInteractive('df-e7e17b5f-2288-41be-be49-d65861847fc7')\"\n",
              "              title=\"Convert this dataframe to an interactive table.\"\n",
              "              style=\"display:none;\">\n",
              "        \n",
              "  <svg xmlns=\"http://www.w3.org/2000/svg\" height=\"24px\"viewBox=\"0 0 24 24\"\n",
              "       width=\"24px\">\n",
              "    <path d=\"M0 0h24v24H0V0z\" fill=\"none\"/>\n",
              "    <path d=\"M18.56 5.44l.94 2.06.94-2.06 2.06-.94-2.06-.94-.94-2.06-.94 2.06-2.06.94zm-11 1L8.5 8.5l.94-2.06 2.06-.94-2.06-.94L8.5 2.5l-.94 2.06-2.06.94zm10 10l.94 2.06.94-2.06 2.06-.94-2.06-.94-.94-2.06-.94 2.06-2.06.94z\"/><path d=\"M17.41 7.96l-1.37-1.37c-.4-.4-.92-.59-1.43-.59-.52 0-1.04.2-1.43.59L10.3 9.45l-7.72 7.72c-.78.78-.78 2.05 0 2.83L4 21.41c.39.39.9.59 1.41.59.51 0 1.02-.2 1.41-.59l7.78-7.78 2.81-2.81c.8-.78.8-2.07 0-2.86zM5.41 20L4 18.59l7.72-7.72 1.47 1.35L5.41 20z\"/>\n",
              "  </svg>\n",
              "      </button>\n",
              "      \n",
              "  <style>\n",
              "    .colab-df-container {\n",
              "      display:flex;\n",
              "      flex-wrap:wrap;\n",
              "      gap: 12px;\n",
              "    }\n",
              "\n",
              "    .colab-df-convert {\n",
              "      background-color: #E8F0FE;\n",
              "      border: none;\n",
              "      border-radius: 50%;\n",
              "      cursor: pointer;\n",
              "      display: none;\n",
              "      fill: #1967D2;\n",
              "      height: 32px;\n",
              "      padding: 0 0 0 0;\n",
              "      width: 32px;\n",
              "    }\n",
              "\n",
              "    .colab-df-convert:hover {\n",
              "      background-color: #E2EBFA;\n",
              "      box-shadow: 0px 1px 2px rgba(60, 64, 67, 0.3), 0px 1px 3px 1px rgba(60, 64, 67, 0.15);\n",
              "      fill: #174EA6;\n",
              "    }\n",
              "\n",
              "    [theme=dark] .colab-df-convert {\n",
              "      background-color: #3B4455;\n",
              "      fill: #D2E3FC;\n",
              "    }\n",
              "\n",
              "    [theme=dark] .colab-df-convert:hover {\n",
              "      background-color: #434B5C;\n",
              "      box-shadow: 0px 1px 3px 1px rgba(0, 0, 0, 0.15);\n",
              "      filter: drop-shadow(0px 1px 2px rgba(0, 0, 0, 0.3));\n",
              "      fill: #FFFFFF;\n",
              "    }\n",
              "  </style>\n",
              "\n",
              "      <script>\n",
              "        const buttonEl =\n",
              "          document.querySelector('#df-e7e17b5f-2288-41be-be49-d65861847fc7 button.colab-df-convert');\n",
              "        buttonEl.style.display =\n",
              "          google.colab.kernel.accessAllowed ? 'block' : 'none';\n",
              "\n",
              "        async function convertToInteractive(key) {\n",
              "          const element = document.querySelector('#df-e7e17b5f-2288-41be-be49-d65861847fc7');\n",
              "          const dataTable =\n",
              "            await google.colab.kernel.invokeFunction('convertToInteractive',\n",
              "                                                     [key], {});\n",
              "          if (!dataTable) return;\n",
              "\n",
              "          const docLinkHtml = 'Like what you see? Visit the ' +\n",
              "            '<a target=\"_blank\" href=https://colab.research.google.com/notebooks/data_table.ipynb>data table notebook</a>'\n",
              "            + ' to learn more about interactive tables.';\n",
              "          element.innerHTML = '';\n",
              "          dataTable['output_type'] = 'display_data';\n",
              "          await google.colab.output.renderOutput(dataTable, element);\n",
              "          const docLink = document.createElement('div');\n",
              "          docLink.innerHTML = docLinkHtml;\n",
              "          element.appendChild(docLink);\n",
              "        }\n",
              "      </script>\n",
              "    </div>\n",
              "  </div>\n",
              "  "
            ],
            "text/plain": [
              "                  business_id  \\\n",
              "8452   prFx0Kg92PfPkoU8OY4KxA   \n",
              "6620   6gPcuK1mTlJDb3SG7d0q7A   \n",
              "8312   49sbCG7F2jvqJsfG6-N8Rw   \n",
              "11349  gTlDDzDEHyDQ6iwjNhpI6A   \n",
              "894    P2uPCEBP2VZsApnvEHCgag   \n",
              "\n",
              "                                              categories cuisines  \\\n",
              "8452        buffets;restaurants;vegan;gluten-free;indian   indian   \n",
              "6620   event planning & services;indian;restaurants;v...   indian   \n",
              "8312                                  restaurants;indian   indian   \n",
              "11349                                 indian;restaurants   indian   \n",
              "894                                   indian;restaurants   indian   \n",
              "\n",
              "                                                    text  stars  \n",
              "8452   1591634 Fabulous buffet exotic treats, sp... 1...    4.5  \n",
              "6620   1619012 tried weekend lunch buffet here, nd th...    4.5  \n",
              "8312   1602901 FINALLY Indian food restaurant o... 16...    4.5  \n",
              "11349  608638 fav Indian buffet town. Eaten lunch her...    4.5  \n",
              "894    523089 dinner yet, lunch bu... 523090 One best...    4.0  "
            ]
          },
          "execution_count": 145,
          "metadata": {},
          "output_type": "execute_result"
        }
      ],
      "source": [
        "text='indian buffet'\n",
        "rec.recommend(text)"
      ]
    },
    {
      "attachments": {},
      "cell_type": "markdown",
      "id": "qHG9SSjjP3iG",
      "metadata": {
        "id": "qHG9SSjjP3iG"
      },
      "source": [
        "## References\n",
        "\n",
        "https://medium.com/mlearning-ai/restaurant-recommendation-system-based-on-the-content-in-reviews-dfc3351004db\n"
      ]
    }
  ],
  "metadata": {
    "colab": {
      "collapsed_sections": [
        "9f0f4e58",
        "-XNv040668KE"
      ],
      "provenance": []
    },
    "kernelspec": {
      "display_name": "Python 3 (ipykernel)",
      "language": "python",
      "name": "python3"
    },
    "language_info": {
      "codemirror_mode": {
        "name": "ipython",
        "version": 3
      },
      "file_extension": ".py",
      "mimetype": "text/x-python",
      "name": "python",
      "nbconvert_exporter": "python",
      "pygments_lexer": "ipython3",
      "version": "3.10.7"
    }
  },
  "nbformat": 4,
  "nbformat_minor": 5
}
